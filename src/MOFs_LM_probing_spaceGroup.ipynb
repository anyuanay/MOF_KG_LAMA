{
 "cells": [
  {
   "cell_type": "markdown",
   "id": "55e44848-77fb-4130-b77d-abc302536a6e",
   "metadata": {
    "id": "55e44848-77fb-4130-b77d-abc302536a6e",
    "tags": []
   },
   "source": [
    "# MOFs LM Probing for Space Group"
   ]
  },
  {
   "cell_type": "code",
   "execution_count": null,
   "id": "e93a1557-c1ce-4aeb-b3c3-13a75b6cb8fa",
   "metadata": {
    "id": "e93a1557-c1ce-4aeb-b3c3-13a75b6cb8fa"
   },
   "outputs": [],
   "source": [
    "from baseline import PromptSet\n",
    "\n",
    "from tqdm.auto import tqdm\n",
    "from nltk.corpus import stopwords\n",
    "\n",
    "import pandas as pd\n",
    "\n",
    "from transformers import AutoTokenizer, AutoModelForMaskedLM, pipeline, logging\n",
    "\n",
    "logging.set_verbosity_error()  # avoid irritating transformers warnings"
   ]
  },
  {
   "cell_type": "markdown",
   "id": "5a4cbdfc-8b9d-42fa-aea5-8646ac19b6a3",
   "metadata": {
    "id": "5a4cbdfc-8b9d-42fa-aea5-8646ac19b6a3"
   },
   "source": [
    "## Read in the Triples"
   ]
  },
  {
   "cell_type": "code",
   "execution_count": null,
   "id": "MLkxHoS6eiLd",
   "metadata": {
    "id": "MLkxHoS6eiLd",
    "tags": []
   },
   "outputs": [],
   "source": [
    "file = \"../data/mof_spaceGroup.csv\""
   ]
  },
  {
   "cell_type": "code",
   "execution_count": null,
   "id": "ax2E8N1rgva0",
   "metadata": {
    "colab": {
     "base_uri": "https://localhost:8080/",
     "height": 206
    },
    "executionInfo": {
     "elapsed": 218,
     "status": "ok",
     "timestamp": 1666145237368,
     "user": {
      "displayName": "Yuan An",
      "userId": "12279868416530647161"
     },
     "user_tz": 240
    },
    "id": "ax2E8N1rgva0",
    "outputId": "fe0e0d7c-704f-4c14-a150-262142a81688"
   },
   "outputs": [],
   "source": [
    "df = pd.read_csv(file)\n",
    "df.head()"
   ]
  },
  {
   "cell_type": "code",
   "execution_count": null,
   "id": "0dlsYbQbJR_Y",
   "metadata": {
    "colab": {
     "base_uri": "https://localhost:8080/"
    },
    "executionInfo": {
     "elapsed": 268,
     "status": "ok",
     "timestamp": 1666143184741,
     "user": {
      "displayName": "Yuan An",
      "userId": "12279868416530647161"
     },
     "user_tz": 240
    },
    "id": "0dlsYbQbJR_Y",
    "outputId": "b4d98260-799e-4cad-c383-059c810c116b"
   },
   "outputs": [],
   "source": [
    "df.shape"
   ]
  },
  {
   "cell_type": "markdown",
   "id": "DAhYPWvq1zc-",
   "metadata": {
    "id": "DAhYPWvq1zc-"
   },
   "source": [
    "## Probing BERT"
   ]
  },
  {
   "cell_type": "code",
   "execution_count": null,
   "id": "f12c0fd2-6951-4098-9769-48ab3c98e90b",
   "metadata": {
    "id": "f12c0fd2-6951-4098-9769-48ab3c98e90b"
   },
   "outputs": [],
   "source": [
    "tokenizer = AutoTokenizer.from_pretrained(\"bert-large-cased\")\n",
    "model = AutoModelForMaskedLM.from_pretrained(\"bert-large-cased\")"
   ]
  },
  {
   "cell_type": "code",
   "execution_count": null,
   "id": "e46f8370-80b4-4f4d-88e0-94b3020a88ab",
   "metadata": {
    "colab": {
     "base_uri": "https://localhost:8080/",
     "height": 35
    },
    "executionInfo": {
     "elapsed": 519,
     "status": "ok",
     "timestamp": 1666143162640,
     "user": {
      "displayName": "Yuan An",
      "userId": "12279868416530647161"
     },
     "user_tz": 240
    },
    "id": "e46f8370-80b4-4f4d-88e0-94b3020a88ab",
    "outputId": "72cea969-0fc5-44ac-c92b-d5e8da4c6e40"
   },
   "outputs": [],
   "source": [
    "mask_token = tokenizer.mask_token\n",
    "mask_token"
   ]
  },
  {
   "cell_type": "markdown",
   "id": "yccd3rTy16Yr",
   "metadata": {
    "id": "yccd3rTy16Yr"
   },
   "source": [
    "## Creat the Prompt Pipeline"
   ]
  },
  {
   "cell_type": "code",
   "execution_count": null,
   "id": "OoWE2iMqoXHJ",
   "metadata": {
    "id": "OoWE2iMqoXHJ"
   },
   "outputs": [],
   "source": [
    "pipe = pipeline(\n",
    "    task=\"fill-mask\",\n",
    "    model=model,\n",
    "    tokenizer=tokenizer,\n",
    "    top_k=100,\n",
    ")"
   ]
  },
  {
   "cell_type": "markdown",
   "id": "aWXu0sgCf4jA",
   "metadata": {
    "id": "aWXu0sgCf4jA"
   },
   "source": [
    "## Create Prompts"
   ]
  },
  {
   "cell_type": "code",
   "execution_count": null,
   "id": "9a212ac0-5680-4da2-839c-5244538adb04",
   "metadata": {
    "id": "9a212ac0-5680-4da2-839c-5244538adb04"
   },
   "outputs": [],
   "source": [
    "def create_spaceGroup_prompt1(sub, mask):\n",
    "    return f\"{sub} is an MOF. {sub} has the space group symbol {mask}.\"\n",
    "    \n",
    "def create_spaceGroup_prompt2(sub, mask):\n",
    "    return f\"{sub} is an MOF. {sub} has an space group code {mask}.\"\n",
    "\n",
    "def create_spaceGroup_prompt3(sub, mask):\n",
    "    return f\"{sub} is an MOF. {sub} has an space group {mask}.\"\n",
    "\n",
    "def create_spaceGroup_prompt4(sub, mask):\n",
    "    return f\"{sub} is an MOF. The space group of {sub} is {mask}.\"\n",
    "    \n",
    "def create_spaceGroup_prompt5(sub, mask):\n",
    "    return f\"{sub} is an MOF. {sub} is in the space group {mask}.\"\n",
    "    \n",
    "def create_spaceGroup_prompt6(sub, mask):\n",
    "    return f\"{sub} is an metal organic framework. {sub}'s space group is {mask}.\" \n",
    "    \n",
    "def create_spaceGroup_prompt7(sub, mask):\n",
    "    return f\"{sub} is an MOF. {sub} is an type of {mask} space group.\"\n",
    "    \n",
    "def create_spaceGroup_prompt8(sub, mask):\n",
    "    return f\"{sub} is an MOF. {sub} is in the class of {mask} space group.\"\n",
    "    \n",
    "def create_spaceGroup_prompt9(sub, mask):\n",
    "    return f\"{sub} has SBUs and organic linkers. The space group of {sub} is {mask}.\"\n",
    "    \n",
    "def create_spaceGroup_prompt10(sub, mask):\n",
    "    return f\"{sub} is an MOF. The {mask} describes {sub}'s space group.\"\n",
    "    \n",
    "def create_spaceGroup_prompt11(sub, mask):\n",
    "    return f\"{sub} is a metal-organic framework. The space group of {sub} is {mask}.\"\n",
    "    \n",
    "def create_spaceGroup_prompt12(sub, mask):\n",
    "    return f\"As a MOF, {sub} has the space group {mask}.\""
   ]
  },
  {
   "cell_type": "code",
   "execution_count": null,
   "id": "oQEIANBrgl4c",
   "metadata": {
    "id": "oQEIANBrgl4c"
   },
   "outputs": [],
   "source": [
    "processors = [create_spaceGroup_prompt1, create_spaceGroup_prompt2,\n",
    "              create_spaceGroup_prompt3, create_spaceGroup_prompt4,\n",
    "              create_spaceGroup_prompt5, create_spaceGroup_prompt6,\n",
    "              create_spaceGroup_prompt7, create_spaceGroup_prompt8,\n",
    "              create_spaceGroup_prompt9, create_spaceGroup_prompt10,\n",
    "              create_spaceGroup_prompt11, create_spaceGroup_prompt12\n",
    "             ]"
   ]
  },
  {
   "cell_type": "markdown",
   "id": "bfa6da22-ef52-4dab-88f2-0811912f8cbf",
   "metadata": {
    "id": "bfa6da22-ef52-4dab-88f2-0811912f8cbf"
   },
   "source": [
    "## Check Whether the Predicted Tokens Match"
   ]
  },
  {
   "cell_type": "code",
   "execution_count": null,
   "id": "ddee966e-64b1-487f-8aec-0f6f5debbf1e",
   "metadata": {
    "id": "ddee966e-64b1-487f-8aec-0f6f5debbf1e"
   },
   "outputs": [],
   "source": [
    "# Compute a column indicating whether the predictedToken in the ObjectEntity list\n",
    "def hasPredicted(row):\n",
    "    token = row['predictedToken']\n",
    "    objectEntities = row['ObjectEntity']\n",
    "    #print(objectEntities)\n",
    "    if pd.notna(objectEntities):\n",
    "        types = objectEntities.split(\",\") # get individual types\n",
    "        for tp in types: # for each type\n",
    "            type_words = tp.lower().split() # get the individual words in the type\n",
    "            if token.lower() in type_words: # check if a type word was predicted\n",
    "                return 1\n",
    "       \n",
    "    return 0"
   ]
  },
  {
   "cell_type": "markdown",
   "id": "869312a9-6133-40b7-9acb-ca499874b814",
   "metadata": {
    "id": "869312a9-6133-40b7-9acb-ca499874b814"
   },
   "source": [
    "## Test BERT"
   ]
  },
  {
   "cell_type": "code",
   "execution_count": null,
   "id": "MVAuqvu8f8fl",
   "metadata": {
    "id": "MVAuqvu8f8fl"
   },
   "outputs": [],
   "source": [
    "def prompt_probe(model, tokenizer, prompt_processor, df_sub, mask_token, \\\n",
    "                 subjectCol, relationCol, objectCol, top_k=100):\n",
    "\n",
    "    pipe = pipeline(\n",
    "        task=\"fill-mask\",\n",
    "        model=model,\n",
    "        tokenizer=tokenizer,\n",
    "        top_k=top_k,\n",
    "    )\n",
    "\n",
    "    prompts = PromptSet([prompt_processor(row.SubjectEntity, mask_token) for _, row in df_sub.iterrows()])\n",
    "\n",
    "    outputs = []\n",
    "    for out in tqdm(pipe(prompts, batch_size=8), total=len(prompts)):\n",
    "        outputs.append(out)\n",
    "\n",
    "    results = []\n",
    "    for idx, row in df_sub.iterrows():\n",
    "        for output in outputs[idx]:\n",
    "            record = {}\n",
    "            record['SubjectEntity'] = row[subjectCol]\n",
    "            record['Relation'] = row[relationCol]\n",
    "            record['ObjectEntity'] = row[objectCol]\n",
    "            record['prompt']= prompts[idx]\n",
    "            record['predictedScore'] = output['score']\n",
    "            record['predictedToken'] = output['token_str']\n",
    "            results.append(record)\n",
    "\n",
    "    return pd.DataFrame(results)"
   ]
  },
  {
   "cell_type": "code",
   "execution_count": null,
   "id": "KsUSnkZ7l-5U",
   "metadata": {
    "id": "KsUSnkZ7l-5U"
   },
   "outputs": [],
   "source": [
    "# return the top-k rows based on predictedScore\n",
    "def top(df, col, n=10):\n",
    "    return df.sort_values(by=col, ascending=False)[:n]"
   ]
  },
  {
   "cell_type": "code",
   "execution_count": null,
   "id": "FsnJPxPBl-5V",
   "metadata": {
    "id": "FsnJPxPBl-5V"
   },
   "outputs": [],
   "source": [
    "# check whether the predicted is 1 for each group\n",
    "def predictedOne(df, col):\n",
    "    total = df[col].sum()\n",
    "    if total > 0:\n",
    "        return 1\n",
    "    else:\n",
    "        return 0"
   ]
  },
  {
   "cell_type": "code",
   "execution_count": null,
   "id": "YTMrQugZl-5V",
   "metadata": {
    "id": "YTMrQugZl-5V"
   },
   "outputs": [],
   "source": [
    "# Assume the predicted_df has a binary column 'predicted' indicating whether ObjectEntity has been predicted\n",
    "# 1 for yes, 0 for no\n",
    "def evaluate_acc_n(predicted_df, relation, prompt_template, at_k=5):\n",
    "    topk_df = predicted_df.groupby('SubjectEntity', as_index=False).apply(top, col='predictedScore', n=at_k)\n",
    "    topk_agg_df = topk_df.groupby('SubjectEntity', as_index=False).apply(predictedOne, col='predicted')\n",
    "    topk_agg_df.columns = ['SubjectEntity', 'predicted']\n",
    "    result = {}\n",
    "    result['Relation'] = relation\n",
    "    result['prompt_template'] = prompt_template\n",
    "    result['acc'] = topk_agg_df.predicted.mean()\n",
    "    result['at_k'] = at_k\n",
    "\n",
    "    return result"
   ]
  },
  {
   "cell_type": "code",
   "execution_count": null,
   "id": "55688b85-e2dd-4172-b199-cd3ca4cd3353",
   "metadata": {
    "id": "55688b85-e2dd-4172-b199-cd3ca4cd3353"
   },
   "outputs": [],
   "source": [
    "pd.set_option('display.max_colwidth', None)"
   ]
  },
  {
   "cell_type": "code",
   "execution_count": null,
   "id": "b0190f3f-b9a6-4d57-83fa-e3bb3acf828a",
   "metadata": {
    "colab": {
     "referenced_widgets": [
      "361128975c744e85a436c3f520963b49",
      "b568fb7b503648479fc77cbf44d19ce3",
      "f111885f61834d32b9a3acd68d349a9f",
      "45ffab4bfe904ea388c9202ddfc6d4da",
      "756d882e1eaa4708a1bc2c62ff78619e",
      "8f0f5a8e58564e86b6651d4e4c8d31bf",
      "25945e2b66ef477985f675d2c5bc4ef6",
      "2e0d1d4cda8a4a0b95cb45079de787d2",
      "cb54dc2f5a0f4b1fbe5fed95e30d9545",
      "9663ca40463945c0a9fe33cdce9321a5",
      "8a4be931564f4df2898f1593c82bb579",
      "e8a92237a869469bbe0184816f5743cd"
     ]
    },
    "id": "b0190f3f-b9a6-4d57-83fa-e3bb3acf828a",
    "outputId": "d7dcfe16-8cbf-4e19-d853-3c9ced69aec5"
   },
   "outputs": [],
   "source": [
    "%%time\n",
    "acc_list = []\n",
    "atks = [1, 5, 10, 20, 50, 100]\n",
    "for processor in processors:\n",
    "    result_df = prompt_probe(model, tokenizer, processor, df, mask_token, \\\n",
    "                     'SubjectEntity', 'Relation', 'ObjectEntity', top_k=100)\n",
    "    result_df['predicted'] = result_df.apply(hasPredicted, axis=1)\n",
    "\n",
    "    prompt_template = processor('{SubjectEntity}', '[MASK]')\n",
    "    for at_k in atks:\n",
    "        acc_df = evaluate_acc_n(result_df, 'hasSpaceGroup', prompt_template, at_k=at_k)\n",
    "        acc_list.append(acc_df)"
   ]
  },
  {
   "cell_type": "code",
   "execution_count": null,
   "id": "f822f7ba-11eb-476a-aa60-074b00894d9f",
   "metadata": {
    "id": "f822f7ba-11eb-476a-aa60-074b00894d9f"
   },
   "outputs": [],
   "source": [
    "hasType_df = pd.DataFrame(acc_list)"
   ]
  },
  {
   "cell_type": "code",
   "execution_count": null,
   "id": "EtAuhaBohBxO",
   "metadata": {
    "id": "EtAuhaBohBxO",
    "outputId": "7b265a24-0e5d-4fa5-e000-2265220a129a"
   },
   "outputs": [],
   "source": [
    "hasType_df.sample(10)"
   ]
  },
  {
   "cell_type": "code",
   "execution_count": null,
   "id": "c880c81b-929e-4eef-a98c-defcfd0369d7",
   "metadata": {
    "id": "c880c81b-929e-4eef-a98c-defcfd0369d7"
   },
   "outputs": [],
   "source": [
    "result_df.to_csv(\"../data/predicted_hasSpaceGroup_BERT.csv\", index=None)"
   ]
  },
  {
   "cell_type": "code",
   "execution_count": null,
   "id": "7fe702fb-17f6-4cc3-9149-14bc7ca14a03",
   "metadata": {
    "id": "7fe702fb-17f6-4cc3-9149-14bc7ca14a03"
   },
   "outputs": [],
   "source": [
    "hasType_df.to_csv(\"../data/predicted_hasSpaceGroup_BERT_eval.csv\", index=None)"
   ]
  },
  {
   "cell_type": "code",
   "execution_count": null,
   "id": "d3299e52-ecf9-4ef6-b4e4-b8f6e21f6d6f",
   "metadata": {
    "id": "d3299e52-ecf9-4ef6-b4e4-b8f6e21f6d6f",
    "outputId": "95ab2b72-cc7e-47e2-da68-1e983d187e71"
   },
   "outputs": [],
   "source": [
    "hasType_df[hasType_df['at_k'] == 1].sort_values('acc', ascending=False)"
   ]
  },
  {
   "cell_type": "code",
   "execution_count": null,
   "id": "987f0e87-b729-4352-8135-41e69df5631d",
   "metadata": {
    "id": "987f0e87-b729-4352-8135-41e69df5631d",
    "outputId": "5e5c5867-62f3-4a9c-e570-8052419cc12f"
   },
   "outputs": [],
   "source": [
    "hasType_df.sort_values('acc', ascending=False)"
   ]
  },
  {
   "cell_type": "markdown",
   "id": "c07c6a8e-6cc6-49c8-9097-c9a0060e45f2",
   "metadata": {
    "id": "c07c6a8e-6cc6-49c8-9097-c9a0060e45f2"
   },
   "source": [
    "## Probing MatBERT"
   ]
  },
  {
   "cell_type": "code",
   "execution_count": null,
   "id": "46c36d72-a33c-4bff-9ab9-7006d9c1279e",
   "metadata": {
    "id": "46c36d72-a33c-4bff-9ab9-7006d9c1279e"
   },
   "outputs": [],
   "source": [
    "# MatBERT\n",
    "tokenizer = AutoTokenizer.from_pretrained(\"../model/model/matbert-base-cased\")\n",
    "model = AutoModelForMaskedLM.from_pretrained(\"../model/model/matbert-base-cased\")"
   ]
  },
  {
   "cell_type": "code",
   "execution_count": null,
   "id": "2f8ecf23-8eb8-4a87-8e1d-641177a59ca4",
   "metadata": {
    "colab": {
     "base_uri": "https://localhost:8080/",
     "height": 35
    },
    "executionInfo": {
     "elapsed": 519,
     "status": "ok",
     "timestamp": 1666143162640,
     "user": {
      "displayName": "Yuan An",
      "userId": "12279868416530647161"
     },
     "user_tz": 240
    },
    "id": "2f8ecf23-8eb8-4a87-8e1d-641177a59ca4",
    "outputId": "72cea969-0fc5-44ac-c92b-d5e8da4c6e40"
   },
   "outputs": [],
   "source": [
    "mask_token = tokenizer.mask_token\n",
    "mask_token"
   ]
  },
  {
   "cell_type": "markdown",
   "id": "28bb7577-a57c-432c-8f21-2ce188aab3f4",
   "metadata": {
    "id": "28bb7577-a57c-432c-8f21-2ce188aab3f4"
   },
   "source": [
    "## Creat the Prompt Pipeline"
   ]
  },
  {
   "cell_type": "code",
   "execution_count": null,
   "id": "63037587-acd8-4edb-8ccd-d9b4a4bc14a6",
   "metadata": {
    "id": "63037587-acd8-4edb-8ccd-d9b4a4bc14a6"
   },
   "outputs": [],
   "source": [
    "pipe = pipeline(\n",
    "    task=\"fill-mask\",\n",
    "    model=model,\n",
    "    tokenizer=tokenizer,\n",
    "    top_k=100,\n",
    ")"
   ]
  },
  {
   "cell_type": "markdown",
   "id": "3a2cd5b0-ceb3-492a-9e3c-b2ef98e0f75e",
   "metadata": {
    "id": "3a2cd5b0-ceb3-492a-9e3c-b2ef98e0f75e"
   },
   "source": [
    "## Run"
   ]
  },
  {
   "cell_type": "code",
   "execution_count": null,
   "id": "40c25cc9-4e71-480d-83df-fbc299ccd454",
   "metadata": {
    "colab": {
     "referenced_widgets": [
      "5deb59e7f1a1486db5188d019a852eeb",
      "580b4dd287b84d9584f1601001332462",
      "542fb9336b6744f3b79fe9c19fb91449",
      "62b820921cfc46309371b3eb8446c6a2",
      "1e3e67a0e6364b23b01d6846e2d5bd5f",
      "6814dd0276e841c587227c2e3ba3687a",
      "afb87fea09594ea5b70876492333881c",
      "13c8d6858dc44fb295a327b27c5900a5",
      "ed7d027702af4a56ae6caf3cdaaf47d2",
      "6364f8e9a21042c094ed8d5af3e094a9",
      "cb53fe49aceb4b8d9c063970c247d945",
      "cf0d31557fe34bf3847e78be9a5a8e1b"
     ]
    },
    "id": "40c25cc9-4e71-480d-83df-fbc299ccd454",
    "outputId": "4c2a0a33-ff40-48d9-b8b8-0ca85d86f869"
   },
   "outputs": [],
   "source": [
    "%%time\n",
    "acc_list = []\n",
    "atks = [1, 5, 10, 20, 50, 100]\n",
    "for processor in processors:\n",
    "    result_df = prompt_probe(model, tokenizer, processor, df, mask_token, \\\n",
    "                     'SubjectEntity', 'Relation', 'ObjectEntity', top_k=100)\n",
    "    result_df['predicted'] = result_df.apply(hasPredicted, axis=1)\n",
    "\n",
    "    prompt_template = processor('{SubjectEntity}', '[MASK]')\n",
    "    for at_k in atks:\n",
    "        acc_df = evaluate_acc_n(result_df, 'hasSpaceGroup', prompt_template, at_k=at_k)\n",
    "        acc_list.append(acc_df)"
   ]
  },
  {
   "cell_type": "code",
   "execution_count": null,
   "id": "02a8ec37-fdeb-4c5b-bb1b-f02ab220cc52",
   "metadata": {
    "id": "02a8ec37-fdeb-4c5b-bb1b-f02ab220cc52"
   },
   "outputs": [],
   "source": [
    "hasType_df = pd.DataFrame(acc_list)"
   ]
  },
  {
   "cell_type": "code",
   "execution_count": null,
   "id": "ec452969-ff1f-4c4e-8835-357d94046631",
   "metadata": {
    "id": "ec452969-ff1f-4c4e-8835-357d94046631",
    "outputId": "777057e6-5bec-4b22-afc2-96bf124eb08c"
   },
   "outputs": [],
   "source": [
    "hasType_df.sample(10)"
   ]
  },
  {
   "cell_type": "code",
   "execution_count": null,
   "id": "91784d92-ce16-4e12-bfcc-3fe029e4454f",
   "metadata": {
    "id": "91784d92-ce16-4e12-bfcc-3fe029e4454f"
   },
   "outputs": [],
   "source": [
    "result_df.to_csv(\"../data/predicted_hasSpaceGroup_MatBERT.csv\", index=None)"
   ]
  },
  {
   "cell_type": "code",
   "execution_count": null,
   "id": "d9956d44-419e-4ed7-8575-8c424548f7a6",
   "metadata": {
    "id": "d9956d44-419e-4ed7-8575-8c424548f7a6"
   },
   "outputs": [],
   "source": [
    "hasType_df.to_csv(\"../data/predicted_hasSpaceGroup_MatBERT_eval.csv\", index=None)"
   ]
  },
  {
   "cell_type": "code",
   "execution_count": null,
   "id": "2474feab-c4df-452e-af55-273fdbc54d36",
   "metadata": {
    "id": "2474feab-c4df-452e-af55-273fdbc54d36",
    "outputId": "d5ca48f7-e416-444c-d229-8f624c45e1bd"
   },
   "outputs": [],
   "source": [
    "hasType_df[hasType_df['at_k'] == 1].sort_values('acc', ascending=False)"
   ]
  },
  {
   "cell_type": "code",
   "execution_count": null,
   "id": "6279b12a-aa4d-43ef-8a21-1609b54d8ff2",
   "metadata": {
    "id": "6279b12a-aa4d-43ef-8a21-1609b54d8ff2",
    "outputId": "5a3598ca-f224-43a9-8ee4-7ac7e9390277"
   },
   "outputs": [],
   "source": [
    "hasType_df.sort_values('acc', ascending=False)"
   ]
  },
  {
   "cell_type": "markdown",
   "id": "81e0a83a-3ee8-44b5-9228-05163abeb558",
   "metadata": {
    "id": "81e0a83a-3ee8-44b5-9228-05163abeb558"
   },
   "source": [
    "## Probing MatSciBERT"
   ]
  },
  {
   "cell_type": "code",
   "execution_count": null,
   "id": "70621025-c440-4ebe-b081-38390ea30aa8",
   "metadata": {
    "id": "70621025-c440-4ebe-b081-38390ea30aa8"
   },
   "outputs": [],
   "source": [
    "# MatSciBERT\n",
    "tokenizer = AutoTokenizer.from_pretrained('m3rg-iitd/matscibert')\n",
    "model = AutoModelForMaskedLM.from_pretrained('m3rg-iitd/matscibert')"
   ]
  },
  {
   "cell_type": "code",
   "execution_count": null,
   "id": "b863582b-8525-4dcd-a7ff-6877f1d9e655",
   "metadata": {
    "colab": {
     "base_uri": "https://localhost:8080/",
     "height": 35
    },
    "executionInfo": {
     "elapsed": 519,
     "status": "ok",
     "timestamp": 1666143162640,
     "user": {
      "displayName": "Yuan An",
      "userId": "12279868416530647161"
     },
     "user_tz": 240
    },
    "id": "b863582b-8525-4dcd-a7ff-6877f1d9e655",
    "outputId": "72cea969-0fc5-44ac-c92b-d5e8da4c6e40"
   },
   "outputs": [],
   "source": [
    "mask_token = tokenizer.mask_token\n",
    "mask_token"
   ]
  },
  {
   "cell_type": "markdown",
   "id": "81908035-52e3-409f-9b8c-4b7cdec16ff0",
   "metadata": {
    "id": "81908035-52e3-409f-9b8c-4b7cdec16ff0"
   },
   "source": [
    "## Creat the Prompt Pipeline"
   ]
  },
  {
   "cell_type": "code",
   "execution_count": null,
   "id": "f8f09ba9-cb78-4fb3-8e54-c087f0776d71",
   "metadata": {
    "id": "f8f09ba9-cb78-4fb3-8e54-c087f0776d71"
   },
   "outputs": [],
   "source": [
    "pipe = pipeline(\n",
    "    task=\"fill-mask\",\n",
    "    model=model,\n",
    "    tokenizer=tokenizer,\n",
    "    top_k=100,\n",
    ")"
   ]
  },
  {
   "cell_type": "markdown",
   "id": "ef55395d-3189-4f46-83d7-7e2b13ce8585",
   "metadata": {
    "id": "ef55395d-3189-4f46-83d7-7e2b13ce8585"
   },
   "source": [
    "## Run"
   ]
  },
  {
   "cell_type": "code",
   "execution_count": null,
   "id": "034e6ad5-3548-45af-9a22-638f2ac220a1",
   "metadata": {
    "colab": {
     "referenced_widgets": [
      "f06c830e686f40f49713e1fdb9e751a0",
      "7a9d9bf4cdb4468a8b590b5bec2411df",
      "8b2bf4df92bc44319479cc4d8915bb42",
      "8bf481c81680450bbefdecf511987183",
      "f90ac7a7a7ba4612a4e58cce92f462f5",
      "3c02ddd53bf1494993619d4823474dad",
      "232e0105a0234d3f851a6749809e43e5",
      "20c8bf8bd51749239f66c4931eab3972",
      "95ae683a84b54509b49b20636a6d5a77",
      "7e7761aa43f84ebd85f6cc74ef614b7d",
      "e8a3cff511fd45fea8ae1f15f6faeb58",
      "c731e015552847f185fb01ab8cae026c"
     ]
    },
    "id": "034e6ad5-3548-45af-9a22-638f2ac220a1",
    "outputId": "1992d1e4-4977-46c3-90fc-cc536beb83d4"
   },
   "outputs": [],
   "source": [
    "%%time\n",
    "acc_list = []\n",
    "atks = [1, 5, 10, 20, 50, 100]\n",
    "for processor in processors:\n",
    "    result_df = prompt_probe(model, tokenizer, processor, df, mask_token, \\\n",
    "                     'SubjectEntity', 'Relation', 'ObjectEntity', top_k=100)\n",
    "    result_df['predicted'] = result_df.apply(hasPredicted, axis=1)\n",
    "\n",
    "    prompt_template = processor('{SubjectEntity}', '[MASK]')\n",
    "    for at_k in atks:\n",
    "        acc_df = evaluate_acc_n(result_df, 'hasSpaceGroup', prompt_template, at_k=at_k)\n",
    "        acc_list.append(acc_df)"
   ]
  },
  {
   "cell_type": "code",
   "execution_count": null,
   "id": "63fdfef8-bf5e-4f0d-b8c5-83cd72d7f2c7",
   "metadata": {
    "id": "63fdfef8-bf5e-4f0d-b8c5-83cd72d7f2c7"
   },
   "outputs": [],
   "source": [
    "hasType_df = pd.DataFrame(acc_list)"
   ]
  },
  {
   "cell_type": "code",
   "execution_count": null,
   "id": "0ea239dc-94c2-4c04-913e-0fcebd9d902d",
   "metadata": {
    "id": "0ea239dc-94c2-4c04-913e-0fcebd9d902d",
    "outputId": "12bb5b98-a008-4bac-cc92-1ecc385be547"
   },
   "outputs": [],
   "source": [
    "hasType_df.sample(10)"
   ]
  },
  {
   "cell_type": "code",
   "execution_count": null,
   "id": "97e36df6-a6d2-46ae-99cd-11152eb9902a",
   "metadata": {
    "id": "97e36df6-a6d2-46ae-99cd-11152eb9902a"
   },
   "outputs": [],
   "source": [
    "result_df.to_csv(\"../data/predicted_hasSpaceGroup_MatSciBERT.csv\", index=None)"
   ]
  },
  {
   "cell_type": "code",
   "execution_count": null,
   "id": "48d58a92-daa3-49e0-bc5f-3db3ce29aa3f",
   "metadata": {
    "id": "48d58a92-daa3-49e0-bc5f-3db3ce29aa3f"
   },
   "outputs": [],
   "source": [
    "hasType_df.to_csv(\"../data/predicted_hasSpaceGroup_MatSciBERT_eval.csv\", index=None)"
   ]
  },
  {
   "cell_type": "code",
   "execution_count": null,
   "id": "f3281d92-5f42-497b-8e4c-cfdfc4325500",
   "metadata": {
    "id": "f3281d92-5f42-497b-8e4c-cfdfc4325500",
    "outputId": "4f732974-bd20-414c-f633-0418f6191aad"
   },
   "outputs": [],
   "source": [
    "hasType_df[hasType_df['at_k'] == 1].sort_values('acc', ascending=False)"
   ]
  },
  {
   "cell_type": "code",
   "execution_count": null,
   "id": "93709576-a549-4067-b0dc-722007dc5f14",
   "metadata": {
    "id": "93709576-a549-4067-b0dc-722007dc5f14",
    "outputId": "2a5f1830-803d-4a75-ecfa-63dbdd228a55"
   },
   "outputs": [],
   "source": [
    "hasType_df.sort_values('acc', ascending=False)"
   ]
  },
  {
   "cell_type": "markdown",
   "id": "7ea82684-73f7-4a08-a2d4-9529b1328672",
   "metadata": {
    "id": "7ea82684-73f7-4a08-a2d4-9529b1328672"
   },
   "source": [
    "## Probing SciBERT"
   ]
  },
  {
   "cell_type": "code",
   "execution_count": null,
   "id": "0937d1db-d5c2-47e1-a920-e7c8a667f003",
   "metadata": {
    "id": "0937d1db-d5c2-47e1-a920-e7c8a667f003"
   },
   "outputs": [],
   "source": [
    "# SciBERT\n",
    "tokenizer = AutoTokenizer.from_pretrained('allenai/scibert_scivocab_cased')\n",
    "model = AutoModelForMaskedLM.from_pretrained('allenai/scibert_scivocab_cased')"
   ]
  },
  {
   "cell_type": "code",
   "execution_count": null,
   "id": "a2fc4405-4e30-4d3e-a989-004e4d45762f",
   "metadata": {
    "colab": {
     "base_uri": "https://localhost:8080/",
     "height": 35
    },
    "executionInfo": {
     "elapsed": 519,
     "status": "ok",
     "timestamp": 1666143162640,
     "user": {
      "displayName": "Yuan An",
      "userId": "12279868416530647161"
     },
     "user_tz": 240
    },
    "id": "a2fc4405-4e30-4d3e-a989-004e4d45762f",
    "outputId": "72cea969-0fc5-44ac-c92b-d5e8da4c6e40"
   },
   "outputs": [],
   "source": [
    "mask_token = tokenizer.mask_token\n",
    "mask_token"
   ]
  },
  {
   "cell_type": "markdown",
   "id": "96d62e1c-8831-466d-a4ad-b75a5fb1d243",
   "metadata": {
    "id": "96d62e1c-8831-466d-a4ad-b75a5fb1d243"
   },
   "source": [
    "## Creat the Prompt Pipeline"
   ]
  },
  {
   "cell_type": "code",
   "execution_count": null,
   "id": "52858ece-f1f0-46ed-887f-5e9f4d84650e",
   "metadata": {
    "id": "52858ece-f1f0-46ed-887f-5e9f4d84650e"
   },
   "outputs": [],
   "source": [
    "pipe = pipeline(\n",
    "    task=\"fill-mask\",\n",
    "    model=model,\n",
    "    tokenizer=tokenizer,\n",
    "    top_k=100,\n",
    ")"
   ]
  },
  {
   "cell_type": "markdown",
   "id": "59175dfd-eba6-4658-851d-3103be68d58d",
   "metadata": {
    "id": "59175dfd-eba6-4658-851d-3103be68d58d"
   },
   "source": [
    "## Run"
   ]
  },
  {
   "cell_type": "code",
   "execution_count": null,
   "id": "32f25f68-08b2-4731-a359-4723b2d70d7b",
   "metadata": {
    "colab": {
     "referenced_widgets": [
      "b4dac1f2bb6f487d930949cf89ca39d3",
      "1a414a34c76b44f69b239108638a24fd",
      "4424cfcdfbd447c6a03f7b76996c5d0c",
      "3c7f09c383f64b5ea0c074fe972e3407",
      "b1674881ae72496f95b86b722c36f5f3",
      "eec71534db004f2bb5b37e0eba26d2d9",
      "53547900553a4e0984a0f8db59bb8583",
      "8edb9c54ac9142c1815d87641a1ed570",
      "1815974cfc6a40f7988d7ebba1fac3f6",
      "78b1d40ffb894c67aea9f880d42c1a21",
      "4abc09aa63c044eeb74af455695c45df",
      "9b66267c678a477bb25bd3f1f6e5ae6b"
     ]
    },
    "id": "32f25f68-08b2-4731-a359-4723b2d70d7b",
    "outputId": "0e1ba460-9d90-41f3-e063-9940a93277cd"
   },
   "outputs": [],
   "source": [
    "%%time\n",
    "acc_list = []\n",
    "atks = [1, 5, 10, 20, 50, 100]\n",
    "for processor in processors:\n",
    "    result_df = prompt_probe(model, tokenizer, processor, df, mask_token, \\\n",
    "                     'SubjectEntity', 'Relation', 'ObjectEntity', top_k=100)\n",
    "    result_df['predicted'] = result_df.apply(hasPredicted, axis=1)\n",
    "\n",
    "    prompt_template = processor('{SubjectEntity}', '[MASK]')\n",
    "    for at_k in atks:\n",
    "        acc_df = evaluate_acc_n(result_df, 'hasSpaceGroup', prompt_template, at_k=at_k)\n",
    "        acc_list.append(acc_df)"
   ]
  },
  {
   "cell_type": "code",
   "execution_count": null,
   "id": "f86447a6-e78e-43ff-82c7-af20c158296b",
   "metadata": {
    "id": "f86447a6-e78e-43ff-82c7-af20c158296b"
   },
   "outputs": [],
   "source": [
    "hasType_df = pd.DataFrame(acc_list)"
   ]
  },
  {
   "cell_type": "code",
   "execution_count": null,
   "id": "d1f9664b-1aea-4773-8950-47b0d52bb0ee",
   "metadata": {
    "id": "d1f9664b-1aea-4773-8950-47b0d52bb0ee",
    "outputId": "0d96b0c7-54ed-4937-c1b6-2fd9c4c29360"
   },
   "outputs": [],
   "source": [
    "hasType_df.sample(10)"
   ]
  },
  {
   "cell_type": "code",
   "execution_count": null,
   "id": "e8fa4004-1013-4f74-b4bb-1977f3e0f8da",
   "metadata": {
    "id": "e8fa4004-1013-4f74-b4bb-1977f3e0f8da"
   },
   "outputs": [],
   "source": [
    "result_df.to_csv(\"../data/predicted_hasSpaceGroup_SciBERT.csv\", index=None)"
   ]
  },
  {
   "cell_type": "code",
   "execution_count": null,
   "id": "d684ef01-ae1b-4fd3-adf0-f1484d9a2d47",
   "metadata": {
    "id": "d684ef01-ae1b-4fd3-adf0-f1484d9a2d47"
   },
   "outputs": [],
   "source": [
    "hasType_df.to_csv(\"../data/predicted_hasSpaceGroup_SciBERT_eval.csv\", index=None)"
   ]
  },
  {
   "cell_type": "code",
   "execution_count": null,
   "id": "e3f9ec04-5e7f-4b76-b517-5bf1f0a161ac",
   "metadata": {
    "id": "e3f9ec04-5e7f-4b76-b517-5bf1f0a161ac",
    "outputId": "71ca4eea-9c8e-46f2-ccf5-b71b589d9656"
   },
   "outputs": [],
   "source": [
    "hasType_df[hasType_df['at_k'] == 1].sort_values('acc', ascending=False)"
   ]
  },
  {
   "cell_type": "code",
   "execution_count": null,
   "id": "9f19e68f-c514-48bb-9a01-62d0685025bb",
   "metadata": {
    "id": "9f19e68f-c514-48bb-9a01-62d0685025bb",
    "outputId": "1695bc52-0898-4123-abaf-3b137210d02c"
   },
   "outputs": [],
   "source": [
    "hasType_df.sort_values('acc', ascending=False)"
   ]
  },
  {
   "cell_type": "markdown",
   "id": "5d7b49c1-f5d7-49b0-ac15-ea4fa03b36c6",
   "metadata": {
    "id": "5d7b49c1-f5d7-49b0-ac15-ea4fa03b36c6"
   },
   "source": [
    "## Probing RoBERTa"
   ]
  },
  {
   "cell_type": "code",
   "execution_count": null,
   "id": "9a1c9f77-493e-49ee-974a-3bbf6bdecd9f",
   "metadata": {
    "id": "9a1c9f77-493e-49ee-974a-3bbf6bdecd9f"
   },
   "outputs": [],
   "source": [
    "# RoBERTa\n",
    "tokenizer = AutoTokenizer.from_pretrained(\"roberta-large\")\n",
    "model = AutoModelForMaskedLM.from_pretrained(\"roberta-large\")"
   ]
  },
  {
   "cell_type": "code",
   "execution_count": null,
   "id": "d98083f6-f285-4338-839c-d28d37b2471e",
   "metadata": {
    "colab": {
     "base_uri": "https://localhost:8080/",
     "height": 35
    },
    "executionInfo": {
     "elapsed": 519,
     "status": "ok",
     "timestamp": 1666143162640,
     "user": {
      "displayName": "Yuan An",
      "userId": "12279868416530647161"
     },
     "user_tz": 240
    },
    "id": "d98083f6-f285-4338-839c-d28d37b2471e",
    "outputId": "72cea969-0fc5-44ac-c92b-d5e8da4c6e40"
   },
   "outputs": [],
   "source": [
    "mask_token = tokenizer.mask_token\n",
    "mask_token"
   ]
  },
  {
   "cell_type": "markdown",
   "id": "e20f666a-7b98-43ad-b6a4-920c3deef28a",
   "metadata": {
    "id": "e20f666a-7b98-43ad-b6a4-920c3deef28a"
   },
   "source": [
    "## Creat the Prompt Pipeline"
   ]
  },
  {
   "cell_type": "code",
   "execution_count": null,
   "id": "65b918b6-96ee-4304-8f1b-dc85b6faa7d2",
   "metadata": {
    "id": "65b918b6-96ee-4304-8f1b-dc85b6faa7d2"
   },
   "outputs": [],
   "source": [
    "pipe = pipeline(\n",
    "    task=\"fill-mask\",\n",
    "    model=model,\n",
    "    tokenizer=tokenizer,\n",
    "    top_k=100,\n",
    ")"
   ]
  },
  {
   "cell_type": "markdown",
   "id": "7eef9e5d-906e-4103-91c2-b95c25163642",
   "metadata": {
    "id": "7eef9e5d-906e-4103-91c2-b95c25163642"
   },
   "source": [
    "## Run"
   ]
  },
  {
   "cell_type": "code",
   "execution_count": null,
   "id": "a09fbca6-bee0-4b7b-9de7-b94e6001c4bf",
   "metadata": {
    "colab": {
     "referenced_widgets": [
      "1a2b6f16723b4f168fbbb5f36a3fbc9f",
      "ac95cc5280ca48a1aae208efa991512a",
      "4e54449415b24828b9e55a926e27baf6",
      "b7e33b9c28834a238978e4aae5dc59cb",
      "fb67902f1de84d9d8b75251f513e764d",
      "9ad1b3a4e6da4ac3b0290d6be5fd88f6",
      "b10906879ae64360a565c37f2c8e3474",
      "eb3c7b20b9c645a1bfc88fa3373d60be",
      "f9ece58d64854370993429b1b9b7b34a",
      "4c1b2a0d5a844e388cdabb8683442b1e",
      "1dec7540f89f4c12a68d1c8fbc36cb4d",
      "4888ad7c4c72428b9b3c6ca3b4273b47"
     ]
    },
    "id": "a09fbca6-bee0-4b7b-9de7-b94e6001c4bf",
    "outputId": "461f10eb-67a4-4bed-eff9-436acff6951c"
   },
   "outputs": [],
   "source": [
    "%%time\n",
    "acc_list = []\n",
    "atks = [1, 5, 10, 20, 50, 100]\n",
    "for processor in processors:\n",
    "    result_df = prompt_probe(model, tokenizer, processor, df, mask_token, \\\n",
    "                     'SubjectEntity', 'Relation', 'ObjectEntity', top_k=100)\n",
    "    result_df['predicted'] = result_df.apply(hasPredicted, axis=1)\n",
    "\n",
    "    prompt_template = processor('{SubjectEntity}', '[MASK]')\n",
    "    for at_k in atks:\n",
    "        acc_df = evaluate_acc_n(result_df, 'hasSpaceGroup', prompt_template, at_k=at_k)\n",
    "        acc_list.append(acc_df)"
   ]
  },
  {
   "cell_type": "code",
   "execution_count": null,
   "id": "254d9572-a3c7-407a-b3eb-05c927a87925",
   "metadata": {
    "id": "254d9572-a3c7-407a-b3eb-05c927a87925"
   },
   "outputs": [],
   "source": [
    "hasType_df = pd.DataFrame(acc_list)"
   ]
  },
  {
   "cell_type": "code",
   "execution_count": null,
   "id": "36ae4c04-f582-4ea8-93a5-3224304f8aac",
   "metadata": {
    "id": "36ae4c04-f582-4ea8-93a5-3224304f8aac",
    "outputId": "7e817919-4010-4a7f-b4a1-04ea0d8d3317"
   },
   "outputs": [],
   "source": [
    "hasType_df.sample(10)"
   ]
  },
  {
   "cell_type": "code",
   "execution_count": null,
   "id": "cfdceaa9-cb4b-432a-ba5b-4923b5e6a90f",
   "metadata": {
    "id": "cfdceaa9-cb4b-432a-ba5b-4923b5e6a90f"
   },
   "outputs": [],
   "source": [
    "result_df.to_csv(\"../data/predicted_hasSpaceGroup_RoBERTa.csv\", index=None)"
   ]
  },
  {
   "cell_type": "code",
   "execution_count": null,
   "id": "d043a711-5415-426c-99b2-478bdfdfe6ce",
   "metadata": {
    "id": "d043a711-5415-426c-99b2-478bdfdfe6ce"
   },
   "outputs": [],
   "source": [
    "hasType_df.to_csv(\"../data/predicted_hasSpaceGroup_RoBERTa_eval.csv\", index=None)"
   ]
  },
  {
   "cell_type": "code",
   "execution_count": null,
   "id": "ca3f516c-eb00-488c-b01b-99a773c091a2",
   "metadata": {
    "id": "ca3f516c-eb00-488c-b01b-99a773c091a2",
    "outputId": "ce04e65a-4ef1-4475-9cf4-e83b0d64cacd"
   },
   "outputs": [],
   "source": [
    "hasType_df[hasType_df['at_k'] == 1].sort_values('acc', ascending=False)"
   ]
  },
  {
   "cell_type": "code",
   "execution_count": null,
   "id": "fa31e4ff-ddb6-4052-b32d-7c171c02dd2e",
   "metadata": {
    "id": "fa31e4ff-ddb6-4052-b32d-7c171c02dd2e",
    "outputId": "fc0dbf84-2059-4cf9-e9ae-e9dfe137689a"
   },
   "outputs": [],
   "source": [
    "hasType_df.sort_values('acc', ascending=False)"
   ]
  },
  {
   "cell_type": "code",
   "execution_count": null,
   "id": "3f22b669-4c68-4e50-b752-afaa0ab4fa14",
   "metadata": {
    "id": "3f22b669-4c68-4e50-b752-afaa0ab4fa14"
   },
   "outputs": [],
   "source": []
  }
 ],
 "metadata": {
  "colab": {
   "collapsed_sections": [],
   "provenance": []
  },
  "kernelspec": {
   "display_name": "digiMOF",
   "language": "python",
   "name": "digimof"
  },
  "language_info": {
   "codemirror_mode": {
    "name": "ipython",
    "version": 3
   },
   "file_extension": ".py",
   "mimetype": "text/x-python",
   "name": "python",
   "nbconvert_exporter": "python",
   "pygments_lexer": "ipython3",
   "version": "3.7.13"
  },
  "widgets": {
   "application/vnd.jupyter.widget-state+json": {
    "03cee89315b54d7eb04a5f7cecc39993": {
     "model_module": "@jupyter-widgets/controls",
     "model_module_version": "1.5.0",
     "model_name": "DescriptionStyleModel",
     "state": {
      "_model_module": "@jupyter-widgets/controls",
      "_model_module_version": "1.5.0",
      "_model_name": "DescriptionStyleModel",
      "_view_count": null,
      "_view_module": "@jupyter-widgets/base",
      "_view_module_version": "1.2.0",
      "_view_name": "StyleView",
      "description_width": ""
     }
    },
    "0680fe3809c24764b0a9703f51f3efd3": {
     "model_module": "@jupyter-widgets/base",
     "model_module_version": "1.2.0",
     "model_name": "LayoutModel",
     "state": {
      "_model_module": "@jupyter-widgets/base",
      "_model_module_version": "1.2.0",
      "_model_name": "LayoutModel",
      "_view_count": null,
      "_view_module": "@jupyter-widgets/base",
      "_view_module_version": "1.2.0",
      "_view_name": "LayoutView",
      "align_content": null,
      "align_items": null,
      "align_self": null,
      "border": null,
      "bottom": null,
      "display": null,
      "flex": null,
      "flex_flow": null,
      "grid_area": null,
      "grid_auto_columns": null,
      "grid_auto_flow": null,
      "grid_auto_rows": null,
      "grid_column": null,
      "grid_gap": null,
      "grid_row": null,
      "grid_template_areas": null,
      "grid_template_columns": null,
      "grid_template_rows": null,
      "height": null,
      "justify_content": null,
      "justify_items": null,
      "left": null,
      "margin": null,
      "max_height": null,
      "max_width": null,
      "min_height": null,
      "min_width": null,
      "object_fit": null,
      "object_position": null,
      "order": null,
      "overflow": null,
      "overflow_x": null,
      "overflow_y": null,
      "padding": null,
      "right": null,
      "top": null,
      "visibility": null,
      "width": null
     }
    },
    "073a2eb6c91b4cf39f9bbe90908d6f9b": {
     "model_module": "@jupyter-widgets/base",
     "model_module_version": "1.2.0",
     "model_name": "LayoutModel",
     "state": {
      "_model_module": "@jupyter-widgets/base",
      "_model_module_version": "1.2.0",
      "_model_name": "LayoutModel",
      "_view_count": null,
      "_view_module": "@jupyter-widgets/base",
      "_view_module_version": "1.2.0",
      "_view_name": "LayoutView",
      "align_content": null,
      "align_items": null,
      "align_self": null,
      "border": null,
      "bottom": null,
      "display": null,
      "flex": null,
      "flex_flow": null,
      "grid_area": null,
      "grid_auto_columns": null,
      "grid_auto_flow": null,
      "grid_auto_rows": null,
      "grid_column": null,
      "grid_gap": null,
      "grid_row": null,
      "grid_template_areas": null,
      "grid_template_columns": null,
      "grid_template_rows": null,
      "height": null,
      "justify_content": null,
      "justify_items": null,
      "left": null,
      "margin": null,
      "max_height": null,
      "max_width": null,
      "min_height": null,
      "min_width": null,
      "object_fit": null,
      "object_position": null,
      "order": null,
      "overflow": null,
      "overflow_x": null,
      "overflow_y": null,
      "padding": null,
      "right": null,
      "top": null,
      "visibility": null,
      "width": null
     }
    },
    "2ee792fdcb2748819e3d914fbfca7462": {
     "model_module": "@jupyter-widgets/controls",
     "model_module_version": "1.5.0",
     "model_name": "HTMLModel",
     "state": {
      "_dom_classes": [],
      "_model_module": "@jupyter-widgets/controls",
      "_model_module_version": "1.5.0",
      "_model_name": "HTMLModel",
      "_view_count": null,
      "_view_module": "@jupyter-widgets/controls",
      "_view_module_version": "1.5.0",
      "_view_name": "HTMLView",
      "description": "",
      "description_tooltip": null,
      "layout": "IPY_MODEL_85db2055d1b148c3b7415da1ce956020",
      "placeholder": "​",
      "style": "IPY_MODEL_39f2763abc36459b92f5a0884c3d84ac",
      "value": " 10/10 [00:11&lt;00:00,  1.00s/it]"
     }
    },
    "39f2763abc36459b92f5a0884c3d84ac": {
     "model_module": "@jupyter-widgets/controls",
     "model_module_version": "1.5.0",
     "model_name": "DescriptionStyleModel",
     "state": {
      "_model_module": "@jupyter-widgets/controls",
      "_model_module_version": "1.5.0",
      "_model_name": "DescriptionStyleModel",
      "_view_count": null,
      "_view_module": "@jupyter-widgets/base",
      "_view_module_version": "1.2.0",
      "_view_name": "StyleView",
      "description_width": ""
     }
    },
    "56997834017343e69fca9776c32b78d4": {
     "model_module": "@jupyter-widgets/controls",
     "model_module_version": "1.5.0",
     "model_name": "FloatProgressModel",
     "state": {
      "_dom_classes": [],
      "_model_module": "@jupyter-widgets/controls",
      "_model_module_version": "1.5.0",
      "_model_name": "FloatProgressModel",
      "_view_count": null,
      "_view_module": "@jupyter-widgets/controls",
      "_view_module_version": "1.5.0",
      "_view_name": "ProgressView",
      "bar_style": "success",
      "description": "",
      "description_tooltip": null,
      "layout": "IPY_MODEL_a9c22200ab18400d8e2f29e2d16226b3",
      "max": 10,
      "min": 0,
      "orientation": "horizontal",
      "style": "IPY_MODEL_a09d8ce79f234a02b0c8525055818951",
      "value": 10
     }
    },
    "670131b7daaa449b86e2396b64376383": {
     "model_module": "@jupyter-widgets/controls",
     "model_module_version": "1.5.0",
     "model_name": "HBoxModel",
     "state": {
      "_dom_classes": [],
      "_model_module": "@jupyter-widgets/controls",
      "_model_module_version": "1.5.0",
      "_model_name": "HBoxModel",
      "_view_count": null,
      "_view_module": "@jupyter-widgets/controls",
      "_view_module_version": "1.5.0",
      "_view_name": "HBoxView",
      "box_style": "",
      "children": [
       "IPY_MODEL_6db4bae0ab4f49aaa4e3e7aa22366dec",
       "IPY_MODEL_56997834017343e69fca9776c32b78d4",
       "IPY_MODEL_2ee792fdcb2748819e3d914fbfca7462"
      ],
      "layout": "IPY_MODEL_0680fe3809c24764b0a9703f51f3efd3"
     }
    },
    "6db4bae0ab4f49aaa4e3e7aa22366dec": {
     "model_module": "@jupyter-widgets/controls",
     "model_module_version": "1.5.0",
     "model_name": "HTMLModel",
     "state": {
      "_dom_classes": [],
      "_model_module": "@jupyter-widgets/controls",
      "_model_module_version": "1.5.0",
      "_model_name": "HTMLModel",
      "_view_count": null,
      "_view_module": "@jupyter-widgets/controls",
      "_view_module_version": "1.5.0",
      "_view_name": "HTMLView",
      "description": "",
      "description_tooltip": null,
      "layout": "IPY_MODEL_073a2eb6c91b4cf39f9bbe90908d6f9b",
      "placeholder": "​",
      "style": "IPY_MODEL_03cee89315b54d7eb04a5f7cecc39993",
      "value": "100%"
     }
    },
    "85db2055d1b148c3b7415da1ce956020": {
     "model_module": "@jupyter-widgets/base",
     "model_module_version": "1.2.0",
     "model_name": "LayoutModel",
     "state": {
      "_model_module": "@jupyter-widgets/base",
      "_model_module_version": "1.2.0",
      "_model_name": "LayoutModel",
      "_view_count": null,
      "_view_module": "@jupyter-widgets/base",
      "_view_module_version": "1.2.0",
      "_view_name": "LayoutView",
      "align_content": null,
      "align_items": null,
      "align_self": null,
      "border": null,
      "bottom": null,
      "display": null,
      "flex": null,
      "flex_flow": null,
      "grid_area": null,
      "grid_auto_columns": null,
      "grid_auto_flow": null,
      "grid_auto_rows": null,
      "grid_column": null,
      "grid_gap": null,
      "grid_row": null,
      "grid_template_areas": null,
      "grid_template_columns": null,
      "grid_template_rows": null,
      "height": null,
      "justify_content": null,
      "justify_items": null,
      "left": null,
      "margin": null,
      "max_height": null,
      "max_width": null,
      "min_height": null,
      "min_width": null,
      "object_fit": null,
      "object_position": null,
      "order": null,
      "overflow": null,
      "overflow_x": null,
      "overflow_y": null,
      "padding": null,
      "right": null,
      "top": null,
      "visibility": null,
      "width": null
     }
    },
    "a09d8ce79f234a02b0c8525055818951": {
     "model_module": "@jupyter-widgets/controls",
     "model_module_version": "1.5.0",
     "model_name": "ProgressStyleModel",
     "state": {
      "_model_module": "@jupyter-widgets/controls",
      "_model_module_version": "1.5.0",
      "_model_name": "ProgressStyleModel",
      "_view_count": null,
      "_view_module": "@jupyter-widgets/base",
      "_view_module_version": "1.2.0",
      "_view_name": "StyleView",
      "bar_color": null,
      "description_width": ""
     }
    },
    "a9c22200ab18400d8e2f29e2d16226b3": {
     "model_module": "@jupyter-widgets/base",
     "model_module_version": "1.2.0",
     "model_name": "LayoutModel",
     "state": {
      "_model_module": "@jupyter-widgets/base",
      "_model_module_version": "1.2.0",
      "_model_name": "LayoutModel",
      "_view_count": null,
      "_view_module": "@jupyter-widgets/base",
      "_view_module_version": "1.2.0",
      "_view_name": "LayoutView",
      "align_content": null,
      "align_items": null,
      "align_self": null,
      "border": null,
      "bottom": null,
      "display": null,
      "flex": null,
      "flex_flow": null,
      "grid_area": null,
      "grid_auto_columns": null,
      "grid_auto_flow": null,
      "grid_auto_rows": null,
      "grid_column": null,
      "grid_gap": null,
      "grid_row": null,
      "grid_template_areas": null,
      "grid_template_columns": null,
      "grid_template_rows": null,
      "height": null,
      "justify_content": null,
      "justify_items": null,
      "left": null,
      "margin": null,
      "max_height": null,
      "max_width": null,
      "min_height": null,
      "min_width": null,
      "object_fit": null,
      "object_position": null,
      "order": null,
      "overflow": null,
      "overflow_x": null,
      "overflow_y": null,
      "padding": null,
      "right": null,
      "top": null,
      "visibility": null,
      "width": null
     }
    }
   }
  }
 },
 "nbformat": 4,
 "nbformat_minor": 5
}
