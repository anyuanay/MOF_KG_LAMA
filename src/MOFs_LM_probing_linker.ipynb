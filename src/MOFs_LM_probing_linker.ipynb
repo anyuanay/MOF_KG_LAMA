{
 "cells": [
  {
   "cell_type": "markdown",
   "id": "55e44848-77fb-4130-b77d-abc302536a6e",
   "metadata": {
    "id": "55e44848-77fb-4130-b77d-abc302536a6e"
   },
   "source": [
    "# MOFs LM Probing for Linker"
   ]
  },
  {
   "cell_type": "code",
   "execution_count": null,
   "id": "e93a1557-c1ce-4aeb-b3c3-13a75b6cb8fa",
   "metadata": {
    "id": "e93a1557-c1ce-4aeb-b3c3-13a75b6cb8fa"
   },
   "outputs": [],
   "source": [
    "from baseline import PromptSet\n",
    "\n",
    "from tqdm.auto import tqdm\n",
    "from nltk.corpus import stopwords\n",
    "\n",
    "import pandas as pd\n",
    "\n",
    "from transformers import AutoTokenizer, AutoModelForMaskedLM, pipeline, logging\n",
    "\n",
    "logging.set_verbosity_error()  # avoid irritating transformers warnings"
   ]
  },
  {
   "cell_type": "markdown",
   "id": "5a4cbdfc-8b9d-42fa-aea5-8646ac19b6a3",
   "metadata": {
    "id": "5a4cbdfc-8b9d-42fa-aea5-8646ac19b6a3"
   },
   "source": [
    "## Read in the Triples"
   ]
  },
  {
   "cell_type": "code",
   "execution_count": null,
   "id": "MLkxHoS6eiLd",
   "metadata": {
    "id": "MLkxHoS6eiLd",
    "tags": []
   },
   "outputs": [],
   "source": [
    "file = \"../data/mof_linkers.csv\""
   ]
  },
  {
   "cell_type": "code",
   "execution_count": null,
   "id": "ax2E8N1rgva0",
   "metadata": {
    "colab": {
     "base_uri": "https://localhost:8080/",
     "height": 206
    },
    "executionInfo": {
     "elapsed": 218,
     "status": "ok",
     "timestamp": 1666145237368,
     "user": {
      "displayName": "Yuan An",
      "userId": "12279868416530647161"
     },
     "user_tz": 240
    },
    "id": "ax2E8N1rgva0",
    "outputId": "fe0e0d7c-704f-4c14-a150-262142a81688"
   },
   "outputs": [],
   "source": [
    "df = pd.read_csv(file)\n",
    "df.head()"
   ]
  },
  {
   "cell_type": "code",
   "execution_count": null,
   "id": "0dlsYbQbJR_Y",
   "metadata": {
    "colab": {
     "base_uri": "https://localhost:8080/"
    },
    "executionInfo": {
     "elapsed": 268,
     "status": "ok",
     "timestamp": 1666143184741,
     "user": {
      "displayName": "Yuan An",
      "userId": "12279868416530647161"
     },
     "user_tz": 240
    },
    "id": "0dlsYbQbJR_Y",
    "outputId": "b4d98260-799e-4cad-c383-059c810c116b"
   },
   "outputs": [],
   "source": [
    "df.shape"
   ]
  },
  {
   "cell_type": "markdown",
   "id": "DAhYPWvq1zc-",
   "metadata": {
    "id": "DAhYPWvq1zc-"
   },
   "source": [
    "## Probing BERT"
   ]
  },
  {
   "cell_type": "code",
   "execution_count": null,
   "id": "f12c0fd2-6951-4098-9769-48ab3c98e90b",
   "metadata": {
    "id": "f12c0fd2-6951-4098-9769-48ab3c98e90b"
   },
   "outputs": [],
   "source": [
    "tokenizer = AutoTokenizer.from_pretrained(\"bert-large-cased\")\n",
    "model = AutoModelForMaskedLM.from_pretrained(\"bert-large-cased\")"
   ]
  },
  {
   "cell_type": "code",
   "execution_count": null,
   "id": "e46f8370-80b4-4f4d-88e0-94b3020a88ab",
   "metadata": {
    "colab": {
     "base_uri": "https://localhost:8080/",
     "height": 35
    },
    "executionInfo": {
     "elapsed": 519,
     "status": "ok",
     "timestamp": 1666143162640,
     "user": {
      "displayName": "Yuan An",
      "userId": "12279868416530647161"
     },
     "user_tz": 240
    },
    "id": "e46f8370-80b4-4f4d-88e0-94b3020a88ab",
    "outputId": "72cea969-0fc5-44ac-c92b-d5e8da4c6e40"
   },
   "outputs": [],
   "source": [
    "mask_token = tokenizer.mask_token\n",
    "mask_token"
   ]
  },
  {
   "cell_type": "markdown",
   "id": "yccd3rTy16Yr",
   "metadata": {
    "id": "yccd3rTy16Yr"
   },
   "source": [
    "## Creat the Prompt Pipeline"
   ]
  },
  {
   "cell_type": "code",
   "execution_count": null,
   "id": "OoWE2iMqoXHJ",
   "metadata": {
    "id": "OoWE2iMqoXHJ"
   },
   "outputs": [],
   "source": [
    "pipe = pipeline(\n",
    "    task=\"fill-mask\",\n",
    "    model=model,\n",
    "    tokenizer=tokenizer,\n",
    "    top_k=100,\n",
    ")"
   ]
  },
  {
   "cell_type": "markdown",
   "id": "aWXu0sgCf4jA",
   "metadata": {
    "id": "aWXu0sgCf4jA"
   },
   "source": [
    "## Create Prompts"
   ]
  },
  {
   "cell_type": "code",
   "execution_count": null,
   "id": "Z5vtJepsgl4c",
   "metadata": {
    "id": "Z5vtJepsgl4c"
   },
   "outputs": [],
   "source": [
    "def create_linker_prompt1(sub, mask):\n",
    "    return f\"{sub} contains a {mask} which is organic linker.\"\n",
    "    \n",
    "def create_linker_prompt2(sub, mask):\n",
    "    return f\"{sub} contains an organic linker which is {mask}.\"\n",
    "\n",
    "def create_linker_prompt3(sub, mask):\n",
    "    return f\"The metal clusters in {sub} are connected by {mask}.\"\n",
    "\n",
    "def create_linker_prompt4(sub, mask):\n",
    "    return f\"{sub} is an MOF made of metal centers connectd by organic linker {mask}.\"\n",
    "    \n",
    "def create_linker_prompt5(sub, mask):\n",
    "    return f\"{sub} is an MOF material containing metal centers and organic linkers {mask}.\"\n",
    "    \n",
    "def create_linker_prompt6(sub, mask):\n",
    "    return f\"{sub} is an MOF structure with metal centers and organic linkers {mask}.\" \n",
    "    \n",
    "def create_linker_prompt7(sub, mask):\n",
    "    return f\"The organic linker in MOF {sub} is {mask}.\"\n",
    "    \n",
    "def create_linker_prompt8(sub, mask):\n",
    "    return f\"{sub} has an organic linker with SMILES string {mask}.\"\n",
    "    \n",
    "def create_linker_prompt9(sub, mask):\n",
    "    return f\"{sub} has SBUs and organic linkers {mask}.\"\n",
    "    \n",
    "def create_linker_prompt10(sub, mask):\n",
    "    return f\"{sub} is a type of polymer with metal clusters and organic linkers {mask}.\"\n",
    "    \n",
    "def create_linker_prompt11(sub, mask):\n",
    "    return f\"{mask} is the structure of the organic linker in MOF {sub}.\"\n",
    "    \n",
    "def create_linker_prompt12(sub, mask):\n",
    "    return f\"The structure of the organic linker of MOF {sub} is {mask}.\""
   ]
  },
  {
   "cell_type": "code",
   "execution_count": null,
   "id": "oQEIANBrgl4c",
   "metadata": {
    "id": "oQEIANBrgl4c"
   },
   "outputs": [],
   "source": [
    "processors = [create_linker_prompt1, create_linker_prompt2,\n",
    "              create_linker_prompt3, create_linker_prompt4,\n",
    "              create_linker_prompt5, create_linker_prompt6,\n",
    "              create_linker_prompt7, create_linker_prompt8,\n",
    "              create_linker_prompt9, create_linker_prompt10,\n",
    "              create_linker_prompt11, create_linker_prompt12\n",
    "             ]"
   ]
  },
  {
   "cell_type": "markdown",
   "id": "869312a9-6133-40b7-9acb-ca499874b814",
   "metadata": {
    "id": "869312a9-6133-40b7-9acb-ca499874b814"
   },
   "source": [
    "## Test BERT"
   ]
  },
  {
   "cell_type": "code",
   "execution_count": null,
   "id": "MVAuqvu8f8fl",
   "metadata": {
    "id": "MVAuqvu8f8fl"
   },
   "outputs": [],
   "source": [
    "def prompt_probe(model, tokenizer, prompt_processor, df_sub, mask_token, \\\n",
    "                 subjectCol, relationCol, objectCol, top_k=100):\n",
    "\n",
    "    pipe = pipeline(\n",
    "        task=\"fill-mask\",\n",
    "        model=model,\n",
    "        tokenizer=tokenizer,\n",
    "        top_k=top_k,\n",
    "    )\n",
    "\n",
    "    prompts = PromptSet([prompt_processor(row.SubjectEntity, mask_token) for _, row in df_sub.iterrows()])\n",
    "\n",
    "    outputs = []\n",
    "    for out in tqdm(pipe(prompts, batch_size=8), total=len(prompts)):\n",
    "        outputs.append(out)\n",
    "\n",
    "    results = []\n",
    "    for idx, row in df_sub.iterrows():\n",
    "        for output in outputs[idx]:\n",
    "            record = {}\n",
    "            record['SubjectEntity'] = row[subjectCol]\n",
    "            record['Relation'] = row[relationCol]\n",
    "            record['ObjectEntity'] = row[objectCol]\n",
    "            record['prompt']= prompts[idx]\n",
    "            record['predictedScore'] = output['score']\n",
    "            record['predictedToken'] = output['token_str']\n",
    "            results.append(record)\n",
    "\n",
    "    return pd.DataFrame(results)"
   ]
  },
  {
   "cell_type": "code",
   "execution_count": null,
   "id": "6fa5eaa4-4551-420f-bde9-d5be3f5fb399",
   "metadata": {
    "id": "6fa5eaa4-4551-420f-bde9-d5be3f5fb399"
   },
   "outputs": [],
   "source": [
    "# Compute a column indicating whether the predictedToken in the ObjectEntity list\n",
    "def hasPredicted(row):\n",
    "    token = row['predictedToken']\n",
    "    objectEntities = row['ObjectEntity']\n",
    "    #print(objectEntities)\n",
    "    if pd.notna(objectEntities):\n",
    "        if token.lower() == objectEntities.lower():\n",
    "            return 1\n",
    "       \n",
    "    return 0"
   ]
  },
  {
   "cell_type": "code",
   "execution_count": null,
   "id": "KsUSnkZ7l-5U",
   "metadata": {
    "id": "KsUSnkZ7l-5U"
   },
   "outputs": [],
   "source": [
    "# return the top-k rows based on predictedScore\n",
    "def top(df, col, n=10):\n",
    "    return df.sort_values(by=col, ascending=False)[:n]"
   ]
  },
  {
   "cell_type": "code",
   "execution_count": null,
   "id": "FsnJPxPBl-5V",
   "metadata": {
    "id": "FsnJPxPBl-5V"
   },
   "outputs": [],
   "source": [
    "# check whether the predicted is 1 for each group\n",
    "def predictedOne(df, col):\n",
    "    total = df[col].sum()\n",
    "    if total > 0:\n",
    "        return 1\n",
    "    else:\n",
    "        return 0"
   ]
  },
  {
   "cell_type": "code",
   "execution_count": null,
   "id": "YTMrQugZl-5V",
   "metadata": {
    "id": "YTMrQugZl-5V"
   },
   "outputs": [],
   "source": [
    "# Assume the predicted_df has a binary column 'predicted' indicating whether ObjectEntity has been predicted\n",
    "# 1 for yes, 0 for no\n",
    "def evaluate_acc_n(predicted_df, relation, prompt_template, at_k=5):\n",
    "    topk_df = predicted_df.groupby('SubjectEntity', as_index=False).apply(top, col='predictedScore', n=at_k)\n",
    "    topk_agg_df = topk_df.groupby('SubjectEntity', as_index=False).apply(predictedOne, col='predicted')\n",
    "    topk_agg_df.columns = ['SubjectEntity', 'predicted']\n",
    "    result = {}\n",
    "    result['Relation'] = relation\n",
    "    result['prompt_template'] = prompt_template\n",
    "    result['acc'] = topk_agg_df.predicted.mean()\n",
    "    result['at_k'] = at_k\n",
    "\n",
    "    return result"
   ]
  },
  {
   "cell_type": "code",
   "execution_count": null,
   "id": "55688b85-e2dd-4172-b199-cd3ca4cd3353",
   "metadata": {
    "id": "55688b85-e2dd-4172-b199-cd3ca4cd3353"
   },
   "outputs": [],
   "source": [
    "pd.set_option('display.max_colwidth', None)"
   ]
  },
  {
   "cell_type": "code",
   "execution_count": null,
   "id": "b0190f3f-b9a6-4d57-83fa-e3bb3acf828a",
   "metadata": {
    "colab": {
     "referenced_widgets": [
      "9031bb26db204e1f9cf78de97fa71c24",
      "7c0d288a31ca4a0f9b7431ecbcfb25b1",
      "c5a97796f60646cb98148bf19fc63a25",
      "2e195151580d422eb0e89b1f438532ee",
      "0a52e1ef675e4179ad5734767e6afffd",
      "1f2fb163b2114b3e90fd2b41f2bbdf75",
      "69417a09cb3c4af8b235705c5d420af6",
      "61aa6f3673144a86a3a6af392cdab3ff",
      "33f61fa9ed9b41f2a58be8f593cb7b47",
      "03bd41a120874949a88076383c1b10f2",
      "54333479d98d47b596b00b808a74d2f0",
      "adb8417fe5da4659a0d40d31fcf777fc"
     ]
    },
    "id": "b0190f3f-b9a6-4d57-83fa-e3bb3acf828a",
    "outputId": "04f9fcaf-a7d8-44f7-c3a1-7dc2a4159e40"
   },
   "outputs": [],
   "source": [
    "%%time\n",
    "acc_list = []\n",
    "atks = [1, 5, 10, 20, 50, 100]\n",
    "for processor in processors:\n",
    "    result_df = prompt_probe(model, tokenizer, processor, df, mask_token, \\\n",
    "                     'SubjectEntity', 'Relation', 'ObjectEntity', top_k=100)\n",
    "    result_df['predicted'] = result_df.apply(hasPredicted, axis=1)\n",
    "\n",
    "    prompt_template = processor('{SubjectEntity}', '[MASK]')\n",
    "    for at_k in atks:\n",
    "        acc_df = evaluate_acc_n(result_df, 'hasLinker', prompt_template, at_k=at_k)\n",
    "        acc_list.append(acc_df)"
   ]
  },
  {
   "cell_type": "code",
   "execution_count": null,
   "id": "f822f7ba-11eb-476a-aa60-074b00894d9f",
   "metadata": {
    "id": "f822f7ba-11eb-476a-aa60-074b00894d9f"
   },
   "outputs": [],
   "source": [
    "hasType_df = pd.DataFrame(acc_list)"
   ]
  },
  {
   "cell_type": "code",
   "execution_count": null,
   "id": "EtAuhaBohBxO",
   "metadata": {
    "id": "EtAuhaBohBxO",
    "outputId": "a6f23d33-e590-44f7-c7c3-1522976a1891"
   },
   "outputs": [],
   "source": [
    "hasType_df.sample(10)"
   ]
  },
  {
   "cell_type": "code",
   "execution_count": null,
   "id": "c880c81b-929e-4eef-a98c-defcfd0369d7",
   "metadata": {
    "id": "c880c81b-929e-4eef-a98c-defcfd0369d7"
   },
   "outputs": [],
   "source": [
    "result_df.to_csv(\"../data/predicted_hasLinker_BERT.csv\", index=None)"
   ]
  },
  {
   "cell_type": "code",
   "execution_count": null,
   "id": "7fe702fb-17f6-4cc3-9149-14bc7ca14a03",
   "metadata": {
    "id": "7fe702fb-17f6-4cc3-9149-14bc7ca14a03"
   },
   "outputs": [],
   "source": [
    "hasType_df.to_csv(\"../data/predicted_hasLinker_BERT_eval.csv\", index=None)"
   ]
  },
  {
   "cell_type": "code",
   "execution_count": null,
   "id": "d3299e52-ecf9-4ef6-b4e4-b8f6e21f6d6f",
   "metadata": {
    "id": "d3299e52-ecf9-4ef6-b4e4-b8f6e21f6d6f",
    "outputId": "30f7f8b8-8a27-40ef-808c-5d635973639d"
   },
   "outputs": [],
   "source": [
    "hasType_df[hasType_df['at_k'] == 1].sort_values('acc', ascending=False)"
   ]
  },
  {
   "cell_type": "code",
   "execution_count": null,
   "id": "987f0e87-b729-4352-8135-41e69df5631d",
   "metadata": {
    "id": "987f0e87-b729-4352-8135-41e69df5631d",
    "outputId": "56efd90b-14b4-47c8-a567-d2df5c20e4ae"
   },
   "outputs": [],
   "source": [
    "hasType_df.sort_values('acc', ascending=False)"
   ]
  },
  {
   "cell_type": "markdown",
   "id": "c07c6a8e-6cc6-49c8-9097-c9a0060e45f2",
   "metadata": {
    "id": "c07c6a8e-6cc6-49c8-9097-c9a0060e45f2"
   },
   "source": [
    "## Probing MatBERT"
   ]
  },
  {
   "cell_type": "code",
   "execution_count": null,
   "id": "46c36d72-a33c-4bff-9ab9-7006d9c1279e",
   "metadata": {
    "id": "46c36d72-a33c-4bff-9ab9-7006d9c1279e"
   },
   "outputs": [],
   "source": [
    "# MatBERT\n",
    "tokenizer = AutoTokenizer.from_pretrained(\"../model/model/matbert-base-cased\")\n",
    "model = AutoModelForMaskedLM.from_pretrained(\"../model/model/matbert-base-cased\")"
   ]
  },
  {
   "cell_type": "code",
   "execution_count": null,
   "id": "2f8ecf23-8eb8-4a87-8e1d-641177a59ca4",
   "metadata": {
    "colab": {
     "base_uri": "https://localhost:8080/",
     "height": 35
    },
    "executionInfo": {
     "elapsed": 519,
     "status": "ok",
     "timestamp": 1666143162640,
     "user": {
      "displayName": "Yuan An",
      "userId": "12279868416530647161"
     },
     "user_tz": 240
    },
    "id": "2f8ecf23-8eb8-4a87-8e1d-641177a59ca4",
    "outputId": "72cea969-0fc5-44ac-c92b-d5e8da4c6e40"
   },
   "outputs": [],
   "source": [
    "mask_token = tokenizer.mask_token\n",
    "mask_token"
   ]
  },
  {
   "cell_type": "markdown",
   "id": "28bb7577-a57c-432c-8f21-2ce188aab3f4",
   "metadata": {
    "id": "28bb7577-a57c-432c-8f21-2ce188aab3f4"
   },
   "source": [
    "## Creat the Prompt Pipeline"
   ]
  },
  {
   "cell_type": "code",
   "execution_count": null,
   "id": "63037587-acd8-4edb-8ccd-d9b4a4bc14a6",
   "metadata": {
    "id": "63037587-acd8-4edb-8ccd-d9b4a4bc14a6"
   },
   "outputs": [],
   "source": [
    "pipe = pipeline(\n",
    "    task=\"fill-mask\",\n",
    "    model=model,\n",
    "    tokenizer=tokenizer,\n",
    "    top_k=100,\n",
    ")"
   ]
  },
  {
   "cell_type": "markdown",
   "id": "3a2cd5b0-ceb3-492a-9e3c-b2ef98e0f75e",
   "metadata": {
    "id": "3a2cd5b0-ceb3-492a-9e3c-b2ef98e0f75e"
   },
   "source": [
    "## Run"
   ]
  },
  {
   "cell_type": "code",
   "execution_count": null,
   "id": "40c25cc9-4e71-480d-83df-fbc299ccd454",
   "metadata": {
    "colab": {
     "referenced_widgets": [
      "c1fbd7e76d17485683d539e71dce258f",
      "fb04dc4d66b346528e9950a533c4f18c",
      "fff547a4772e4231ab313778a8dc9cf2",
      "db1aea61a5bf431ea875fec7c48c3f88",
      "9ce2914d48374c028ce422eb2e6167e8",
      "0cbf3fb4741649fbaa2eb556f132b404",
      "9aae06df7e834de2afca00820aa09134",
      "0b642c75d25d42ae86bdf0490dabd1e1",
      "b4eb8f9948af4bf5bb9b6da3e75fcb17",
      "de9b91395eea45d29689e2bf729d09ef",
      "597669bf3b874c34a68e142935db1c1c",
      "9e080a095e5a4bfb83db956298134eac"
     ]
    },
    "id": "40c25cc9-4e71-480d-83df-fbc299ccd454",
    "outputId": "64606171-cc30-44a5-eb96-b6f160423d1a"
   },
   "outputs": [],
   "source": [
    "%%time\n",
    "acc_list = []\n",
    "atks = [1, 5, 10, 20, 50, 100]\n",
    "for processor in processors:\n",
    "    result_df = prompt_probe(model, tokenizer, processor, df, mask_token, \\\n",
    "                     'SubjectEntity', 'Relation', 'ObjectEntity', top_k=100)\n",
    "    result_df['predicted'] = result_df.apply(hasPredicted, axis=1)\n",
    "\n",
    "    prompt_template = processor('{SubjectEntity}', '[MASK]')\n",
    "    for at_k in atks:\n",
    "        acc_df = evaluate_acc_n(result_df, 'hasLinker', prompt_template, at_k=at_k)\n",
    "        acc_list.append(acc_df)"
   ]
  },
  {
   "cell_type": "code",
   "execution_count": null,
   "id": "02a8ec37-fdeb-4c5b-bb1b-f02ab220cc52",
   "metadata": {
    "id": "02a8ec37-fdeb-4c5b-bb1b-f02ab220cc52"
   },
   "outputs": [],
   "source": [
    "hasType_df = pd.DataFrame(acc_list)"
   ]
  },
  {
   "cell_type": "code",
   "execution_count": null,
   "id": "ec452969-ff1f-4c4e-8835-357d94046631",
   "metadata": {
    "id": "ec452969-ff1f-4c4e-8835-357d94046631",
    "outputId": "91df6021-b07c-40d1-af5b-340de195f870"
   },
   "outputs": [],
   "source": [
    "hasType_df.sample(10)"
   ]
  },
  {
   "cell_type": "code",
   "execution_count": null,
   "id": "91784d92-ce16-4e12-bfcc-3fe029e4454f",
   "metadata": {
    "id": "91784d92-ce16-4e12-bfcc-3fe029e4454f"
   },
   "outputs": [],
   "source": [
    "result_df.to_csv(\"../data/predicted_hasLinker_MatBERT.csv\", index=None)"
   ]
  },
  {
   "cell_type": "code",
   "execution_count": null,
   "id": "d9956d44-419e-4ed7-8575-8c424548f7a6",
   "metadata": {
    "id": "d9956d44-419e-4ed7-8575-8c424548f7a6"
   },
   "outputs": [],
   "source": [
    "hasType_df.to_csv(\"../data/predicted_hasLinker_MatBERT_eval.csv\", index=None)"
   ]
  },
  {
   "cell_type": "code",
   "execution_count": null,
   "id": "2474feab-c4df-452e-af55-273fdbc54d36",
   "metadata": {
    "id": "2474feab-c4df-452e-af55-273fdbc54d36",
    "outputId": "1de9af6b-7300-4043-829f-06742450b29e"
   },
   "outputs": [],
   "source": [
    "hasType_df[hasType_df['at_k'] == 1].sort_values('acc', ascending=False)"
   ]
  },
  {
   "cell_type": "code",
   "execution_count": null,
   "id": "6279b12a-aa4d-43ef-8a21-1609b54d8ff2",
   "metadata": {
    "id": "6279b12a-aa4d-43ef-8a21-1609b54d8ff2",
    "outputId": "9718d9c6-65d7-4681-a8de-b167381970e4"
   },
   "outputs": [],
   "source": [
    "hasType_df.sort_values('acc', ascending=False)"
   ]
  },
  {
   "cell_type": "markdown",
   "id": "81e0a83a-3ee8-44b5-9228-05163abeb558",
   "metadata": {
    "id": "81e0a83a-3ee8-44b5-9228-05163abeb558"
   },
   "source": [
    "## Probing MatSciBERT"
   ]
  },
  {
   "cell_type": "code",
   "execution_count": null,
   "id": "70621025-c440-4ebe-b081-38390ea30aa8",
   "metadata": {
    "id": "70621025-c440-4ebe-b081-38390ea30aa8"
   },
   "outputs": [],
   "source": [
    "# MatSciBERT\n",
    "tokenizer = AutoTokenizer.from_pretrained('m3rg-iitd/matscibert')\n",
    "model = AutoModelForMaskedLM.from_pretrained('m3rg-iitd/matscibert')"
   ]
  },
  {
   "cell_type": "code",
   "execution_count": null,
   "id": "b863582b-8525-4dcd-a7ff-6877f1d9e655",
   "metadata": {
    "colab": {
     "base_uri": "https://localhost:8080/",
     "height": 35
    },
    "executionInfo": {
     "elapsed": 519,
     "status": "ok",
     "timestamp": 1666143162640,
     "user": {
      "displayName": "Yuan An",
      "userId": "12279868416530647161"
     },
     "user_tz": 240
    },
    "id": "b863582b-8525-4dcd-a7ff-6877f1d9e655",
    "outputId": "72cea969-0fc5-44ac-c92b-d5e8da4c6e40"
   },
   "outputs": [],
   "source": [
    "mask_token = tokenizer.mask_token\n",
    "mask_token"
   ]
  },
  {
   "cell_type": "markdown",
   "id": "81908035-52e3-409f-9b8c-4b7cdec16ff0",
   "metadata": {
    "id": "81908035-52e3-409f-9b8c-4b7cdec16ff0"
   },
   "source": [
    "## Creat the Prompt Pipeline"
   ]
  },
  {
   "cell_type": "code",
   "execution_count": null,
   "id": "f8f09ba9-cb78-4fb3-8e54-c087f0776d71",
   "metadata": {
    "id": "f8f09ba9-cb78-4fb3-8e54-c087f0776d71"
   },
   "outputs": [],
   "source": [
    "pipe = pipeline(\n",
    "    task=\"fill-mask\",\n",
    "    model=model,\n",
    "    tokenizer=tokenizer,\n",
    "    top_k=100,\n",
    ")"
   ]
  },
  {
   "cell_type": "markdown",
   "id": "ef55395d-3189-4f46-83d7-7e2b13ce8585",
   "metadata": {
    "id": "ef55395d-3189-4f46-83d7-7e2b13ce8585"
   },
   "source": [
    "## Run"
   ]
  },
  {
   "cell_type": "code",
   "execution_count": null,
   "id": "034e6ad5-3548-45af-9a22-638f2ac220a1",
   "metadata": {
    "colab": {
     "referenced_widgets": [
      "bf16cfa4178e4f0e9adb92dd53699034",
      "f331ff300c0642a9933036d53175d91f",
      "27a71292f96b48e780fc2b9d840c807e",
      "cf3b31e8d7684aa688641da0c3b80aba",
      "f94f6e713aec49078da851c08b0e0469",
      "10cdf4e67fb847968226b8ad52bf5396",
      "bb9d77331d08443ba961a0f6effe58a7",
      "ce3832a1ccb848779bcddcec6f0baa80",
      "b37b1778a2df4f8e9993d33b70df2f16",
      "5d89d4fa4c1e42b8b69f86be3e66ea91",
      "dbc897cfd6ca467b92a736d62bdd4dc1",
      "5d985445867e4c9ca7a7d1cdd2a1a022"
     ]
    },
    "id": "034e6ad5-3548-45af-9a22-638f2ac220a1",
    "outputId": "768401d6-ade0-4d5f-c3a0-984bd5717eba"
   },
   "outputs": [],
   "source": [
    "%%time\n",
    "acc_list = []\n",
    "atks = [1, 5, 10, 20, 50, 100]\n",
    "for processor in processors:\n",
    "    result_df = prompt_probe(model, tokenizer, processor, df, mask_token, \\\n",
    "                     'SubjectEntity', 'Relation', 'ObjectEntity', top_k=100)\n",
    "    result_df['predicted'] = result_df.apply(hasPredicted, axis=1)\n",
    "\n",
    "    prompt_template = processor('{SubjectEntity}', '[MASK]')\n",
    "    for at_k in atks:\n",
    "        acc_df = evaluate_acc_n(result_df, 'hasLinker', prompt_template, at_k=at_k)\n",
    "        acc_list.append(acc_df)"
   ]
  },
  {
   "cell_type": "code",
   "execution_count": null,
   "id": "63fdfef8-bf5e-4f0d-b8c5-83cd72d7f2c7",
   "metadata": {
    "id": "63fdfef8-bf5e-4f0d-b8c5-83cd72d7f2c7"
   },
   "outputs": [],
   "source": [
    "hasType_df = pd.DataFrame(acc_list)"
   ]
  },
  {
   "cell_type": "code",
   "execution_count": null,
   "id": "0ea239dc-94c2-4c04-913e-0fcebd9d902d",
   "metadata": {
    "id": "0ea239dc-94c2-4c04-913e-0fcebd9d902d",
    "outputId": "614150b8-0a22-483b-bc73-17eb109fc20f"
   },
   "outputs": [],
   "source": [
    "hasType_df.sample(10)"
   ]
  },
  {
   "cell_type": "code",
   "execution_count": null,
   "id": "97e36df6-a6d2-46ae-99cd-11152eb9902a",
   "metadata": {
    "id": "97e36df6-a6d2-46ae-99cd-11152eb9902a"
   },
   "outputs": [],
   "source": [
    "result_df.to_csv(\"../data/predicted_hasLinker_MatSciBERT.csv\", index=None)"
   ]
  },
  {
   "cell_type": "code",
   "execution_count": null,
   "id": "48d58a92-daa3-49e0-bc5f-3db3ce29aa3f",
   "metadata": {
    "id": "48d58a92-daa3-49e0-bc5f-3db3ce29aa3f"
   },
   "outputs": [],
   "source": [
    "hasType_df.to_csv(\"../data/predicted_hasLinker_MatSciBERT_eval.csv\", index=None)"
   ]
  },
  {
   "cell_type": "code",
   "execution_count": null,
   "id": "f3281d92-5f42-497b-8e4c-cfdfc4325500",
   "metadata": {
    "id": "f3281d92-5f42-497b-8e4c-cfdfc4325500",
    "outputId": "1469761c-3d49-45df-bc64-47410dbe8f0e"
   },
   "outputs": [],
   "source": [
    "hasType_df[hasType_df['at_k'] == 1].sort_values('acc', ascending=False)"
   ]
  },
  {
   "cell_type": "code",
   "execution_count": null,
   "id": "93709576-a549-4067-b0dc-722007dc5f14",
   "metadata": {
    "id": "93709576-a549-4067-b0dc-722007dc5f14",
    "outputId": "ef2826c3-2217-4e96-f158-6aed2b24a12b"
   },
   "outputs": [],
   "source": [
    "hasType_df.sort_values('acc', ascending=False)"
   ]
  },
  {
   "cell_type": "markdown",
   "id": "7ea82684-73f7-4a08-a2d4-9529b1328672",
   "metadata": {
    "id": "7ea82684-73f7-4a08-a2d4-9529b1328672"
   },
   "source": [
    "## Probing SciBERT"
   ]
  },
  {
   "cell_type": "code",
   "execution_count": null,
   "id": "0937d1db-d5c2-47e1-a920-e7c8a667f003",
   "metadata": {
    "id": "0937d1db-d5c2-47e1-a920-e7c8a667f003"
   },
   "outputs": [],
   "source": [
    "# SciBERT\n",
    "tokenizer = AutoTokenizer.from_pretrained('allenai/scibert_scivocab_cased')\n",
    "model = AutoModelForMaskedLM.from_pretrained('allenai/scibert_scivocab_cased')"
   ]
  },
  {
   "cell_type": "code",
   "execution_count": null,
   "id": "a2fc4405-4e30-4d3e-a989-004e4d45762f",
   "metadata": {
    "colab": {
     "base_uri": "https://localhost:8080/",
     "height": 35
    },
    "executionInfo": {
     "elapsed": 519,
     "status": "ok",
     "timestamp": 1666143162640,
     "user": {
      "displayName": "Yuan An",
      "userId": "12279868416530647161"
     },
     "user_tz": 240
    },
    "id": "a2fc4405-4e30-4d3e-a989-004e4d45762f",
    "outputId": "72cea969-0fc5-44ac-c92b-d5e8da4c6e40"
   },
   "outputs": [],
   "source": [
    "mask_token = tokenizer.mask_token\n",
    "mask_token"
   ]
  },
  {
   "cell_type": "markdown",
   "id": "96d62e1c-8831-466d-a4ad-b75a5fb1d243",
   "metadata": {
    "id": "96d62e1c-8831-466d-a4ad-b75a5fb1d243"
   },
   "source": [
    "## Creat the Prompt Pipeline"
   ]
  },
  {
   "cell_type": "code",
   "execution_count": null,
   "id": "52858ece-f1f0-46ed-887f-5e9f4d84650e",
   "metadata": {
    "id": "52858ece-f1f0-46ed-887f-5e9f4d84650e"
   },
   "outputs": [],
   "source": [
    "pipe = pipeline(\n",
    "    task=\"fill-mask\",\n",
    "    model=model,\n",
    "    tokenizer=tokenizer,\n",
    "    top_k=100,\n",
    ")"
   ]
  },
  {
   "cell_type": "markdown",
   "id": "59175dfd-eba6-4658-851d-3103be68d58d",
   "metadata": {
    "id": "59175dfd-eba6-4658-851d-3103be68d58d"
   },
   "source": [
    "## Run"
   ]
  },
  {
   "cell_type": "code",
   "execution_count": null,
   "id": "32f25f68-08b2-4731-a359-4723b2d70d7b",
   "metadata": {
    "colab": {
     "referenced_widgets": [
      "e72b5eb55000413eb472cba96f52310f",
      "a69f3cf14ce8472eb54efb84717592df",
      "7492a6d486e143c4886e081ad1a39bf4",
      "0516715d932a4c63820778509bcacbb0",
      "825f5b69ea6a4a11aeb32c92b187b0d0",
      "9dfe8d1009f74c81bddb42f210f8d2f5",
      "ae2eda4ae35d42d68f05d5439c1c301f",
      "3eae14cfcb4b49bf9cbd92cd46b3d1c8",
      "4a9b3a4e93ad48acba8bca903eb8160d",
      "e8fa76572c3b4e5fb5735ace59da0960",
      "13c0c687047846c1b343a659da22ffcd",
      "e67e7f37be9542ecb52d9d88346ff174"
     ]
    },
    "id": "32f25f68-08b2-4731-a359-4723b2d70d7b",
    "outputId": "13729a42-b9d9-4e7d-e150-4431d5b2bed9"
   },
   "outputs": [],
   "source": [
    "%%time\n",
    "acc_list = []\n",
    "atks = [1, 5, 10, 20, 50, 100]\n",
    "for processor in processors:\n",
    "    result_df = prompt_probe(model, tokenizer, processor, df, mask_token, \\\n",
    "                     'SubjectEntity', 'Relation', 'ObjectEntity', top_k=100)\n",
    "    result_df['predicted'] = result_df.apply(hasPredicted, axis=1)\n",
    "\n",
    "    prompt_template = processor('{SubjectEntity}', '[MASK]')\n",
    "    for at_k in atks:\n",
    "        acc_df = evaluate_acc_n(result_df, 'hasLinker', prompt_template, at_k=at_k)\n",
    "        acc_list.append(acc_df)"
   ]
  },
  {
   "cell_type": "code",
   "execution_count": null,
   "id": "f86447a6-e78e-43ff-82c7-af20c158296b",
   "metadata": {
    "id": "f86447a6-e78e-43ff-82c7-af20c158296b"
   },
   "outputs": [],
   "source": [
    "hasType_df = pd.DataFrame(acc_list)"
   ]
  },
  {
   "cell_type": "code",
   "execution_count": null,
   "id": "d1f9664b-1aea-4773-8950-47b0d52bb0ee",
   "metadata": {
    "id": "d1f9664b-1aea-4773-8950-47b0d52bb0ee",
    "outputId": "cdfd9e56-e0b7-405c-9d77-f97f65315600"
   },
   "outputs": [],
   "source": [
    "hasType_df.sample(10)"
   ]
  },
  {
   "cell_type": "code",
   "execution_count": null,
   "id": "e8fa4004-1013-4f74-b4bb-1977f3e0f8da",
   "metadata": {
    "id": "e8fa4004-1013-4f74-b4bb-1977f3e0f8da"
   },
   "outputs": [],
   "source": [
    "result_df.to_csv(\"../data/predicted_hasLinker_SciBERT.csv\", index=None)"
   ]
  },
  {
   "cell_type": "code",
   "execution_count": null,
   "id": "d684ef01-ae1b-4fd3-adf0-f1484d9a2d47",
   "metadata": {
    "id": "d684ef01-ae1b-4fd3-adf0-f1484d9a2d47"
   },
   "outputs": [],
   "source": [
    "hasType_df.to_csv(\"../data/predicted_hasLinker_SciBERT_eval.csv\", index=None)"
   ]
  },
  {
   "cell_type": "code",
   "execution_count": null,
   "id": "e3f9ec04-5e7f-4b76-b517-5bf1f0a161ac",
   "metadata": {
    "id": "e3f9ec04-5e7f-4b76-b517-5bf1f0a161ac",
    "outputId": "a626b9a8-071a-4250-a452-3f179f4de206"
   },
   "outputs": [],
   "source": [
    "hasType_df[hasType_df['at_k'] == 1].sort_values('acc', ascending=False)"
   ]
  },
  {
   "cell_type": "code",
   "execution_count": null,
   "id": "9f19e68f-c514-48bb-9a01-62d0685025bb",
   "metadata": {
    "id": "9f19e68f-c514-48bb-9a01-62d0685025bb",
    "outputId": "31e0629f-dcb0-43ad-d7f0-e713f691bd4b"
   },
   "outputs": [],
   "source": [
    "hasType_df.sort_values('acc', ascending=False)"
   ]
  },
  {
   "cell_type": "markdown",
   "id": "5d7b49c1-f5d7-49b0-ac15-ea4fa03b36c6",
   "metadata": {
    "id": "5d7b49c1-f5d7-49b0-ac15-ea4fa03b36c6"
   },
   "source": [
    "## Probing RoBERTa"
   ]
  },
  {
   "cell_type": "code",
   "execution_count": null,
   "id": "9a1c9f77-493e-49ee-974a-3bbf6bdecd9f",
   "metadata": {
    "id": "9a1c9f77-493e-49ee-974a-3bbf6bdecd9f"
   },
   "outputs": [],
   "source": [
    "# RoBERTa\n",
    "tokenizer = AutoTokenizer.from_pretrained(\"roberta-large\")\n",
    "model = AutoModelForMaskedLM.from_pretrained(\"roberta-large\")"
   ]
  },
  {
   "cell_type": "code",
   "execution_count": null,
   "id": "d98083f6-f285-4338-839c-d28d37b2471e",
   "metadata": {
    "colab": {
     "base_uri": "https://localhost:8080/",
     "height": 35
    },
    "executionInfo": {
     "elapsed": 519,
     "status": "ok",
     "timestamp": 1666143162640,
     "user": {
      "displayName": "Yuan An",
      "userId": "12279868416530647161"
     },
     "user_tz": 240
    },
    "id": "d98083f6-f285-4338-839c-d28d37b2471e",
    "outputId": "72cea969-0fc5-44ac-c92b-d5e8da4c6e40"
   },
   "outputs": [],
   "source": [
    "mask_token = tokenizer.mask_token\n",
    "mask_token"
   ]
  },
  {
   "cell_type": "markdown",
   "id": "e20f666a-7b98-43ad-b6a4-920c3deef28a",
   "metadata": {
    "id": "e20f666a-7b98-43ad-b6a4-920c3deef28a"
   },
   "source": [
    "## Creat the Prompt Pipeline"
   ]
  },
  {
   "cell_type": "code",
   "execution_count": null,
   "id": "65b918b6-96ee-4304-8f1b-dc85b6faa7d2",
   "metadata": {
    "id": "65b918b6-96ee-4304-8f1b-dc85b6faa7d2"
   },
   "outputs": [],
   "source": [
    "pipe = pipeline(\n",
    "    task=\"fill-mask\",\n",
    "    model=model,\n",
    "    tokenizer=tokenizer,\n",
    "    top_k=100,\n",
    ")"
   ]
  },
  {
   "cell_type": "markdown",
   "id": "7eef9e5d-906e-4103-91c2-b95c25163642",
   "metadata": {
    "id": "7eef9e5d-906e-4103-91c2-b95c25163642"
   },
   "source": [
    "## Run"
   ]
  },
  {
   "cell_type": "code",
   "execution_count": null,
   "id": "a09fbca6-bee0-4b7b-9de7-b94e6001c4bf",
   "metadata": {
    "colab": {
     "referenced_widgets": [
      "70aa418181eb4812acfba9913a4165dd",
      "5ab01c45e9f84e8d90efba7f298cdad5",
      "bf4f8379641f4e65a66915d929b9f0d8",
      "efb46a1accee4767b92069a0e3c0d432",
      "21291df58b8445278a0cba29eeddc485",
      "3dafd47281f64dd98de88cc223823294",
      "f31687390be347f69445f6e3269bee51",
      "12f2dce6a5cc4c22a1c36506a9682316",
      "230e6d4b396d4f79863c02f64ff9445e",
      "85a05d8522de42c5a5a534055b1e002f",
      "140cd46ef88d45c793c31ecb7aadbaae",
      "e764172305ea4596bcf84387f94f0b9e"
     ]
    },
    "id": "a09fbca6-bee0-4b7b-9de7-b94e6001c4bf",
    "outputId": "34932f55-3487-463a-99d0-cfa4a9e242bc"
   },
   "outputs": [],
   "source": [
    "%%time\n",
    "acc_list = []\n",
    "atks = [1, 5, 10, 20, 50, 100]\n",
    "for processor in processors:\n",
    "    result_df = prompt_probe(model, tokenizer, processor, df, mask_token, \\\n",
    "                     'SubjectEntity', 'Relation', 'ObjectEntity', top_k=100)\n",
    "    result_df['predicted'] = result_df.apply(hasPredicted, axis=1)\n",
    "\n",
    "    prompt_template = processor('{SubjectEntity}', '[MASK]')\n",
    "    for at_k in atks:\n",
    "        acc_df = evaluate_acc_n(result_df, 'hasLinker', prompt_template, at_k=at_k)\n",
    "        acc_list.append(acc_df)"
   ]
  },
  {
   "cell_type": "code",
   "execution_count": null,
   "id": "254d9572-a3c7-407a-b3eb-05c927a87925",
   "metadata": {
    "id": "254d9572-a3c7-407a-b3eb-05c927a87925"
   },
   "outputs": [],
   "source": [
    "hasType_df = pd.DataFrame(acc_list)"
   ]
  },
  {
   "cell_type": "code",
   "execution_count": null,
   "id": "36ae4c04-f582-4ea8-93a5-3224304f8aac",
   "metadata": {
    "id": "36ae4c04-f582-4ea8-93a5-3224304f8aac",
    "outputId": "3888a1f3-a671-4de9-c24e-3e9af7a19b42"
   },
   "outputs": [],
   "source": [
    "hasType_df.sample(10)"
   ]
  },
  {
   "cell_type": "code",
   "execution_count": null,
   "id": "cfdceaa9-cb4b-432a-ba5b-4923b5e6a90f",
   "metadata": {
    "id": "cfdceaa9-cb4b-432a-ba5b-4923b5e6a90f"
   },
   "outputs": [],
   "source": [
    "result_df.to_csv(\"../data/predicted_hasLinker_RoBERTa.csv\", index=None)"
   ]
  },
  {
   "cell_type": "code",
   "execution_count": null,
   "id": "d043a711-5415-426c-99b2-478bdfdfe6ce",
   "metadata": {
    "id": "d043a711-5415-426c-99b2-478bdfdfe6ce"
   },
   "outputs": [],
   "source": [
    "hasType_df.to_csv(\"../data/predicted_hasLinker_RoBERTa_eval.csv\", index=None)"
   ]
  },
  {
   "cell_type": "code",
   "execution_count": null,
   "id": "ca3f516c-eb00-488c-b01b-99a773c091a2",
   "metadata": {
    "id": "ca3f516c-eb00-488c-b01b-99a773c091a2",
    "outputId": "56a8d5ce-a792-48d7-931e-62cc3fe7a357"
   },
   "outputs": [],
   "source": [
    "hasType_df[hasType_df['at_k'] == 1].sort_values('acc', ascending=False)"
   ]
  },
  {
   "cell_type": "code",
   "execution_count": null,
   "id": "fa31e4ff-ddb6-4052-b32d-7c171c02dd2e",
   "metadata": {
    "id": "fa31e4ff-ddb6-4052-b32d-7c171c02dd2e",
    "outputId": "eb7723b0-dcfa-4702-e17f-d7471b4ed02f"
   },
   "outputs": [],
   "source": [
    "hasType_df.sort_values('acc', ascending=False)"
   ]
  },
  {
   "cell_type": "code",
   "execution_count": null,
   "id": "3f22b669-4c68-4e50-b752-afaa0ab4fa14",
   "metadata": {
    "id": "3f22b669-4c68-4e50-b752-afaa0ab4fa14"
   },
   "outputs": [],
   "source": []
  }
 ],
 "metadata": {
  "colab": {
   "collapsed_sections": [],
   "provenance": []
  },
  "kernelspec": {
   "display_name": "digiMOF",
   "language": "python",
   "name": "digimof"
  },
  "language_info": {
   "codemirror_mode": {
    "name": "ipython",
    "version": 3
   },
   "file_extension": ".py",
   "mimetype": "text/x-python",
   "name": "python",
   "nbconvert_exporter": "python",
   "pygments_lexer": "ipython3",
   "version": "3.7.13"
  },
  "widgets": {
   "application/vnd.jupyter.widget-state+json": {
    "03cee89315b54d7eb04a5f7cecc39993": {
     "model_module": "@jupyter-widgets/controls",
     "model_module_version": "1.5.0",
     "model_name": "DescriptionStyleModel",
     "state": {
      "_model_module": "@jupyter-widgets/controls",
      "_model_module_version": "1.5.0",
      "_model_name": "DescriptionStyleModel",
      "_view_count": null,
      "_view_module": "@jupyter-widgets/base",
      "_view_module_version": "1.2.0",
      "_view_name": "StyleView",
      "description_width": ""
     }
    },
    "0680fe3809c24764b0a9703f51f3efd3": {
     "model_module": "@jupyter-widgets/base",
     "model_module_version": "1.2.0",
     "model_name": "LayoutModel",
     "state": {
      "_model_module": "@jupyter-widgets/base",
      "_model_module_version": "1.2.0",
      "_model_name": "LayoutModel",
      "_view_count": null,
      "_view_module": "@jupyter-widgets/base",
      "_view_module_version": "1.2.0",
      "_view_name": "LayoutView",
      "align_content": null,
      "align_items": null,
      "align_self": null,
      "border": null,
      "bottom": null,
      "display": null,
      "flex": null,
      "flex_flow": null,
      "grid_area": null,
      "grid_auto_columns": null,
      "grid_auto_flow": null,
      "grid_auto_rows": null,
      "grid_column": null,
      "grid_gap": null,
      "grid_row": null,
      "grid_template_areas": null,
      "grid_template_columns": null,
      "grid_template_rows": null,
      "height": null,
      "justify_content": null,
      "justify_items": null,
      "left": null,
      "margin": null,
      "max_height": null,
      "max_width": null,
      "min_height": null,
      "min_width": null,
      "object_fit": null,
      "object_position": null,
      "order": null,
      "overflow": null,
      "overflow_x": null,
      "overflow_y": null,
      "padding": null,
      "right": null,
      "top": null,
      "visibility": null,
      "width": null
     }
    },
    "073a2eb6c91b4cf39f9bbe90908d6f9b": {
     "model_module": "@jupyter-widgets/base",
     "model_module_version": "1.2.0",
     "model_name": "LayoutModel",
     "state": {
      "_model_module": "@jupyter-widgets/base",
      "_model_module_version": "1.2.0",
      "_model_name": "LayoutModel",
      "_view_count": null,
      "_view_module": "@jupyter-widgets/base",
      "_view_module_version": "1.2.0",
      "_view_name": "LayoutView",
      "align_content": null,
      "align_items": null,
      "align_self": null,
      "border": null,
      "bottom": null,
      "display": null,
      "flex": null,
      "flex_flow": null,
      "grid_area": null,
      "grid_auto_columns": null,
      "grid_auto_flow": null,
      "grid_auto_rows": null,
      "grid_column": null,
      "grid_gap": null,
      "grid_row": null,
      "grid_template_areas": null,
      "grid_template_columns": null,
      "grid_template_rows": null,
      "height": null,
      "justify_content": null,
      "justify_items": null,
      "left": null,
      "margin": null,
      "max_height": null,
      "max_width": null,
      "min_height": null,
      "min_width": null,
      "object_fit": null,
      "object_position": null,
      "order": null,
      "overflow": null,
      "overflow_x": null,
      "overflow_y": null,
      "padding": null,
      "right": null,
      "top": null,
      "visibility": null,
      "width": null
     }
    },
    "2ee792fdcb2748819e3d914fbfca7462": {
     "model_module": "@jupyter-widgets/controls",
     "model_module_version": "1.5.0",
     "model_name": "HTMLModel",
     "state": {
      "_dom_classes": [],
      "_model_module": "@jupyter-widgets/controls",
      "_model_module_version": "1.5.0",
      "_model_name": "HTMLModel",
      "_view_count": null,
      "_view_module": "@jupyter-widgets/controls",
      "_view_module_version": "1.5.0",
      "_view_name": "HTMLView",
      "description": "",
      "description_tooltip": null,
      "layout": "IPY_MODEL_85db2055d1b148c3b7415da1ce956020",
      "placeholder": "​",
      "style": "IPY_MODEL_39f2763abc36459b92f5a0884c3d84ac",
      "value": " 10/10 [00:11&lt;00:00,  1.00s/it]"
     }
    },
    "39f2763abc36459b92f5a0884c3d84ac": {
     "model_module": "@jupyter-widgets/controls",
     "model_module_version": "1.5.0",
     "model_name": "DescriptionStyleModel",
     "state": {
      "_model_module": "@jupyter-widgets/controls",
      "_model_module_version": "1.5.0",
      "_model_name": "DescriptionStyleModel",
      "_view_count": null,
      "_view_module": "@jupyter-widgets/base",
      "_view_module_version": "1.2.0",
      "_view_name": "StyleView",
      "description_width": ""
     }
    },
    "56997834017343e69fca9776c32b78d4": {
     "model_module": "@jupyter-widgets/controls",
     "model_module_version": "1.5.0",
     "model_name": "FloatProgressModel",
     "state": {
      "_dom_classes": [],
      "_model_module": "@jupyter-widgets/controls",
      "_model_module_version": "1.5.0",
      "_model_name": "FloatProgressModel",
      "_view_count": null,
      "_view_module": "@jupyter-widgets/controls",
      "_view_module_version": "1.5.0",
      "_view_name": "ProgressView",
      "bar_style": "success",
      "description": "",
      "description_tooltip": null,
      "layout": "IPY_MODEL_a9c22200ab18400d8e2f29e2d16226b3",
      "max": 10,
      "min": 0,
      "orientation": "horizontal",
      "style": "IPY_MODEL_a09d8ce79f234a02b0c8525055818951",
      "value": 10
     }
    },
    "670131b7daaa449b86e2396b64376383": {
     "model_module": "@jupyter-widgets/controls",
     "model_module_version": "1.5.0",
     "model_name": "HBoxModel",
     "state": {
      "_dom_classes": [],
      "_model_module": "@jupyter-widgets/controls",
      "_model_module_version": "1.5.0",
      "_model_name": "HBoxModel",
      "_view_count": null,
      "_view_module": "@jupyter-widgets/controls",
      "_view_module_version": "1.5.0",
      "_view_name": "HBoxView",
      "box_style": "",
      "children": [
       "IPY_MODEL_6db4bae0ab4f49aaa4e3e7aa22366dec",
       "IPY_MODEL_56997834017343e69fca9776c32b78d4",
       "IPY_MODEL_2ee792fdcb2748819e3d914fbfca7462"
      ],
      "layout": "IPY_MODEL_0680fe3809c24764b0a9703f51f3efd3"
     }
    },
    "6db4bae0ab4f49aaa4e3e7aa22366dec": {
     "model_module": "@jupyter-widgets/controls",
     "model_module_version": "1.5.0",
     "model_name": "HTMLModel",
     "state": {
      "_dom_classes": [],
      "_model_module": "@jupyter-widgets/controls",
      "_model_module_version": "1.5.0",
      "_model_name": "HTMLModel",
      "_view_count": null,
      "_view_module": "@jupyter-widgets/controls",
      "_view_module_version": "1.5.0",
      "_view_name": "HTMLView",
      "description": "",
      "description_tooltip": null,
      "layout": "IPY_MODEL_073a2eb6c91b4cf39f9bbe90908d6f9b",
      "placeholder": "​",
      "style": "IPY_MODEL_03cee89315b54d7eb04a5f7cecc39993",
      "value": "100%"
     }
    },
    "85db2055d1b148c3b7415da1ce956020": {
     "model_module": "@jupyter-widgets/base",
     "model_module_version": "1.2.0",
     "model_name": "LayoutModel",
     "state": {
      "_model_module": "@jupyter-widgets/base",
      "_model_module_version": "1.2.0",
      "_model_name": "LayoutModel",
      "_view_count": null,
      "_view_module": "@jupyter-widgets/base",
      "_view_module_version": "1.2.0",
      "_view_name": "LayoutView",
      "align_content": null,
      "align_items": null,
      "align_self": null,
      "border": null,
      "bottom": null,
      "display": null,
      "flex": null,
      "flex_flow": null,
      "grid_area": null,
      "grid_auto_columns": null,
      "grid_auto_flow": null,
      "grid_auto_rows": null,
      "grid_column": null,
      "grid_gap": null,
      "grid_row": null,
      "grid_template_areas": null,
      "grid_template_columns": null,
      "grid_template_rows": null,
      "height": null,
      "justify_content": null,
      "justify_items": null,
      "left": null,
      "margin": null,
      "max_height": null,
      "max_width": null,
      "min_height": null,
      "min_width": null,
      "object_fit": null,
      "object_position": null,
      "order": null,
      "overflow": null,
      "overflow_x": null,
      "overflow_y": null,
      "padding": null,
      "right": null,
      "top": null,
      "visibility": null,
      "width": null
     }
    },
    "a09d8ce79f234a02b0c8525055818951": {
     "model_module": "@jupyter-widgets/controls",
     "model_module_version": "1.5.0",
     "model_name": "ProgressStyleModel",
     "state": {
      "_model_module": "@jupyter-widgets/controls",
      "_model_module_version": "1.5.0",
      "_model_name": "ProgressStyleModel",
      "_view_count": null,
      "_view_module": "@jupyter-widgets/base",
      "_view_module_version": "1.2.0",
      "_view_name": "StyleView",
      "bar_color": null,
      "description_width": ""
     }
    },
    "a9c22200ab18400d8e2f29e2d16226b3": {
     "model_module": "@jupyter-widgets/base",
     "model_module_version": "1.2.0",
     "model_name": "LayoutModel",
     "state": {
      "_model_module": "@jupyter-widgets/base",
      "_model_module_version": "1.2.0",
      "_model_name": "LayoutModel",
      "_view_count": null,
      "_view_module": "@jupyter-widgets/base",
      "_view_module_version": "1.2.0",
      "_view_name": "LayoutView",
      "align_content": null,
      "align_items": null,
      "align_self": null,
      "border": null,
      "bottom": null,
      "display": null,
      "flex": null,
      "flex_flow": null,
      "grid_area": null,
      "grid_auto_columns": null,
      "grid_auto_flow": null,
      "grid_auto_rows": null,
      "grid_column": null,
      "grid_gap": null,
      "grid_row": null,
      "grid_template_areas": null,
      "grid_template_columns": null,
      "grid_template_rows": null,
      "height": null,
      "justify_content": null,
      "justify_items": null,
      "left": null,
      "margin": null,
      "max_height": null,
      "max_width": null,
      "min_height": null,
      "min_width": null,
      "object_fit": null,
      "object_position": null,
      "order": null,
      "overflow": null,
      "overflow_x": null,
      "overflow_y": null,
      "padding": null,
      "right": null,
      "top": null,
      "visibility": null,
      "width": null
     }
    }
   }
  }
 },
 "nbformat": 4,
 "nbformat_minor": 5
}
