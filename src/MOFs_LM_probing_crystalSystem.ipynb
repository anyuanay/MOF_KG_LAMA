{
 "cells": [
  {
   "cell_type": "markdown",
   "id": "55e44848-77fb-4130-b77d-abc302536a6e",
   "metadata": {
    "id": "55e44848-77fb-4130-b77d-abc302536a6e"
   },
   "source": [
    "# MOFs LM Probing for Crystal System"
   ]
  },
  {
   "cell_type": "code",
   "execution_count": null,
   "id": "e93a1557-c1ce-4aeb-b3c3-13a75b6cb8fa",
   "metadata": {
    "id": "e93a1557-c1ce-4aeb-b3c3-13a75b6cb8fa"
   },
   "outputs": [],
   "source": [
    "from baseline import PromptSet\n",
    "\n",
    "from tqdm.auto import tqdm\n",
    "from nltk.corpus import stopwords\n",
    "\n",
    "import pandas as pd\n",
    "\n",
    "from transformers import AutoTokenizer, AutoModelForMaskedLM, pipeline, logging\n",
    "\n",
    "logging.set_verbosity_error()  # avoid irritating transformers warnings"
   ]
  },
  {
   "cell_type": "markdown",
   "id": "5a4cbdfc-8b9d-42fa-aea5-8646ac19b6a3",
   "metadata": {
    "id": "5a4cbdfc-8b9d-42fa-aea5-8646ac19b6a3"
   },
   "source": [
    "## Read in the Triples"
   ]
  },
  {
   "cell_type": "code",
   "execution_count": null,
   "id": "MLkxHoS6eiLd",
   "metadata": {
    "id": "MLkxHoS6eiLd",
    "tags": []
   },
   "outputs": [],
   "source": [
    "file = \"../data/mof_crystalSystem.csv\""
   ]
  },
  {
   "cell_type": "code",
   "execution_count": null,
   "id": "ax2E8N1rgva0",
   "metadata": {
    "colab": {
     "base_uri": "https://localhost:8080/",
     "height": 206
    },
    "executionInfo": {
     "elapsed": 218,
     "status": "ok",
     "timestamp": 1666145237368,
     "user": {
      "displayName": "Yuan An",
      "userId": "12279868416530647161"
     },
     "user_tz": 240
    },
    "id": "ax2E8N1rgva0",
    "outputId": "fe0e0d7c-704f-4c14-a150-262142a81688"
   },
   "outputs": [],
   "source": [
    "df = pd.read_csv(file)\n",
    "df.head()"
   ]
  },
  {
   "cell_type": "code",
   "execution_count": null,
   "id": "0dlsYbQbJR_Y",
   "metadata": {
    "colab": {
     "base_uri": "https://localhost:8080/"
    },
    "executionInfo": {
     "elapsed": 268,
     "status": "ok",
     "timestamp": 1666143184741,
     "user": {
      "displayName": "Yuan An",
      "userId": "12279868416530647161"
     },
     "user_tz": 240
    },
    "id": "0dlsYbQbJR_Y",
    "outputId": "b4d98260-799e-4cad-c383-059c810c116b"
   },
   "outputs": [],
   "source": [
    "df.shape"
   ]
  },
  {
   "cell_type": "code",
   "execution_count": null,
   "id": "1df2d105-32a1-4d4a-9d3c-632c3493b7df",
   "metadata": {
    "id": "1df2d105-32a1-4d4a-9d3c-632c3493b7df",
    "outputId": "350bcb84-f71b-4711-c20e-a11a8e2dbdd7"
   },
   "outputs": [],
   "source": [
    "df.ObjectEntity.nunique()"
   ]
  },
  {
   "cell_type": "markdown",
   "id": "DAhYPWvq1zc-",
   "metadata": {
    "id": "DAhYPWvq1zc-"
   },
   "source": [
    "## Probing BERT"
   ]
  },
  {
   "cell_type": "code",
   "execution_count": null,
   "id": "f12c0fd2-6951-4098-9769-48ab3c98e90b",
   "metadata": {
    "id": "f12c0fd2-6951-4098-9769-48ab3c98e90b"
   },
   "outputs": [],
   "source": [
    "tokenizer = AutoTokenizer.from_pretrained(\"bert-large-cased\")\n",
    "model = AutoModelForMaskedLM.from_pretrained(\"bert-large-cased\")"
   ]
  },
  {
   "cell_type": "code",
   "execution_count": null,
   "id": "e46f8370-80b4-4f4d-88e0-94b3020a88ab",
   "metadata": {
    "colab": {
     "base_uri": "https://localhost:8080/",
     "height": 35
    },
    "executionInfo": {
     "elapsed": 519,
     "status": "ok",
     "timestamp": 1666143162640,
     "user": {
      "displayName": "Yuan An",
      "userId": "12279868416530647161"
     },
     "user_tz": 240
    },
    "id": "e46f8370-80b4-4f4d-88e0-94b3020a88ab",
    "outputId": "72cea969-0fc5-44ac-c92b-d5e8da4c6e40"
   },
   "outputs": [],
   "source": [
    "mask_token = tokenizer.mask_token\n",
    "mask_token"
   ]
  },
  {
   "cell_type": "markdown",
   "id": "yccd3rTy16Yr",
   "metadata": {
    "id": "yccd3rTy16Yr"
   },
   "source": [
    "## Creat the Prompt Pipeline"
   ]
  },
  {
   "cell_type": "code",
   "execution_count": null,
   "id": "OoWE2iMqoXHJ",
   "metadata": {
    "id": "OoWE2iMqoXHJ"
   },
   "outputs": [],
   "source": [
    "pipe = pipeline(\n",
    "    task=\"fill-mask\",\n",
    "    model=model,\n",
    "    tokenizer=tokenizer,\n",
    "    top_k=100,\n",
    ")"
   ]
  },
  {
   "cell_type": "markdown",
   "id": "aWXu0sgCf4jA",
   "metadata": {
    "id": "aWXu0sgCf4jA"
   },
   "source": [
    "## Create Prompts"
   ]
  },
  {
   "cell_type": "code",
   "execution_count": null,
   "id": "1c46280a-0047-4e01-888d-648756f573b1",
   "metadata": {
    "id": "1c46280a-0047-4e01-888d-648756f573b1"
   },
   "outputs": [],
   "source": [
    "def create_crystalSystem_prompt1(sub, mask):\n",
    "    return f\"{sub} is an MOF. {sub} has the crystal system {mask}.\"\n",
    "    \n",
    "def create_crystalSystem_prompt2(sub, mask):\n",
    "    return f\"{sub} is an MOF. {sub} has an crystal family {mask}.\"\n",
    "\n",
    "def create_crystalSystem_prompt3(sub, mask):\n",
    "    return f\"{sub} is an MOF. {sub} has an crystal system code {mask}.\"\n",
    "\n",
    "def create_crystalSystem_prompt4(sub, mask):\n",
    "    return f\"{sub} is an MOF. The crystal system of {sub} is {mask}.\"\n",
    "    \n",
    "def create_crystalSystem_prompt5(sub, mask):\n",
    "    return f\"{sub} is an crystal. {sub} is in the family {mask}.\"\n",
    "    \n",
    "def create_crystalSystem_prompt6(sub, mask):\n",
    "    return f\"{sub} is an metal organic framework. {sub}'s crystal system is {mask}.\" \n",
    "    \n",
    "def create_crystalSystem_prompt7(sub, mask):\n",
    "    return f\"{sub} is an MOF. {sub} is an type of {mask} crystal system.\"\n",
    "    \n",
    "def create_crystalSystem_prompt8(sub, mask):\n",
    "    return f\"{sub} is an MOF. {sub} is in the class of {mask} crystal family.\"\n",
    "    \n",
    "def create_crystalSystem_prompt9(sub, mask):\n",
    "    return f\"{sub} has SBUs and organic linkers. The crystal system of {sub} is {mask}.\"\n",
    "    \n",
    "def create_crystalSystem_prompt10(sub, mask):\n",
    "    return f\"{sub} is an MOF. The {mask} describes {sub}'s crystal structure.\"\n",
    "    \n",
    "def create_crystalSystem_prompt11(sub, mask):\n",
    "    return f\"{sub} is a MOF. The crystal family  of {sub} is {mask}.\"\n",
    "    \n",
    "def create_crystalSystem_prompt12(sub, mask):\n",
    "    return f\"As a MOF, {sub} has a crystal system {mask}.\""
   ]
  },
  {
   "cell_type": "code",
   "execution_count": null,
   "id": "oQEIANBrgl4c",
   "metadata": {
    "id": "oQEIANBrgl4c"
   },
   "outputs": [],
   "source": [
    "processors = [create_crystalSystem_prompt1, create_crystalSystem_prompt2,\n",
    "              create_crystalSystem_prompt3, create_crystalSystem_prompt4,\n",
    "              create_crystalSystem_prompt5, create_crystalSystem_prompt6,\n",
    "              create_crystalSystem_prompt7, create_crystalSystem_prompt8,\n",
    "              create_crystalSystem_prompt9, create_crystalSystem_prompt10,\n",
    "              create_crystalSystem_prompt11, create_crystalSystem_prompt12\n",
    "             ]"
   ]
  },
  {
   "cell_type": "markdown",
   "id": "8a31d992-acae-4811-94cc-3102ce3e0cbf",
   "metadata": {
    "id": "8a31d992-acae-4811-94cc-3102ce3e0cbf"
   },
   "source": [
    "## Check Whether the Predicted Tokens Match"
   ]
  },
  {
   "cell_type": "code",
   "execution_count": null,
   "id": "ddee966e-64b1-487f-8aec-0f6f5debbf1e",
   "metadata": {
    "id": "ddee966e-64b1-487f-8aec-0f6f5debbf1e"
   },
   "outputs": [],
   "source": [
    "# Compute a column indicating whether the predictedToken in the ObjectEntity list\n",
    "def hasPredicted(row):\n",
    "    token = row['predictedToken']\n",
    "    objectEntities = row['ObjectEntity']\n",
    "    #print(objectEntities)\n",
    "    if pd.notna(objectEntities):\n",
    "        types = objectEntities.split(\",\") # get individual types\n",
    "        for tp in types: # for each type\n",
    "            type_words = tp.lower().split() # get the individual words in the type\n",
    "            if token.lower() in type_words: # check if a type word was predicted\n",
    "                return 1\n",
    "       \n",
    "    return 0"
   ]
  },
  {
   "cell_type": "code",
   "execution_count": null,
   "id": "6e1e077b-a689-4e24-9e77-9e83110f2eec",
   "metadata": {
    "id": "6e1e077b-a689-4e24-9e77-9e83110f2eec"
   },
   "outputs": [],
   "source": [
    "# test what the function does\n",
    "def hasPredicted_demo(objectEntities, token):\n",
    "    #print(objectEntities)\n",
    "    if pd.notna(objectEntities):\n",
    "        types = objectEntities.split(\",\") # get individual types\n",
    "        for tp in types: # for each type\n",
    "            type_words = tp.lower().split() # get the individual words in the type\n",
    "            print(type_words)\n",
    "            if token.lower() in type_words: # check if a type word was predicted\n",
    "                return 1\n",
    "       \n",
    "    return 0"
   ]
  },
  {
   "cell_type": "code",
   "execution_count": null,
   "id": "28ff5c38-000c-4a90-afef-383818451ca6",
   "metadata": {
    "id": "28ff5c38-000c-4a90-afef-383818451ca6",
    "outputId": "8ff84fda-10a4-401c-d7c9-0b2ab29a6460"
   },
   "outputs": [],
   "source": [
    "hasPredicted_demo('rhombohedral', 'Framework')"
   ]
  },
  {
   "cell_type": "markdown",
   "id": "6b698810-7052-49cd-869f-238233a46765",
   "metadata": {
    "id": "6b698810-7052-49cd-869f-238233a46765"
   },
   "source": [
    "## Test Small"
   ]
  },
  {
   "cell_type": "code",
   "execution_count": null,
   "id": "8f29460a-787b-414a-8040-efa1b3da0535",
   "metadata": {
    "id": "8f29460a-787b-414a-8040-efa1b3da0535"
   },
   "outputs": [],
   "source": [
    "processors = [create_crystalSystem_prompt1, create_crystalSystem_prompt2, create_crystalSystem_prompt3]"
   ]
  },
  {
   "cell_type": "code",
   "execution_count": null,
   "id": "35862fcb-48f1-4af8-8636-40d8c32af22f",
   "metadata": {
    "colab": {
     "base_uri": "https://localhost:8080/"
    },
    "executionInfo": {
     "elapsed": 97,
     "status": "ok",
     "timestamp": 1666185620809,
     "user": {
      "displayName": "Yuan An",
      "userId": "12279868416530647161"
     },
     "user_tz": 240
    },
    "id": "35862fcb-48f1-4af8-8636-40d8c32af22f",
    "outputId": "b995a869-0778-433e-87c0-c54be25b8a50"
   },
   "outputs": [],
   "source": [
    "processors[0]('MOF-1', '[MASK]')"
   ]
  },
  {
   "cell_type": "code",
   "execution_count": null,
   "id": "500aeaf5-6b7d-4d45-bc19-1cf316dca84c",
   "metadata": {
    "id": "500aeaf5-6b7d-4d45-bc19-1cf316dca84c"
   },
   "outputs": [],
   "source": [
    "mofs_sub =df[:10]"
   ]
  },
  {
   "cell_type": "code",
   "execution_count": null,
   "id": "da51b3d6-2cde-4664-a076-4ac1938a79c4",
   "metadata": {
    "id": "da51b3d6-2cde-4664-a076-4ac1938a79c4"
   },
   "outputs": [],
   "source": [
    "prompts = PromptSet([processors[0](row.SubjectEntity, mask_token) for _, row in mofs_sub.iterrows()])"
   ]
  },
  {
   "cell_type": "code",
   "execution_count": null,
   "id": "14409dd3-80a0-4cc6-83dd-69b27a14a219",
   "metadata": {
    "colab": {
     "base_uri": "https://localhost:8080/",
     "height": 35
    },
    "executionInfo": {
     "elapsed": 130,
     "status": "ok",
     "timestamp": 1666116418914,
     "user": {
      "displayName": "Yuan An",
      "userId": "12279868416530647161"
     },
     "user_tz": 240
    },
    "id": "14409dd3-80a0-4cc6-83dd-69b27a14a219",
    "outputId": "926ec224-203c-496e-8016-fee5c2f4bd31"
   },
   "outputs": [],
   "source": [
    "prompts.__getitem__(9)"
   ]
  },
  {
   "cell_type": "code",
   "execution_count": null,
   "id": "d48af1b5-7433-4264-8110-c0305d02bd5e",
   "metadata": {
    "colab": {
     "base_uri": "https://localhost:8080/"
    },
    "executionInfo": {
     "elapsed": 310,
     "status": "ok",
     "timestamp": 1666143263808,
     "user": {
      "displayName": "Yuan An",
      "userId": "12279868416530647161"
     },
     "user_tz": 240
    },
    "id": "d48af1b5-7433-4264-8110-c0305d02bd5e",
    "outputId": "6d32b251-9b84-4761-ccbd-3199decb024d"
   },
   "outputs": [],
   "source": [
    "for i in prompts:\n",
    "    print(i)"
   ]
  },
  {
   "cell_type": "code",
   "execution_count": null,
   "id": "558e132d-2af5-4990-af51-9742008f62c9",
   "metadata": {
    "colab": {
     "base_uri": "https://localhost:8080/",
     "height": 49,
     "referenced_widgets": [
      "670131b7daaa449b86e2396b64376383",
      "6db4bae0ab4f49aaa4e3e7aa22366dec",
      "56997834017343e69fca9776c32b78d4",
      "2ee792fdcb2748819e3d914fbfca7462",
      "0680fe3809c24764b0a9703f51f3efd3",
      "073a2eb6c91b4cf39f9bbe90908d6f9b",
      "03cee89315b54d7eb04a5f7cecc39993",
      "a9c22200ab18400d8e2f29e2d16226b3",
      "a09d8ce79f234a02b0c8525055818951",
      "85db2055d1b148c3b7415da1ce956020",
      "39f2763abc36459b92f5a0884c3d84ac",
      "4deb17a7e9314dc6a4843fd104b60446"
     ]
    },
    "executionInfo": {
     "elapsed": 11749,
     "status": "ok",
     "timestamp": 1666143281768,
     "user": {
      "displayName": "Yuan An",
      "userId": "12279868416530647161"
     },
     "user_tz": 240
    },
    "id": "558e132d-2af5-4990-af51-9742008f62c9",
    "outputId": "14126800-ada8-420e-9aa3-eea5037f7bde"
   },
   "outputs": [],
   "source": [
    "# Run the model\n",
    "outputs = []\n",
    "for out in tqdm(pipe(prompts, batch_size=8), total=len(prompts)):\n",
    "    outputs.append(out)"
   ]
  },
  {
   "cell_type": "code",
   "execution_count": null,
   "id": "ba98ad39-a884-40cf-8f9c-d8c1884cb16e",
   "metadata": {
    "colab": {
     "base_uri": "https://localhost:8080/"
    },
    "executionInfo": {
     "elapsed": 274,
     "status": "ok",
     "timestamp": 1666143285701,
     "user": {
      "displayName": "Yuan An",
      "userId": "12279868416530647161"
     },
     "user_tz": 240
    },
    "id": "ba98ad39-a884-40cf-8f9c-d8c1884cb16e",
    "outputId": "5add5038-5809-48a4-ef33-a9f98943655c",
    "tags": []
   },
   "outputs": [],
   "source": [
    "outputs"
   ]
  },
  {
   "cell_type": "code",
   "execution_count": null,
   "id": "c21cd742-6a7d-4ad6-8d18-b16d93e90e25",
   "metadata": {
    "id": "c21cd742-6a7d-4ad6-8d18-b16d93e90e25"
   },
   "outputs": [],
   "source": [
    "results = []\n",
    "for idx, row in mofs_sub.iterrows():\n",
    "    for output in outputs[idx]:\n",
    "        record = {}\n",
    "        record['SubjectEntity'] = row['SubjectEntity']\n",
    "        record['Relation'] = row['Relation']\n",
    "        record['ObjectEntity'] = row['ObjectEntity']\n",
    "        record['prompt']= prompts[idx]\n",
    "        record['predictedScore'] = output['score']\n",
    "        record['predictedToken'] = output['token_str']\n",
    "        results.append(record)"
   ]
  },
  {
   "cell_type": "code",
   "execution_count": null,
   "id": "4a400588-54b8-469a-8e42-995ba35bea71",
   "metadata": {
    "colab": {
     "base_uri": "https://localhost:8080/",
     "height": 424
    },
    "executionInfo": {
     "elapsed": 623,
     "status": "ok",
     "timestamp": 1666145541092,
     "user": {
      "displayName": "Yuan An",
      "userId": "12279868416530647161"
     },
     "user_tz": 240
    },
    "id": "4a400588-54b8-469a-8e42-995ba35bea71",
    "outputId": "94b590e3-1e7f-4970-e2fa-e3f896b8dbfa"
   },
   "outputs": [],
   "source": [
    "predicted_df = pd.DataFrame(results)\n",
    "predicted_df"
   ]
  },
  {
   "cell_type": "markdown",
   "id": "df0f92be-b0ce-4642-9c21-db62b74d40e0",
   "metadata": {
    "id": "df0f92be-b0ce-4642-9c21-db62b74d40e0"
   },
   "source": [
    "### Evaluate on Small"
   ]
  },
  {
   "cell_type": "code",
   "execution_count": null,
   "id": "1794a3db-5405-4bfe-a2c6-149b8c1332ae",
   "metadata": {
    "colab": {
     "base_uri": "https://localhost:8080/"
    },
    "executionInfo": {
     "elapsed": 675,
     "status": "ok",
     "timestamp": 1666146197793,
     "user": {
      "displayName": "Yuan An",
      "userId": "12279868416530647161"
     },
     "user_tz": 240
    },
    "id": "1794a3db-5405-4bfe-a2c6-149b8c1332ae",
    "outputId": "15f181ba-f31e-403a-9fe2-21420e402e4f"
   },
   "outputs": [],
   "source": [
    "predicted_df.loc[10]['ObjectEntity'].split(\",\")"
   ]
  },
  {
   "cell_type": "code",
   "execution_count": null,
   "id": "d14d13f4-f6fe-495f-bc26-f3d1140714ed",
   "metadata": {
    "id": "d14d13f4-f6fe-495f-bc26-f3d1140714ed"
   },
   "outputs": [],
   "source": [
    "predicted_df['predicted'] = predicted_df.apply(hasPredicted, axis=1)"
   ]
  },
  {
   "cell_type": "code",
   "execution_count": null,
   "id": "56ded4ac-f8e2-44fc-99ac-3010565f2d7b",
   "metadata": {
    "colab": {
     "base_uri": "https://localhost:8080/",
     "height": 206
    },
    "executionInfo": {
     "elapsed": 623,
     "status": "ok",
     "timestamp": 1666146815317,
     "user": {
      "displayName": "Yuan An",
      "userId": "12279868416530647161"
     },
     "user_tz": 240
    },
    "id": "56ded4ac-f8e2-44fc-99ac-3010565f2d7b",
    "outputId": "ad4fd821-4611-4796-cee5-d252e65e5487"
   },
   "outputs": [],
   "source": [
    "predicted_df.head()"
   ]
  },
  {
   "cell_type": "code",
   "execution_count": null,
   "id": "1f52eb45-faad-404a-b1fb-85d4377a3987",
   "metadata": {
    "colab": {
     "base_uri": "https://localhost:8080/"
    },
    "executionInfo": {
     "elapsed": 146,
     "status": "ok",
     "timestamp": 1666147592895,
     "user": {
      "displayName": "Yuan An",
      "userId": "12279868416530647161"
     },
     "user_tz": 240
    },
    "id": "1f52eb45-faad-404a-b1fb-85d4377a3987",
    "outputId": "3cded771-070f-4a21-b1f4-0cd7a2df4b17"
   },
   "outputs": [],
   "source": [
    "predicted_df['predicted'].sum()"
   ]
  },
  {
   "cell_type": "code",
   "execution_count": null,
   "id": "8b2dc03e-1a7f-43a6-9db4-1e104818fd4c",
   "metadata": {
    "id": "8b2dc03e-1a7f-43a6-9db4-1e104818fd4c",
    "outputId": "4b5200d6-2bcd-452b-9415-b46c80809171"
   },
   "outputs": [],
   "source": [
    "predicted_df[predicted_df.predicted == 1]"
   ]
  },
  {
   "cell_type": "code",
   "execution_count": null,
   "id": "c0e9f98c-22b7-42ff-a171-2e88edfa3b7a",
   "metadata": {
    "id": "c0e9f98c-22b7-42ff-a171-2e88edfa3b7a"
   },
   "outputs": [],
   "source": [
    "# return the top-k rows based on predictedScore\n",
    "def top(df, col, n=10):\n",
    "    return df.sort_values(by=col, ascending=False)[:n]"
   ]
  },
  {
   "cell_type": "code",
   "execution_count": null,
   "id": "e1f2c6d8-f0ca-45ea-97d3-235dd3313c19",
   "metadata": {
    "id": "e1f2c6d8-f0ca-45ea-97d3-235dd3313c19",
    "tags": []
   },
   "outputs": [],
   "source": [
    "topk_df = predicted_df.groupby('SubjectEntity', as_index=False).apply(top, col='predictedScore', n=100)"
   ]
  },
  {
   "cell_type": "code",
   "execution_count": null,
   "id": "31901ab8-55b7-4c8f-9462-e9dc45f89269",
   "metadata": {
    "id": "31901ab8-55b7-4c8f-9462-e9dc45f89269"
   },
   "outputs": [],
   "source": [
    "# check whether the predicted is 1 for each group\n",
    "def predictedOne(df, col):\n",
    "    total = df[col].sum()\n",
    "    if total > 0:\n",
    "        return 1\n",
    "    else:\n",
    "        return 0"
   ]
  },
  {
   "cell_type": "code",
   "execution_count": null,
   "id": "d222e14e-08c7-45a8-93bc-7180352d2ccb",
   "metadata": {
    "id": "d222e14e-08c7-45a8-93bc-7180352d2ccb"
   },
   "outputs": [],
   "source": [
    "topk_agg_df = topk_df.groupby('SubjectEntity', as_index=False).apply(predictedOne, col='predicted')"
   ]
  },
  {
   "cell_type": "code",
   "execution_count": null,
   "id": "4909570f-f9b5-4682-a6e9-6fd55c3afd92",
   "metadata": {
    "colab": {
     "base_uri": "https://localhost:8080/",
     "height": 363
    },
    "executionInfo": {
     "elapsed": 188,
     "status": "ok",
     "timestamp": 1666148307955,
     "user": {
      "displayName": "Yuan An",
      "userId": "12279868416530647161"
     },
     "user_tz": 240
    },
    "id": "4909570f-f9b5-4682-a6e9-6fd55c3afd92",
    "outputId": "20632f01-5ad5-4439-c4e2-ad32efae0fbc"
   },
   "outputs": [],
   "source": [
    "topk_agg_df.columns = ['SubjectEntity', 'predicted']\n",
    "topk_agg_df"
   ]
  },
  {
   "cell_type": "code",
   "execution_count": null,
   "id": "e6283511-3803-47dc-8d15-9b095dcc0188",
   "metadata": {
    "colab": {
     "base_uri": "https://localhost:8080/"
    },
    "executionInfo": {
     "elapsed": 171,
     "status": "ok",
     "timestamp": 1666148310059,
     "user": {
      "displayName": "Yuan An",
      "userId": "12279868416530647161"
     },
     "user_tz": 240
    },
    "id": "e6283511-3803-47dc-8d15-9b095dcc0188",
    "outputId": "a827a8c2-f15b-48d8-e9b6-981f43cdd5fc"
   },
   "outputs": [],
   "source": [
    "topk_agg_df.predicted.mean()"
   ]
  },
  {
   "cell_type": "markdown",
   "id": "869312a9-6133-40b7-9acb-ca499874b814",
   "metadata": {
    "id": "869312a9-6133-40b7-9acb-ca499874b814"
   },
   "source": [
    "## Test BERT"
   ]
  },
  {
   "cell_type": "code",
   "execution_count": null,
   "id": "MVAuqvu8f8fl",
   "metadata": {
    "id": "MVAuqvu8f8fl"
   },
   "outputs": [],
   "source": [
    "def prompt_probe(model, tokenizer, prompt_processor, df_sub, mask_token, \\\n",
    "                 subjectCol, relationCol, objectCol, top_k=100):\n",
    "\n",
    "    pipe = pipeline(\n",
    "        task=\"fill-mask\",\n",
    "        model=model,\n",
    "        tokenizer=tokenizer,\n",
    "        top_k=top_k,\n",
    "    )\n",
    "\n",
    "    prompts = PromptSet([prompt_processor(row.SubjectEntity, mask_token) for _, row in df_sub.iterrows()])\n",
    "\n",
    "    outputs = []\n",
    "    for out in tqdm(pipe(prompts, batch_size=8), total=len(prompts)):\n",
    "        outputs.append(out)\n",
    "\n",
    "    results = []\n",
    "    for idx, row in df_sub.iterrows():\n",
    "        for output in outputs[idx]:\n",
    "            record = {}\n",
    "            record['SubjectEntity'] = row[subjectCol]\n",
    "            record['Relation'] = row[relationCol]\n",
    "            record['ObjectEntity'] = row[objectCol]\n",
    "            record['prompt']= prompts[idx]\n",
    "            record['predictedScore'] = output['score']\n",
    "            record['predictedToken'] = output['token_str']\n",
    "            results.append(record)\n",
    "\n",
    "    return pd.DataFrame(results)"
   ]
  },
  {
   "cell_type": "code",
   "execution_count": null,
   "id": "KsUSnkZ7l-5U",
   "metadata": {
    "id": "KsUSnkZ7l-5U"
   },
   "outputs": [],
   "source": [
    "# return the top-k rows based on predictedScore\n",
    "def top(df, col, n=10):\n",
    "    return df.sort_values(by=col, ascending=False)[:n]"
   ]
  },
  {
   "cell_type": "code",
   "execution_count": null,
   "id": "FsnJPxPBl-5V",
   "metadata": {
    "id": "FsnJPxPBl-5V"
   },
   "outputs": [],
   "source": [
    "# check whether the predicted is 1 for each group\n",
    "def predictedOne(df, col):\n",
    "    total = df[col].sum()\n",
    "    if total > 0:\n",
    "        return 1\n",
    "    else:\n",
    "        return 0"
   ]
  },
  {
   "cell_type": "code",
   "execution_count": null,
   "id": "YTMrQugZl-5V",
   "metadata": {
    "id": "YTMrQugZl-5V"
   },
   "outputs": [],
   "source": [
    "# Assume the predicted_df has a binary column 'predicted' indicating whether ObjectEntity has been predicted\n",
    "# 1 for yes, 0 for no\n",
    "def evaluate_acc_n(predicted_df, relation, prompt_template, at_k=5):\n",
    "    topk_df = predicted_df.groupby('SubjectEntity', as_index=False).apply(top, col='predictedScore', n=at_k)\n",
    "    topk_agg_df = topk_df.groupby('SubjectEntity', as_index=False).apply(predictedOne, col='predicted')\n",
    "    topk_agg_df.columns = ['SubjectEntity', 'predicted']\n",
    "    result = {}\n",
    "    result['Relation'] = relation\n",
    "    result['prompt_template'] = prompt_template\n",
    "    result['acc'] = topk_agg_df.predicted.mean()\n",
    "    result['at_k'] = at_k\n",
    "\n",
    "    return result"
   ]
  },
  {
   "cell_type": "code",
   "execution_count": null,
   "id": "55688b85-e2dd-4172-b199-cd3ca4cd3353",
   "metadata": {
    "id": "55688b85-e2dd-4172-b199-cd3ca4cd3353"
   },
   "outputs": [],
   "source": [
    "pd.set_option('display.max_colwidth', None)"
   ]
  },
  {
   "cell_type": "code",
   "execution_count": null,
   "id": "b0190f3f-b9a6-4d57-83fa-e3bb3acf828a",
   "metadata": {
    "colab": {
     "referenced_widgets": [
      "2584a9bd73b24c94898a70932108d6ad",
      "8a3323f8503b492ab2f76b053d4aaf98",
      "6d844c6519164b789816174ca02ac41f",
      "962abcb4687548ffb96d8bb34eea30e3",
      "28f8d12debe1469aa59dc4d8183e5d17",
      "488e5c3f0c50499bbbc0199e59e21648",
      "46dc5b5b7d914499bb6f46d4ba88fbd2",
      "4102b3951335408cb6ae841596cdfcc2",
      "1eabe96b90c846558abf230c57a2551d",
      "a30dc3683e3b449383e7b30bc8efacf1",
      "0bf998ac9bd24fcda1e369924a9da910",
      "68194307c66f487c8290a7e70ad7e8fa"
     ]
    },
    "id": "b0190f3f-b9a6-4d57-83fa-e3bb3acf828a",
    "outputId": "b85b1be0-348a-43d3-f50d-a04f8d7a14c5"
   },
   "outputs": [],
   "source": [
    "%%time\n",
    "acc_list = []\n",
    "atks = [1, 5, 10, 20, 50, 100]\n",
    "for processor in processors:\n",
    "    result_df = prompt_probe(model, tokenizer, processor, df, mask_token, \\\n",
    "                     'SubjectEntity', 'Relation', 'ObjectEntity', top_k=100)\n",
    "    result_df['predicted'] = result_df.apply(hasPredicted, axis=1)\n",
    "\n",
    "    prompt_template = processor('{SubjectEntity}', '[MASK]')\n",
    "    for at_k in atks:\n",
    "        acc_df = evaluate_acc_n(result_df, 'hasCrystalSystem', prompt_template, at_k=at_k)\n",
    "        acc_list.append(acc_df)"
   ]
  },
  {
   "cell_type": "code",
   "execution_count": null,
   "id": "f822f7ba-11eb-476a-aa60-074b00894d9f",
   "metadata": {
    "id": "f822f7ba-11eb-476a-aa60-074b00894d9f"
   },
   "outputs": [],
   "source": [
    "hasType_df = pd.DataFrame(acc_list)"
   ]
  },
  {
   "cell_type": "code",
   "execution_count": null,
   "id": "EtAuhaBohBxO",
   "metadata": {
    "id": "EtAuhaBohBxO",
    "outputId": "ff7b9f49-5c89-4cc5-c53a-6808bab8a562"
   },
   "outputs": [],
   "source": [
    "hasType_df.sample(10)"
   ]
  },
  {
   "cell_type": "code",
   "execution_count": null,
   "id": "c880c81b-929e-4eef-a98c-defcfd0369d7",
   "metadata": {
    "id": "c880c81b-929e-4eef-a98c-defcfd0369d7"
   },
   "outputs": [],
   "source": [
    "result_df.to_csv(\"../data/predicted_hasCrystalSystem_BERT.csv\", index=None)"
   ]
  },
  {
   "cell_type": "code",
   "execution_count": null,
   "id": "7fe702fb-17f6-4cc3-9149-14bc7ca14a03",
   "metadata": {
    "id": "7fe702fb-17f6-4cc3-9149-14bc7ca14a03"
   },
   "outputs": [],
   "source": [
    "hasType_df.to_csv(\"../data/predicted_hasCrystalSystem_BERT_eval.csv\", index=None)"
   ]
  },
  {
   "cell_type": "code",
   "execution_count": null,
   "id": "d3299e52-ecf9-4ef6-b4e4-b8f6e21f6d6f",
   "metadata": {
    "id": "d3299e52-ecf9-4ef6-b4e4-b8f6e21f6d6f",
    "outputId": "0a55f99f-e5f4-471a-ce3b-8a4381d2f46f"
   },
   "outputs": [],
   "source": [
    "hasType_df[hasType_df['at_k'] == 1].sort_values('acc', ascending=False)"
   ]
  },
  {
   "cell_type": "code",
   "execution_count": null,
   "id": "987f0e87-b729-4352-8135-41e69df5631d",
   "metadata": {
    "id": "987f0e87-b729-4352-8135-41e69df5631d",
    "outputId": "20ab2473-923d-4ece-eaa6-577d1bea6f26"
   },
   "outputs": [],
   "source": [
    "hasType_df.sort_values('acc', ascending=False)"
   ]
  },
  {
   "cell_type": "markdown",
   "id": "c07c6a8e-6cc6-49c8-9097-c9a0060e45f2",
   "metadata": {
    "id": "c07c6a8e-6cc6-49c8-9097-c9a0060e45f2"
   },
   "source": [
    "## Probing MatBERT"
   ]
  },
  {
   "cell_type": "code",
   "execution_count": null,
   "id": "46c36d72-a33c-4bff-9ab9-7006d9c1279e",
   "metadata": {
    "id": "46c36d72-a33c-4bff-9ab9-7006d9c1279e"
   },
   "outputs": [],
   "source": [
    "# MatBERT\n",
    "tokenizer = AutoTokenizer.from_pretrained(\"../model/model/matbert-base-cased\")\n",
    "model = AutoModelForMaskedLM.from_pretrained(\"../model/model/matbert-base-cased\")"
   ]
  },
  {
   "cell_type": "code",
   "execution_count": null,
   "id": "2f8ecf23-8eb8-4a87-8e1d-641177a59ca4",
   "metadata": {
    "colab": {
     "base_uri": "https://localhost:8080/",
     "height": 35
    },
    "executionInfo": {
     "elapsed": 519,
     "status": "ok",
     "timestamp": 1666143162640,
     "user": {
      "displayName": "Yuan An",
      "userId": "12279868416530647161"
     },
     "user_tz": 240
    },
    "id": "2f8ecf23-8eb8-4a87-8e1d-641177a59ca4",
    "outputId": "72cea969-0fc5-44ac-c92b-d5e8da4c6e40"
   },
   "outputs": [],
   "source": [
    "mask_token = tokenizer.mask_token\n",
    "mask_token"
   ]
  },
  {
   "cell_type": "markdown",
   "id": "28bb7577-a57c-432c-8f21-2ce188aab3f4",
   "metadata": {
    "id": "28bb7577-a57c-432c-8f21-2ce188aab3f4"
   },
   "source": [
    "## Creat the Prompt Pipeline"
   ]
  },
  {
   "cell_type": "code",
   "execution_count": null,
   "id": "63037587-acd8-4edb-8ccd-d9b4a4bc14a6",
   "metadata": {
    "id": "63037587-acd8-4edb-8ccd-d9b4a4bc14a6"
   },
   "outputs": [],
   "source": [
    "pipe = pipeline(\n",
    "    task=\"fill-mask\",\n",
    "    model=model,\n",
    "    tokenizer=tokenizer,\n",
    "    top_k=100,\n",
    ")"
   ]
  },
  {
   "cell_type": "markdown",
   "id": "3a2cd5b0-ceb3-492a-9e3c-b2ef98e0f75e",
   "metadata": {
    "id": "3a2cd5b0-ceb3-492a-9e3c-b2ef98e0f75e"
   },
   "source": [
    "## Run"
   ]
  },
  {
   "cell_type": "code",
   "execution_count": null,
   "id": "40c25cc9-4e71-480d-83df-fbc299ccd454",
   "metadata": {
    "colab": {
     "referenced_widgets": [
      "087606b2988248bcba3f34d28069f09d",
      "ad405e0f1d054ad0b06ffdf3b6139302",
      "b2f4c4fb3eea4ec0add34e860dbb16a7",
      "ea64137ff68244c9b28304e0750934ed",
      "74cd0bc5f0194824b3ce038bff368116",
      "89c2ccc387274c07baf819c91d735e3e",
      "84975340a0634d11b321bbdbd5690dd1",
      "07330218fea74bb699745d0db104cfde",
      "5b76a2d2dd9645368f07ddd8b92b79e6",
      "bc9404c9e04440d6a33f83028f742c23",
      "d77df02f94d144cfaaead570464573aa",
      "75e1501901bb4ed38bebee1f4082aae0"
     ]
    },
    "id": "40c25cc9-4e71-480d-83df-fbc299ccd454",
    "outputId": "c70ea6cd-9aff-4676-d7ea-6d94f2c93b53"
   },
   "outputs": [],
   "source": [
    "%%time\n",
    "acc_list = []\n",
    "atks = [1, 5, 10, 20, 50, 100]\n",
    "for processor in processors:\n",
    "    result_df = prompt_probe(model, tokenizer, processor, df, mask_token, \\\n",
    "                     'SubjectEntity', 'Relation', 'ObjectEntity', top_k=100)\n",
    "    result_df['predicted'] = result_df.apply(hasPredicted, axis=1)\n",
    "\n",
    "    prompt_template = processor('{SubjectEntity}', '[MASK]')\n",
    "    for at_k in atks:\n",
    "        acc_df = evaluate_acc_n(result_df, 'hasCrystalSystem', prompt_template, at_k=at_k)\n",
    "        acc_list.append(acc_df)"
   ]
  },
  {
   "cell_type": "code",
   "execution_count": null,
   "id": "02a8ec37-fdeb-4c5b-bb1b-f02ab220cc52",
   "metadata": {
    "id": "02a8ec37-fdeb-4c5b-bb1b-f02ab220cc52"
   },
   "outputs": [],
   "source": [
    "hasType_df = pd.DataFrame(acc_list)"
   ]
  },
  {
   "cell_type": "code",
   "execution_count": null,
   "id": "ec452969-ff1f-4c4e-8835-357d94046631",
   "metadata": {
    "id": "ec452969-ff1f-4c4e-8835-357d94046631",
    "outputId": "5a787f88-910e-4161-91fc-26b6aec72c42"
   },
   "outputs": [],
   "source": [
    "hasType_df.sample(10)"
   ]
  },
  {
   "cell_type": "code",
   "execution_count": null,
   "id": "91784d92-ce16-4e12-bfcc-3fe029e4454f",
   "metadata": {
    "id": "91784d92-ce16-4e12-bfcc-3fe029e4454f"
   },
   "outputs": [],
   "source": [
    "result_df.to_csv(\"../data/predicted_hasCrystalSystem_MatBERT.csv\", index=None)"
   ]
  },
  {
   "cell_type": "code",
   "execution_count": null,
   "id": "d9956d44-419e-4ed7-8575-8c424548f7a6",
   "metadata": {
    "id": "d9956d44-419e-4ed7-8575-8c424548f7a6"
   },
   "outputs": [],
   "source": [
    "hasType_df.to_csv(\"../data/predicted_hasCrystalSystem_MatBERT_eval.csv\", index=None)"
   ]
  },
  {
   "cell_type": "code",
   "execution_count": null,
   "id": "2474feab-c4df-452e-af55-273fdbc54d36",
   "metadata": {
    "id": "2474feab-c4df-452e-af55-273fdbc54d36",
    "outputId": "7feeaa05-36c9-4ea6-be3a-70107100b650"
   },
   "outputs": [],
   "source": [
    "hasType_df[hasType_df['at_k'] == 1].sort_values('acc', ascending=False)"
   ]
  },
  {
   "cell_type": "code",
   "execution_count": null,
   "id": "6279b12a-aa4d-43ef-8a21-1609b54d8ff2",
   "metadata": {
    "id": "6279b12a-aa4d-43ef-8a21-1609b54d8ff2",
    "outputId": "986a4694-5fa7-4eb9-c5e5-e31606204e6c"
   },
   "outputs": [],
   "source": [
    "hasType_df.sort_values('acc', ascending=False)"
   ]
  },
  {
   "cell_type": "markdown",
   "id": "81e0a83a-3ee8-44b5-9228-05163abeb558",
   "metadata": {
    "id": "81e0a83a-3ee8-44b5-9228-05163abeb558"
   },
   "source": [
    "## Probing MatSciBERT"
   ]
  },
  {
   "cell_type": "code",
   "execution_count": null,
   "id": "70621025-c440-4ebe-b081-38390ea30aa8",
   "metadata": {
    "id": "70621025-c440-4ebe-b081-38390ea30aa8"
   },
   "outputs": [],
   "source": [
    "# MatSciBERT\n",
    "tokenizer = AutoTokenizer.from_pretrained('m3rg-iitd/matscibert')\n",
    "model = AutoModelForMaskedLM.from_pretrained('m3rg-iitd/matscibert')"
   ]
  },
  {
   "cell_type": "code",
   "execution_count": null,
   "id": "b863582b-8525-4dcd-a7ff-6877f1d9e655",
   "metadata": {
    "colab": {
     "base_uri": "https://localhost:8080/",
     "height": 35
    },
    "executionInfo": {
     "elapsed": 519,
     "status": "ok",
     "timestamp": 1666143162640,
     "user": {
      "displayName": "Yuan An",
      "userId": "12279868416530647161"
     },
     "user_tz": 240
    },
    "id": "b863582b-8525-4dcd-a7ff-6877f1d9e655",
    "outputId": "72cea969-0fc5-44ac-c92b-d5e8da4c6e40"
   },
   "outputs": [],
   "source": [
    "mask_token = tokenizer.mask_token\n",
    "mask_token"
   ]
  },
  {
   "cell_type": "markdown",
   "id": "81908035-52e3-409f-9b8c-4b7cdec16ff0",
   "metadata": {
    "id": "81908035-52e3-409f-9b8c-4b7cdec16ff0"
   },
   "source": [
    "## Creat the Prompt Pipeline"
   ]
  },
  {
   "cell_type": "code",
   "execution_count": null,
   "id": "f8f09ba9-cb78-4fb3-8e54-c087f0776d71",
   "metadata": {
    "id": "f8f09ba9-cb78-4fb3-8e54-c087f0776d71"
   },
   "outputs": [],
   "source": [
    "pipe = pipeline(\n",
    "    task=\"fill-mask\",\n",
    "    model=model,\n",
    "    tokenizer=tokenizer,\n",
    "    top_k=100,\n",
    ")"
   ]
  },
  {
   "cell_type": "markdown",
   "id": "ef55395d-3189-4f46-83d7-7e2b13ce8585",
   "metadata": {
    "id": "ef55395d-3189-4f46-83d7-7e2b13ce8585"
   },
   "source": [
    "## Run"
   ]
  },
  {
   "cell_type": "code",
   "execution_count": null,
   "id": "034e6ad5-3548-45af-9a22-638f2ac220a1",
   "metadata": {
    "colab": {
     "referenced_widgets": [
      "01a90c352c674b04ae52d6a616dde3c0",
      "70a932ae621b40ab8c95d8f603ce096a",
      "1567920265684ae6babd1ebc34b4515e",
      "edf6fedf2a60453e920ba25196e7afc8",
      "9d90e2a35b4c497594a9c84941485280",
      "abdc84667c4542b49b9cf235d8492cf3",
      "64be4023dedd40fb9dcef86bd1c5f081",
      "ac3aaffe9e81407db5a6af737b737fd9",
      "24229215ff65443094841f5020b1b9ca",
      "97a906d0fa274a69be4a1d4f24e22f79",
      "ec7596f82505402dbd069de9242ed20e",
      "6eed59e40d284ad2840fdadcab9a1a34"
     ]
    },
    "id": "034e6ad5-3548-45af-9a22-638f2ac220a1",
    "outputId": "678618f9-f060-430d-be94-5d7dc0501f58"
   },
   "outputs": [],
   "source": [
    "%%time\n",
    "acc_list = []\n",
    "atks = [1, 5, 10, 20, 50, 100]\n",
    "for processor in processors:\n",
    "    result_df = prompt_probe(model, tokenizer, processor, df, mask_token, \\\n",
    "                     'SubjectEntity', 'Relation', 'ObjectEntity', top_k=100)\n",
    "    result_df['predicted'] = result_df.apply(hasPredicted, axis=1)\n",
    "\n",
    "    prompt_template = processor('{SubjectEntity}', '[MASK]')\n",
    "    for at_k in atks:\n",
    "        acc_df = evaluate_acc_n(result_df, 'hasCrystalSystem', prompt_template, at_k=at_k)\n",
    "        acc_list.append(acc_df)"
   ]
  },
  {
   "cell_type": "code",
   "execution_count": null,
   "id": "63fdfef8-bf5e-4f0d-b8c5-83cd72d7f2c7",
   "metadata": {
    "id": "63fdfef8-bf5e-4f0d-b8c5-83cd72d7f2c7"
   },
   "outputs": [],
   "source": [
    "hasType_df = pd.DataFrame(acc_list)"
   ]
  },
  {
   "cell_type": "code",
   "execution_count": null,
   "id": "0ea239dc-94c2-4c04-913e-0fcebd9d902d",
   "metadata": {
    "id": "0ea239dc-94c2-4c04-913e-0fcebd9d902d",
    "outputId": "0e206367-2a27-4fed-c548-4ae01c6e0f03"
   },
   "outputs": [],
   "source": [
    "hasType_df.sample(10)"
   ]
  },
  {
   "cell_type": "code",
   "execution_count": null,
   "id": "97e36df6-a6d2-46ae-99cd-11152eb9902a",
   "metadata": {
    "id": "97e36df6-a6d2-46ae-99cd-11152eb9902a"
   },
   "outputs": [],
   "source": [
    "result_df.to_csv(\"../data/predicted_hasCrystalSystem_MatSciBERT.csv\", index=None)"
   ]
  },
  {
   "cell_type": "code",
   "execution_count": null,
   "id": "48d58a92-daa3-49e0-bc5f-3db3ce29aa3f",
   "metadata": {
    "id": "48d58a92-daa3-49e0-bc5f-3db3ce29aa3f"
   },
   "outputs": [],
   "source": [
    "hasType_df.to_csv(\"../data/predicted_hasCrystalSystem_MatSciBERT_eval.csv\", index=None)"
   ]
  },
  {
   "cell_type": "code",
   "execution_count": null,
   "id": "f3281d92-5f42-497b-8e4c-cfdfc4325500",
   "metadata": {
    "id": "f3281d92-5f42-497b-8e4c-cfdfc4325500",
    "outputId": "59e987a4-ae81-4f18-c099-4bc92d28f142"
   },
   "outputs": [],
   "source": [
    "hasType_df[hasType_df['at_k'] == 1].sort_values('acc', ascending=False)"
   ]
  },
  {
   "cell_type": "code",
   "execution_count": null,
   "id": "93709576-a549-4067-b0dc-722007dc5f14",
   "metadata": {
    "id": "93709576-a549-4067-b0dc-722007dc5f14",
    "outputId": "72e7d808-ab5e-4dd3-e05b-6fd53b7217ce"
   },
   "outputs": [],
   "source": [
    "hasType_df.sort_values('acc', ascending=False)"
   ]
  },
  {
   "cell_type": "markdown",
   "id": "7ea82684-73f7-4a08-a2d4-9529b1328672",
   "metadata": {
    "id": "7ea82684-73f7-4a08-a2d4-9529b1328672"
   },
   "source": [
    "## Probing SciBERT"
   ]
  },
  {
   "cell_type": "code",
   "execution_count": null,
   "id": "0937d1db-d5c2-47e1-a920-e7c8a667f003",
   "metadata": {
    "id": "0937d1db-d5c2-47e1-a920-e7c8a667f003"
   },
   "outputs": [],
   "source": [
    "# SciBERT\n",
    "tokenizer = AutoTokenizer.from_pretrained('allenai/scibert_scivocab_cased')\n",
    "model = AutoModelForMaskedLM.from_pretrained('allenai/scibert_scivocab_cased')"
   ]
  },
  {
   "cell_type": "code",
   "execution_count": null,
   "id": "a2fc4405-4e30-4d3e-a989-004e4d45762f",
   "metadata": {
    "colab": {
     "base_uri": "https://localhost:8080/",
     "height": 35
    },
    "executionInfo": {
     "elapsed": 519,
     "status": "ok",
     "timestamp": 1666143162640,
     "user": {
      "displayName": "Yuan An",
      "userId": "12279868416530647161"
     },
     "user_tz": 240
    },
    "id": "a2fc4405-4e30-4d3e-a989-004e4d45762f",
    "outputId": "72cea969-0fc5-44ac-c92b-d5e8da4c6e40"
   },
   "outputs": [],
   "source": [
    "mask_token = tokenizer.mask_token\n",
    "mask_token"
   ]
  },
  {
   "cell_type": "markdown",
   "id": "96d62e1c-8831-466d-a4ad-b75a5fb1d243",
   "metadata": {
    "id": "96d62e1c-8831-466d-a4ad-b75a5fb1d243"
   },
   "source": [
    "## Creat the Prompt Pipeline"
   ]
  },
  {
   "cell_type": "code",
   "execution_count": null,
   "id": "52858ece-f1f0-46ed-887f-5e9f4d84650e",
   "metadata": {
    "id": "52858ece-f1f0-46ed-887f-5e9f4d84650e"
   },
   "outputs": [],
   "source": [
    "pipe = pipeline(\n",
    "    task=\"fill-mask\",\n",
    "    model=model,\n",
    "    tokenizer=tokenizer,\n",
    "    top_k=100,\n",
    ")"
   ]
  },
  {
   "cell_type": "markdown",
   "id": "59175dfd-eba6-4658-851d-3103be68d58d",
   "metadata": {
    "id": "59175dfd-eba6-4658-851d-3103be68d58d"
   },
   "source": [
    "## Run"
   ]
  },
  {
   "cell_type": "code",
   "execution_count": null,
   "id": "32f25f68-08b2-4731-a359-4723b2d70d7b",
   "metadata": {
    "colab": {
     "referenced_widgets": [
      "d3f9749a99a54b42bf105ec62a049066",
      "26683be09ce347d58f9bce3184670db5",
      "4d06711c7055452e8e925c4196f40681",
      "4548d100ffc443cf8c629fae28bd043e",
      "29ebb597e02949ae85413556b8e6984c",
      "555ec4565a74485ea4f42c3a29a1d355",
      "c6f6999e4ad04a3693448aa470d58a50",
      "0852c42a73f0424e92d21001b5566bea",
      "87e7f2115cdc4832880071afd927d7f8",
      "951c78f6af3249df8d97b0dcb74a3f8a",
      "32e206ee323f413bb6202758d79902db",
      "83382479d493464ea1bb4aa945a44a72"
     ]
    },
    "id": "32f25f68-08b2-4731-a359-4723b2d70d7b",
    "outputId": "a8affd00-361f-42c4-fce4-ca0624ba3b37"
   },
   "outputs": [],
   "source": [
    "%%time\n",
    "acc_list = []\n",
    "atks = [1, 5, 10, 20, 50, 100]\n",
    "for processor in processors:\n",
    "    result_df = prompt_probe(model, tokenizer, processor, df, mask_token, \\\n",
    "                     'SubjectEntity', 'Relation', 'ObjectEntity', top_k=100)\n",
    "    result_df['predicted'] = result_df.apply(hasPredicted, axis=1)\n",
    "\n",
    "    prompt_template = processor('{SubjectEntity}', '[MASK]')\n",
    "    for at_k in atks:\n",
    "        acc_df = evaluate_acc_n(result_df, 'hasCrystalSystem', prompt_template, at_k=at_k)\n",
    "        acc_list.append(acc_df)"
   ]
  },
  {
   "cell_type": "code",
   "execution_count": null,
   "id": "f86447a6-e78e-43ff-82c7-af20c158296b",
   "metadata": {
    "id": "f86447a6-e78e-43ff-82c7-af20c158296b"
   },
   "outputs": [],
   "source": [
    "hasType_df = pd.DataFrame(acc_list)"
   ]
  },
  {
   "cell_type": "code",
   "execution_count": null,
   "id": "d1f9664b-1aea-4773-8950-47b0d52bb0ee",
   "metadata": {
    "id": "d1f9664b-1aea-4773-8950-47b0d52bb0ee",
    "outputId": "4cd351f6-0acd-40da-c091-5164f9bebcb4"
   },
   "outputs": [],
   "source": [
    "hasType_df.sample(10)"
   ]
  },
  {
   "cell_type": "code",
   "execution_count": null,
   "id": "e8fa4004-1013-4f74-b4bb-1977f3e0f8da",
   "metadata": {
    "id": "e8fa4004-1013-4f74-b4bb-1977f3e0f8da"
   },
   "outputs": [],
   "source": [
    "result_df.to_csv(\"../data/predicted_hasCrystalSystem_SciBERT.csv\", index=None)"
   ]
  },
  {
   "cell_type": "code",
   "execution_count": null,
   "id": "d684ef01-ae1b-4fd3-adf0-f1484d9a2d47",
   "metadata": {
    "id": "d684ef01-ae1b-4fd3-adf0-f1484d9a2d47"
   },
   "outputs": [],
   "source": [
    "hasType_df.to_csv(\"../data/predicted_hasCrystalSystem_SciBERT_eval.csv\", index=None)"
   ]
  },
  {
   "cell_type": "code",
   "execution_count": null,
   "id": "e3f9ec04-5e7f-4b76-b517-5bf1f0a161ac",
   "metadata": {
    "id": "e3f9ec04-5e7f-4b76-b517-5bf1f0a161ac",
    "outputId": "b762524f-75c1-4526-d92c-266c1450ae7d"
   },
   "outputs": [],
   "source": [
    "hasType_df[hasType_df['at_k'] == 1].sort_values('acc', ascending=False)"
   ]
  },
  {
   "cell_type": "code",
   "execution_count": null,
   "id": "9f19e68f-c514-48bb-9a01-62d0685025bb",
   "metadata": {
    "id": "9f19e68f-c514-48bb-9a01-62d0685025bb",
    "outputId": "7a55461f-2036-4504-d369-47ef16aa9e96"
   },
   "outputs": [],
   "source": [
    "hasType_df.sort_values('acc', ascending=False)"
   ]
  },
  {
   "cell_type": "markdown",
   "id": "5d7b49c1-f5d7-49b0-ac15-ea4fa03b36c6",
   "metadata": {
    "id": "5d7b49c1-f5d7-49b0-ac15-ea4fa03b36c6"
   },
   "source": [
    "## Probing RoBERTa"
   ]
  },
  {
   "cell_type": "code",
   "execution_count": null,
   "id": "9a1c9f77-493e-49ee-974a-3bbf6bdecd9f",
   "metadata": {
    "id": "9a1c9f77-493e-49ee-974a-3bbf6bdecd9f"
   },
   "outputs": [],
   "source": [
    "# RoBERTa\n",
    "tokenizer = AutoTokenizer.from_pretrained(\"roberta-large\")\n",
    "model = AutoModelForMaskedLM.from_pretrained(\"roberta-large\")"
   ]
  },
  {
   "cell_type": "code",
   "execution_count": null,
   "id": "d98083f6-f285-4338-839c-d28d37b2471e",
   "metadata": {
    "colab": {
     "base_uri": "https://localhost:8080/",
     "height": 35
    },
    "executionInfo": {
     "elapsed": 519,
     "status": "ok",
     "timestamp": 1666143162640,
     "user": {
      "displayName": "Yuan An",
      "userId": "12279868416530647161"
     },
     "user_tz": 240
    },
    "id": "d98083f6-f285-4338-839c-d28d37b2471e",
    "outputId": "72cea969-0fc5-44ac-c92b-d5e8da4c6e40"
   },
   "outputs": [],
   "source": [
    "mask_token = tokenizer.mask_token\n",
    "mask_token"
   ]
  },
  {
   "cell_type": "markdown",
   "id": "e20f666a-7b98-43ad-b6a4-920c3deef28a",
   "metadata": {
    "id": "e20f666a-7b98-43ad-b6a4-920c3deef28a"
   },
   "source": [
    "## Creat the Prompt Pipeline"
   ]
  },
  {
   "cell_type": "code",
   "execution_count": null,
   "id": "65b918b6-96ee-4304-8f1b-dc85b6faa7d2",
   "metadata": {
    "id": "65b918b6-96ee-4304-8f1b-dc85b6faa7d2"
   },
   "outputs": [],
   "source": [
    "pipe = pipeline(\n",
    "    task=\"fill-mask\",\n",
    "    model=model,\n",
    "    tokenizer=tokenizer,\n",
    "    top_k=100,\n",
    ")"
   ]
  },
  {
   "cell_type": "markdown",
   "id": "7eef9e5d-906e-4103-91c2-b95c25163642",
   "metadata": {
    "id": "7eef9e5d-906e-4103-91c2-b95c25163642"
   },
   "source": [
    "## Run"
   ]
  },
  {
   "cell_type": "code",
   "execution_count": null,
   "id": "a09fbca6-bee0-4b7b-9de7-b94e6001c4bf",
   "metadata": {
    "colab": {
     "referenced_widgets": [
      "f38c34ec6a6048b9984a2829e329c124",
      "8c0b95a628094e418de2db24564e846f",
      "413b2e7cced94690b364334c7ad2407c",
      "882f5ca4f9e0444f818d6c7652b3ac63",
      "ce0ca72d954d45ad80afa7ce944fd794",
      "24cd88fcd0144d19a86beebe4d786819",
      "165a36e32edf4df6b05ecb2affc158ab",
      "380f03af5846466cb63222ace5d4fb8e",
      "c636380df3b24fc5aa6efe7b46e5487b",
      "5ce580cc92084ee2a63bdcabd808e64d",
      "9f4b4b6040cb4844b9c481a75670fc33",
      "6c194caf4ff64c32b6e67b997aec7654"
     ]
    },
    "id": "a09fbca6-bee0-4b7b-9de7-b94e6001c4bf",
    "outputId": "90987122-491a-4b86-c7b2-ed55bfa949a3"
   },
   "outputs": [],
   "source": [
    "%%time\n",
    "acc_list = []\n",
    "atks = [1, 5, 10, 20, 50, 100]\n",
    "for processor in processors:\n",
    "    result_df = prompt_probe(model, tokenizer, processor, df, mask_token, \\\n",
    "                     'SubjectEntity', 'Relation', 'ObjectEntity', top_k=100)\n",
    "    result_df['predicted'] = result_df.apply(hasPredicted, axis=1)\n",
    "\n",
    "    prompt_template = processor('{SubjectEntity}', '[MASK]')\n",
    "    for at_k in atks:\n",
    "        acc_df = evaluate_acc_n(result_df, 'hasCrystalSystem', prompt_template, at_k=at_k)\n",
    "        acc_list.append(acc_df)"
   ]
  },
  {
   "cell_type": "code",
   "execution_count": null,
   "id": "254d9572-a3c7-407a-b3eb-05c927a87925",
   "metadata": {
    "id": "254d9572-a3c7-407a-b3eb-05c927a87925"
   },
   "outputs": [],
   "source": [
    "hasType_df = pd.DataFrame(acc_list)"
   ]
  },
  {
   "cell_type": "code",
   "execution_count": null,
   "id": "36ae4c04-f582-4ea8-93a5-3224304f8aac",
   "metadata": {
    "id": "36ae4c04-f582-4ea8-93a5-3224304f8aac",
    "outputId": "ac75eebf-25c6-4191-a44a-5621c85ecdfd"
   },
   "outputs": [],
   "source": [
    "hasType_df.sample(10)"
   ]
  },
  {
   "cell_type": "code",
   "execution_count": null,
   "id": "cfdceaa9-cb4b-432a-ba5b-4923b5e6a90f",
   "metadata": {
    "id": "cfdceaa9-cb4b-432a-ba5b-4923b5e6a90f"
   },
   "outputs": [],
   "source": [
    "result_df.to_csv(\"../data/predicted_hasCrystalSystem_RoBERTa.csv\", index=None)"
   ]
  },
  {
   "cell_type": "code",
   "execution_count": null,
   "id": "d043a711-5415-426c-99b2-478bdfdfe6ce",
   "metadata": {
    "id": "d043a711-5415-426c-99b2-478bdfdfe6ce"
   },
   "outputs": [],
   "source": [
    "hasType_df.to_csv(\"../data/predicted_hasCrystalSystem_RoBERTa_eval.csv\", index=None)"
   ]
  },
  {
   "cell_type": "code",
   "execution_count": null,
   "id": "ca3f516c-eb00-488c-b01b-99a773c091a2",
   "metadata": {
    "id": "ca3f516c-eb00-488c-b01b-99a773c091a2",
    "outputId": "60adc1e5-46ee-4650-bbe7-9196a0b3c26f"
   },
   "outputs": [],
   "source": [
    "hasType_df[hasType_df['at_k'] == 1].sort_values('acc', ascending=False)"
   ]
  },
  {
   "cell_type": "code",
   "execution_count": null,
   "id": "fa31e4ff-ddb6-4052-b32d-7c171c02dd2e",
   "metadata": {
    "id": "fa31e4ff-ddb6-4052-b32d-7c171c02dd2e",
    "outputId": "d2e45d2b-fc24-4afd-8bb7-638e12a25a3c"
   },
   "outputs": [],
   "source": [
    "hasType_df.sort_values('acc', ascending=False)"
   ]
  },
  {
   "cell_type": "code",
   "execution_count": null,
   "id": "3f22b669-4c68-4e50-b752-afaa0ab4fa14",
   "metadata": {
    "id": "3f22b669-4c68-4e50-b752-afaa0ab4fa14"
   },
   "outputs": [],
   "source": []
  }
 ],
 "metadata": {
  "colab": {
   "collapsed_sections": [],
   "provenance": []
  },
  "kernelspec": {
   "display_name": "digiMOF",
   "language": "python",
   "name": "digimof"
  },
  "language_info": {
   "codemirror_mode": {
    "name": "ipython",
    "version": 3
   },
   "file_extension": ".py",
   "mimetype": "text/x-python",
   "name": "python",
   "nbconvert_exporter": "python",
   "pygments_lexer": "ipython3",
   "version": "3.7.13"
  },
  "widgets": {
   "application/vnd.jupyter.widget-state+json": {
    "03cee89315b54d7eb04a5f7cecc39993": {
     "model_module": "@jupyter-widgets/controls",
     "model_module_version": "1.5.0",
     "model_name": "DescriptionStyleModel",
     "state": {
      "_model_module": "@jupyter-widgets/controls",
      "_model_module_version": "1.5.0",
      "_model_name": "DescriptionStyleModel",
      "_view_count": null,
      "_view_module": "@jupyter-widgets/base",
      "_view_module_version": "1.2.0",
      "_view_name": "StyleView",
      "description_width": ""
     }
    },
    "0680fe3809c24764b0a9703f51f3efd3": {
     "model_module": "@jupyter-widgets/base",
     "model_module_version": "1.2.0",
     "model_name": "LayoutModel",
     "state": {
      "_model_module": "@jupyter-widgets/base",
      "_model_module_version": "1.2.0",
      "_model_name": "LayoutModel",
      "_view_count": null,
      "_view_module": "@jupyter-widgets/base",
      "_view_module_version": "1.2.0",
      "_view_name": "LayoutView",
      "align_content": null,
      "align_items": null,
      "align_self": null,
      "border": null,
      "bottom": null,
      "display": null,
      "flex": null,
      "flex_flow": null,
      "grid_area": null,
      "grid_auto_columns": null,
      "grid_auto_flow": null,
      "grid_auto_rows": null,
      "grid_column": null,
      "grid_gap": null,
      "grid_row": null,
      "grid_template_areas": null,
      "grid_template_columns": null,
      "grid_template_rows": null,
      "height": null,
      "justify_content": null,
      "justify_items": null,
      "left": null,
      "margin": null,
      "max_height": null,
      "max_width": null,
      "min_height": null,
      "min_width": null,
      "object_fit": null,
      "object_position": null,
      "order": null,
      "overflow": null,
      "overflow_x": null,
      "overflow_y": null,
      "padding": null,
      "right": null,
      "top": null,
      "visibility": null,
      "width": null
     }
    },
    "073a2eb6c91b4cf39f9bbe90908d6f9b": {
     "model_module": "@jupyter-widgets/base",
     "model_module_version": "1.2.0",
     "model_name": "LayoutModel",
     "state": {
      "_model_module": "@jupyter-widgets/base",
      "_model_module_version": "1.2.0",
      "_model_name": "LayoutModel",
      "_view_count": null,
      "_view_module": "@jupyter-widgets/base",
      "_view_module_version": "1.2.0",
      "_view_name": "LayoutView",
      "align_content": null,
      "align_items": null,
      "align_self": null,
      "border": null,
      "bottom": null,
      "display": null,
      "flex": null,
      "flex_flow": null,
      "grid_area": null,
      "grid_auto_columns": null,
      "grid_auto_flow": null,
      "grid_auto_rows": null,
      "grid_column": null,
      "grid_gap": null,
      "grid_row": null,
      "grid_template_areas": null,
      "grid_template_columns": null,
      "grid_template_rows": null,
      "height": null,
      "justify_content": null,
      "justify_items": null,
      "left": null,
      "margin": null,
      "max_height": null,
      "max_width": null,
      "min_height": null,
      "min_width": null,
      "object_fit": null,
      "object_position": null,
      "order": null,
      "overflow": null,
      "overflow_x": null,
      "overflow_y": null,
      "padding": null,
      "right": null,
      "top": null,
      "visibility": null,
      "width": null
     }
    },
    "2ee792fdcb2748819e3d914fbfca7462": {
     "model_module": "@jupyter-widgets/controls",
     "model_module_version": "1.5.0",
     "model_name": "HTMLModel",
     "state": {
      "_dom_classes": [],
      "_model_module": "@jupyter-widgets/controls",
      "_model_module_version": "1.5.0",
      "_model_name": "HTMLModel",
      "_view_count": null,
      "_view_module": "@jupyter-widgets/controls",
      "_view_module_version": "1.5.0",
      "_view_name": "HTMLView",
      "description": "",
      "description_tooltip": null,
      "layout": "IPY_MODEL_85db2055d1b148c3b7415da1ce956020",
      "placeholder": "​",
      "style": "IPY_MODEL_39f2763abc36459b92f5a0884c3d84ac",
      "value": " 10/10 [00:11&lt;00:00,  1.00s/it]"
     }
    },
    "39f2763abc36459b92f5a0884c3d84ac": {
     "model_module": "@jupyter-widgets/controls",
     "model_module_version": "1.5.0",
     "model_name": "DescriptionStyleModel",
     "state": {
      "_model_module": "@jupyter-widgets/controls",
      "_model_module_version": "1.5.0",
      "_model_name": "DescriptionStyleModel",
      "_view_count": null,
      "_view_module": "@jupyter-widgets/base",
      "_view_module_version": "1.2.0",
      "_view_name": "StyleView",
      "description_width": ""
     }
    },
    "56997834017343e69fca9776c32b78d4": {
     "model_module": "@jupyter-widgets/controls",
     "model_module_version": "1.5.0",
     "model_name": "FloatProgressModel",
     "state": {
      "_dom_classes": [],
      "_model_module": "@jupyter-widgets/controls",
      "_model_module_version": "1.5.0",
      "_model_name": "FloatProgressModel",
      "_view_count": null,
      "_view_module": "@jupyter-widgets/controls",
      "_view_module_version": "1.5.0",
      "_view_name": "ProgressView",
      "bar_style": "success",
      "description": "",
      "description_tooltip": null,
      "layout": "IPY_MODEL_a9c22200ab18400d8e2f29e2d16226b3",
      "max": 10,
      "min": 0,
      "orientation": "horizontal",
      "style": "IPY_MODEL_a09d8ce79f234a02b0c8525055818951",
      "value": 10
     }
    },
    "670131b7daaa449b86e2396b64376383": {
     "model_module": "@jupyter-widgets/controls",
     "model_module_version": "1.5.0",
     "model_name": "HBoxModel",
     "state": {
      "_dom_classes": [],
      "_model_module": "@jupyter-widgets/controls",
      "_model_module_version": "1.5.0",
      "_model_name": "HBoxModel",
      "_view_count": null,
      "_view_module": "@jupyter-widgets/controls",
      "_view_module_version": "1.5.0",
      "_view_name": "HBoxView",
      "box_style": "",
      "children": [
       "IPY_MODEL_6db4bae0ab4f49aaa4e3e7aa22366dec",
       "IPY_MODEL_56997834017343e69fca9776c32b78d4",
       "IPY_MODEL_2ee792fdcb2748819e3d914fbfca7462"
      ],
      "layout": "IPY_MODEL_0680fe3809c24764b0a9703f51f3efd3"
     }
    },
    "6db4bae0ab4f49aaa4e3e7aa22366dec": {
     "model_module": "@jupyter-widgets/controls",
     "model_module_version": "1.5.0",
     "model_name": "HTMLModel",
     "state": {
      "_dom_classes": [],
      "_model_module": "@jupyter-widgets/controls",
      "_model_module_version": "1.5.0",
      "_model_name": "HTMLModel",
      "_view_count": null,
      "_view_module": "@jupyter-widgets/controls",
      "_view_module_version": "1.5.0",
      "_view_name": "HTMLView",
      "description": "",
      "description_tooltip": null,
      "layout": "IPY_MODEL_073a2eb6c91b4cf39f9bbe90908d6f9b",
      "placeholder": "​",
      "style": "IPY_MODEL_03cee89315b54d7eb04a5f7cecc39993",
      "value": "100%"
     }
    },
    "85db2055d1b148c3b7415da1ce956020": {
     "model_module": "@jupyter-widgets/base",
     "model_module_version": "1.2.0",
     "model_name": "LayoutModel",
     "state": {
      "_model_module": "@jupyter-widgets/base",
      "_model_module_version": "1.2.0",
      "_model_name": "LayoutModel",
      "_view_count": null,
      "_view_module": "@jupyter-widgets/base",
      "_view_module_version": "1.2.0",
      "_view_name": "LayoutView",
      "align_content": null,
      "align_items": null,
      "align_self": null,
      "border": null,
      "bottom": null,
      "display": null,
      "flex": null,
      "flex_flow": null,
      "grid_area": null,
      "grid_auto_columns": null,
      "grid_auto_flow": null,
      "grid_auto_rows": null,
      "grid_column": null,
      "grid_gap": null,
      "grid_row": null,
      "grid_template_areas": null,
      "grid_template_columns": null,
      "grid_template_rows": null,
      "height": null,
      "justify_content": null,
      "justify_items": null,
      "left": null,
      "margin": null,
      "max_height": null,
      "max_width": null,
      "min_height": null,
      "min_width": null,
      "object_fit": null,
      "object_position": null,
      "order": null,
      "overflow": null,
      "overflow_x": null,
      "overflow_y": null,
      "padding": null,
      "right": null,
      "top": null,
      "visibility": null,
      "width": null
     }
    },
    "a09d8ce79f234a02b0c8525055818951": {
     "model_module": "@jupyter-widgets/controls",
     "model_module_version": "1.5.0",
     "model_name": "ProgressStyleModel",
     "state": {
      "_model_module": "@jupyter-widgets/controls",
      "_model_module_version": "1.5.0",
      "_model_name": "ProgressStyleModel",
      "_view_count": null,
      "_view_module": "@jupyter-widgets/base",
      "_view_module_version": "1.2.0",
      "_view_name": "StyleView",
      "bar_color": null,
      "description_width": ""
     }
    },
    "a9c22200ab18400d8e2f29e2d16226b3": {
     "model_module": "@jupyter-widgets/base",
     "model_module_version": "1.2.0",
     "model_name": "LayoutModel",
     "state": {
      "_model_module": "@jupyter-widgets/base",
      "_model_module_version": "1.2.0",
      "_model_name": "LayoutModel",
      "_view_count": null,
      "_view_module": "@jupyter-widgets/base",
      "_view_module_version": "1.2.0",
      "_view_name": "LayoutView",
      "align_content": null,
      "align_items": null,
      "align_self": null,
      "border": null,
      "bottom": null,
      "display": null,
      "flex": null,
      "flex_flow": null,
      "grid_area": null,
      "grid_auto_columns": null,
      "grid_auto_flow": null,
      "grid_auto_rows": null,
      "grid_column": null,
      "grid_gap": null,
      "grid_row": null,
      "grid_template_areas": null,
      "grid_template_columns": null,
      "grid_template_rows": null,
      "height": null,
      "justify_content": null,
      "justify_items": null,
      "left": null,
      "margin": null,
      "max_height": null,
      "max_width": null,
      "min_height": null,
      "min_width": null,
      "object_fit": null,
      "object_position": null,
      "order": null,
      "overflow": null,
      "overflow_x": null,
      "overflow_y": null,
      "padding": null,
      "right": null,
      "top": null,
      "visibility": null,
      "width": null
     }
    }
   }
  }
 },
 "nbformat": 4,
 "nbformat_minor": 5
}
