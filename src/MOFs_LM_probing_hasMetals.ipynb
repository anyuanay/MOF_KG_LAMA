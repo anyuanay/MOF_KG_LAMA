{
 "cells": [
  {
   "cell_type": "markdown",
   "id": "55e44848-77fb-4130-b77d-abc302536a6e",
   "metadata": {
    "id": "55e44848-77fb-4130-b77d-abc302536a6e"
   },
   "source": [
    "# MOFs LM Probing for hasMetals"
   ]
  },
  {
   "cell_type": "code",
   "execution_count": null,
   "id": "e93a1557-c1ce-4aeb-b3c3-13a75b6cb8fa",
   "metadata": {
    "executionInfo": {
     "elapsed": 19093,
     "status": "ok",
     "timestamp": 1666143085394,
     "user": {
      "displayName": "Yuan An",
      "userId": "12279868416530647161"
     },
     "user_tz": 240
    },
    "id": "e93a1557-c1ce-4aeb-b3c3-13a75b6cb8fa"
   },
   "outputs": [],
   "source": [
    "from baseline import PromptSet, logger as baseline_logger\n",
    "from evaluate import evaluate_per_sr_pair, combine_scores_per_relation\n",
    "\n",
    "from tqdm.auto import tqdm\n",
    "from nltk.corpus import stopwords\n",
    "\n",
    "import pandas as pd\n",
    "\n",
    "from transformers import AutoTokenizer, AutoModelForMaskedLM, pipeline, logging\n",
    "\n",
    "logging.set_verbosity_error()  # avoid irritating transformers warnings"
   ]
  },
  {
   "cell_type": "markdown",
   "id": "5a4cbdfc-8b9d-42fa-aea5-8646ac19b6a3",
   "metadata": {
    "id": "RQq4vl2b2Rfo"
   },
   "source": [
    "## Read in the Triples"
   ]
  },
  {
   "cell_type": "code",
   "execution_count": null,
   "id": "MLkxHoS6eiLd",
   "metadata": {
    "executionInfo": {
     "elapsed": 254,
     "status": "ok",
     "timestamp": 1666145234667,
     "user": {
      "displayName": "Yuan An",
      "userId": "12279868416530647161"
     },
     "user_tz": 240
    },
    "id": "MLkxHoS6eiLd",
    "tags": []
   },
   "outputs": [],
   "source": [
    "file = \"../data/mof_metals.csv\""
   ]
  },
  {
   "cell_type": "code",
   "execution_count": null,
   "id": "ax2E8N1rgva0",
   "metadata": {
    "colab": {
     "base_uri": "https://localhost:8080/",
     "height": 206
    },
    "executionInfo": {
     "elapsed": 218,
     "status": "ok",
     "timestamp": 1666145237368,
     "user": {
      "displayName": "Yuan An",
      "userId": "12279868416530647161"
     },
     "user_tz": 240
    },
    "id": "ax2E8N1rgva0",
    "outputId": "fe0e0d7c-704f-4c14-a150-262142a81688"
   },
   "outputs": [],
   "source": [
    "df = pd.read_csv(file)\n",
    "df.head()"
   ]
  },
  {
   "cell_type": "code",
   "execution_count": null,
   "id": "0dlsYbQbJR_Y",
   "metadata": {
    "colab": {
     "base_uri": "https://localhost:8080/"
    },
    "executionInfo": {
     "elapsed": 268,
     "status": "ok",
     "timestamp": 1666143184741,
     "user": {
      "displayName": "Yuan An",
      "userId": "12279868416530647161"
     },
     "user_tz": 240
    },
    "id": "0dlsYbQbJR_Y",
    "outputId": "b4d98260-799e-4cad-c383-059c810c116b"
   },
   "outputs": [],
   "source": [
    "df.shape"
   ]
  },
  {
   "cell_type": "markdown",
   "id": "DAhYPWvq1zc-",
   "metadata": {
    "id": "DAhYPWvq1zc-"
   },
   "source": [
    "## Probing BERT"
   ]
  },
  {
   "cell_type": "code",
   "execution_count": null,
   "id": "f12c0fd2-6951-4098-9769-48ab3c98e90b",
   "metadata": {
    "colab": {
     "base_uri": "https://localhost:8080/",
     "height": 177,
     "referenced_widgets": [
      "4c05c5e0520b492ab2b57c25e58d83ff",
      "53817797a71640c682018c4d5018945f",
      "7cfe1f882eda494392c83e1dc28de347",
      "a65586c8de47418e93ca395a7a54ce4a",
      "34c8437daef041148b8193d17865e01d",
      "e26247189e40407fb2a3eb0c92cf824d",
      "2495ccb30e2d4fcd9b783e5a98adcade",
      "9189e45261c14b3a924aeaa039040088",
      "b8a5765d573b48d3843ff5256285860e",
      "bc1eb92763134550ab661339cbfbf2d7",
      "e084af51f7dd4e9bafddff12653e158d",
      "12b4f7a401fe4467ab20c5898fb2a8b7",
      "4497399c3daa4e77af0b5f19ee9f04ce",
      "d37a8e212602406f80f6e95070ce782d",
      "231be8066c064fcdac7e38d54c68ac6b",
      "d890850a37d84eafb78e21f24692f69b",
      "ab22d6a321194fbb8c7e53b695520d3d",
      "15c8cbc7b93d4cc8a8dad13afebf0768",
      "2baa8030444e47e8bea45be2d69527ef",
      "d2eb216188a543bfbb41c42e7c1de9ff",
      "600162a8775d4b1c94edcdb58e60d37d",
      "cc61ce233e7942f9bdaa871e1692555b",
      "42b4cc27530d4b3daefaf81530c8db56",
      "07aa1578b2c044898b28852c94ecadfb",
      "aae65b145a2944b5b1709af7ab6bba4f",
      "5441526da7b24b1d83be04a471d848e7",
      "35cd15eac4ff4266acd3c12a49c11f96",
      "6c1efed1664742c4b24ce2229158716a",
      "4be83a744e8249c3abccf54e6ebda30a",
      "ba9bbcf7380c425083a3716e3de81a5b",
      "ffd3058b0bcc472091715e095585530e",
      "717c883b4b394388861ac31cdf8d0459",
      "71a9c0de46f745269de1ff81e3070acd",
      "76da6237d53a4e4fbfd0a3dc282fa300",
      "26c1b472040f4b7eb6e47816bf6b1a11",
      "d868903eae9a4796be081f2fc9732b9d",
      "d1b2947d81164eb39f2713b72637d0a2",
      "011a3c0193ca4d07bf0b2f40be1ea73e",
      "0c332e682cf1497a9c9d3ce459da76ab",
      "bd3ad1443d9841f7bfff54616e5fd65f",
      "76e7b8fe85c64848b364d54a8083fdbb",
      "97bbd2d073974c1e80deb5c1eede1808",
      "8989a756543f49ffaa98b3c16d6fc20f",
      "ed071261bdc346ef86ee861931c59a59",
      "abc54b1132c94a35967f7a4d053415fc",
      "f333e03d2a0d4420a42d2da036c8db0a",
      "8adcd3f948aa475389d7bd68b7da8c71",
      "6583930f838d4001ae17b7465b14c76c",
      "ad7b5fba3e4c45d7aa3e5ab9c69f41ac",
      "d4bc6c23903b41ebaf502ba88353c2d1",
      "8b1ed0669f744412afcc8dcc5de70219",
      "61436275e45c4b178100ff64fc144041",
      "eaab3f227f994acfa29bf56c1fe2833f",
      "dce9ba77cb534f9da2b2b6e5c66a5703",
      "1a3cdcbc0ae745ecab09ff309ba63fdd"
     ]
    },
    "executionInfo": {
     "elapsed": 71566,
     "status": "ok",
     "timestamp": 1666143159539,
     "user": {
      "displayName": "Yuan An",
      "userId": "12279868416530647161"
     },
     "user_tz": 240
    },
    "id": "f12c0fd2-6951-4098-9769-48ab3c98e90b",
    "outputId": "3b235ac1-6dca-4f28-8d8e-5902a743230c"
   },
   "outputs": [],
   "source": [
    "tokenizer = AutoTokenizer.from_pretrained(\"bert-large-cased\")\n",
    "model = AutoModelForMaskedLM.from_pretrained(\"bert-large-cased\")"
   ]
  },
  {
   "cell_type": "code",
   "execution_count": null,
   "id": "e46f8370-80b4-4f4d-88e0-94b3020a88ab",
   "metadata": {
    "colab": {
     "base_uri": "https://localhost:8080/",
     "height": 35
    },
    "executionInfo": {
     "elapsed": 519,
     "status": "ok",
     "timestamp": 1666143162640,
     "user": {
      "displayName": "Yuan An",
      "userId": "12279868416530647161"
     },
     "user_tz": 240
    },
    "id": "e46f8370-80b4-4f4d-88e0-94b3020a88ab",
    "outputId": "72cea969-0fc5-44ac-c92b-d5e8da4c6e40"
   },
   "outputs": [],
   "source": [
    "mask_token = tokenizer.mask_token\n",
    "mask_token"
   ]
  },
  {
   "cell_type": "markdown",
   "id": "yccd3rTy16Yr",
   "metadata": {
    "id": "yccd3rTy16Yr"
   },
   "source": [
    "## Creat the Prompt Pipeline"
   ]
  },
  {
   "cell_type": "code",
   "execution_count": null,
   "id": "OoWE2iMqoXHJ",
   "metadata": {
    "executionInfo": {
     "elapsed": 257,
     "status": "ok",
     "timestamp": 1666143168997,
     "user": {
      "displayName": "Yuan An",
      "userId": "12279868416530647161"
     },
     "user_tz": 240
    },
    "id": "OoWE2iMqoXHJ"
   },
   "outputs": [],
   "source": [
    "pipe = pipeline(\n",
    "    task=\"fill-mask\",\n",
    "    model=model,\n",
    "    tokenizer=tokenizer,\n",
    "    top_k=100,\n",
    ")"
   ]
  },
  {
   "cell_type": "markdown",
   "id": "aWXu0sgCf4jA",
   "metadata": {
    "id": "aWXu0sgCf4jA"
   },
   "source": [
    "## Create Prompts"
   ]
  },
  {
   "cell_type": "code",
   "execution_count": null,
   "id": "Z5vtJepsgl4c",
   "metadata": {
    "id": "Z5vtJepsgl4c"
   },
   "outputs": [],
   "source": [
    "def create_metal_prompt1(sub, rel, mask):\n",
    "    if rel == 'hasMetals':\n",
    "        return f\"{sub} contains {mask} which is an metal.\"\n",
    "def create_metal_prompt2(sub, rel, mask):\n",
    "    if rel == 'hasMetals':\n",
    "        return f\"{sub} contains an metal which is {mask}.\"\n",
    "def create_metal_prompt3(sub, rel, mask):\n",
    "    if rel == 'hasMetals':\n",
    "        return f\"{sub} is a metal organic framework. {sub} contains {mask} which is an metal.\"\n",
    "def create_metal_prompt4(sub, rel, mask):\n",
    "    if rel == 'hasMetals':\n",
    "        return f\"As a metal organic framework, {sub} contains an metal which is {mask}.\"\n",
    "def create_metal_prompt5(sub, rel, mask):\n",
    "    if rel == 'hasMetals':\n",
    "        return f\"{sub} is a MOF. {sub} has SBU metal {mask}.\"\n",
    "def create_metal_prompt6(sub, rel, mask):\n",
    "    if rel == 'hasMetals':\n",
    "        return f\"{sub} is MOF. {sub} contains {mask}.\" \n",
    "def create_metal_prompt7(sub, rel, mask):\n",
    "    if rel == 'hasMetals':\n",
    "        return f\"{sub} contains {mask}.\"\n",
    "def create_metal_prompt8(sub, rel, mask):\n",
    "    if rel == 'hasMetals':\n",
    "        return f\"{sub} is a metal organic framework. {sub} contains {mask}.\"\n",
    "def create_metal_prompt9(sub, rel, mask):\n",
    "    if rel == 'hasMetals':\n",
    "        return f\"The SBU of {sub} is {mask}.\"\n",
    "def create_metal_prompt10(sub, rel, mask):\n",
    "    if rel == 'hasMetals':\n",
    "        return f\"{sub} is a metal organic framework structure composed of metal cluster {mask}.\"\n",
    "def create_metal_prompt11(sub, rel, mask):\n",
    "    if rel == 'hasMetals':\n",
    "        return f\"{sub} is a metal organic framework. {sub} has SBU metal {mask}.\"\n",
    "def create_metal_prompt12(sub, rel, mask):\n",
    "    if rel == 'hasMetals':\n",
    "        return f\"{mask} was used as metal center in the synthesized {sub} material.\""
   ]
  },
  {
   "cell_type": "code",
   "execution_count": null,
   "id": "oQEIANBrgl4c",
   "metadata": {
    "id": "oQEIANBrgl4c"
   },
   "outputs": [],
   "source": [
    "processors = [create_metal_prompt1, create_metal_prompt2,\n",
    "              create_metal_prompt3, create_metal_prompt4,\n",
    "              create_metal_prompt5, create_metal_prompt6,\n",
    "              create_metal_prompt7, create_metal_prompt8,\n",
    "              create_metal_prompt9, create_metal_prompt10,\n",
    "              create_metal_prompt11, create_metal_prompt12\n",
    "             ]"
   ]
  },
  {
   "cell_type": "code",
   "execution_count": null,
   "id": "MVAuqvu8f8fl",
   "metadata": {
    "id": "MVAuqvu8f8fl"
   },
   "outputs": [],
   "source": [
    "def prompt_probe(model, tokenizer, prompt_processor, df_sub, mask_token, \\\n",
    "                 subjectCol, relationCol, objectCol, top_k=100):\n",
    "\n",
    "    pipe = pipeline(\n",
    "        task=\"fill-mask\",\n",
    "        model=model,\n",
    "        tokenizer=tokenizer,\n",
    "        top_k=top_k,\n",
    "    )\n",
    "\n",
    "    prompts = PromptSet([prompt_processor(row.SubjectEntity, row.Relation, mask_token) for _, row in df_sub.iterrows()])\n",
    "\n",
    "    outputs = []\n",
    "    for out in tqdm(pipe(prompts, batch_size=8), total=len(prompts)):\n",
    "        outputs.append(out)\n",
    "\n",
    "    results = []\n",
    "    for idx, row in df_sub.iterrows():\n",
    "        for output in outputs[idx]:\n",
    "            record = {}\n",
    "            record['SubjectEntity'] = row[subjectCol]\n",
    "            record['Relation'] = row[relationCol]\n",
    "            record['ObjectEntity'] = row[objectCol]\n",
    "            record['prompt']= prompts[idx]\n",
    "            record['predictedScore'] = output['score']\n",
    "            record['predictedToken'] = output['token_str']\n",
    "            results.append(record)\n",
    "\n",
    "    return pd.DataFrame(results)"
   ]
  },
  {
   "cell_type": "code",
   "execution_count": null,
   "id": "6fa5eaa4-4551-420f-bde9-d5be3f5fb399",
   "metadata": {},
   "outputs": [],
   "source": [
    "# Compute a column indicating whether the predictedToken in the ObjectEntity list\n",
    "def hasPredicted(row):\n",
    "    token = row['predictedToken']\n",
    "    objectEntities = row['ObjectEntity']\n",
    "    #print(objectEntities)\n",
    "    if pd.notna(objectEntities):\n",
    "        objectList = objectEntities.split(\",\")\n",
    "        if token in objectList:\n",
    "            return 1\n",
    "        else:\n",
    "            return 0\n",
    "    else:\n",
    "        return 0"
   ]
  },
  {
   "cell_type": "code",
   "execution_count": null,
   "id": "KsUSnkZ7l-5U",
   "metadata": {
    "id": "KsUSnkZ7l-5U"
   },
   "outputs": [],
   "source": [
    "# return the top-k rows based on predictedScore\n",
    "def top(df, col, n=10):\n",
    "    return df.sort_values(by=col, ascending=False)[:n]"
   ]
  },
  {
   "cell_type": "code",
   "execution_count": null,
   "id": "FsnJPxPBl-5V",
   "metadata": {
    "id": "FsnJPxPBl-5V"
   },
   "outputs": [],
   "source": [
    "# check whether the predicted is 1 for each group\n",
    "def predictedOne(df, col):\n",
    "    total = df[col].sum()\n",
    "    if total > 0:\n",
    "        return 1\n",
    "    else:\n",
    "        return 0"
   ]
  },
  {
   "cell_type": "code",
   "execution_count": null,
   "id": "YTMrQugZl-5V",
   "metadata": {
    "executionInfo": {
     "elapsed": 89,
     "status": "ok",
     "timestamp": 1666189113144,
     "user": {
      "displayName": "Yuan An",
      "userId": "12279868416530647161"
     },
     "user_tz": 240
    },
    "id": "YTMrQugZl-5V"
   },
   "outputs": [],
   "source": [
    "# Assume the predicted_df has a binary column 'predicted' indicating whether ObjectEntity has been predicted\n",
    "# 1 for yes, 0 for no\n",
    "def evaluate_acc_n(predicted_df, relation, prompt_template, at_k=5):\n",
    "    topk_df = predicted_df.groupby('SubjectEntity', as_index=False).apply(top, col='predictedScore', n=at_k)\n",
    "    topk_agg_df = topk_df.groupby('SubjectEntity', as_index=False).apply(predictedOne, col='predicted')\n",
    "    topk_agg_df.columns = ['SubjectEntity', 'predicted']\n",
    "    result = {}\n",
    "    result['Relation'] = relation\n",
    "    result['prompt_template'] = prompt_template\n",
    "    result['acc'] = topk_agg_df.predicted.mean()\n",
    "    result['at_k'] = at_k\n",
    "\n",
    "    return result"
   ]
  },
  {
   "cell_type": "code",
   "execution_count": null,
   "id": "55688b85-e2dd-4172-b199-cd3ca4cd3353",
   "metadata": {},
   "outputs": [],
   "source": [
    "pd.set_option('display.max_colwidth', None)"
   ]
  },
  {
   "cell_type": "code",
   "execution_count": null,
   "id": "b0190f3f-b9a6-4d57-83fa-e3bb3acf828a",
   "metadata": {},
   "outputs": [],
   "source": [
    "%%time\n",
    "acc_list = []\n",
    "atks = [1, 5, 10, 20, 50, 100]\n",
    "for processor in processors:\n",
    "    result_df = prompt_probe(model, tokenizer, processor, df, mask_token, \\\n",
    "                     'SubjectEntity', 'Relation', 'ObjectEntityName', top_k=100)\n",
    "    result_df['predicted'] = result_df.apply(hasPredicted, axis=1)\n",
    "\n",
    "    prompt_template = processor('{SubjectEntity}', 'hasMetals', '[MASK]')\n",
    "    for at_k in atks:\n",
    "        acc_df = evaluate_acc_n(result_df, 'hasMetals', prompt_template, at_k=at_k)\n",
    "        acc_list.append(acc_df)"
   ]
  },
  {
   "cell_type": "code",
   "execution_count": null,
   "id": "c806ff12-0e03-4520-9e25-510cf419de5e",
   "metadata": {},
   "outputs": [],
   "source": [
    "result_df.head()"
   ]
  },
  {
   "cell_type": "code",
   "execution_count": null,
   "id": "b5b0471a-0bd5-4597-a760-334a267fdc4b",
   "metadata": {},
   "outputs": [],
   "source": [
    "result_df.shape"
   ]
  },
  {
   "cell_type": "code",
   "execution_count": null,
   "id": "5e201d63-f216-4634-bcc2-e3852000624d",
   "metadata": {},
   "outputs": [],
   "source": [
    "result_df.to_csv(\"../data/predicted_hasMetals_BERT.csv\", index=None)"
   ]
  },
  {
   "cell_type": "code",
   "execution_count": null,
   "id": "f822f7ba-11eb-476a-aa60-074b00894d9f",
   "metadata": {},
   "outputs": [],
   "source": [
    "hasMetals_df = pd.DataFrame(acc_list)"
   ]
  },
  {
   "cell_type": "code",
   "execution_count": null,
   "id": "EtAuhaBohBxO",
   "metadata": {
    "id": "EtAuhaBohBxO"
   },
   "outputs": [],
   "source": [
    "hasMetals_df.sample(10)"
   ]
  },
  {
   "cell_type": "code",
   "execution_count": null,
   "id": "7fe702fb-17f6-4cc3-9149-14bc7ca14a03",
   "metadata": {},
   "outputs": [],
   "source": [
    "hasMetals_df.to_csv(\"../data/predicted_hasMetals_BERT_eval.csv\", index=None)"
   ]
  },
  {
   "cell_type": "code",
   "execution_count": null,
   "id": "d3299e52-ecf9-4ef6-b4e4-b8f6e21f6d6f",
   "metadata": {},
   "outputs": [],
   "source": [
    "hasMetals_df[hasMetals_df['at_k'] == 1].sort_values('acc', ascending=False)"
   ]
  },
  {
   "cell_type": "code",
   "execution_count": null,
   "id": "987f0e87-b729-4352-8135-41e69df5631d",
   "metadata": {},
   "outputs": [],
   "source": [
    "hasMetals_df.sort_values('acc', ascending=False)"
   ]
  },
  {
   "cell_type": "markdown",
   "id": "c07c6a8e-6cc6-49c8-9097-c9a0060e45f2",
   "metadata": {},
   "source": [
    "## Probing MatBERT"
   ]
  },
  {
   "cell_type": "code",
   "execution_count": null,
   "id": "46c36d72-a33c-4bff-9ab9-7006d9c1279e",
   "metadata": {},
   "outputs": [],
   "source": [
    "# MatBERT\n",
    "tokenizer = AutoTokenizer.from_pretrained(\"../model/model/matbert-base-cased\")\n",
    "model = AutoModelForMaskedLM.from_pretrained(\"../model/model/matbert-base-cased\")"
   ]
  },
  {
   "cell_type": "code",
   "execution_count": null,
   "id": "2f8ecf23-8eb8-4a87-8e1d-641177a59ca4",
   "metadata": {
    "colab": {
     "base_uri": "https://localhost:8080/",
     "height": 35
    },
    "executionInfo": {
     "elapsed": 519,
     "status": "ok",
     "timestamp": 1666143162640,
     "user": {
      "displayName": "Yuan An",
      "userId": "12279868416530647161"
     },
     "user_tz": 240
    },
    "id": "e46f8370-80b4-4f4d-88e0-94b3020a88ab",
    "outputId": "72cea969-0fc5-44ac-c92b-d5e8da4c6e40"
   },
   "outputs": [],
   "source": [
    "mask_token = tokenizer.mask_token\n",
    "mask_token"
   ]
  },
  {
   "cell_type": "markdown",
   "id": "28bb7577-a57c-432c-8f21-2ce188aab3f4",
   "metadata": {
    "id": "yccd3rTy16Yr"
   },
   "source": [
    "## Creat the Prompt Pipeline"
   ]
  },
  {
   "cell_type": "code",
   "execution_count": null,
   "id": "63037587-acd8-4edb-8ccd-d9b4a4bc14a6",
   "metadata": {
    "executionInfo": {
     "elapsed": 257,
     "status": "ok",
     "timestamp": 1666143168997,
     "user": {
      "displayName": "Yuan An",
      "userId": "12279868416530647161"
     },
     "user_tz": 240
    },
    "id": "OoWE2iMqoXHJ"
   },
   "outputs": [],
   "source": [
    "pipe = pipeline(\n",
    "    task=\"fill-mask\",\n",
    "    model=model,\n",
    "    tokenizer=tokenizer,\n",
    "    top_k=100,\n",
    ")"
   ]
  },
  {
   "cell_type": "markdown",
   "id": "6758f62b-b059-4ccd-b3df-b772cc5c420d",
   "metadata": {},
   "source": [
    "## Run"
   ]
  },
  {
   "cell_type": "code",
   "execution_count": null,
   "id": "40c25cc9-4e71-480d-83df-fbc299ccd454",
   "metadata": {},
   "outputs": [],
   "source": [
    "%%time\n",
    "acc_list = []\n",
    "atks = [1, 5, 10, 20, 50, 100]\n",
    "for processor in processors:\n",
    "    result_df = prompt_probe(model, tokenizer, processor, df, mask_token, \\\n",
    "                     'SubjectEntity', 'Relation', 'ObjectEntityName', top_k=100)\n",
    "    result_df['predicted'] = result_df.apply(hasPredicted, axis=1)\n",
    "\n",
    "    prompt_template = processor('{SubjectEntity}', 'hasMetals', '[MASK]')\n",
    "    for at_k in atks:\n",
    "        acc_df = evaluate_acc_n(result_df, 'hasMetals', prompt_template, at_k=at_k)\n",
    "        acc_list.append(acc_df)"
   ]
  },
  {
   "cell_type": "code",
   "execution_count": null,
   "id": "cc2f1965-dfbb-4067-94b5-5857f5ff0e09",
   "metadata": {},
   "outputs": [],
   "source": [
    "hasMetals_df = pd.DataFrame(acc_list)"
   ]
  },
  {
   "cell_type": "code",
   "execution_count": null,
   "id": "fb36b4f3-2dc5-4975-9aef-a47f951420f6",
   "metadata": {
    "id": "EtAuhaBohBxO"
   },
   "outputs": [],
   "source": [
    "hasMetals_df.sample(10)"
   ]
  },
  {
   "cell_type": "code",
   "execution_count": null,
   "id": "3921451e-0ddf-4927-a81e-bd1624705509",
   "metadata": {},
   "outputs": [],
   "source": [
    "result_df.to_csv(\"../data/predicted_hasMetals_MatBERT.csv\", index=None)"
   ]
  },
  {
   "cell_type": "code",
   "execution_count": null,
   "id": "19f24594-0486-4ec1-a795-d1ef696780dd",
   "metadata": {},
   "outputs": [],
   "source": [
    "hasMetals_df.to_csv(\"../data/predicted_hasMetals_MatBERT_eval.csv\", index=None)"
   ]
  },
  {
   "cell_type": "code",
   "execution_count": null,
   "id": "4bcb9b71-a655-45c0-bdda-503046b7884c",
   "metadata": {},
   "outputs": [],
   "source": [
    "hasMetals_df[hasMetals_df['at_k'] == 1].sort_values('acc', ascending=False)"
   ]
  },
  {
   "cell_type": "code",
   "execution_count": null,
   "id": "dfb9dded-0056-41e0-9e6a-676bc99cb70b",
   "metadata": {},
   "outputs": [],
   "source": [
    "hasMetals_df.sort_values('acc', ascending=False)"
   ]
  },
  {
   "cell_type": "markdown",
   "id": "81e0a83a-3ee8-44b5-9228-05163abeb558",
   "metadata": {},
   "source": [
    "## Probing MatSciBERT"
   ]
  },
  {
   "cell_type": "code",
   "execution_count": null,
   "id": "70621025-c440-4ebe-b081-38390ea30aa8",
   "metadata": {},
   "outputs": [],
   "source": [
    "# MatSciBERT\n",
    "tokenizer = AutoTokenizer.from_pretrained('m3rg-iitd/matscibert')\n",
    "model = AutoModelForMaskedLM.from_pretrained('m3rg-iitd/matscibert')"
   ]
  },
  {
   "cell_type": "code",
   "execution_count": null,
   "id": "b863582b-8525-4dcd-a7ff-6877f1d9e655",
   "metadata": {
    "colab": {
     "base_uri": "https://localhost:8080/",
     "height": 35
    },
    "executionInfo": {
     "elapsed": 519,
     "status": "ok",
     "timestamp": 1666143162640,
     "user": {
      "displayName": "Yuan An",
      "userId": "12279868416530647161"
     },
     "user_tz": 240
    },
    "id": "e46f8370-80b4-4f4d-88e0-94b3020a88ab",
    "outputId": "72cea969-0fc5-44ac-c92b-d5e8da4c6e40"
   },
   "outputs": [],
   "source": [
    "mask_token = tokenizer.mask_token\n",
    "mask_token"
   ]
  },
  {
   "cell_type": "markdown",
   "id": "81908035-52e3-409f-9b8c-4b7cdec16ff0",
   "metadata": {
    "id": "yccd3rTy16Yr"
   },
   "source": [
    "## Creat the Prompt Pipeline"
   ]
  },
  {
   "cell_type": "code",
   "execution_count": null,
   "id": "f8f09ba9-cb78-4fb3-8e54-c087f0776d71",
   "metadata": {
    "executionInfo": {
     "elapsed": 257,
     "status": "ok",
     "timestamp": 1666143168997,
     "user": {
      "displayName": "Yuan An",
      "userId": "12279868416530647161"
     },
     "user_tz": 240
    },
    "id": "OoWE2iMqoXHJ"
   },
   "outputs": [],
   "source": [
    "pipe = pipeline(\n",
    "    task=\"fill-mask\",\n",
    "    model=model,\n",
    "    tokenizer=tokenizer,\n",
    "    top_k=100,\n",
    ")"
   ]
  },
  {
   "cell_type": "markdown",
   "id": "ef55395d-3189-4f46-83d7-7e2b13ce8585",
   "metadata": {
    "id": "aWXu0sgCf4jA"
   },
   "source": [
    "## Run"
   ]
  },
  {
   "cell_type": "code",
   "execution_count": null,
   "id": "034e6ad5-3548-45af-9a22-638f2ac220a1",
   "metadata": {},
   "outputs": [],
   "source": [
    "%%time\n",
    "acc_list = []\n",
    "atks = [1, 5, 10, 20, 50, 100]\n",
    "for processor in processors:\n",
    "    result_df = prompt_probe(model, tokenizer, processor, df, mask_token, \\\n",
    "                     'SubjectEntity', 'Relation', 'ObjectEntityName', top_k=100)\n",
    "    result_df['predicted'] = result_df.apply(hasPredicted, axis=1)\n",
    "\n",
    "    prompt_template = processor('{SubjectEntity}', 'hasMetals', '[MASK]')\n",
    "    for at_k in atks:\n",
    "        acc_df = evaluate_acc_n(result_df, 'hasMetals', prompt_template, at_k=at_k)\n",
    "        acc_list.append(acc_df)"
   ]
  },
  {
   "cell_type": "code",
   "execution_count": null,
   "id": "309a817b-f98b-47ff-9e90-8cb1ea35ef89",
   "metadata": {},
   "outputs": [],
   "source": [
    "hasMetals_df = pd.DataFrame(acc_list)"
   ]
  },
  {
   "cell_type": "code",
   "execution_count": null,
   "id": "bc7000a9-95f2-4493-8dfd-c5c8950ef065",
   "metadata": {
    "id": "EtAuhaBohBxO"
   },
   "outputs": [],
   "source": [
    "hasMetals_df.sample(10)"
   ]
  },
  {
   "cell_type": "code",
   "execution_count": null,
   "id": "76b52c40-1297-4bb4-9666-15477befb088",
   "metadata": {},
   "outputs": [],
   "source": [
    "result_df.to_csv(\"../data/predicted_hasMetals_MatSciBERT.csv\", index=None)"
   ]
  },
  {
   "cell_type": "code",
   "execution_count": null,
   "id": "f5e7a42a-42e6-4ba6-912c-b4ebad2b8b5d",
   "metadata": {},
   "outputs": [],
   "source": [
    "hasMetals_df.to_csv(\"../data/predicted_hasMetals_MatSciBERT_eval.csv\", index=None)"
   ]
  },
  {
   "cell_type": "code",
   "execution_count": null,
   "id": "3a4a1dbe-3cf6-4e1e-b591-a6f9bae4c5b3",
   "metadata": {},
   "outputs": [],
   "source": [
    "hasMetals_df[hasMetals_df['at_k'] == 1].sort_values('acc', ascending=False)"
   ]
  },
  {
   "cell_type": "code",
   "execution_count": null,
   "id": "ba8ce08d-802f-4301-aed8-0ebdd2aadf3e",
   "metadata": {},
   "outputs": [],
   "source": [
    "hasMetals_df.sort_values('acc', ascending=False)"
   ]
  },
  {
   "cell_type": "markdown",
   "id": "7ea82684-73f7-4a08-a2d4-9529b1328672",
   "metadata": {},
   "source": [
    "## Probing SciBERT"
   ]
  },
  {
   "cell_type": "code",
   "execution_count": null,
   "id": "0937d1db-d5c2-47e1-a920-e7c8a667f003",
   "metadata": {},
   "outputs": [],
   "source": [
    "# SciBERT\n",
    "tokenizer = AutoTokenizer.from_pretrained('allenai/scibert_scivocab_cased')\n",
    "model = AutoModelForMaskedLM.from_pretrained('allenai/scibert_scivocab_cased')"
   ]
  },
  {
   "cell_type": "code",
   "execution_count": null,
   "id": "a2fc4405-4e30-4d3e-a989-004e4d45762f",
   "metadata": {
    "colab": {
     "base_uri": "https://localhost:8080/",
     "height": 35
    },
    "executionInfo": {
     "elapsed": 519,
     "status": "ok",
     "timestamp": 1666143162640,
     "user": {
      "displayName": "Yuan An",
      "userId": "12279868416530647161"
     },
     "user_tz": 240
    },
    "id": "e46f8370-80b4-4f4d-88e0-94b3020a88ab",
    "outputId": "72cea969-0fc5-44ac-c92b-d5e8da4c6e40"
   },
   "outputs": [],
   "source": [
    "mask_token = tokenizer.mask_token\n",
    "mask_token"
   ]
  },
  {
   "cell_type": "markdown",
   "id": "96d62e1c-8831-466d-a4ad-b75a5fb1d243",
   "metadata": {
    "id": "yccd3rTy16Yr"
   },
   "source": [
    "## Creat the Prompt Pipeline"
   ]
  },
  {
   "cell_type": "code",
   "execution_count": null,
   "id": "52858ece-f1f0-46ed-887f-5e9f4d84650e",
   "metadata": {
    "executionInfo": {
     "elapsed": 257,
     "status": "ok",
     "timestamp": 1666143168997,
     "user": {
      "displayName": "Yuan An",
      "userId": "12279868416530647161"
     },
     "user_tz": 240
    },
    "id": "OoWE2iMqoXHJ"
   },
   "outputs": [],
   "source": [
    "pipe = pipeline(\n",
    "    task=\"fill-mask\",\n",
    "    model=model,\n",
    "    tokenizer=tokenizer,\n",
    "    top_k=100,\n",
    ")"
   ]
  },
  {
   "cell_type": "markdown",
   "id": "59175dfd-eba6-4658-851d-3103be68d58d",
   "metadata": {
    "id": "aWXu0sgCf4jA"
   },
   "source": [
    "## Run"
   ]
  },
  {
   "cell_type": "code",
   "execution_count": null,
   "id": "32f25f68-08b2-4731-a359-4723b2d70d7b",
   "metadata": {},
   "outputs": [],
   "source": [
    "%%time\n",
    "acc_list = []\n",
    "atks = [1, 5, 10, 20, 50, 100]\n",
    "for processor in processors:\n",
    "    result_df = prompt_probe(model, tokenizer, processor, df, mask_token, \\\n",
    "                     'SubjectEntity', 'Relation', 'ObjectEntityName', top_k=100)\n",
    "    result_df['predicted'] = result_df.apply(hasPredicted, axis=1)\n",
    "\n",
    "    prompt_template = processor('{SubjectEntity}', 'hasMetals', '[MASK]')\n",
    "    for at_k in atks:\n",
    "        acc_df = evaluate_acc_n(result_df, 'hasMetals', prompt_template, at_k=at_k)\n",
    "        acc_list.append(acc_df)"
   ]
  },
  {
   "cell_type": "code",
   "execution_count": null,
   "id": "f568b7bf-81b8-4f08-af4f-531b761c5c66",
   "metadata": {},
   "outputs": [],
   "source": [
    "hasMetals_df = pd.DataFrame(acc_list)"
   ]
  },
  {
   "cell_type": "code",
   "execution_count": null,
   "id": "d3f0a06f-8f42-455a-9ecb-f319fb2450cf",
   "metadata": {
    "id": "EtAuhaBohBxO"
   },
   "outputs": [],
   "source": [
    "hasMetals_df.sample(10)"
   ]
  },
  {
   "cell_type": "code",
   "execution_count": null,
   "id": "4bc374ef-42db-48b4-851d-665c64f87191",
   "metadata": {},
   "outputs": [],
   "source": [
    "result_df.to_csv(\"../data/predicted_hasMetals_SciBERT.csv\", index=None)"
   ]
  },
  {
   "cell_type": "code",
   "execution_count": null,
   "id": "6c263083-be61-4adf-bf5a-71974d0c6b85",
   "metadata": {},
   "outputs": [],
   "source": [
    "hasMetals_df.to_csv(\"../data/predicted_hasMetals_SciBERT_eval.csv\", index=None)"
   ]
  },
  {
   "cell_type": "code",
   "execution_count": null,
   "id": "b7a56953-9561-446f-aec4-ed057de5632c",
   "metadata": {},
   "outputs": [],
   "source": [
    "hasMetals_df[hasMetals_df['at_k'] == 1].sort_values('acc', ascending=False)"
   ]
  },
  {
   "cell_type": "code",
   "execution_count": null,
   "id": "39f6a3a5-8b36-480c-8780-b3ac3cebbc46",
   "metadata": {},
   "outputs": [],
   "source": [
    "hasMetals_df.sort_values('acc', ascending=False)"
   ]
  },
  {
   "cell_type": "markdown",
   "id": "5d7b49c1-f5d7-49b0-ac15-ea4fa03b36c6",
   "metadata": {},
   "source": [
    "## Probing RoBERTa"
   ]
  },
  {
   "cell_type": "code",
   "execution_count": null,
   "id": "9a1c9f77-493e-49ee-974a-3bbf6bdecd9f",
   "metadata": {},
   "outputs": [],
   "source": [
    "# RoBERTa\n",
    "tokenizer = AutoTokenizer.from_pretrained(\"roberta-large\")\n",
    "model = AutoModelForMaskedLM.from_pretrained(\"roberta-large\")"
   ]
  },
  {
   "cell_type": "code",
   "execution_count": null,
   "id": "d98083f6-f285-4338-839c-d28d37b2471e",
   "metadata": {
    "colab": {
     "base_uri": "https://localhost:8080/",
     "height": 35
    },
    "executionInfo": {
     "elapsed": 519,
     "status": "ok",
     "timestamp": 1666143162640,
     "user": {
      "displayName": "Yuan An",
      "userId": "12279868416530647161"
     },
     "user_tz": 240
    },
    "id": "e46f8370-80b4-4f4d-88e0-94b3020a88ab",
    "outputId": "72cea969-0fc5-44ac-c92b-d5e8da4c6e40"
   },
   "outputs": [],
   "source": [
    "mask_token = tokenizer.mask_token\n",
    "mask_token"
   ]
  },
  {
   "cell_type": "markdown",
   "id": "e20f666a-7b98-43ad-b6a4-920c3deef28a",
   "metadata": {
    "id": "yccd3rTy16Yr"
   },
   "source": [
    "## Creat the Prompt Pipeline"
   ]
  },
  {
   "cell_type": "code",
   "execution_count": null,
   "id": "65b918b6-96ee-4304-8f1b-dc85b6faa7d2",
   "metadata": {
    "executionInfo": {
     "elapsed": 257,
     "status": "ok",
     "timestamp": 1666143168997,
     "user": {
      "displayName": "Yuan An",
      "userId": "12279868416530647161"
     },
     "user_tz": 240
    },
    "id": "OoWE2iMqoXHJ"
   },
   "outputs": [],
   "source": [
    "pipe = pipeline(\n",
    "    task=\"fill-mask\",\n",
    "    model=model,\n",
    "    tokenizer=tokenizer,\n",
    "    top_k=100,\n",
    ")"
   ]
  },
  {
   "cell_type": "markdown",
   "id": "7eef9e5d-906e-4103-91c2-b95c25163642",
   "metadata": {
    "id": "aWXu0sgCf4jA"
   },
   "source": [
    "## Run"
   ]
  },
  {
   "cell_type": "code",
   "execution_count": null,
   "id": "a09fbca6-bee0-4b7b-9de7-b94e6001c4bf",
   "metadata": {},
   "outputs": [],
   "source": [
    "%%time\n",
    "acc_list = []\n",
    "atks = [1, 5, 10, 20, 50, 100]\n",
    "for processor in processors:\n",
    "    result_df = prompt_probe(model, tokenizer, processor, df, mask_token, \\\n",
    "                     'SubjectEntity', 'Relation', 'ObjectEntityName', top_k=100)\n",
    "    result_df['predicted'] = result_df.apply(hasPredicted, axis=1)\n",
    "\n",
    "    prompt_template = processor('{SubjectEntity}', 'hasMetals', '[MASK]')\n",
    "    for at_k in atks:\n",
    "        acc_df = evaluate_acc_n(result_df, 'hasMetals', prompt_template, at_k=at_k)\n",
    "        acc_list.append(acc_df)"
   ]
  },
  {
   "cell_type": "code",
   "execution_count": null,
   "id": "e6898465-206c-40ed-973a-9b7578a57339",
   "metadata": {},
   "outputs": [],
   "source": [
    "hasMetals_df = pd.DataFrame(acc_list)"
   ]
  },
  {
   "cell_type": "code",
   "execution_count": null,
   "id": "76d57739-4274-46ca-987f-dba1899ed347",
   "metadata": {
    "id": "EtAuhaBohBxO"
   },
   "outputs": [],
   "source": [
    "hasMetals_df.sample(10)"
   ]
  },
  {
   "cell_type": "code",
   "execution_count": null,
   "id": "eb9b9a2b-6f6c-4c95-b02b-36c90b9b8a81",
   "metadata": {},
   "outputs": [],
   "source": [
    "result_df.to_csv(\"../data/predicted_hasMetals_RoBERTa.csv\", index=None)"
   ]
  },
  {
   "cell_type": "code",
   "execution_count": null,
   "id": "cec2f151-b202-4f8d-82c8-2f4b7a3e3904",
   "metadata": {},
   "outputs": [],
   "source": [
    "hasMetals_df.to_csv(\"../data/predicted_hasMetals_RoBERTa_eval.csv\", index=None)"
   ]
  },
  {
   "cell_type": "code",
   "execution_count": null,
   "id": "c00bb535-f7a1-4cb6-9185-c0f23e5075aa",
   "metadata": {},
   "outputs": [],
   "source": [
    "hasMetals_df[hasMetals_df['at_k'] == 1].sort_values('acc', ascending=False)"
   ]
  },
  {
   "cell_type": "code",
   "execution_count": null,
   "id": "abe12c8a-a813-40a5-b03e-ec5d8a3f78d6",
   "metadata": {},
   "outputs": [],
   "source": [
    "hasMetals_df.sort_values('acc', ascending=False)"
   ]
  },
  {
   "cell_type": "code",
   "execution_count": null,
   "id": "3f22b669-4c68-4e50-b752-afaa0ab4fa14",
   "metadata": {},
   "outputs": [],
   "source": []
  },
  {
   "cell_type": "markdown",
   "id": "63de09f0-15da-4d82-8a71-a05b2379542a",
   "metadata": {
    "id": "55e44848-77fb-4130-b77d-abc302536a6e"
   },
   "source": [
    "# MOFs LM Probing for isMOF"
   ]
  },
  {
   "cell_type": "code",
   "execution_count": null,
   "id": "f5dd1c6b-e5e2-43e1-9587-a90ebd22afbb",
   "metadata": {
    "id": "e93a1557-c1ce-4aeb-b3c3-13a75b6cb8fa"
   },
   "outputs": [],
   "source": [
    "from baseline import PromptSet\n",
    "\n",
    "from tqdm.auto import tqdm\n",
    "from nltk.corpus import stopwords\n",
    "\n",
    "import pandas as pd\n",
    "\n",
    "from transformers import AutoTokenizer, AutoModelForMaskedLM, pipeline, logging\n",
    "\n",
    "logging.set_verbosity_error()  # avoid irritating transformers warnings"
   ]
  },
  {
   "cell_type": "markdown",
   "id": "e85dd474-6eac-409a-b7d3-c7bf8f45477f",
   "metadata": {
    "id": "5a4cbdfc-8b9d-42fa-aea5-8646ac19b6a3"
   },
   "source": [
    "## Read in the Triples"
   ]
  },
  {
   "cell_type": "code",
   "execution_count": null,
   "id": "8dd52d04-e7f5-45d9-97d2-948d9a1329dc",
   "metadata": {
    "id": "MLkxHoS6eiLd",
    "tags": []
   },
   "outputs": [],
   "source": [
    "file = \"../data/mof_synonyms.csv\""
   ]
  },
  {
   "cell_type": "code",
   "execution_count": null,
   "id": "98af84ed-1a15-467b-86ed-234fa9dce3e8",
   "metadata": {
    "colab": {
     "base_uri": "https://localhost:8080/",
     "height": 206
    },
    "executionInfo": {
     "elapsed": 218,
     "status": "ok",
     "timestamp": 1666145237368,
     "user": {
      "displayName": "Yuan An",
      "userId": "12279868416530647161"
     },
     "user_tz": 240
    },
    "id": "ax2E8N1rgva0",
    "outputId": "fe0e0d7c-704f-4c14-a150-262142a81688"
   },
   "outputs": [],
   "source": [
    "df = pd.read_csv(file)\n",
    "df.head()"
   ]
  },
  {
   "cell_type": "code",
   "execution_count": null,
   "id": "80e2daa8-985d-4a83-a311-07006ad00368",
   "metadata": {
    "colab": {
     "base_uri": "https://localhost:8080/"
    },
    "executionInfo": {
     "elapsed": 268,
     "status": "ok",
     "timestamp": 1666143184741,
     "user": {
      "displayName": "Yuan An",
      "userId": "12279868416530647161"
     },
     "user_tz": 240
    },
    "id": "0dlsYbQbJR_Y",
    "outputId": "b4d98260-799e-4cad-c383-059c810c116b"
   },
   "outputs": [],
   "source": [
    "df.shape"
   ]
  },
  {
   "cell_type": "markdown",
   "id": "6296f3f5-0155-4f37-a46b-57a3aa3321b8",
   "metadata": {
    "id": "DAhYPWvq1zc-"
   },
   "source": [
    "## Probing BERT"
   ]
  },
  {
   "cell_type": "code",
   "execution_count": null,
   "id": "ec8c78b2-7f0e-45c1-ab01-40691211f541",
   "metadata": {
    "id": "f12c0fd2-6951-4098-9769-48ab3c98e90b"
   },
   "outputs": [],
   "source": [
    "tokenizer = AutoTokenizer.from_pretrained(\"bert-large-cased\")\n",
    "model = AutoModelForMaskedLM.from_pretrained(\"bert-large-cased\")"
   ]
  },
  {
   "cell_type": "code",
   "execution_count": null,
   "id": "e0ee38ad-f59b-4bc8-bd33-02397263a0d0",
   "metadata": {
    "colab": {
     "base_uri": "https://localhost:8080/",
     "height": 35
    },
    "executionInfo": {
     "elapsed": 519,
     "status": "ok",
     "timestamp": 1666143162640,
     "user": {
      "displayName": "Yuan An",
      "userId": "12279868416530647161"
     },
     "user_tz": 240
    },
    "id": "e46f8370-80b4-4f4d-88e0-94b3020a88ab",
    "outputId": "72cea969-0fc5-44ac-c92b-d5e8da4c6e40"
   },
   "outputs": [],
   "source": [
    "mask_token = tokenizer.mask_token\n",
    "mask_token"
   ]
  },
  {
   "cell_type": "markdown",
   "id": "7fb8abfc-e822-4273-a37b-ff51b2844323",
   "metadata": {
    "id": "yccd3rTy16Yr"
   },
   "source": [
    "## Creat the Prompt Pipeline"
   ]
  },
  {
   "cell_type": "code",
   "execution_count": null,
   "id": "e66d91a5-5e2c-49e1-9268-39d8cc4c853e",
   "metadata": {
    "id": "OoWE2iMqoXHJ"
   },
   "outputs": [],
   "source": [
    "pipe = pipeline(\n",
    "    task=\"fill-mask\",\n",
    "    model=model,\n",
    "    tokenizer=tokenizer,\n",
    "    top_k=100,\n",
    ")"
   ]
  },
  {
   "cell_type": "markdown",
   "id": "6c940c6c-be8a-4e68-a9ed-ceb5e2e74a91",
   "metadata": {
    "id": "aWXu0sgCf4jA"
   },
   "source": [
    "## Create Prompts"
   ]
  },
  {
   "cell_type": "code",
   "execution_count": null,
   "id": "7f0bdbf6-21ef-4826-946c-8af366a40a06",
   "metadata": {
    "id": "Z5vtJepsgl4c"
   },
   "outputs": [],
   "source": [
    "def create_type_prompt1(sub, mask):\n",
    "    return f\"{sub} is an {mask} material.\"\n",
    "    \n",
    "def create_type_prompt2(sub, mask):\n",
    "    return f\"{sub} is an {mask} structure.\"\n",
    "\n",
    "def create_type_prompt3(sub, mask):\n",
    "    return f\"{sub} is an {mask}.\"\n",
    "\n",
    "def create_type_prompt4(sub, mask):\n",
    "    return f\"{sub} is an {mask} made of metal center and organic linkers.\"\n",
    "    \n",
    "def create_type_prompt5(sub, mask):\n",
    "    return f\"{sub} is an {mask} material containing metal center and organic linkers.\"\n",
    "    \n",
    "def create_type_prompt6(sub, mask):\n",
    "    return f\"{sub} is an {mask} structure with metal center and organic linkers.\" \n",
    "    \n",
    "def create_type_prompt7(sub, mask):\n",
    "    return f\"{sub} is an type of {mask} material.\"\n",
    "    \n",
    "def create_type_prompt8(sub, mask):\n",
    "    return f\"{sub} is in the class of {mask} material.\"\n",
    "    \n",
    "def create_type_prompt9(sub, mask):\n",
    "    return f\"{sub} has SBUs and organic linkers. The type of {sub} is {mask}.\"\n",
    "    \n",
    "def create_type_prompt10(sub, mask):\n",
    "    return f\"{sub} is a type of polymer with metal clusters and organic linkers. {sub} is an {mask} framework.\"\n",
    "    \n",
    "def create_type_prompt11(sub, mask):\n",
    "    return f\"{sub} is an type of {mask}.\"\n",
    "    \n",
    "def create_type_prompt12(sub, mask):\n",
    "    return f\"The porous structure of {sub} makes it an {mask}.\""
   ]
  },
  {
   "cell_type": "code",
   "execution_count": null,
   "id": "74951b20-719f-40d2-82f1-29e0d504e14a",
   "metadata": {
    "id": "oQEIANBrgl4c"
   },
   "outputs": [],
   "source": [
    "processors = [create_type_prompt1, create_type_prompt2,\n",
    "              create_type_prompt3, create_type_prompt4,\n",
    "              create_type_prompt5, create_type_prompt6,\n",
    "              create_type_prompt7, create_type_prompt8,\n",
    "              create_type_prompt9, create_type_prompt10,\n",
    "              create_type_prompt11, create_type_prompt12\n",
    "             ]"
   ]
  },
  {
   "cell_type": "markdown",
   "id": "ee86ea4d-5753-4440-882e-e42963c3c4b3",
   "metadata": {
    "id": "869312a9-6133-40b7-9acb-ca499874b814"
   },
   "source": [
    "## Test BERT"
   ]
  },
  {
   "cell_type": "code",
   "execution_count": null,
   "id": "316349be-2a66-4d2f-adce-31b7094699a2",
   "metadata": {
    "id": "MVAuqvu8f8fl"
   },
   "outputs": [],
   "source": [
    "def prompt_probe(model, tokenizer, prompt_processor, df_sub, mask_token, \\\n",
    "                 subjectCol, relationCol, objectCol, top_k=100):\n",
    "\n",
    "    pipe = pipeline(\n",
    "        task=\"fill-mask\",\n",
    "        model=model,\n",
    "        tokenizer=tokenizer,\n",
    "        top_k=top_k,\n",
    "    )\n",
    "\n",
    "    prompts = PromptSet([prompt_processor(row.SubjectEntity, mask_token) for _, row in df_sub.iterrows()])\n",
    "\n",
    "    outputs = []\n",
    "    for out in tqdm(pipe(prompts, batch_size=8), total=len(prompts)):\n",
    "        outputs.append(out)\n",
    "\n",
    "    results = []\n",
    "    for idx, row in df_sub.iterrows():\n",
    "        for output in outputs[idx]:\n",
    "            record = {}\n",
    "            record['SubjectEntity'] = row[subjectCol]\n",
    "            record['Relation'] = row[relationCol]\n",
    "            record['ObjectEntity'] = row[objectCol]\n",
    "            record['prompt']= prompts[idx]\n",
    "            record['predictedScore'] = output['score']\n",
    "            record['predictedToken'] = output['token_str']\n",
    "            results.append(record)\n",
    "\n",
    "    return pd.DataFrame(results)"
   ]
  },
  {
   "cell_type": "code",
   "execution_count": null,
   "id": "b771a7a0-1faf-49cc-b7f2-a55fe2cf73d4",
   "metadata": {
    "id": "6fa5eaa4-4551-420f-bde9-d5be3f5fb399"
   },
   "outputs": [],
   "source": [
    "# Compute a column indicating whether the predictedToken in the ObjectEntity list\n",
    "def hasPredicted(row):\n",
    "    token = row['predictedToken']\n",
    "    objectEntities = row['ObjectEntity']\n",
    "    #print(objectEntities)\n",
    "    if pd.notna(objectEntities):\n",
    "        types = objectEntities.split(\",\") # get individual types\n",
    "        for tp in types: # for each type\n",
    "            type_words = tp.lower().split() # get the individual words in the type\n",
    "            if token.lower() in type_words: # check if a type word was predicted\n",
    "                return 1\n",
    "       \n",
    "    return 0"
   ]
  },
  {
   "cell_type": "code",
   "execution_count": null,
   "id": "086b00ab-ccb0-4a04-adf6-ac91de943e87",
   "metadata": {
    "id": "KsUSnkZ7l-5U"
   },
   "outputs": [],
   "source": [
    "# return the top-k rows based on predictedScore\n",
    "def top(df, col, n=10):\n",
    "    return df.sort_values(by=col, ascending=False)[:n]"
   ]
  },
  {
   "cell_type": "code",
   "execution_count": null,
   "id": "53f3734e-3601-45c1-ad96-8d4ab12e53e7",
   "metadata": {
    "id": "FsnJPxPBl-5V"
   },
   "outputs": [],
   "source": [
    "# check whether the predicted is 1 for each group\n",
    "def predictedOne(df, col):\n",
    "    total = df[col].sum()\n",
    "    if total > 0:\n",
    "        return 1\n",
    "    else:\n",
    "        return 0"
   ]
  },
  {
   "cell_type": "code",
   "execution_count": null,
   "id": "0717c335-6c9f-43fa-822c-f889aa0d4392",
   "metadata": {
    "id": "YTMrQugZl-5V"
   },
   "outputs": [],
   "source": [
    "# Assume the predicted_df has a binary column 'predicted' indicating whether ObjectEntity has been predicted\n",
    "# 1 for yes, 0 for no\n",
    "def evaluate_acc_n(predicted_df, relation, prompt_template, at_k=5):\n",
    "    topk_df = predicted_df.groupby('SubjectEntity', as_index=False).apply(top, col='predictedScore', n=at_k)\n",
    "    topk_agg_df = topk_df.groupby('SubjectEntity', as_index=False).apply(predictedOne, col='predicted')\n",
    "    topk_agg_df.columns = ['SubjectEntity', 'predicted']\n",
    "    result = {}\n",
    "    result['Relation'] = relation\n",
    "    result['prompt_template'] = prompt_template\n",
    "    result['acc'] = topk_agg_df.predicted.mean()\n",
    "    result['at_k'] = at_k\n",
    "\n",
    "    return result"
   ]
  },
  {
   "cell_type": "code",
   "execution_count": null,
   "id": "7424f6be-3b7c-455c-9360-4a488b919049",
   "metadata": {
    "id": "55688b85-e2dd-4172-b199-cd3ca4cd3353"
   },
   "outputs": [],
   "source": [
    "pd.set_option('display.max_colwidth', None)"
   ]
  },
  {
   "cell_type": "code",
   "execution_count": null,
   "id": "260d31f5-f1fd-4299-8bcc-4d7da9227e7c",
   "metadata": {
    "colab": {
     "referenced_widgets": [
      "56008ba1cc1048229d273859cf3a9f72",
      "67f05cb0922c4694bf6f0eb0c00c9674",
      "7815775494ba49e5800c613f5da8e26f",
      "31681d5397b446549cec36be59b8d34f",
      "acc5ed67b2ed404397089fa96427a0e3",
      "799914ed9b054a68bc6d04ec9169bfd8",
      "a932f66da2224198b115ae06f48238e5",
      "c2ca39a13b9b40ecba89a715b754bd53",
      "fae33b5336d0447bbed0fc0b39f4a51a",
      "664864166bd74c4690f6586478a973fb",
      "5e5a5abeabce4115991c85ea746b4921",
      "3903094407e84ad7b87b29aff8801366"
     ]
    },
    "id": "b0190f3f-b9a6-4d57-83fa-e3bb3acf828a",
    "outputId": "029d4449-8c6a-4b26-9848-fb234717995d"
   },
   "outputs": [],
   "source": [
    "%%time\n",
    "acc_list = []\n",
    "atks = [1, 5, 10, 20, 50, 100]\n",
    "for processor in processors:\n",
    "    result_df = prompt_probe(model, tokenizer, processor, df, mask_token, \\\n",
    "                     'SubjectEntity', 'Relation', 'ObjectEntity', top_k=100)\n",
    "    result_df['predicted'] = result_df.apply(hasPredicted, axis=1)\n",
    "\n",
    "    prompt_template = processor('{SubjectEntity}', '[MASK]')\n",
    "    for at_k in atks:\n",
    "        acc_df = evaluate_acc_n(result_df, 'isTypeMOF', prompt_template, at_k=at_k)\n",
    "        acc_list.append(acc_df)"
   ]
  },
  {
   "cell_type": "code",
   "execution_count": null,
   "id": "fd543521-fcd8-4998-8ae0-0cac4282be94",
   "metadata": {
    "id": "f822f7ba-11eb-476a-aa60-074b00894d9f"
   },
   "outputs": [],
   "source": [
    "hasType_df = pd.DataFrame(acc_list)"
   ]
  },
  {
   "cell_type": "code",
   "execution_count": null,
   "id": "6903049f-9a95-4bf8-844e-39b9ff8c2f1a",
   "metadata": {
    "id": "EtAuhaBohBxO",
    "outputId": "381756c8-b1cf-4e29-c8b3-e1e9276ee30b"
   },
   "outputs": [],
   "source": [
    "hasType_df.sample(10)"
   ]
  },
  {
   "cell_type": "code",
   "execution_count": null,
   "id": "2dbfec77-4585-4600-9b72-9b79f62ffa37",
   "metadata": {
    "id": "c880c81b-929e-4eef-a98c-defcfd0369d7"
   },
   "outputs": [],
   "source": [
    "result_df.to_csv(\"../data/predicted_hasType_BERT.csv\", index=None)"
   ]
  },
  {
   "cell_type": "code",
   "execution_count": null,
   "id": "aad9059d-c764-483f-9b9f-9fd4f2890913",
   "metadata": {
    "id": "7fe702fb-17f6-4cc3-9149-14bc7ca14a03"
   },
   "outputs": [],
   "source": [
    "hasType_df.to_csv(\"../data/predicted_hasType_BERT_eval.csv\", index=None)"
   ]
  },
  {
   "cell_type": "code",
   "execution_count": null,
   "id": "0cafdbc2-26a1-4431-8564-125d54393ac4",
   "metadata": {
    "id": "d3299e52-ecf9-4ef6-b4e4-b8f6e21f6d6f",
    "outputId": "48682dab-de5e-4143-96d1-08dc3e0bbf17"
   },
   "outputs": [],
   "source": [
    "hasType_df[hasType_df['at_k'] == 1].sort_values('acc', ascending=False)"
   ]
  },
  {
   "cell_type": "code",
   "execution_count": null,
   "id": "bf0c9494-e114-40c2-95dc-5b5b25d6724b",
   "metadata": {
    "id": "987f0e87-b729-4352-8135-41e69df5631d",
    "outputId": "62e11d61-0376-4cb4-a5c7-273dc4846175"
   },
   "outputs": [],
   "source": [
    "hasType_df.sort_values('acc', ascending=False)"
   ]
  },
  {
   "cell_type": "markdown",
   "id": "824a95f4-4bb5-4da9-b4e1-0b00059b3f32",
   "metadata": {
    "id": "c07c6a8e-6cc6-49c8-9097-c9a0060e45f2"
   },
   "source": [
    "## Probing MatBERT"
   ]
  },
  {
   "cell_type": "code",
   "execution_count": null,
   "id": "ad682ba0-ded6-43e0-89b8-db268c8566af",
   "metadata": {
    "id": "46c36d72-a33c-4bff-9ab9-7006d9c1279e"
   },
   "outputs": [],
   "source": [
    "# MatBERT\n",
    "tokenizer = AutoTokenizer.from_pretrained(\"../model/model/matbert-base-cased\")\n",
    "model = AutoModelForMaskedLM.from_pretrained(\"../model/model/matbert-base-cased\")"
   ]
  },
  {
   "cell_type": "code",
   "execution_count": null,
   "id": "74b97a7a-740b-43f3-bf04-adce505713c9",
   "metadata": {
    "colab": {
     "base_uri": "https://localhost:8080/",
     "height": 35
    },
    "executionInfo": {
     "elapsed": 519,
     "status": "ok",
     "timestamp": 1666143162640,
     "user": {
      "displayName": "Yuan An",
      "userId": "12279868416530647161"
     },
     "user_tz": 240
    },
    "id": "2f8ecf23-8eb8-4a87-8e1d-641177a59ca4",
    "outputId": "72cea969-0fc5-44ac-c92b-d5e8da4c6e40"
   },
   "outputs": [],
   "source": [
    "mask_token = tokenizer.mask_token\n",
    "mask_token"
   ]
  },
  {
   "cell_type": "markdown",
   "id": "087e934c-b148-4a05-a111-d210e0bba95d",
   "metadata": {
    "id": "28bb7577-a57c-432c-8f21-2ce188aab3f4"
   },
   "source": [
    "## Creat the Prompt Pipeline"
   ]
  },
  {
   "cell_type": "code",
   "execution_count": null,
   "id": "57387688-fae7-42d3-bb49-defa546658a9",
   "metadata": {
    "id": "63037587-acd8-4edb-8ccd-d9b4a4bc14a6"
   },
   "outputs": [],
   "source": [
    "pipe = pipeline(\n",
    "    task=\"fill-mask\",\n",
    "    model=model,\n",
    "    tokenizer=tokenizer,\n",
    "    top_k=100,\n",
    ")"
   ]
  },
  {
   "cell_type": "markdown",
   "id": "b59f13e3-971b-4c01-b5e1-6cb4a72eae5b",
   "metadata": {
    "id": "3a2cd5b0-ceb3-492a-9e3c-b2ef98e0f75e"
   },
   "source": [
    "## Run"
   ]
  },
  {
   "cell_type": "code",
   "execution_count": null,
   "id": "9e6bb358-8f19-4ecc-b4b6-6a6895f86755",
   "metadata": {
    "colab": {
     "referenced_widgets": [
      "e07a9832b53a4cfdb2e334811587400d",
      "fccfd483f6c7478e86c29ccb70430aca",
      "2671b3973b564fae840e5f8e62374233",
      "5a435324fcb446229a44b262de71fd34",
      "e35781392ba84c77bef994610889967e",
      "215fab4498fb4dc082a1a8ac50077c43",
      "0665737b1ae34ad19fd5f3da01ff1404",
      "5fce8c0d54bf498cb46f2a291a6652df",
      "006dbd032d8846b0acc8d8d04ea34bb4",
      "8a717ab018ed4d3e8966e78f2a0d0e94",
      "9635b52540d447809dc89c992f6ed0c2",
      "bd776459d05f41f8b58d45140f163c11"
     ]
    },
    "id": "40c25cc9-4e71-480d-83df-fbc299ccd454",
    "outputId": "0c8867cf-037c-4a48-9b43-9139f960c9c0"
   },
   "outputs": [],
   "source": [
    "%%time\n",
    "acc_list = []\n",
    "atks = [1, 5, 10, 20, 50, 100]\n",
    "for processor in processors:\n",
    "    result_df = prompt_probe(model, tokenizer, processor, df, mask_token, \\\n",
    "                     'SubjectEntity', 'Relation', 'ObjectEntity', top_k=100)\n",
    "    result_df['predicted'] = result_df.apply(hasPredicted, axis=1)\n",
    "\n",
    "    prompt_template = processor('{SubjectEntity}', '[MASK]')\n",
    "    for at_k in atks:\n",
    "        acc_df = evaluate_acc_n(result_df, 'isTypeMOF', prompt_template, at_k=at_k)\n",
    "        acc_list.append(acc_df)"
   ]
  },
  {
   "cell_type": "code",
   "execution_count": null,
   "id": "5baf23dd-952d-412a-a7cd-f751d8a290de",
   "metadata": {
    "id": "02a8ec37-fdeb-4c5b-bb1b-f02ab220cc52"
   },
   "outputs": [],
   "source": [
    "hasType_df = pd.DataFrame(acc_list)"
   ]
  },
  {
   "cell_type": "code",
   "execution_count": null,
   "id": "8d3300db-5022-4305-a319-fd03a05843d5",
   "metadata": {
    "id": "ec452969-ff1f-4c4e-8835-357d94046631",
    "outputId": "068be9d4-5141-4e80-ad9f-78cf2352e4cb"
   },
   "outputs": [],
   "source": [
    "hasType_df.sample(10)"
   ]
  },
  {
   "cell_type": "code",
   "execution_count": null,
   "id": "c7bb67df-61ab-4ee1-a4a6-d04b13d1330d",
   "metadata": {
    "id": "91784d92-ce16-4e12-bfcc-3fe029e4454f"
   },
   "outputs": [],
   "source": [
    "result_df.to_csv(\"../data/predicted_hasType_MatBERT.csv\", index=None)"
   ]
  },
  {
   "cell_type": "code",
   "execution_count": null,
   "id": "8c0084e1-b855-4d47-9671-aecf06bffebe",
   "metadata": {
    "id": "d9956d44-419e-4ed7-8575-8c424548f7a6"
   },
   "outputs": [],
   "source": [
    "hasType_df.to_csv(\"../data/predicted_hasType_MatBERT_eval.csv\", index=None)"
   ]
  },
  {
   "cell_type": "code",
   "execution_count": null,
   "id": "6a0ac2e2-7f41-4eea-b994-cecda2aeefac",
   "metadata": {
    "id": "2474feab-c4df-452e-af55-273fdbc54d36",
    "outputId": "cb65254c-aa2c-4135-ff24-9d8461fa22bc"
   },
   "outputs": [],
   "source": [
    "hasType_df[hasType_df['at_k'] == 1].sort_values('acc', ascending=False)"
   ]
  },
  {
   "cell_type": "code",
   "execution_count": null,
   "id": "91e40a94-84a8-4006-aaa3-3324087c2776",
   "metadata": {
    "id": "6279b12a-aa4d-43ef-8a21-1609b54d8ff2",
    "outputId": "a7d45efa-84be-44ed-e69f-b2763a8b87b6"
   },
   "outputs": [],
   "source": [
    "hasType_df.sort_values('acc', ascending=False)"
   ]
  },
  {
   "cell_type": "markdown",
   "id": "c650c9f7-1284-4d81-9744-197410abd9e5",
   "metadata": {
    "id": "81e0a83a-3ee8-44b5-9228-05163abeb558"
   },
   "source": [
    "## Probing MatSciBERT"
   ]
  },
  {
   "cell_type": "code",
   "execution_count": null,
   "id": "f6a5b372-de00-474c-b4a1-0d07aa3720e8",
   "metadata": {
    "id": "70621025-c440-4ebe-b081-38390ea30aa8"
   },
   "outputs": [],
   "source": [
    "# MatSciBERT\n",
    "tokenizer = AutoTokenizer.from_pretrained('m3rg-iitd/matscibert')\n",
    "model = AutoModelForMaskedLM.from_pretrained('m3rg-iitd/matscibert')"
   ]
  },
  {
   "cell_type": "code",
   "execution_count": null,
   "id": "baab6d5b-f63c-4aa9-8d17-16aaba0390f5",
   "metadata": {
    "colab": {
     "base_uri": "https://localhost:8080/",
     "height": 35
    },
    "executionInfo": {
     "elapsed": 519,
     "status": "ok",
     "timestamp": 1666143162640,
     "user": {
      "displayName": "Yuan An",
      "userId": "12279868416530647161"
     },
     "user_tz": 240
    },
    "id": "b863582b-8525-4dcd-a7ff-6877f1d9e655",
    "outputId": "72cea969-0fc5-44ac-c92b-d5e8da4c6e40"
   },
   "outputs": [],
   "source": [
    "mask_token = tokenizer.mask_token\n",
    "mask_token"
   ]
  },
  {
   "cell_type": "markdown",
   "id": "db7d4ee4-3e52-4362-9b19-10e319c587c5",
   "metadata": {
    "id": "81908035-52e3-409f-9b8c-4b7cdec16ff0"
   },
   "source": [
    "## Creat the Prompt Pipeline"
   ]
  },
  {
   "cell_type": "code",
   "execution_count": null,
   "id": "13dd5b1b-d8f1-4c15-af28-5ede8bbd0dc8",
   "metadata": {
    "id": "f8f09ba9-cb78-4fb3-8e54-c087f0776d71"
   },
   "outputs": [],
   "source": [
    "pipe = pipeline(\n",
    "    task=\"fill-mask\",\n",
    "    model=model,\n",
    "    tokenizer=tokenizer,\n",
    "    top_k=100,\n",
    ")"
   ]
  },
  {
   "cell_type": "markdown",
   "id": "a4587c9c-8249-45fb-8b6c-9783eea215c9",
   "metadata": {
    "id": "ef55395d-3189-4f46-83d7-7e2b13ce8585"
   },
   "source": [
    "## Run"
   ]
  },
  {
   "cell_type": "code",
   "execution_count": null,
   "id": "19a4233e-5e3c-4a8a-86e6-90f07d3c06bd",
   "metadata": {
    "colab": {
     "referenced_widgets": [
      "2ff0287d2c6a4446a67771052729b0d5",
      "849e62ec8644424da253ea2690b11592",
      "ca58b8cdade54ef08785fdb4efcd8485",
      "1bd05a9e8f3c4e2f822e26258ae3c979",
      "950e7ca8a74244ad93b5cc92a427579c",
      "12f6468796994b7aa6f9b13d4bff528c",
      "eef5a09454bf44998b6dc793e4a09548",
      "5346d211baef4afb8649b210210ec9bc",
      "a7cac3092cca4f98bd043a7cb8eceb6e",
      "a03cb8ed44c540b6a263f352935d4827",
      "41242f2128f24b998213873ed47eed84",
      "7378e3a3819a4cc09359a3514db5e214"
     ]
    },
    "id": "034e6ad5-3548-45af-9a22-638f2ac220a1",
    "outputId": "0dfc6b50-9645-49b5-9e51-8177aafc8e7d"
   },
   "outputs": [],
   "source": [
    "%%time\n",
    "acc_list = []\n",
    "atks = [1, 5, 10, 20, 50, 100]\n",
    "for processor in processors:\n",
    "    result_df = prompt_probe(model, tokenizer, processor, df, mask_token, \\\n",
    "                     'SubjectEntity', 'Relation', 'ObjectEntity', top_k=100)\n",
    "    result_df['predicted'] = result_df.apply(hasPredicted, axis=1)\n",
    "\n",
    "    prompt_template = processor('{SubjectEntity}', '[MASK]')\n",
    "    for at_k in atks:\n",
    "        acc_df = evaluate_acc_n(result_df, 'isTypeMOF', prompt_template, at_k=at_k)\n",
    "        acc_list.append(acc_df)"
   ]
  },
  {
   "cell_type": "code",
   "execution_count": null,
   "id": "d630a2e9-b37e-432f-bbf7-98cddf18c069",
   "metadata": {
    "id": "63fdfef8-bf5e-4f0d-b8c5-83cd72d7f2c7"
   },
   "outputs": [],
   "source": [
    "hasType_df = pd.DataFrame(acc_list)"
   ]
  },
  {
   "cell_type": "code",
   "execution_count": null,
   "id": "25447e4b-4fd2-4a90-9a79-fbea7ebcbf8a",
   "metadata": {
    "id": "0ea239dc-94c2-4c04-913e-0fcebd9d902d",
    "outputId": "9accd636-f3e9-4099-acef-e54dc6fd9e2e"
   },
   "outputs": [],
   "source": [
    "hasType_df.sample(10)"
   ]
  },
  {
   "cell_type": "code",
   "execution_count": null,
   "id": "326cb483-49e6-41b1-95dd-3926b72831ab",
   "metadata": {
    "id": "97e36df6-a6d2-46ae-99cd-11152eb9902a"
   },
   "outputs": [],
   "source": [
    "result_df.to_csv(\"../data/predicted_hasType_MatSciBERT.csv\", index=None)"
   ]
  },
  {
   "cell_type": "code",
   "execution_count": null,
   "id": "ba7df66f-69ae-418a-a072-79800934af99",
   "metadata": {
    "id": "48d58a92-daa3-49e0-bc5f-3db3ce29aa3f"
   },
   "outputs": [],
   "source": [
    "hasType_df.to_csv(\"../data/predicted_hasType_MatSciBERT_eval.csv\", index=None)"
   ]
  },
  {
   "cell_type": "code",
   "execution_count": null,
   "id": "f097a3ea-a04f-46aa-b3e7-34c66486de24",
   "metadata": {
    "id": "f3281d92-5f42-497b-8e4c-cfdfc4325500",
    "outputId": "911b534a-9b03-41c3-a753-8ae80f6eb94a"
   },
   "outputs": [],
   "source": [
    "hasType_df[hasType_df['at_k'] == 1].sort_values('acc', ascending=False)"
   ]
  },
  {
   "cell_type": "code",
   "execution_count": null,
   "id": "b08798e0-e15a-493f-8908-26c8d66cc087",
   "metadata": {
    "id": "93709576-a549-4067-b0dc-722007dc5f14",
    "outputId": "85198ca6-9ceb-4296-f952-8e7df33580c9"
   },
   "outputs": [],
   "source": [
    "hasType_df.sort_values('acc', ascending=False)"
   ]
  },
  {
   "cell_type": "markdown",
   "id": "2cfaf212-f075-4cc4-8ac3-0adf2bc7ac79",
   "metadata": {
    "id": "7ea82684-73f7-4a08-a2d4-9529b1328672"
   },
   "source": [
    "## Probing SciBERT"
   ]
  },
  {
   "cell_type": "code",
   "execution_count": null,
   "id": "a37623ef-cd3c-4671-befc-a7014ddedbc5",
   "metadata": {
    "id": "0937d1db-d5c2-47e1-a920-e7c8a667f003"
   },
   "outputs": [],
   "source": [
    "# SciBERT\n",
    "tokenizer = AutoTokenizer.from_pretrained('allenai/scibert_scivocab_cased')\n",
    "model = AutoModelForMaskedLM.from_pretrained('allenai/scibert_scivocab_cased')"
   ]
  },
  {
   "cell_type": "code",
   "execution_count": null,
   "id": "8d903c4a-5a2c-4a31-bf1e-4c0a25ce8615",
   "metadata": {
    "colab": {
     "base_uri": "https://localhost:8080/",
     "height": 35
    },
    "executionInfo": {
     "elapsed": 519,
     "status": "ok",
     "timestamp": 1666143162640,
     "user": {
      "displayName": "Yuan An",
      "userId": "12279868416530647161"
     },
     "user_tz": 240
    },
    "id": "a2fc4405-4e30-4d3e-a989-004e4d45762f",
    "outputId": "72cea969-0fc5-44ac-c92b-d5e8da4c6e40"
   },
   "outputs": [],
   "source": [
    "mask_token = tokenizer.mask_token\n",
    "mask_token"
   ]
  },
  {
   "cell_type": "markdown",
   "id": "3cf215a0-48f6-419c-918f-998021d1657b",
   "metadata": {
    "id": "96d62e1c-8831-466d-a4ad-b75a5fb1d243"
   },
   "source": [
    "## Creat the Prompt Pipeline"
   ]
  },
  {
   "cell_type": "code",
   "execution_count": null,
   "id": "6c4f3504-24d2-459b-a5d1-6efae5a03eea",
   "metadata": {
    "id": "52858ece-f1f0-46ed-887f-5e9f4d84650e"
   },
   "outputs": [],
   "source": [
    "pipe = pipeline(\n",
    "    task=\"fill-mask\",\n",
    "    model=model,\n",
    "    tokenizer=tokenizer,\n",
    "    top_k=100,\n",
    ")"
   ]
  },
  {
   "cell_type": "markdown",
   "id": "2dc452b8-e988-4cd3-9251-f3c5d314928b",
   "metadata": {
    "id": "59175dfd-eba6-4658-851d-3103be68d58d"
   },
   "source": [
    "## Run"
   ]
  },
  {
   "cell_type": "code",
   "execution_count": null,
   "id": "d5efe800-f47a-4317-b99d-56c56d0f07d5",
   "metadata": {
    "colab": {
     "referenced_widgets": [
      "8ade9fa187184dfeae677ec7b4d0b330",
      "dac1ff1eae3e464db1dfa92ea198c27e",
      "95af7aea75e642fa98f3b8fc410c7f91",
      "889e8549f72a4e1ba1a58190ae8e792c",
      "5ddee4aef0724b9489e2fc065dfe5736",
      "53103c5cfea44ecdbc78fa8b0229eb48",
      "864eecfea2274649aa2058bb2e166cd7",
      "ba2a59e885f845bc991a67ab09a0a755",
      "c0a11bdb51574c98b38dc3826703106e",
      "b717e76ce55f461581c1c629540e2b3e",
      "b0666a5128134eac86d14e04b0abbe78",
      "505d4033c8854395ab245e6e3e49a7b5"
     ]
    },
    "id": "32f25f68-08b2-4731-a359-4723b2d70d7b",
    "outputId": "f8b8bb6d-49af-4dbb-e418-0759424b8ec7"
   },
   "outputs": [],
   "source": [
    "%%time\n",
    "acc_list = []\n",
    "atks = [1, 5, 10, 20, 50, 100]\n",
    "for processor in processors:\n",
    "    result_df = prompt_probe(model, tokenizer, processor, df, mask_token, \\\n",
    "                     'SubjectEntity', 'Relation', 'ObjectEntity', top_k=100)\n",
    "    result_df['predicted'] = result_df.apply(hasPredicted, axis=1)\n",
    "\n",
    "    prompt_template = processor('{SubjectEntity}', '[MASK]')\n",
    "    for at_k in atks:\n",
    "        acc_df = evaluate_acc_n(result_df, 'isTypeMOF', prompt_template, at_k=at_k)\n",
    "        acc_list.append(acc_df)"
   ]
  },
  {
   "cell_type": "code",
   "execution_count": null,
   "id": "576e83a9-39f7-454d-b4b4-9fad8b675583",
   "metadata": {
    "id": "f86447a6-e78e-43ff-82c7-af20c158296b"
   },
   "outputs": [],
   "source": [
    "hasType_df = pd.DataFrame(acc_list)"
   ]
  },
  {
   "cell_type": "code",
   "execution_count": null,
   "id": "b3c04c9f-3c66-4c95-a28b-0d74b9f8c646",
   "metadata": {
    "id": "d1f9664b-1aea-4773-8950-47b0d52bb0ee",
    "outputId": "ab2bb562-7bb6-484b-9777-f456571bcb35"
   },
   "outputs": [],
   "source": [
    "hasType_df.sample(10)"
   ]
  },
  {
   "cell_type": "code",
   "execution_count": null,
   "id": "1dec874d-b5b4-489e-84bd-fffe14c68cde",
   "metadata": {
    "id": "e8fa4004-1013-4f74-b4bb-1977f3e0f8da"
   },
   "outputs": [],
   "source": [
    "result_df.to_csv(\"../data/predicted_hasType_SciBERT.csv\", index=None)"
   ]
  },
  {
   "cell_type": "code",
   "execution_count": null,
   "id": "33238dfc-e5e5-48eb-9b16-466a6797ead5",
   "metadata": {
    "id": "d684ef01-ae1b-4fd3-adf0-f1484d9a2d47"
   },
   "outputs": [],
   "source": [
    "hasType_df.to_csv(\"../data/predicted_hasType_SciBERT_eval.csv\", index=None)"
   ]
  },
  {
   "cell_type": "code",
   "execution_count": null,
   "id": "1daadd01-98b8-422d-bc7e-6b7a074f38d2",
   "metadata": {
    "id": "e3f9ec04-5e7f-4b76-b517-5bf1f0a161ac",
    "outputId": "25af4c07-0171-41f4-e33b-f32d9b4d6b2d"
   },
   "outputs": [],
   "source": [
    "hasType_df[hasType_df['at_k'] == 1].sort_values('acc', ascending=False)"
   ]
  },
  {
   "cell_type": "code",
   "execution_count": null,
   "id": "935e17da-d04e-484b-a8a2-3d24905d319e",
   "metadata": {
    "id": "9f19e68f-c514-48bb-9a01-62d0685025bb",
    "outputId": "bb1cc6ab-78a2-474b-ea5d-8cf844c6bbc3"
   },
   "outputs": [],
   "source": [
    "hasType_df.sort_values('acc', ascending=False)"
   ]
  },
  {
   "cell_type": "markdown",
   "id": "f33a7e09-ce52-49b2-9996-c061bbedc056",
   "metadata": {
    "id": "5d7b49c1-f5d7-49b0-ac15-ea4fa03b36c6"
   },
   "source": [
    "## Probing RoBERTa"
   ]
  },
  {
   "cell_type": "code",
   "execution_count": null,
   "id": "2f4bd1a1-76bf-4fae-8531-7aaf4939198d",
   "metadata": {
    "id": "9a1c9f77-493e-49ee-974a-3bbf6bdecd9f"
   },
   "outputs": [],
   "source": [
    "# RoBERTa\n",
    "tokenizer = AutoTokenizer.from_pretrained(\"roberta-large\")\n",
    "model = AutoModelForMaskedLM.from_pretrained(\"roberta-large\")"
   ]
  },
  {
   "cell_type": "code",
   "execution_count": null,
   "id": "d7d03912-0203-4ce0-9501-0d0a2f54b879",
   "metadata": {
    "colab": {
     "base_uri": "https://localhost:8080/",
     "height": 35
    },
    "executionInfo": {
     "elapsed": 519,
     "status": "ok",
     "timestamp": 1666143162640,
     "user": {
      "displayName": "Yuan An",
      "userId": "12279868416530647161"
     },
     "user_tz": 240
    },
    "id": "d98083f6-f285-4338-839c-d28d37b2471e",
    "outputId": "72cea969-0fc5-44ac-c92b-d5e8da4c6e40"
   },
   "outputs": [],
   "source": [
    "mask_token = tokenizer.mask_token\n",
    "mask_token"
   ]
  },
  {
   "cell_type": "markdown",
   "id": "28d041bf-53fd-490b-adcd-a9c790e9aa31",
   "metadata": {
    "id": "e20f666a-7b98-43ad-b6a4-920c3deef28a"
   },
   "source": [
    "## Creat the Prompt Pipeline"
   ]
  },
  {
   "cell_type": "code",
   "execution_count": null,
   "id": "426b24c2-2817-422f-9fc9-b438e413704e",
   "metadata": {
    "id": "65b918b6-96ee-4304-8f1b-dc85b6faa7d2"
   },
   "outputs": [],
   "source": [
    "pipe = pipeline(\n",
    "    task=\"fill-mask\",\n",
    "    model=model,\n",
    "    tokenizer=tokenizer,\n",
    "    top_k=100,\n",
    ")"
   ]
  },
  {
   "cell_type": "markdown",
   "id": "c3b743b6-c432-4d0b-ba6d-124e10b77319",
   "metadata": {
    "id": "7eef9e5d-906e-4103-91c2-b95c25163642"
   },
   "source": [
    "## Run"
   ]
  },
  {
   "cell_type": "code",
   "execution_count": null,
   "id": "6ac49740-f874-4e2a-b8ec-1e36b9f58485",
   "metadata": {
    "colab": {
     "referenced_widgets": [
      "634273f8fb5540608b941ff9a649dd33",
      "f7646f488c2d4682a2c6856ab0ccdecd",
      "9de0bc36c423440686c6e005f7571c5d",
      "2426cc3f53274b0b8813c64a91fb578a",
      "9b57c7c27acb46dda4027683225de166",
      "c736c9e3658744f08f6c35252ef250d6",
      "211bda1266b340baae9300f5199f1262",
      "0cd9fd649fb743108e480d848d727cb4",
      "845f420b245f48d0a81bcf6e2a27e271",
      "8b5226caf2564f52beb34cd9f8b26689",
      "2c48af2ee1f74e948580e78ee3f472d0",
      "2e021e6af5ad47a093dbfe673be1fb22"
     ]
    },
    "id": "a09fbca6-bee0-4b7b-9de7-b94e6001c4bf",
    "outputId": "8f7bc009-08eb-425d-bc9a-00dc1c244de5"
   },
   "outputs": [],
   "source": [
    "%%time\n",
    "acc_list = []\n",
    "atks = [1, 5, 10, 20, 50, 100]\n",
    "for processor in processors:\n",
    "    result_df = prompt_probe(model, tokenizer, processor, df, mask_token, \\\n",
    "                     'SubjectEntity', 'Relation', 'ObjectEntity', top_k=100)\n",
    "    result_df['predicted'] = result_df.apply(hasPredicted, axis=1)\n",
    "\n",
    "    prompt_template = processor('{SubjectEntity}', '[MASK]')\n",
    "    for at_k in atks:\n",
    "        acc_df = evaluate_acc_n(result_df, 'isTypeMOF', prompt_template, at_k=at_k)\n",
    "        acc_list.append(acc_df)"
   ]
  },
  {
   "cell_type": "code",
   "execution_count": null,
   "id": "2ccabf35-a4a6-45bc-a962-0b89387f0f05",
   "metadata": {
    "id": "254d9572-a3c7-407a-b3eb-05c927a87925"
   },
   "outputs": [],
   "source": [
    "hasType_df = pd.DataFrame(acc_list)"
   ]
  },
  {
   "cell_type": "code",
   "execution_count": null,
   "id": "e18d9102-e24c-4469-964f-6e52848d8cb9",
   "metadata": {
    "id": "36ae4c04-f582-4ea8-93a5-3224304f8aac",
    "outputId": "233a2347-4639-4dff-e308-3d12fdcdd908"
   },
   "outputs": [],
   "source": [
    "hasType_df.sample(10)"
   ]
  },
  {
   "cell_type": "code",
   "execution_count": null,
   "id": "a52b1f94-87fe-4b90-8178-a2e96e33b681",
   "metadata": {
    "id": "cfdceaa9-cb4b-432a-ba5b-4923b5e6a90f"
   },
   "outputs": [],
   "source": [
    "result_df.to_csv(\"../data/predicted_hasType_RoBERTa.csv\", index=None)"
   ]
  },
  {
   "cell_type": "code",
   "execution_count": null,
   "id": "9458ff8c-5a20-4520-acdd-9cc52f6a0725",
   "metadata": {
    "id": "d043a711-5415-426c-99b2-478bdfdfe6ce"
   },
   "outputs": [],
   "source": [
    "hasType_df.to_csv(\"../data/predicted_hasType_RoBERTa_eval.csv\", index=None)"
   ]
  },
  {
   "cell_type": "code",
   "execution_count": null,
   "id": "c1075f8e-1cab-460d-8bf1-ada963fb179c",
   "metadata": {
    "id": "ca3f516c-eb00-488c-b01b-99a773c091a2",
    "outputId": "72764198-6b0c-4e70-c473-a38132ec58b0"
   },
   "outputs": [],
   "source": [
    "hasType_df[hasType_df['at_k'] == 1].sort_values('acc', ascending=False)"
   ]
  },
  {
   "cell_type": "code",
   "execution_count": null,
   "id": "0612eb66-a564-4d2e-b132-20cf4ec0b216",
   "metadata": {
    "id": "fa31e4ff-ddb6-4052-b32d-7c171c02dd2e",
    "outputId": "116ab628-978b-4ee5-984a-1c5f1048ace2"
   },
   "outputs": [],
   "source": [
    "hasType_df.sort_values('acc', ascending=False)"
   ]
  },
  {
   "cell_type": "code",
   "execution_count": null,
   "id": "172cb699-f9ef-4dc5-ace3-41453607bb86",
   "metadata": {
    "id": "3f22b669-4c68-4e50-b752-afaa0ab4fa14"
   },
   "outputs": [],
   "source": []
  },
  {
   "cell_type": "markdown",
   "id": "bdedc3c1-fac4-4f6e-a372-85491e16b185",
   "metadata": {
    "id": "55e44848-77fb-4130-b77d-abc302536a6e"
   },
   "source": [
    "# MOFs LM Probing for Linker"
   ]
  },
  {
   "cell_type": "code",
   "execution_count": null,
   "id": "4f41a0b3-aa92-4827-bfff-e96d36f8feee",
   "metadata": {
    "id": "e93a1557-c1ce-4aeb-b3c3-13a75b6cb8fa"
   },
   "outputs": [],
   "source": [
    "from baseline import PromptSet\n",
    "\n",
    "from tqdm.auto import tqdm\n",
    "from nltk.corpus import stopwords\n",
    "\n",
    "import pandas as pd\n",
    "\n",
    "from transformers import AutoTokenizer, AutoModelForMaskedLM, pipeline, logging\n",
    "\n",
    "logging.set_verbosity_error()  # avoid irritating transformers warnings"
   ]
  },
  {
   "cell_type": "markdown",
   "id": "069b519c-0f66-4636-a074-fc230d7fc4ff",
   "metadata": {
    "id": "5a4cbdfc-8b9d-42fa-aea5-8646ac19b6a3"
   },
   "source": [
    "## Read in the Triples"
   ]
  },
  {
   "cell_type": "code",
   "execution_count": null,
   "id": "35d5bbc4-4d34-487d-80a0-66bb6b8a4f84",
   "metadata": {
    "id": "MLkxHoS6eiLd",
    "tags": []
   },
   "outputs": [],
   "source": [
    "file = \"../data/mof_linkers.csv\""
   ]
  },
  {
   "cell_type": "code",
   "execution_count": null,
   "id": "f6d48880-2e4c-4506-9af0-3f6105778595",
   "metadata": {
    "colab": {
     "base_uri": "https://localhost:8080/",
     "height": 206
    },
    "executionInfo": {
     "elapsed": 218,
     "status": "ok",
     "timestamp": 1666145237368,
     "user": {
      "displayName": "Yuan An",
      "userId": "12279868416530647161"
     },
     "user_tz": 240
    },
    "id": "ax2E8N1rgva0",
    "outputId": "fe0e0d7c-704f-4c14-a150-262142a81688"
   },
   "outputs": [],
   "source": [
    "df = pd.read_csv(file)\n",
    "df.head()"
   ]
  },
  {
   "cell_type": "code",
   "execution_count": null,
   "id": "3d289f0e-8cdc-4983-b83d-9cd8603721f9",
   "metadata": {
    "colab": {
     "base_uri": "https://localhost:8080/"
    },
    "executionInfo": {
     "elapsed": 268,
     "status": "ok",
     "timestamp": 1666143184741,
     "user": {
      "displayName": "Yuan An",
      "userId": "12279868416530647161"
     },
     "user_tz": 240
    },
    "id": "0dlsYbQbJR_Y",
    "outputId": "b4d98260-799e-4cad-c383-059c810c116b"
   },
   "outputs": [],
   "source": [
    "df.shape"
   ]
  },
  {
   "cell_type": "markdown",
   "id": "bfc7b338-960d-4084-8c64-bd8980e7eaaf",
   "metadata": {
    "id": "DAhYPWvq1zc-"
   },
   "source": [
    "## Probing BERT"
   ]
  },
  {
   "cell_type": "code",
   "execution_count": null,
   "id": "496d7e9d-fe57-4db8-8f66-c51687056c85",
   "metadata": {
    "id": "f12c0fd2-6951-4098-9769-48ab3c98e90b"
   },
   "outputs": [],
   "source": [
    "tokenizer = AutoTokenizer.from_pretrained(\"bert-large-cased\")\n",
    "model = AutoModelForMaskedLM.from_pretrained(\"bert-large-cased\")"
   ]
  },
  {
   "cell_type": "code",
   "execution_count": null,
   "id": "f0d37e92-a837-403d-a17e-e3991642059a",
   "metadata": {
    "colab": {
     "base_uri": "https://localhost:8080/",
     "height": 35
    },
    "executionInfo": {
     "elapsed": 519,
     "status": "ok",
     "timestamp": 1666143162640,
     "user": {
      "displayName": "Yuan An",
      "userId": "12279868416530647161"
     },
     "user_tz": 240
    },
    "id": "e46f8370-80b4-4f4d-88e0-94b3020a88ab",
    "outputId": "72cea969-0fc5-44ac-c92b-d5e8da4c6e40"
   },
   "outputs": [],
   "source": [
    "mask_token = tokenizer.mask_token\n",
    "mask_token"
   ]
  },
  {
   "cell_type": "markdown",
   "id": "bec00887-42c5-4637-920e-e9d8f81e4280",
   "metadata": {
    "id": "yccd3rTy16Yr"
   },
   "source": [
    "## Creat the Prompt Pipeline"
   ]
  },
  {
   "cell_type": "code",
   "execution_count": null,
   "id": "82eb7946-7852-42c2-a8f1-2c3c648fdae0",
   "metadata": {
    "id": "OoWE2iMqoXHJ"
   },
   "outputs": [],
   "source": [
    "pipe = pipeline(\n",
    "    task=\"fill-mask\",\n",
    "    model=model,\n",
    "    tokenizer=tokenizer,\n",
    "    top_k=100,\n",
    ")"
   ]
  },
  {
   "cell_type": "markdown",
   "id": "f200864b-e071-4c3b-b821-a563329f09b9",
   "metadata": {
    "id": "aWXu0sgCf4jA"
   },
   "source": [
    "## Create Prompts"
   ]
  },
  {
   "cell_type": "code",
   "execution_count": null,
   "id": "a1f2f30f-3af5-4cec-8fd2-89642f1e5365",
   "metadata": {
    "id": "Z5vtJepsgl4c"
   },
   "outputs": [],
   "source": [
    "def create_linker_prompt1(sub, mask):\n",
    "    return f\"{sub} contains a {mask} which is organic linker.\"\n",
    "    \n",
    "def create_linker_prompt2(sub, mask):\n",
    "    return f\"{sub} contains an organic linker which is {mask}.\"\n",
    "\n",
    "def create_linker_prompt3(sub, mask):\n",
    "    return f\"The metal clusters in {sub} are connected by {mask}.\"\n",
    "\n",
    "def create_linker_prompt4(sub, mask):\n",
    "    return f\"{sub} is an MOF made of metal centers connectd by organic linker {mask}.\"\n",
    "    \n",
    "def create_linker_prompt5(sub, mask):\n",
    "    return f\"{sub} is an MOF material containing metal centers and organic linkers {mask}.\"\n",
    "    \n",
    "def create_linker_prompt6(sub, mask):\n",
    "    return f\"{sub} is an MOF structure with metal centers and organic linkers {mask}.\" \n",
    "    \n",
    "def create_linker_prompt7(sub, mask):\n",
    "    return f\"The organic linker in MOF {sub} is {mask}.\"\n",
    "    \n",
    "def create_linker_prompt8(sub, mask):\n",
    "    return f\"{sub} has an organic linker with SMILES string {mask}.\"\n",
    "    \n",
    "def create_linker_prompt9(sub, mask):\n",
    "    return f\"{sub} has SBUs and organic linkers {mask}.\"\n",
    "    \n",
    "def create_linker_prompt10(sub, mask):\n",
    "    return f\"{sub} is a type of polymer with metal clusters and organic linkers {mask}.\"\n",
    "    \n",
    "def create_linker_prompt11(sub, mask):\n",
    "    return f\"{mask} is the structure of the organic linker in MOF {sub}.\"\n",
    "    \n",
    "def create_linker_prompt12(sub, mask):\n",
    "    return f\"The structure of the organic linker of MOF {sub} is {mask}.\""
   ]
  },
  {
   "cell_type": "code",
   "execution_count": null,
   "id": "77360370-3bd6-4515-a47a-4e2bb6864ba9",
   "metadata": {
    "id": "oQEIANBrgl4c"
   },
   "outputs": [],
   "source": [
    "processors = [create_linker_prompt1, create_linker_prompt2,\n",
    "              create_linker_prompt3, create_linker_prompt4,\n",
    "              create_linker_prompt5, create_linker_prompt6,\n",
    "              create_linker_prompt7, create_linker_prompt8,\n",
    "              create_linker_prompt9, create_linker_prompt10,\n",
    "              create_linker_prompt11, create_linker_prompt12\n",
    "             ]"
   ]
  },
  {
   "cell_type": "markdown",
   "id": "a7c7a135-a669-4824-8f53-aab0989a7a88",
   "metadata": {
    "id": "869312a9-6133-40b7-9acb-ca499874b814"
   },
   "source": [
    "## Test BERT"
   ]
  },
  {
   "cell_type": "code",
   "execution_count": null,
   "id": "7ea68531-df00-4025-89dc-36aba1ebc7c4",
   "metadata": {
    "id": "MVAuqvu8f8fl"
   },
   "outputs": [],
   "source": [
    "def prompt_probe(model, tokenizer, prompt_processor, df_sub, mask_token, \\\n",
    "                 subjectCol, relationCol, objectCol, top_k=100):\n",
    "\n",
    "    pipe = pipeline(\n",
    "        task=\"fill-mask\",\n",
    "        model=model,\n",
    "        tokenizer=tokenizer,\n",
    "        top_k=top_k,\n",
    "    )\n",
    "\n",
    "    prompts = PromptSet([prompt_processor(row.SubjectEntity, mask_token) for _, row in df_sub.iterrows()])\n",
    "\n",
    "    outputs = []\n",
    "    for out in tqdm(pipe(prompts, batch_size=8), total=len(prompts)):\n",
    "        outputs.append(out)\n",
    "\n",
    "    results = []\n",
    "    for idx, row in df_sub.iterrows():\n",
    "        for output in outputs[idx]:\n",
    "            record = {}\n",
    "            record['SubjectEntity'] = row[subjectCol]\n",
    "            record['Relation'] = row[relationCol]\n",
    "            record['ObjectEntity'] = row[objectCol]\n",
    "            record['prompt']= prompts[idx]\n",
    "            record['predictedScore'] = output['score']\n",
    "            record['predictedToken'] = output['token_str']\n",
    "            results.append(record)\n",
    "\n",
    "    return pd.DataFrame(results)"
   ]
  },
  {
   "cell_type": "code",
   "execution_count": null,
   "id": "b5ec14c6-935c-4294-a17a-ab2db255a6c5",
   "metadata": {
    "id": "6fa5eaa4-4551-420f-bde9-d5be3f5fb399"
   },
   "outputs": [],
   "source": [
    "# Compute a column indicating whether the predictedToken in the ObjectEntity list\n",
    "def hasPredicted(row):\n",
    "    token = row['predictedToken']\n",
    "    objectEntities = row['ObjectEntity']\n",
    "    #print(objectEntities)\n",
    "    if pd.notna(objectEntities):\n",
    "        if token.lower() == objectEntities.lower():\n",
    "            return 1\n",
    "       \n",
    "    return 0"
   ]
  },
  {
   "cell_type": "code",
   "execution_count": null,
   "id": "4a1354e8-87c3-404d-abcc-469a39f7ca73",
   "metadata": {
    "id": "KsUSnkZ7l-5U"
   },
   "outputs": [],
   "source": [
    "# return the top-k rows based on predictedScore\n",
    "def top(df, col, n=10):\n",
    "    return df.sort_values(by=col, ascending=False)[:n]"
   ]
  },
  {
   "cell_type": "code",
   "execution_count": null,
   "id": "4c6f5ec4-6869-43a2-989f-8135efb7a9fa",
   "metadata": {
    "id": "FsnJPxPBl-5V"
   },
   "outputs": [],
   "source": [
    "# check whether the predicted is 1 for each group\n",
    "def predictedOne(df, col):\n",
    "    total = df[col].sum()\n",
    "    if total > 0:\n",
    "        return 1\n",
    "    else:\n",
    "        return 0"
   ]
  },
  {
   "cell_type": "code",
   "execution_count": null,
   "id": "907fbfa6-2cae-4d09-980b-3a41f030eed8",
   "metadata": {
    "id": "YTMrQugZl-5V"
   },
   "outputs": [],
   "source": [
    "# Assume the predicted_df has a binary column 'predicted' indicating whether ObjectEntity has been predicted\n",
    "# 1 for yes, 0 for no\n",
    "def evaluate_acc_n(predicted_df, relation, prompt_template, at_k=5):\n",
    "    topk_df = predicted_df.groupby('SubjectEntity', as_index=False).apply(top, col='predictedScore', n=at_k)\n",
    "    topk_agg_df = topk_df.groupby('SubjectEntity', as_index=False).apply(predictedOne, col='predicted')\n",
    "    topk_agg_df.columns = ['SubjectEntity', 'predicted']\n",
    "    result = {}\n",
    "    result['Relation'] = relation\n",
    "    result['prompt_template'] = prompt_template\n",
    "    result['acc'] = topk_agg_df.predicted.mean()\n",
    "    result['at_k'] = at_k\n",
    "\n",
    "    return result"
   ]
  },
  {
   "cell_type": "code",
   "execution_count": null,
   "id": "8392be86-1ce8-4d13-9010-35ca06b7fe50",
   "metadata": {
    "id": "55688b85-e2dd-4172-b199-cd3ca4cd3353"
   },
   "outputs": [],
   "source": [
    "pd.set_option('display.max_colwidth', None)"
   ]
  },
  {
   "cell_type": "code",
   "execution_count": null,
   "id": "d093693b-208a-4432-915a-24823f58bc14",
   "metadata": {
    "colab": {
     "referenced_widgets": [
      "9031bb26db204e1f9cf78de97fa71c24",
      "7c0d288a31ca4a0f9b7431ecbcfb25b1",
      "c5a97796f60646cb98148bf19fc63a25",
      "2e195151580d422eb0e89b1f438532ee",
      "0a52e1ef675e4179ad5734767e6afffd",
      "1f2fb163b2114b3e90fd2b41f2bbdf75",
      "69417a09cb3c4af8b235705c5d420af6",
      "61aa6f3673144a86a3a6af392cdab3ff",
      "33f61fa9ed9b41f2a58be8f593cb7b47",
      "03bd41a120874949a88076383c1b10f2",
      "54333479d98d47b596b00b808a74d2f0",
      "adb8417fe5da4659a0d40d31fcf777fc"
     ]
    },
    "id": "b0190f3f-b9a6-4d57-83fa-e3bb3acf828a",
    "outputId": "04f9fcaf-a7d8-44f7-c3a1-7dc2a4159e40"
   },
   "outputs": [],
   "source": [
    "%%time\n",
    "acc_list = []\n",
    "atks = [1, 5, 10, 20, 50, 100]\n",
    "for processor in processors:\n",
    "    result_df = prompt_probe(model, tokenizer, processor, df, mask_token, \\\n",
    "                     'SubjectEntity', 'Relation', 'ObjectEntity', top_k=100)\n",
    "    result_df['predicted'] = result_df.apply(hasPredicted, axis=1)\n",
    "\n",
    "    prompt_template = processor('{SubjectEntity}', '[MASK]')\n",
    "    for at_k in atks:\n",
    "        acc_df = evaluate_acc_n(result_df, 'hasLinker', prompt_template, at_k=at_k)\n",
    "        acc_list.append(acc_df)"
   ]
  },
  {
   "cell_type": "code",
   "execution_count": null,
   "id": "9981f62e-b58d-4e4a-a9f9-1d35b691e84b",
   "metadata": {
    "id": "f822f7ba-11eb-476a-aa60-074b00894d9f"
   },
   "outputs": [],
   "source": [
    "hasType_df = pd.DataFrame(acc_list)"
   ]
  },
  {
   "cell_type": "code",
   "execution_count": null,
   "id": "81804191-f591-4489-8c4a-9ee7223c1d41",
   "metadata": {
    "id": "EtAuhaBohBxO",
    "outputId": "a6f23d33-e590-44f7-c7c3-1522976a1891"
   },
   "outputs": [],
   "source": [
    "hasType_df.sample(10)"
   ]
  },
  {
   "cell_type": "code",
   "execution_count": null,
   "id": "5fdfb678-d102-4a37-b282-244171c16a18",
   "metadata": {
    "id": "c880c81b-929e-4eef-a98c-defcfd0369d7"
   },
   "outputs": [],
   "source": [
    "result_df.to_csv(\"../data/predicted_hasLinker_BERT.csv\", index=None)"
   ]
  },
  {
   "cell_type": "code",
   "execution_count": null,
   "id": "db1e6afe-3fb8-4847-b3be-55a977447566",
   "metadata": {
    "id": "7fe702fb-17f6-4cc3-9149-14bc7ca14a03"
   },
   "outputs": [],
   "source": [
    "hasType_df.to_csv(\"../data/predicted_hasLinker_BERT_eval.csv\", index=None)"
   ]
  },
  {
   "cell_type": "code",
   "execution_count": null,
   "id": "edceec85-860f-427b-ac09-d2a57feddf12",
   "metadata": {
    "id": "d3299e52-ecf9-4ef6-b4e4-b8f6e21f6d6f",
    "outputId": "30f7f8b8-8a27-40ef-808c-5d635973639d"
   },
   "outputs": [],
   "source": [
    "hasType_df[hasType_df['at_k'] == 1].sort_values('acc', ascending=False)"
   ]
  },
  {
   "cell_type": "code",
   "execution_count": null,
   "id": "58973f24-d1c2-40f7-9d0c-e08f0918b417",
   "metadata": {
    "id": "987f0e87-b729-4352-8135-41e69df5631d",
    "outputId": "56efd90b-14b4-47c8-a567-d2df5c20e4ae"
   },
   "outputs": [],
   "source": [
    "hasType_df.sort_values('acc', ascending=False)"
   ]
  },
  {
   "cell_type": "markdown",
   "id": "82ae3d48-7dc4-4136-b366-2adddde34137",
   "metadata": {
    "id": "c07c6a8e-6cc6-49c8-9097-c9a0060e45f2"
   },
   "source": [
    "## Probing MatBERT"
   ]
  },
  {
   "cell_type": "code",
   "execution_count": null,
   "id": "e90e5e96-6080-42a1-b207-6744fa5ebe1d",
   "metadata": {
    "id": "46c36d72-a33c-4bff-9ab9-7006d9c1279e"
   },
   "outputs": [],
   "source": [
    "# MatBERT\n",
    "tokenizer = AutoTokenizer.from_pretrained(\"../model/model/matbert-base-cased\")\n",
    "model = AutoModelForMaskedLM.from_pretrained(\"../model/model/matbert-base-cased\")"
   ]
  },
  {
   "cell_type": "code",
   "execution_count": null,
   "id": "d97cc8ca-8c14-4362-a9d7-9f28ccf682b7",
   "metadata": {
    "colab": {
     "base_uri": "https://localhost:8080/",
     "height": 35
    },
    "executionInfo": {
     "elapsed": 519,
     "status": "ok",
     "timestamp": 1666143162640,
     "user": {
      "displayName": "Yuan An",
      "userId": "12279868416530647161"
     },
     "user_tz": 240
    },
    "id": "2f8ecf23-8eb8-4a87-8e1d-641177a59ca4",
    "outputId": "72cea969-0fc5-44ac-c92b-d5e8da4c6e40"
   },
   "outputs": [],
   "source": [
    "mask_token = tokenizer.mask_token\n",
    "mask_token"
   ]
  },
  {
   "cell_type": "markdown",
   "id": "b79bdc7f-3b58-46e4-99b3-4c783abcb439",
   "metadata": {
    "id": "28bb7577-a57c-432c-8f21-2ce188aab3f4"
   },
   "source": [
    "## Creat the Prompt Pipeline"
   ]
  },
  {
   "cell_type": "code",
   "execution_count": null,
   "id": "135e55b6-0bff-4497-a170-074a549e822b",
   "metadata": {
    "id": "63037587-acd8-4edb-8ccd-d9b4a4bc14a6"
   },
   "outputs": [],
   "source": [
    "pipe = pipeline(\n",
    "    task=\"fill-mask\",\n",
    "    model=model,\n",
    "    tokenizer=tokenizer,\n",
    "    top_k=100,\n",
    ")"
   ]
  },
  {
   "cell_type": "markdown",
   "id": "f08ab1a6-a7fa-4d9b-bcff-1b190e5cdecf",
   "metadata": {
    "id": "3a2cd5b0-ceb3-492a-9e3c-b2ef98e0f75e"
   },
   "source": [
    "## Run"
   ]
  },
  {
   "cell_type": "code",
   "execution_count": null,
   "id": "e9f89300-13fd-400f-8e9a-bb1e2aaa9040",
   "metadata": {
    "colab": {
     "referenced_widgets": [
      "c1fbd7e76d17485683d539e71dce258f",
      "fb04dc4d66b346528e9950a533c4f18c",
      "fff547a4772e4231ab313778a8dc9cf2",
      "db1aea61a5bf431ea875fec7c48c3f88",
      "9ce2914d48374c028ce422eb2e6167e8",
      "0cbf3fb4741649fbaa2eb556f132b404",
      "9aae06df7e834de2afca00820aa09134",
      "0b642c75d25d42ae86bdf0490dabd1e1",
      "b4eb8f9948af4bf5bb9b6da3e75fcb17",
      "de9b91395eea45d29689e2bf729d09ef",
      "597669bf3b874c34a68e142935db1c1c",
      "9e080a095e5a4bfb83db956298134eac"
     ]
    },
    "id": "40c25cc9-4e71-480d-83df-fbc299ccd454",
    "outputId": "64606171-cc30-44a5-eb96-b6f160423d1a"
   },
   "outputs": [],
   "source": [
    "%%time\n",
    "acc_list = []\n",
    "atks = [1, 5, 10, 20, 50, 100]\n",
    "for processor in processors:\n",
    "    result_df = prompt_probe(model, tokenizer, processor, df, mask_token, \\\n",
    "                     'SubjectEntity', 'Relation', 'ObjectEntity', top_k=100)\n",
    "    result_df['predicted'] = result_df.apply(hasPredicted, axis=1)\n",
    "\n",
    "    prompt_template = processor('{SubjectEntity}', '[MASK]')\n",
    "    for at_k in atks:\n",
    "        acc_df = evaluate_acc_n(result_df, 'hasLinker', prompt_template, at_k=at_k)\n",
    "        acc_list.append(acc_df)"
   ]
  },
  {
   "cell_type": "code",
   "execution_count": null,
   "id": "c3b172d6-2818-4d10-9688-d631b9b628b2",
   "metadata": {
    "id": "02a8ec37-fdeb-4c5b-bb1b-f02ab220cc52"
   },
   "outputs": [],
   "source": [
    "hasType_df = pd.DataFrame(acc_list)"
   ]
  },
  {
   "cell_type": "code",
   "execution_count": null,
   "id": "2ec0d2c2-e5dc-4657-86a3-9267fb3b9c88",
   "metadata": {
    "id": "ec452969-ff1f-4c4e-8835-357d94046631",
    "outputId": "91df6021-b07c-40d1-af5b-340de195f870"
   },
   "outputs": [],
   "source": [
    "hasType_df.sample(10)"
   ]
  },
  {
   "cell_type": "code",
   "execution_count": null,
   "id": "71b4a973-ab09-4645-9f5b-15079d03bff6",
   "metadata": {
    "id": "91784d92-ce16-4e12-bfcc-3fe029e4454f"
   },
   "outputs": [],
   "source": [
    "result_df.to_csv(\"../data/predicted_hasLinker_MatBERT.csv\", index=None)"
   ]
  },
  {
   "cell_type": "code",
   "execution_count": null,
   "id": "4248f637-43b1-456d-a804-b3612323c64c",
   "metadata": {
    "id": "d9956d44-419e-4ed7-8575-8c424548f7a6"
   },
   "outputs": [],
   "source": [
    "hasType_df.to_csv(\"../data/predicted_hasLinker_MatBERT_eval.csv\", index=None)"
   ]
  },
  {
   "cell_type": "code",
   "execution_count": null,
   "id": "cb6da8b1-3f45-4a59-bb5d-ec2f917e8b13",
   "metadata": {
    "id": "2474feab-c4df-452e-af55-273fdbc54d36",
    "outputId": "1de9af6b-7300-4043-829f-06742450b29e"
   },
   "outputs": [],
   "source": [
    "hasType_df[hasType_df['at_k'] == 1].sort_values('acc', ascending=False)"
   ]
  },
  {
   "cell_type": "code",
   "execution_count": null,
   "id": "88e0f943-709a-4b2b-b02c-a85ceb05b7a7",
   "metadata": {
    "id": "6279b12a-aa4d-43ef-8a21-1609b54d8ff2",
    "outputId": "9718d9c6-65d7-4681-a8de-b167381970e4"
   },
   "outputs": [],
   "source": [
    "hasType_df.sort_values('acc', ascending=False)"
   ]
  },
  {
   "cell_type": "markdown",
   "id": "c2a9b1d0-4756-4287-93c0-8bdfcf483890",
   "metadata": {
    "id": "81e0a83a-3ee8-44b5-9228-05163abeb558"
   },
   "source": [
    "## Probing MatSciBERT"
   ]
  },
  {
   "cell_type": "code",
   "execution_count": null,
   "id": "fc20c4af-272a-4763-b4d1-4cebd841e13c",
   "metadata": {
    "id": "70621025-c440-4ebe-b081-38390ea30aa8"
   },
   "outputs": [],
   "source": [
    "# MatSciBERT\n",
    "tokenizer = AutoTokenizer.from_pretrained('m3rg-iitd/matscibert')\n",
    "model = AutoModelForMaskedLM.from_pretrained('m3rg-iitd/matscibert')"
   ]
  },
  {
   "cell_type": "code",
   "execution_count": null,
   "id": "620f4dee-03e4-4024-b299-a90357a2f746",
   "metadata": {
    "colab": {
     "base_uri": "https://localhost:8080/",
     "height": 35
    },
    "executionInfo": {
     "elapsed": 519,
     "status": "ok",
     "timestamp": 1666143162640,
     "user": {
      "displayName": "Yuan An",
      "userId": "12279868416530647161"
     },
     "user_tz": 240
    },
    "id": "b863582b-8525-4dcd-a7ff-6877f1d9e655",
    "outputId": "72cea969-0fc5-44ac-c92b-d5e8da4c6e40"
   },
   "outputs": [],
   "source": [
    "mask_token = tokenizer.mask_token\n",
    "mask_token"
   ]
  },
  {
   "cell_type": "markdown",
   "id": "37c4b156-093d-4684-9114-158f06099a9f",
   "metadata": {
    "id": "81908035-52e3-409f-9b8c-4b7cdec16ff0"
   },
   "source": [
    "## Creat the Prompt Pipeline"
   ]
  },
  {
   "cell_type": "code",
   "execution_count": null,
   "id": "8c5460b6-5cca-43e8-86c5-5082147bdc7c",
   "metadata": {
    "id": "f8f09ba9-cb78-4fb3-8e54-c087f0776d71"
   },
   "outputs": [],
   "source": [
    "pipe = pipeline(\n",
    "    task=\"fill-mask\",\n",
    "    model=model,\n",
    "    tokenizer=tokenizer,\n",
    "    top_k=100,\n",
    ")"
   ]
  },
  {
   "cell_type": "markdown",
   "id": "f49bba66-881b-49c2-a9db-b1f9cadb90a2",
   "metadata": {
    "id": "ef55395d-3189-4f46-83d7-7e2b13ce8585"
   },
   "source": [
    "## Run"
   ]
  },
  {
   "cell_type": "code",
   "execution_count": null,
   "id": "83234c7e-39cd-49f4-b303-7915eed6d1d4",
   "metadata": {
    "colab": {
     "referenced_widgets": [
      "bf16cfa4178e4f0e9adb92dd53699034",
      "f331ff300c0642a9933036d53175d91f",
      "27a71292f96b48e780fc2b9d840c807e",
      "cf3b31e8d7684aa688641da0c3b80aba",
      "f94f6e713aec49078da851c08b0e0469",
      "10cdf4e67fb847968226b8ad52bf5396",
      "bb9d77331d08443ba961a0f6effe58a7",
      "ce3832a1ccb848779bcddcec6f0baa80",
      "b37b1778a2df4f8e9993d33b70df2f16",
      "5d89d4fa4c1e42b8b69f86be3e66ea91",
      "dbc897cfd6ca467b92a736d62bdd4dc1",
      "5d985445867e4c9ca7a7d1cdd2a1a022"
     ]
    },
    "id": "034e6ad5-3548-45af-9a22-638f2ac220a1",
    "outputId": "768401d6-ade0-4d5f-c3a0-984bd5717eba"
   },
   "outputs": [],
   "source": [
    "%%time\n",
    "acc_list = []\n",
    "atks = [1, 5, 10, 20, 50, 100]\n",
    "for processor in processors:\n",
    "    result_df = prompt_probe(model, tokenizer, processor, df, mask_token, \\\n",
    "                     'SubjectEntity', 'Relation', 'ObjectEntity', top_k=100)\n",
    "    result_df['predicted'] = result_df.apply(hasPredicted, axis=1)\n",
    "\n",
    "    prompt_template = processor('{SubjectEntity}', '[MASK]')\n",
    "    for at_k in atks:\n",
    "        acc_df = evaluate_acc_n(result_df, 'hasLinker', prompt_template, at_k=at_k)\n",
    "        acc_list.append(acc_df)"
   ]
  },
  {
   "cell_type": "code",
   "execution_count": null,
   "id": "2671780a-3836-49a4-abb5-af7c1e79defe",
   "metadata": {
    "id": "63fdfef8-bf5e-4f0d-b8c5-83cd72d7f2c7"
   },
   "outputs": [],
   "source": [
    "hasType_df = pd.DataFrame(acc_list)"
   ]
  },
  {
   "cell_type": "code",
   "execution_count": null,
   "id": "bb2cb3f9-9abc-4c7b-ad86-782ef63cfe8b",
   "metadata": {
    "id": "0ea239dc-94c2-4c04-913e-0fcebd9d902d",
    "outputId": "614150b8-0a22-483b-bc73-17eb109fc20f"
   },
   "outputs": [],
   "source": [
    "hasType_df.sample(10)"
   ]
  },
  {
   "cell_type": "code",
   "execution_count": null,
   "id": "52e820f1-44db-45c8-abe4-25b187d48df4",
   "metadata": {
    "id": "97e36df6-a6d2-46ae-99cd-11152eb9902a"
   },
   "outputs": [],
   "source": [
    "result_df.to_csv(\"../data/predicted_hasLinker_MatSciBERT.csv\", index=None)"
   ]
  },
  {
   "cell_type": "code",
   "execution_count": null,
   "id": "02ca62f0-56ee-4144-a7ee-65a41e72fab9",
   "metadata": {
    "id": "48d58a92-daa3-49e0-bc5f-3db3ce29aa3f"
   },
   "outputs": [],
   "source": [
    "hasType_df.to_csv(\"../data/predicted_hasLinker_MatSciBERT_eval.csv\", index=None)"
   ]
  },
  {
   "cell_type": "code",
   "execution_count": null,
   "id": "e80293f7-8393-4434-be8d-48ea754914f0",
   "metadata": {
    "id": "f3281d92-5f42-497b-8e4c-cfdfc4325500",
    "outputId": "1469761c-3d49-45df-bc64-47410dbe8f0e"
   },
   "outputs": [],
   "source": [
    "hasType_df[hasType_df['at_k'] == 1].sort_values('acc', ascending=False)"
   ]
  },
  {
   "cell_type": "code",
   "execution_count": null,
   "id": "24e3b267-5fd2-467a-ba05-ced6eb621741",
   "metadata": {
    "id": "93709576-a549-4067-b0dc-722007dc5f14",
    "outputId": "ef2826c3-2217-4e96-f158-6aed2b24a12b"
   },
   "outputs": [],
   "source": [
    "hasType_df.sort_values('acc', ascending=False)"
   ]
  },
  {
   "cell_type": "markdown",
   "id": "aff95c25-bab1-4520-953b-5ff0bea1e54d",
   "metadata": {
    "id": "7ea82684-73f7-4a08-a2d4-9529b1328672"
   },
   "source": [
    "## Probing SciBERT"
   ]
  },
  {
   "cell_type": "code",
   "execution_count": null,
   "id": "742925e9-febe-4536-9a75-fcad2d1a9981",
   "metadata": {
    "id": "0937d1db-d5c2-47e1-a920-e7c8a667f003"
   },
   "outputs": [],
   "source": [
    "# SciBERT\n",
    "tokenizer = AutoTokenizer.from_pretrained('allenai/scibert_scivocab_cased')\n",
    "model = AutoModelForMaskedLM.from_pretrained('allenai/scibert_scivocab_cased')"
   ]
  },
  {
   "cell_type": "code",
   "execution_count": null,
   "id": "2ad2379f-107b-4546-bb48-85e9a04db0c8",
   "metadata": {
    "colab": {
     "base_uri": "https://localhost:8080/",
     "height": 35
    },
    "executionInfo": {
     "elapsed": 519,
     "status": "ok",
     "timestamp": 1666143162640,
     "user": {
      "displayName": "Yuan An",
      "userId": "12279868416530647161"
     },
     "user_tz": 240
    },
    "id": "a2fc4405-4e30-4d3e-a989-004e4d45762f",
    "outputId": "72cea969-0fc5-44ac-c92b-d5e8da4c6e40"
   },
   "outputs": [],
   "source": [
    "mask_token = tokenizer.mask_token\n",
    "mask_token"
   ]
  },
  {
   "cell_type": "markdown",
   "id": "9ffc84f0-4587-4786-b621-66951a7fa691",
   "metadata": {
    "id": "96d62e1c-8831-466d-a4ad-b75a5fb1d243"
   },
   "source": [
    "## Creat the Prompt Pipeline"
   ]
  },
  {
   "cell_type": "code",
   "execution_count": null,
   "id": "da67113f-bf13-47ca-986d-6ded3c729f43",
   "metadata": {
    "id": "52858ece-f1f0-46ed-887f-5e9f4d84650e"
   },
   "outputs": [],
   "source": [
    "pipe = pipeline(\n",
    "    task=\"fill-mask\",\n",
    "    model=model,\n",
    "    tokenizer=tokenizer,\n",
    "    top_k=100,\n",
    ")"
   ]
  },
  {
   "cell_type": "markdown",
   "id": "df8cd409-26cd-41c0-9c53-8491f1afb21e",
   "metadata": {
    "id": "59175dfd-eba6-4658-851d-3103be68d58d"
   },
   "source": [
    "## Run"
   ]
  },
  {
   "cell_type": "code",
   "execution_count": null,
   "id": "47e7af0b-5218-48f7-8944-b03fd4ccd189",
   "metadata": {
    "colab": {
     "referenced_widgets": [
      "e72b5eb55000413eb472cba96f52310f",
      "a69f3cf14ce8472eb54efb84717592df",
      "7492a6d486e143c4886e081ad1a39bf4",
      "0516715d932a4c63820778509bcacbb0",
      "825f5b69ea6a4a11aeb32c92b187b0d0",
      "9dfe8d1009f74c81bddb42f210f8d2f5",
      "ae2eda4ae35d42d68f05d5439c1c301f",
      "3eae14cfcb4b49bf9cbd92cd46b3d1c8",
      "4a9b3a4e93ad48acba8bca903eb8160d",
      "e8fa76572c3b4e5fb5735ace59da0960",
      "13c0c687047846c1b343a659da22ffcd",
      "e67e7f37be9542ecb52d9d88346ff174"
     ]
    },
    "id": "32f25f68-08b2-4731-a359-4723b2d70d7b",
    "outputId": "13729a42-b9d9-4e7d-e150-4431d5b2bed9"
   },
   "outputs": [],
   "source": [
    "%%time\n",
    "acc_list = []\n",
    "atks = [1, 5, 10, 20, 50, 100]\n",
    "for processor in processors:\n",
    "    result_df = prompt_probe(model, tokenizer, processor, df, mask_token, \\\n",
    "                     'SubjectEntity', 'Relation', 'ObjectEntity', top_k=100)\n",
    "    result_df['predicted'] = result_df.apply(hasPredicted, axis=1)\n",
    "\n",
    "    prompt_template = processor('{SubjectEntity}', '[MASK]')\n",
    "    for at_k in atks:\n",
    "        acc_df = evaluate_acc_n(result_df, 'hasLinker', prompt_template, at_k=at_k)\n",
    "        acc_list.append(acc_df)"
   ]
  },
  {
   "cell_type": "code",
   "execution_count": null,
   "id": "750bcd99-a925-4c82-a8ca-1b968fdf6d7d",
   "metadata": {
    "id": "f86447a6-e78e-43ff-82c7-af20c158296b"
   },
   "outputs": [],
   "source": [
    "hasType_df = pd.DataFrame(acc_list)"
   ]
  },
  {
   "cell_type": "code",
   "execution_count": null,
   "id": "9ec81c80-42d8-454d-9b7f-6c7e4cb29101",
   "metadata": {
    "id": "d1f9664b-1aea-4773-8950-47b0d52bb0ee",
    "outputId": "cdfd9e56-e0b7-405c-9d77-f97f65315600"
   },
   "outputs": [],
   "source": [
    "hasType_df.sample(10)"
   ]
  },
  {
   "cell_type": "code",
   "execution_count": null,
   "id": "5633f8d8-3218-48c6-b4f5-9b910462a3db",
   "metadata": {
    "id": "e8fa4004-1013-4f74-b4bb-1977f3e0f8da"
   },
   "outputs": [],
   "source": [
    "result_df.to_csv(\"../data/predicted_hasLinker_SciBERT.csv\", index=None)"
   ]
  },
  {
   "cell_type": "code",
   "execution_count": null,
   "id": "62872621-adbc-4721-ae27-a53cf1e1c45e",
   "metadata": {
    "id": "d684ef01-ae1b-4fd3-adf0-f1484d9a2d47"
   },
   "outputs": [],
   "source": [
    "hasType_df.to_csv(\"../data/predicted_hasLinker_SciBERT_eval.csv\", index=None)"
   ]
  },
  {
   "cell_type": "code",
   "execution_count": null,
   "id": "9e6b73bc-3980-4ff1-af4c-1d7a027d164f",
   "metadata": {
    "id": "e3f9ec04-5e7f-4b76-b517-5bf1f0a161ac",
    "outputId": "a626b9a8-071a-4250-a452-3f179f4de206"
   },
   "outputs": [],
   "source": [
    "hasType_df[hasType_df['at_k'] == 1].sort_values('acc', ascending=False)"
   ]
  },
  {
   "cell_type": "code",
   "execution_count": null,
   "id": "5adcaaba-cff5-4fdb-9b39-3dd0f7c20818",
   "metadata": {
    "id": "9f19e68f-c514-48bb-9a01-62d0685025bb",
    "outputId": "31e0629f-dcb0-43ad-d7f0-e713f691bd4b"
   },
   "outputs": [],
   "source": [
    "hasType_df.sort_values('acc', ascending=False)"
   ]
  },
  {
   "cell_type": "markdown",
   "id": "2391435c-7fcc-43b6-8604-20293e3c18a5",
   "metadata": {
    "id": "5d7b49c1-f5d7-49b0-ac15-ea4fa03b36c6"
   },
   "source": [
    "## Probing RoBERTa"
   ]
  },
  {
   "cell_type": "code",
   "execution_count": null,
   "id": "2bcdf39b-b2d7-4ffd-a56f-d9e4d7443b6b",
   "metadata": {
    "id": "9a1c9f77-493e-49ee-974a-3bbf6bdecd9f"
   },
   "outputs": [],
   "source": [
    "# RoBERTa\n",
    "tokenizer = AutoTokenizer.from_pretrained(\"roberta-large\")\n",
    "model = AutoModelForMaskedLM.from_pretrained(\"roberta-large\")"
   ]
  },
  {
   "cell_type": "code",
   "execution_count": null,
   "id": "8a179fac-6da2-4838-ae77-f37b1909afac",
   "metadata": {
    "colab": {
     "base_uri": "https://localhost:8080/",
     "height": 35
    },
    "executionInfo": {
     "elapsed": 519,
     "status": "ok",
     "timestamp": 1666143162640,
     "user": {
      "displayName": "Yuan An",
      "userId": "12279868416530647161"
     },
     "user_tz": 240
    },
    "id": "d98083f6-f285-4338-839c-d28d37b2471e",
    "outputId": "72cea969-0fc5-44ac-c92b-d5e8da4c6e40"
   },
   "outputs": [],
   "source": [
    "mask_token = tokenizer.mask_token\n",
    "mask_token"
   ]
  },
  {
   "cell_type": "markdown",
   "id": "3bff7049-3f5c-4a7c-8126-5ec1a26619ef",
   "metadata": {
    "id": "e20f666a-7b98-43ad-b6a4-920c3deef28a"
   },
   "source": [
    "## Creat the Prompt Pipeline"
   ]
  },
  {
   "cell_type": "code",
   "execution_count": null,
   "id": "02c710ed-a972-40bf-8672-cc0afdaff850",
   "metadata": {
    "id": "65b918b6-96ee-4304-8f1b-dc85b6faa7d2"
   },
   "outputs": [],
   "source": [
    "pipe = pipeline(\n",
    "    task=\"fill-mask\",\n",
    "    model=model,\n",
    "    tokenizer=tokenizer,\n",
    "    top_k=100,\n",
    ")"
   ]
  },
  {
   "cell_type": "markdown",
   "id": "f36f3f39-f925-4dda-8f6d-c313cf48a26e",
   "metadata": {
    "id": "7eef9e5d-906e-4103-91c2-b95c25163642"
   },
   "source": [
    "## Run"
   ]
  },
  {
   "cell_type": "code",
   "execution_count": null,
   "id": "04e417b8-d4f1-4336-a48d-7ba150484d16",
   "metadata": {
    "colab": {
     "referenced_widgets": [
      "70aa418181eb4812acfba9913a4165dd",
      "5ab01c45e9f84e8d90efba7f298cdad5",
      "bf4f8379641f4e65a66915d929b9f0d8",
      "efb46a1accee4767b92069a0e3c0d432",
      "21291df58b8445278a0cba29eeddc485",
      "3dafd47281f64dd98de88cc223823294",
      "f31687390be347f69445f6e3269bee51",
      "12f2dce6a5cc4c22a1c36506a9682316",
      "230e6d4b396d4f79863c02f64ff9445e",
      "85a05d8522de42c5a5a534055b1e002f",
      "140cd46ef88d45c793c31ecb7aadbaae",
      "e764172305ea4596bcf84387f94f0b9e"
     ]
    },
    "id": "a09fbca6-bee0-4b7b-9de7-b94e6001c4bf",
    "outputId": "34932f55-3487-463a-99d0-cfa4a9e242bc"
   },
   "outputs": [],
   "source": [
    "%%time\n",
    "acc_list = []\n",
    "atks = [1, 5, 10, 20, 50, 100]\n",
    "for processor in processors:\n",
    "    result_df = prompt_probe(model, tokenizer, processor, df, mask_token, \\\n",
    "                     'SubjectEntity', 'Relation', 'ObjectEntity', top_k=100)\n",
    "    result_df['predicted'] = result_df.apply(hasPredicted, axis=1)\n",
    "\n",
    "    prompt_template = processor('{SubjectEntity}', '[MASK]')\n",
    "    for at_k in atks:\n",
    "        acc_df = evaluate_acc_n(result_df, 'hasLinker', prompt_template, at_k=at_k)\n",
    "        acc_list.append(acc_df)"
   ]
  },
  {
   "cell_type": "code",
   "execution_count": null,
   "id": "618ef4d5-dd5f-4b69-ac6a-81ec7d8bcb06",
   "metadata": {
    "id": "254d9572-a3c7-407a-b3eb-05c927a87925"
   },
   "outputs": [],
   "source": [
    "hasType_df = pd.DataFrame(acc_list)"
   ]
  },
  {
   "cell_type": "code",
   "execution_count": null,
   "id": "25db9c8e-ad70-4e9c-aead-4693a32c123e",
   "metadata": {
    "id": "36ae4c04-f582-4ea8-93a5-3224304f8aac",
    "outputId": "3888a1f3-a671-4de9-c24e-3e9af7a19b42"
   },
   "outputs": [],
   "source": [
    "hasType_df.sample(10)"
   ]
  },
  {
   "cell_type": "code",
   "execution_count": null,
   "id": "9c5d5b67-800c-4c12-a055-56eb0acc2dc1",
   "metadata": {
    "id": "cfdceaa9-cb4b-432a-ba5b-4923b5e6a90f"
   },
   "outputs": [],
   "source": [
    "result_df.to_csv(\"../data/predicted_hasLinker_RoBERTa.csv\", index=None)"
   ]
  },
  {
   "cell_type": "code",
   "execution_count": null,
   "id": "da3d4fad-568f-4021-a906-c3b0c8cbe2f8",
   "metadata": {
    "id": "d043a711-5415-426c-99b2-478bdfdfe6ce"
   },
   "outputs": [],
   "source": [
    "hasType_df.to_csv(\"../data/predicted_hasLinker_RoBERTa_eval.csv\", index=None)"
   ]
  },
  {
   "cell_type": "code",
   "execution_count": null,
   "id": "42e43d4a-f550-43ac-b482-784230ab97ac",
   "metadata": {
    "id": "ca3f516c-eb00-488c-b01b-99a773c091a2",
    "outputId": "56a8d5ce-a792-48d7-931e-62cc3fe7a357"
   },
   "outputs": [],
   "source": [
    "hasType_df[hasType_df['at_k'] == 1].sort_values('acc', ascending=False)"
   ]
  },
  {
   "cell_type": "code",
   "execution_count": null,
   "id": "0547a779-0003-4671-a15f-4e6edc031ad9",
   "metadata": {
    "id": "fa31e4ff-ddb6-4052-b32d-7c171c02dd2e",
    "outputId": "eb7723b0-dcfa-4702-e17f-d7471b4ed02f"
   },
   "outputs": [],
   "source": [
    "hasType_df.sort_values('acc', ascending=False)"
   ]
  },
  {
   "cell_type": "code",
   "execution_count": null,
   "id": "4cb009c0-06f8-439c-b459-05ab2de1ca20",
   "metadata": {
    "id": "3f22b669-4c68-4e50-b752-afaa0ab4fa14"
   },
   "outputs": [],
   "source": []
  },
  {
   "cell_type": "markdown",
   "id": "f378c805-526a-4284-9886-0dd360b7e0be",
   "metadata": {
    "id": "55e44848-77fb-4130-b77d-abc302536a6e",
    "tags": []
   },
   "source": [
    "# MOFs LM Probing for Space Group"
   ]
  },
  {
   "cell_type": "code",
   "execution_count": null,
   "id": "336e04a3-4f4a-43e5-a0fe-e6ffc989bd38",
   "metadata": {
    "id": "e93a1557-c1ce-4aeb-b3c3-13a75b6cb8fa"
   },
   "outputs": [],
   "source": [
    "from baseline import PromptSet\n",
    "\n",
    "from tqdm.auto import tqdm\n",
    "from nltk.corpus import stopwords\n",
    "\n",
    "import pandas as pd\n",
    "\n",
    "from transformers import AutoTokenizer, AutoModelForMaskedLM, pipeline, logging\n",
    "\n",
    "logging.set_verbosity_error()  # avoid irritating transformers warnings"
   ]
  },
  {
   "cell_type": "markdown",
   "id": "e61620fa-de82-4142-be5f-acf1a1609744",
   "metadata": {
    "id": "5a4cbdfc-8b9d-42fa-aea5-8646ac19b6a3"
   },
   "source": [
    "## Read in the Triples"
   ]
  },
  {
   "cell_type": "code",
   "execution_count": null,
   "id": "f5aeb3bb-ea89-4681-adfa-6c9cd73a8160",
   "metadata": {
    "id": "MLkxHoS6eiLd",
    "tags": []
   },
   "outputs": [],
   "source": [
    "file = \"../data/mof_spaceGroup.csv\""
   ]
  },
  {
   "cell_type": "code",
   "execution_count": null,
   "id": "5d9c2659-ef91-40fc-84ae-07e7bc8a12b6",
   "metadata": {
    "colab": {
     "base_uri": "https://localhost:8080/",
     "height": 206
    },
    "executionInfo": {
     "elapsed": 218,
     "status": "ok",
     "timestamp": 1666145237368,
     "user": {
      "displayName": "Yuan An",
      "userId": "12279868416530647161"
     },
     "user_tz": 240
    },
    "id": "ax2E8N1rgva0",
    "outputId": "fe0e0d7c-704f-4c14-a150-262142a81688"
   },
   "outputs": [],
   "source": [
    "df = pd.read_csv(file)\n",
    "df.head()"
   ]
  },
  {
   "cell_type": "code",
   "execution_count": null,
   "id": "662117c4-73c3-4e01-a59f-7aff68863897",
   "metadata": {
    "colab": {
     "base_uri": "https://localhost:8080/"
    },
    "executionInfo": {
     "elapsed": 268,
     "status": "ok",
     "timestamp": 1666143184741,
     "user": {
      "displayName": "Yuan An",
      "userId": "12279868416530647161"
     },
     "user_tz": 240
    },
    "id": "0dlsYbQbJR_Y",
    "outputId": "b4d98260-799e-4cad-c383-059c810c116b"
   },
   "outputs": [],
   "source": [
    "df.shape"
   ]
  },
  {
   "cell_type": "markdown",
   "id": "142f5b62-2ff8-4794-96c0-737a7177ff8e",
   "metadata": {
    "id": "DAhYPWvq1zc-"
   },
   "source": [
    "## Probing BERT"
   ]
  },
  {
   "cell_type": "code",
   "execution_count": null,
   "id": "7e406d5c-8dd9-49b5-a0d1-383fab7084d4",
   "metadata": {
    "id": "f12c0fd2-6951-4098-9769-48ab3c98e90b"
   },
   "outputs": [],
   "source": [
    "tokenizer = AutoTokenizer.from_pretrained(\"bert-large-cased\")\n",
    "model = AutoModelForMaskedLM.from_pretrained(\"bert-large-cased\")"
   ]
  },
  {
   "cell_type": "code",
   "execution_count": null,
   "id": "a4ca6f4b-2a6e-483d-b8ee-538949746e49",
   "metadata": {
    "colab": {
     "base_uri": "https://localhost:8080/",
     "height": 35
    },
    "executionInfo": {
     "elapsed": 519,
     "status": "ok",
     "timestamp": 1666143162640,
     "user": {
      "displayName": "Yuan An",
      "userId": "12279868416530647161"
     },
     "user_tz": 240
    },
    "id": "e46f8370-80b4-4f4d-88e0-94b3020a88ab",
    "outputId": "72cea969-0fc5-44ac-c92b-d5e8da4c6e40"
   },
   "outputs": [],
   "source": [
    "mask_token = tokenizer.mask_token\n",
    "mask_token"
   ]
  },
  {
   "cell_type": "markdown",
   "id": "5414a6e5-2cdd-4a82-bd47-f30a4ad86272",
   "metadata": {
    "id": "yccd3rTy16Yr"
   },
   "source": [
    "## Creat the Prompt Pipeline"
   ]
  },
  {
   "cell_type": "code",
   "execution_count": null,
   "id": "6aef761b-884e-49b0-812e-c3f1b06cab27",
   "metadata": {
    "id": "OoWE2iMqoXHJ"
   },
   "outputs": [],
   "source": [
    "pipe = pipeline(\n",
    "    task=\"fill-mask\",\n",
    "    model=model,\n",
    "    tokenizer=tokenizer,\n",
    "    top_k=100,\n",
    ")"
   ]
  },
  {
   "cell_type": "markdown",
   "id": "a441e420-a999-4ea7-ada2-6f968f0b5c8d",
   "metadata": {
    "id": "aWXu0sgCf4jA"
   },
   "source": [
    "## Create Prompts"
   ]
  },
  {
   "cell_type": "code",
   "execution_count": null,
   "id": "c60019c7-947c-40e2-8735-1702eae07014",
   "metadata": {
    "id": "9a212ac0-5680-4da2-839c-5244538adb04"
   },
   "outputs": [],
   "source": [
    "def create_spaceGroup_prompt1(sub, mask):\n",
    "    return f\"{sub} is an MOF. {sub} has the space group symbol {mask}.\"\n",
    "    \n",
    "def create_spaceGroup_prompt2(sub, mask):\n",
    "    return f\"{sub} is an MOF. {sub} has an space group code {mask}.\"\n",
    "\n",
    "def create_spaceGroup_prompt3(sub, mask):\n",
    "    return f\"{sub} is an MOF. {sub} has an space group {mask}.\"\n",
    "\n",
    "def create_spaceGroup_prompt4(sub, mask):\n",
    "    return f\"{sub} is an MOF. The space group of {sub} is {mask}.\"\n",
    "    \n",
    "def create_spaceGroup_prompt5(sub, mask):\n",
    "    return f\"{sub} is an MOF. {sub} is in the space group {mask}.\"\n",
    "    \n",
    "def create_spaceGroup_prompt6(sub, mask):\n",
    "    return f\"{sub} is an metal organic framework. {sub}'s space group is {mask}.\" \n",
    "    \n",
    "def create_spaceGroup_prompt7(sub, mask):\n",
    "    return f\"{sub} is an MOF. {sub} is an type of {mask} space group.\"\n",
    "    \n",
    "def create_spaceGroup_prompt8(sub, mask):\n",
    "    return f\"{sub} is an MOF. {sub} is in the class of {mask} space group.\"\n",
    "    \n",
    "def create_spaceGroup_prompt9(sub, mask):\n",
    "    return f\"{sub} has SBUs and organic linkers. The space group of {sub} is {mask}.\"\n",
    "    \n",
    "def create_spaceGroup_prompt10(sub, mask):\n",
    "    return f\"{sub} is an MOF. The {mask} describes {sub}'s space group.\"\n",
    "    \n",
    "def create_spaceGroup_prompt11(sub, mask):\n",
    "    return f\"{sub} is a metal-organic framework. The space group of {sub} is {mask}.\"\n",
    "    \n",
    "def create_spaceGroup_prompt12(sub, mask):\n",
    "    return f\"As a MOF, {sub} has the space group {mask}.\""
   ]
  },
  {
   "cell_type": "code",
   "execution_count": null,
   "id": "2e1c7d57-f028-476a-9a17-47f5264beeb2",
   "metadata": {
    "id": "oQEIANBrgl4c"
   },
   "outputs": [],
   "source": [
    "processors = [create_spaceGroup_prompt1, create_spaceGroup_prompt2,\n",
    "              create_spaceGroup_prompt3, create_spaceGroup_prompt4,\n",
    "              create_spaceGroup_prompt5, create_spaceGroup_prompt6,\n",
    "              create_spaceGroup_prompt7, create_spaceGroup_prompt8,\n",
    "              create_spaceGroup_prompt9, create_spaceGroup_prompt10,\n",
    "              create_spaceGroup_prompt11, create_spaceGroup_prompt12\n",
    "             ]"
   ]
  },
  {
   "cell_type": "markdown",
   "id": "27d1e8fa-5a2f-4f85-9f7f-f74bb3db8f53",
   "metadata": {
    "id": "bfa6da22-ef52-4dab-88f2-0811912f8cbf"
   },
   "source": [
    "## Check Whether the Predicted Tokens Match"
   ]
  },
  {
   "cell_type": "code",
   "execution_count": null,
   "id": "4384541c-916e-4368-8339-9dfc4fe8d9a4",
   "metadata": {
    "id": "ddee966e-64b1-487f-8aec-0f6f5debbf1e"
   },
   "outputs": [],
   "source": [
    "# Compute a column indicating whether the predictedToken in the ObjectEntity list\n",
    "def hasPredicted(row):\n",
    "    token = row['predictedToken']\n",
    "    objectEntities = row['ObjectEntity']\n",
    "    #print(objectEntities)\n",
    "    if pd.notna(objectEntities):\n",
    "        types = objectEntities.split(\",\") # get individual types\n",
    "        for tp in types: # for each type\n",
    "            type_words = tp.lower().split() # get the individual words in the type\n",
    "            if token.lower() in type_words: # check if a type word was predicted\n",
    "                return 1\n",
    "       \n",
    "    return 0"
   ]
  },
  {
   "cell_type": "markdown",
   "id": "866da06b-8e26-4126-ab8d-23721d8fb647",
   "metadata": {
    "id": "869312a9-6133-40b7-9acb-ca499874b814"
   },
   "source": [
    "## Test BERT"
   ]
  },
  {
   "cell_type": "code",
   "execution_count": null,
   "id": "617040da-25ab-48b4-ab03-bdac6a7a88b5",
   "metadata": {
    "id": "MVAuqvu8f8fl"
   },
   "outputs": [],
   "source": [
    "def prompt_probe(model, tokenizer, prompt_processor, df_sub, mask_token, \\\n",
    "                 subjectCol, relationCol, objectCol, top_k=100):\n",
    "\n",
    "    pipe = pipeline(\n",
    "        task=\"fill-mask\",\n",
    "        model=model,\n",
    "        tokenizer=tokenizer,\n",
    "        top_k=top_k,\n",
    "    )\n",
    "\n",
    "    prompts = PromptSet([prompt_processor(row.SubjectEntity, mask_token) for _, row in df_sub.iterrows()])\n",
    "\n",
    "    outputs = []\n",
    "    for out in tqdm(pipe(prompts, batch_size=8), total=len(prompts)):\n",
    "        outputs.append(out)\n",
    "\n",
    "    results = []\n",
    "    for idx, row in df_sub.iterrows():\n",
    "        for output in outputs[idx]:\n",
    "            record = {}\n",
    "            record['SubjectEntity'] = row[subjectCol]\n",
    "            record['Relation'] = row[relationCol]\n",
    "            record['ObjectEntity'] = row[objectCol]\n",
    "            record['prompt']= prompts[idx]\n",
    "            record['predictedScore'] = output['score']\n",
    "            record['predictedToken'] = output['token_str']\n",
    "            results.append(record)\n",
    "\n",
    "    return pd.DataFrame(results)"
   ]
  },
  {
   "cell_type": "code",
   "execution_count": null,
   "id": "95cd0267-0ed8-44d4-9e97-bf6bf6fdf16f",
   "metadata": {
    "id": "KsUSnkZ7l-5U"
   },
   "outputs": [],
   "source": [
    "# return the top-k rows based on predictedScore\n",
    "def top(df, col, n=10):\n",
    "    return df.sort_values(by=col, ascending=False)[:n]"
   ]
  },
  {
   "cell_type": "code",
   "execution_count": null,
   "id": "be3bc287-8509-44f9-a279-f56d22bf042a",
   "metadata": {
    "id": "FsnJPxPBl-5V"
   },
   "outputs": [],
   "source": [
    "# check whether the predicted is 1 for each group\n",
    "def predictedOne(df, col):\n",
    "    total = df[col].sum()\n",
    "    if total > 0:\n",
    "        return 1\n",
    "    else:\n",
    "        return 0"
   ]
  },
  {
   "cell_type": "code",
   "execution_count": null,
   "id": "1cca145d-023b-4b12-b253-11ac675075df",
   "metadata": {
    "id": "YTMrQugZl-5V"
   },
   "outputs": [],
   "source": [
    "# Assume the predicted_df has a binary column 'predicted' indicating whether ObjectEntity has been predicted\n",
    "# 1 for yes, 0 for no\n",
    "def evaluate_acc_n(predicted_df, relation, prompt_template, at_k=5):\n",
    "    topk_df = predicted_df.groupby('SubjectEntity', as_index=False).apply(top, col='predictedScore', n=at_k)\n",
    "    topk_agg_df = topk_df.groupby('SubjectEntity', as_index=False).apply(predictedOne, col='predicted')\n",
    "    topk_agg_df.columns = ['SubjectEntity', 'predicted']\n",
    "    result = {}\n",
    "    result['Relation'] = relation\n",
    "    result['prompt_template'] = prompt_template\n",
    "    result['acc'] = topk_agg_df.predicted.mean()\n",
    "    result['at_k'] = at_k\n",
    "\n",
    "    return result"
   ]
  },
  {
   "cell_type": "code",
   "execution_count": null,
   "id": "0cc00b62-8353-4e27-9b1f-6b679796f88c",
   "metadata": {
    "id": "55688b85-e2dd-4172-b199-cd3ca4cd3353"
   },
   "outputs": [],
   "source": [
    "pd.set_option('display.max_colwidth', None)"
   ]
  },
  {
   "cell_type": "code",
   "execution_count": null,
   "id": "d85ce6fc-9006-4eab-bfc1-72bfc1b3d45b",
   "metadata": {
    "colab": {
     "referenced_widgets": [
      "361128975c744e85a436c3f520963b49",
      "b568fb7b503648479fc77cbf44d19ce3",
      "f111885f61834d32b9a3acd68d349a9f",
      "45ffab4bfe904ea388c9202ddfc6d4da",
      "756d882e1eaa4708a1bc2c62ff78619e",
      "8f0f5a8e58564e86b6651d4e4c8d31bf",
      "25945e2b66ef477985f675d2c5bc4ef6",
      "2e0d1d4cda8a4a0b95cb45079de787d2",
      "cb54dc2f5a0f4b1fbe5fed95e30d9545",
      "9663ca40463945c0a9fe33cdce9321a5",
      "8a4be931564f4df2898f1593c82bb579",
      "e8a92237a869469bbe0184816f5743cd"
     ]
    },
    "id": "b0190f3f-b9a6-4d57-83fa-e3bb3acf828a",
    "outputId": "d7dcfe16-8cbf-4e19-d853-3c9ced69aec5"
   },
   "outputs": [],
   "source": [
    "%%time\n",
    "acc_list = []\n",
    "atks = [1, 5, 10, 20, 50, 100]\n",
    "for processor in processors:\n",
    "    result_df = prompt_probe(model, tokenizer, processor, df, mask_token, \\\n",
    "                     'SubjectEntity', 'Relation', 'ObjectEntity', top_k=100)\n",
    "    result_df['predicted'] = result_df.apply(hasPredicted, axis=1)\n",
    "\n",
    "    prompt_template = processor('{SubjectEntity}', '[MASK]')\n",
    "    for at_k in atks:\n",
    "        acc_df = evaluate_acc_n(result_df, 'hasSpaceGroup', prompt_template, at_k=at_k)\n",
    "        acc_list.append(acc_df)"
   ]
  },
  {
   "cell_type": "code",
   "execution_count": null,
   "id": "9e163770-6945-44aa-b699-c114d3de8997",
   "metadata": {
    "id": "f822f7ba-11eb-476a-aa60-074b00894d9f"
   },
   "outputs": [],
   "source": [
    "hasType_df = pd.DataFrame(acc_list)"
   ]
  },
  {
   "cell_type": "code",
   "execution_count": null,
   "id": "c0fdefc4-be64-4905-b0c8-fef0fcdb9a73",
   "metadata": {
    "id": "EtAuhaBohBxO",
    "outputId": "7b265a24-0e5d-4fa5-e000-2265220a129a"
   },
   "outputs": [],
   "source": [
    "hasType_df.sample(10)"
   ]
  },
  {
   "cell_type": "code",
   "execution_count": null,
   "id": "2071a4b2-69e4-4f0d-a882-170def753a60",
   "metadata": {
    "id": "c880c81b-929e-4eef-a98c-defcfd0369d7"
   },
   "outputs": [],
   "source": [
    "result_df.to_csv(\"../data/predicted_hasSpaceGroup_BERT.csv\", index=None)"
   ]
  },
  {
   "cell_type": "code",
   "execution_count": null,
   "id": "98f95a26-dd15-4083-bcdc-173f65b0b1f4",
   "metadata": {
    "id": "7fe702fb-17f6-4cc3-9149-14bc7ca14a03"
   },
   "outputs": [],
   "source": [
    "hasType_df.to_csv(\"../data/predicted_hasSpaceGroup_BERT_eval.csv\", index=None)"
   ]
  },
  {
   "cell_type": "code",
   "execution_count": null,
   "id": "4605c775-21ad-4ca9-8754-bca29d982f27",
   "metadata": {
    "id": "d3299e52-ecf9-4ef6-b4e4-b8f6e21f6d6f",
    "outputId": "95ab2b72-cc7e-47e2-da68-1e983d187e71"
   },
   "outputs": [],
   "source": [
    "hasType_df[hasType_df['at_k'] == 1].sort_values('acc', ascending=False)"
   ]
  },
  {
   "cell_type": "code",
   "execution_count": null,
   "id": "979c1a3f-22ad-4613-8a30-7c00854ae71e",
   "metadata": {
    "id": "987f0e87-b729-4352-8135-41e69df5631d",
    "outputId": "5e5c5867-62f3-4a9c-e570-8052419cc12f"
   },
   "outputs": [],
   "source": [
    "hasType_df.sort_values('acc', ascending=False)"
   ]
  },
  {
   "cell_type": "markdown",
   "id": "92a8321f-0fb4-4bb4-b53b-e639a769dd4a",
   "metadata": {
    "id": "c07c6a8e-6cc6-49c8-9097-c9a0060e45f2"
   },
   "source": [
    "## Probing MatBERT"
   ]
  },
  {
   "cell_type": "code",
   "execution_count": null,
   "id": "5469823e-83a2-41e6-8324-7c7cb25312af",
   "metadata": {
    "id": "46c36d72-a33c-4bff-9ab9-7006d9c1279e"
   },
   "outputs": [],
   "source": [
    "# MatBERT\n",
    "tokenizer = AutoTokenizer.from_pretrained(\"../model/model/matbert-base-cased\")\n",
    "model = AutoModelForMaskedLM.from_pretrained(\"../model/model/matbert-base-cased\")"
   ]
  },
  {
   "cell_type": "code",
   "execution_count": null,
   "id": "8b383340-5f25-4cf5-aa25-5eafe017f2e3",
   "metadata": {
    "colab": {
     "base_uri": "https://localhost:8080/",
     "height": 35
    },
    "executionInfo": {
     "elapsed": 519,
     "status": "ok",
     "timestamp": 1666143162640,
     "user": {
      "displayName": "Yuan An",
      "userId": "12279868416530647161"
     },
     "user_tz": 240
    },
    "id": "2f8ecf23-8eb8-4a87-8e1d-641177a59ca4",
    "outputId": "72cea969-0fc5-44ac-c92b-d5e8da4c6e40"
   },
   "outputs": [],
   "source": [
    "mask_token = tokenizer.mask_token\n",
    "mask_token"
   ]
  },
  {
   "cell_type": "markdown",
   "id": "16363271-05f1-44f5-96b3-c51547294a3b",
   "metadata": {
    "id": "28bb7577-a57c-432c-8f21-2ce188aab3f4"
   },
   "source": [
    "## Creat the Prompt Pipeline"
   ]
  },
  {
   "cell_type": "code",
   "execution_count": null,
   "id": "d8a41c76-1364-4d57-a910-abe281d93fef",
   "metadata": {
    "id": "63037587-acd8-4edb-8ccd-d9b4a4bc14a6"
   },
   "outputs": [],
   "source": [
    "pipe = pipeline(\n",
    "    task=\"fill-mask\",\n",
    "    model=model,\n",
    "    tokenizer=tokenizer,\n",
    "    top_k=100,\n",
    ")"
   ]
  },
  {
   "cell_type": "markdown",
   "id": "f4eed023-d415-4f32-9911-e41a9af926b7",
   "metadata": {
    "id": "3a2cd5b0-ceb3-492a-9e3c-b2ef98e0f75e"
   },
   "source": [
    "## Run"
   ]
  },
  {
   "cell_type": "code",
   "execution_count": null,
   "id": "8ab3bb2f-cd04-4e53-8410-c80afe6ea9be",
   "metadata": {
    "colab": {
     "referenced_widgets": [
      "5deb59e7f1a1486db5188d019a852eeb",
      "580b4dd287b84d9584f1601001332462",
      "542fb9336b6744f3b79fe9c19fb91449",
      "62b820921cfc46309371b3eb8446c6a2",
      "1e3e67a0e6364b23b01d6846e2d5bd5f",
      "6814dd0276e841c587227c2e3ba3687a",
      "afb87fea09594ea5b70876492333881c",
      "13c8d6858dc44fb295a327b27c5900a5",
      "ed7d027702af4a56ae6caf3cdaaf47d2",
      "6364f8e9a21042c094ed8d5af3e094a9",
      "cb53fe49aceb4b8d9c063970c247d945",
      "cf0d31557fe34bf3847e78be9a5a8e1b"
     ]
    },
    "id": "40c25cc9-4e71-480d-83df-fbc299ccd454",
    "outputId": "4c2a0a33-ff40-48d9-b8b8-0ca85d86f869"
   },
   "outputs": [],
   "source": [
    "%%time\n",
    "acc_list = []\n",
    "atks = [1, 5, 10, 20, 50, 100]\n",
    "for processor in processors:\n",
    "    result_df = prompt_probe(model, tokenizer, processor, df, mask_token, \\\n",
    "                     'SubjectEntity', 'Relation', 'ObjectEntity', top_k=100)\n",
    "    result_df['predicted'] = result_df.apply(hasPredicted, axis=1)\n",
    "\n",
    "    prompt_template = processor('{SubjectEntity}', '[MASK]')\n",
    "    for at_k in atks:\n",
    "        acc_df = evaluate_acc_n(result_df, 'hasSpaceGroup', prompt_template, at_k=at_k)\n",
    "        acc_list.append(acc_df)"
   ]
  },
  {
   "cell_type": "code",
   "execution_count": null,
   "id": "82ae1763-6ba8-4fdc-8299-5de1c200d59a",
   "metadata": {
    "id": "02a8ec37-fdeb-4c5b-bb1b-f02ab220cc52"
   },
   "outputs": [],
   "source": [
    "hasType_df = pd.DataFrame(acc_list)"
   ]
  },
  {
   "cell_type": "code",
   "execution_count": null,
   "id": "7753716e-d2d2-45cf-9a0c-77fb7abfc4e1",
   "metadata": {
    "id": "ec452969-ff1f-4c4e-8835-357d94046631",
    "outputId": "777057e6-5bec-4b22-afc2-96bf124eb08c"
   },
   "outputs": [],
   "source": [
    "hasType_df.sample(10)"
   ]
  },
  {
   "cell_type": "code",
   "execution_count": null,
   "id": "6beb9b6e-8950-4b06-ba51-c4d7aa424fa1",
   "metadata": {
    "id": "91784d92-ce16-4e12-bfcc-3fe029e4454f"
   },
   "outputs": [],
   "source": [
    "result_df.to_csv(\"../data/predicted_hasSpaceGroup_MatBERT.csv\", index=None)"
   ]
  },
  {
   "cell_type": "code",
   "execution_count": null,
   "id": "1ae08f22-a9ab-4f19-97b7-b4c07421da99",
   "metadata": {
    "id": "d9956d44-419e-4ed7-8575-8c424548f7a6"
   },
   "outputs": [],
   "source": [
    "hasType_df.to_csv(\"../data/predicted_hasSpaceGroup_MatBERT_eval.csv\", index=None)"
   ]
  },
  {
   "cell_type": "code",
   "execution_count": null,
   "id": "9b3979b8-2925-43dc-acd1-2bd80da11461",
   "metadata": {
    "id": "2474feab-c4df-452e-af55-273fdbc54d36",
    "outputId": "d5ca48f7-e416-444c-d229-8f624c45e1bd"
   },
   "outputs": [],
   "source": [
    "hasType_df[hasType_df['at_k'] == 1].sort_values('acc', ascending=False)"
   ]
  },
  {
   "cell_type": "code",
   "execution_count": null,
   "id": "0ab2d20b-5874-4d2b-bc7a-605e2ec0cc6c",
   "metadata": {
    "id": "6279b12a-aa4d-43ef-8a21-1609b54d8ff2",
    "outputId": "5a3598ca-f224-43a9-8ee4-7ac7e9390277"
   },
   "outputs": [],
   "source": [
    "hasType_df.sort_values('acc', ascending=False)"
   ]
  },
  {
   "cell_type": "markdown",
   "id": "30bbf76c-643d-4a32-9771-f676a1f5b581",
   "metadata": {
    "id": "81e0a83a-3ee8-44b5-9228-05163abeb558"
   },
   "source": [
    "## Probing MatSciBERT"
   ]
  },
  {
   "cell_type": "code",
   "execution_count": null,
   "id": "b03aa846-f5d5-430c-b77f-e0bea6b992da",
   "metadata": {
    "id": "70621025-c440-4ebe-b081-38390ea30aa8"
   },
   "outputs": [],
   "source": [
    "# MatSciBERT\n",
    "tokenizer = AutoTokenizer.from_pretrained('m3rg-iitd/matscibert')\n",
    "model = AutoModelForMaskedLM.from_pretrained('m3rg-iitd/matscibert')"
   ]
  },
  {
   "cell_type": "code",
   "execution_count": null,
   "id": "fab0450b-ed42-49d9-94fe-1b4d8e4ca6bd",
   "metadata": {
    "colab": {
     "base_uri": "https://localhost:8080/",
     "height": 35
    },
    "executionInfo": {
     "elapsed": 519,
     "status": "ok",
     "timestamp": 1666143162640,
     "user": {
      "displayName": "Yuan An",
      "userId": "12279868416530647161"
     },
     "user_tz": 240
    },
    "id": "b863582b-8525-4dcd-a7ff-6877f1d9e655",
    "outputId": "72cea969-0fc5-44ac-c92b-d5e8da4c6e40"
   },
   "outputs": [],
   "source": [
    "mask_token = tokenizer.mask_token\n",
    "mask_token"
   ]
  },
  {
   "cell_type": "markdown",
   "id": "e7b85d41-66e6-4680-a690-68dfc35470cb",
   "metadata": {
    "id": "81908035-52e3-409f-9b8c-4b7cdec16ff0"
   },
   "source": [
    "## Creat the Prompt Pipeline"
   ]
  },
  {
   "cell_type": "code",
   "execution_count": null,
   "id": "03ae6c6b-139f-4ee6-9581-1158255e536d",
   "metadata": {
    "id": "f8f09ba9-cb78-4fb3-8e54-c087f0776d71"
   },
   "outputs": [],
   "source": [
    "pipe = pipeline(\n",
    "    task=\"fill-mask\",\n",
    "    model=model,\n",
    "    tokenizer=tokenizer,\n",
    "    top_k=100,\n",
    ")"
   ]
  },
  {
   "cell_type": "markdown",
   "id": "da3989e0-2428-4606-8af5-1579ebe94357",
   "metadata": {
    "id": "ef55395d-3189-4f46-83d7-7e2b13ce8585"
   },
   "source": [
    "## Run"
   ]
  },
  {
   "cell_type": "code",
   "execution_count": null,
   "id": "c216c7fc-90e3-4ea4-87f9-0cde168c0753",
   "metadata": {
    "colab": {
     "referenced_widgets": [
      "f06c830e686f40f49713e1fdb9e751a0",
      "7a9d9bf4cdb4468a8b590b5bec2411df",
      "8b2bf4df92bc44319479cc4d8915bb42",
      "8bf481c81680450bbefdecf511987183",
      "f90ac7a7a7ba4612a4e58cce92f462f5",
      "3c02ddd53bf1494993619d4823474dad",
      "232e0105a0234d3f851a6749809e43e5",
      "20c8bf8bd51749239f66c4931eab3972",
      "95ae683a84b54509b49b20636a6d5a77",
      "7e7761aa43f84ebd85f6cc74ef614b7d",
      "e8a3cff511fd45fea8ae1f15f6faeb58",
      "c731e015552847f185fb01ab8cae026c"
     ]
    },
    "id": "034e6ad5-3548-45af-9a22-638f2ac220a1",
    "outputId": "1992d1e4-4977-46c3-90fc-cc536beb83d4"
   },
   "outputs": [],
   "source": [
    "%%time\n",
    "acc_list = []\n",
    "atks = [1, 5, 10, 20, 50, 100]\n",
    "for processor in processors:\n",
    "    result_df = prompt_probe(model, tokenizer, processor, df, mask_token, \\\n",
    "                     'SubjectEntity', 'Relation', 'ObjectEntity', top_k=100)\n",
    "    result_df['predicted'] = result_df.apply(hasPredicted, axis=1)\n",
    "\n",
    "    prompt_template = processor('{SubjectEntity}', '[MASK]')\n",
    "    for at_k in atks:\n",
    "        acc_df = evaluate_acc_n(result_df, 'hasSpaceGroup', prompt_template, at_k=at_k)\n",
    "        acc_list.append(acc_df)"
   ]
  },
  {
   "cell_type": "code",
   "execution_count": null,
   "id": "157e555b-240c-4676-9ee9-341844a09d74",
   "metadata": {
    "id": "63fdfef8-bf5e-4f0d-b8c5-83cd72d7f2c7"
   },
   "outputs": [],
   "source": [
    "hasType_df = pd.DataFrame(acc_list)"
   ]
  },
  {
   "cell_type": "code",
   "execution_count": null,
   "id": "26dff29f-f542-4536-95aa-59c6929d6ab2",
   "metadata": {
    "id": "0ea239dc-94c2-4c04-913e-0fcebd9d902d",
    "outputId": "12bb5b98-a008-4bac-cc92-1ecc385be547"
   },
   "outputs": [],
   "source": [
    "hasType_df.sample(10)"
   ]
  },
  {
   "cell_type": "code",
   "execution_count": null,
   "id": "fad278a2-8f2e-4985-b974-81884a25e076",
   "metadata": {
    "id": "97e36df6-a6d2-46ae-99cd-11152eb9902a"
   },
   "outputs": [],
   "source": [
    "result_df.to_csv(\"../data/predicted_hasSpaceGroup_MatSciBERT.csv\", index=None)"
   ]
  },
  {
   "cell_type": "code",
   "execution_count": null,
   "id": "ec68c00a-88bb-4a22-be64-676ae620e9e2",
   "metadata": {
    "id": "48d58a92-daa3-49e0-bc5f-3db3ce29aa3f"
   },
   "outputs": [],
   "source": [
    "hasType_df.to_csv(\"../data/predicted_hasSpaceGroup_MatSciBERT_eval.csv\", index=None)"
   ]
  },
  {
   "cell_type": "code",
   "execution_count": null,
   "id": "704dddf8-d758-4f15-ad23-4a484ccbf44f",
   "metadata": {
    "id": "f3281d92-5f42-497b-8e4c-cfdfc4325500",
    "outputId": "4f732974-bd20-414c-f633-0418f6191aad"
   },
   "outputs": [],
   "source": [
    "hasType_df[hasType_df['at_k'] == 1].sort_values('acc', ascending=False)"
   ]
  },
  {
   "cell_type": "code",
   "execution_count": null,
   "id": "d33b47b8-de58-46fc-b7cb-0ff52749c9f8",
   "metadata": {
    "id": "93709576-a549-4067-b0dc-722007dc5f14",
    "outputId": "2a5f1830-803d-4a75-ecfa-63dbdd228a55"
   },
   "outputs": [],
   "source": [
    "hasType_df.sort_values('acc', ascending=False)"
   ]
  },
  {
   "cell_type": "markdown",
   "id": "700f18d7-b330-4431-8894-991431dd2e37",
   "metadata": {
    "id": "7ea82684-73f7-4a08-a2d4-9529b1328672"
   },
   "source": [
    "## Probing SciBERT"
   ]
  },
  {
   "cell_type": "code",
   "execution_count": null,
   "id": "0ca57310-8457-495c-aaba-ceecf10e2783",
   "metadata": {
    "id": "0937d1db-d5c2-47e1-a920-e7c8a667f003"
   },
   "outputs": [],
   "source": [
    "# SciBERT\n",
    "tokenizer = AutoTokenizer.from_pretrained('allenai/scibert_scivocab_cased')\n",
    "model = AutoModelForMaskedLM.from_pretrained('allenai/scibert_scivocab_cased')"
   ]
  },
  {
   "cell_type": "code",
   "execution_count": null,
   "id": "7dc0bd76-c9df-436f-8ff4-422515ff01c5",
   "metadata": {
    "colab": {
     "base_uri": "https://localhost:8080/",
     "height": 35
    },
    "executionInfo": {
     "elapsed": 519,
     "status": "ok",
     "timestamp": 1666143162640,
     "user": {
      "displayName": "Yuan An",
      "userId": "12279868416530647161"
     },
     "user_tz": 240
    },
    "id": "a2fc4405-4e30-4d3e-a989-004e4d45762f",
    "outputId": "72cea969-0fc5-44ac-c92b-d5e8da4c6e40"
   },
   "outputs": [],
   "source": [
    "mask_token = tokenizer.mask_token\n",
    "mask_token"
   ]
  },
  {
   "cell_type": "markdown",
   "id": "28bb5576-9550-4a3c-9503-6f1056cf9535",
   "metadata": {
    "id": "96d62e1c-8831-466d-a4ad-b75a5fb1d243"
   },
   "source": [
    "## Creat the Prompt Pipeline"
   ]
  },
  {
   "cell_type": "code",
   "execution_count": null,
   "id": "14539fbc-1270-478a-bfd1-7f6e0c0e828e",
   "metadata": {
    "id": "52858ece-f1f0-46ed-887f-5e9f4d84650e"
   },
   "outputs": [],
   "source": [
    "pipe = pipeline(\n",
    "    task=\"fill-mask\",\n",
    "    model=model,\n",
    "    tokenizer=tokenizer,\n",
    "    top_k=100,\n",
    ")"
   ]
  },
  {
   "cell_type": "markdown",
   "id": "0ff22a9f-3711-4138-a1f4-975448a10307",
   "metadata": {
    "id": "59175dfd-eba6-4658-851d-3103be68d58d"
   },
   "source": [
    "## Run"
   ]
  },
  {
   "cell_type": "code",
   "execution_count": null,
   "id": "42f96af3-7d66-4b5c-896c-07bcf8abadeb",
   "metadata": {
    "colab": {
     "referenced_widgets": [
      "b4dac1f2bb6f487d930949cf89ca39d3",
      "1a414a34c76b44f69b239108638a24fd",
      "4424cfcdfbd447c6a03f7b76996c5d0c",
      "3c7f09c383f64b5ea0c074fe972e3407",
      "b1674881ae72496f95b86b722c36f5f3",
      "eec71534db004f2bb5b37e0eba26d2d9",
      "53547900553a4e0984a0f8db59bb8583",
      "8edb9c54ac9142c1815d87641a1ed570",
      "1815974cfc6a40f7988d7ebba1fac3f6",
      "78b1d40ffb894c67aea9f880d42c1a21",
      "4abc09aa63c044eeb74af455695c45df",
      "9b66267c678a477bb25bd3f1f6e5ae6b"
     ]
    },
    "id": "32f25f68-08b2-4731-a359-4723b2d70d7b",
    "outputId": "0e1ba460-9d90-41f3-e063-9940a93277cd"
   },
   "outputs": [],
   "source": [
    "%%time\n",
    "acc_list = []\n",
    "atks = [1, 5, 10, 20, 50, 100]\n",
    "for processor in processors:\n",
    "    result_df = prompt_probe(model, tokenizer, processor, df, mask_token, \\\n",
    "                     'SubjectEntity', 'Relation', 'ObjectEntity', top_k=100)\n",
    "    result_df['predicted'] = result_df.apply(hasPredicted, axis=1)\n",
    "\n",
    "    prompt_template = processor('{SubjectEntity}', '[MASK]')\n",
    "    for at_k in atks:\n",
    "        acc_df = evaluate_acc_n(result_df, 'hasSpaceGroup', prompt_template, at_k=at_k)\n",
    "        acc_list.append(acc_df)"
   ]
  },
  {
   "cell_type": "code",
   "execution_count": null,
   "id": "6241dda6-b007-4af9-a4b9-e292f7b1718b",
   "metadata": {
    "id": "f86447a6-e78e-43ff-82c7-af20c158296b"
   },
   "outputs": [],
   "source": [
    "hasType_df = pd.DataFrame(acc_list)"
   ]
  },
  {
   "cell_type": "code",
   "execution_count": null,
   "id": "23b429d9-d2ab-427c-97b7-ae5b9894adb5",
   "metadata": {
    "id": "d1f9664b-1aea-4773-8950-47b0d52bb0ee",
    "outputId": "0d96b0c7-54ed-4937-c1b6-2fd9c4c29360"
   },
   "outputs": [],
   "source": [
    "hasType_df.sample(10)"
   ]
  },
  {
   "cell_type": "code",
   "execution_count": null,
   "id": "32ed4602-043a-4be3-b30f-76c1dc8f650c",
   "metadata": {
    "id": "e8fa4004-1013-4f74-b4bb-1977f3e0f8da"
   },
   "outputs": [],
   "source": [
    "result_df.to_csv(\"../data/predicted_hasSpaceGroup_SciBERT.csv\", index=None)"
   ]
  },
  {
   "cell_type": "code",
   "execution_count": null,
   "id": "a42c01fe-76b8-4d52-92bd-5541bfe02974",
   "metadata": {
    "id": "d684ef01-ae1b-4fd3-adf0-f1484d9a2d47"
   },
   "outputs": [],
   "source": [
    "hasType_df.to_csv(\"../data/predicted_hasSpaceGroup_SciBERT_eval.csv\", index=None)"
   ]
  },
  {
   "cell_type": "code",
   "execution_count": null,
   "id": "7015b875-4526-40f0-afbe-272be997c67b",
   "metadata": {
    "id": "e3f9ec04-5e7f-4b76-b517-5bf1f0a161ac",
    "outputId": "71ca4eea-9c8e-46f2-ccf5-b71b589d9656"
   },
   "outputs": [],
   "source": [
    "hasType_df[hasType_df['at_k'] == 1].sort_values('acc', ascending=False)"
   ]
  },
  {
   "cell_type": "code",
   "execution_count": null,
   "id": "b157ab07-22b5-4750-963a-2b6b38f47c91",
   "metadata": {
    "id": "9f19e68f-c514-48bb-9a01-62d0685025bb",
    "outputId": "1695bc52-0898-4123-abaf-3b137210d02c"
   },
   "outputs": [],
   "source": [
    "hasType_df.sort_values('acc', ascending=False)"
   ]
  },
  {
   "cell_type": "markdown",
   "id": "8b23a922-146d-4365-b660-b4c285c69fbe",
   "metadata": {
    "id": "5d7b49c1-f5d7-49b0-ac15-ea4fa03b36c6"
   },
   "source": [
    "## Probing RoBERTa"
   ]
  },
  {
   "cell_type": "code",
   "execution_count": null,
   "id": "f21e733d-cf1f-4278-b63c-7d2b80af46c4",
   "metadata": {
    "id": "9a1c9f77-493e-49ee-974a-3bbf6bdecd9f"
   },
   "outputs": [],
   "source": [
    "# RoBERTa\n",
    "tokenizer = AutoTokenizer.from_pretrained(\"roberta-large\")\n",
    "model = AutoModelForMaskedLM.from_pretrained(\"roberta-large\")"
   ]
  },
  {
   "cell_type": "code",
   "execution_count": null,
   "id": "a5ae155e-0634-4182-aab8-df26a193d459",
   "metadata": {
    "colab": {
     "base_uri": "https://localhost:8080/",
     "height": 35
    },
    "executionInfo": {
     "elapsed": 519,
     "status": "ok",
     "timestamp": 1666143162640,
     "user": {
      "displayName": "Yuan An",
      "userId": "12279868416530647161"
     },
     "user_tz": 240
    },
    "id": "d98083f6-f285-4338-839c-d28d37b2471e",
    "outputId": "72cea969-0fc5-44ac-c92b-d5e8da4c6e40"
   },
   "outputs": [],
   "source": [
    "mask_token = tokenizer.mask_token\n",
    "mask_token"
   ]
  },
  {
   "cell_type": "markdown",
   "id": "e14a4f7b-0f38-4200-acf6-b3d315d5715f",
   "metadata": {
    "id": "e20f666a-7b98-43ad-b6a4-920c3deef28a"
   },
   "source": [
    "## Creat the Prompt Pipeline"
   ]
  },
  {
   "cell_type": "code",
   "execution_count": null,
   "id": "0bed2a02-19bf-4f62-80e2-35ccf2d722ce",
   "metadata": {
    "id": "65b918b6-96ee-4304-8f1b-dc85b6faa7d2"
   },
   "outputs": [],
   "source": [
    "pipe = pipeline(\n",
    "    task=\"fill-mask\",\n",
    "    model=model,\n",
    "    tokenizer=tokenizer,\n",
    "    top_k=100,\n",
    ")"
   ]
  },
  {
   "cell_type": "markdown",
   "id": "73162efb-1ea1-4f21-a7cd-ceb907504ad3",
   "metadata": {
    "id": "7eef9e5d-906e-4103-91c2-b95c25163642"
   },
   "source": [
    "## Run"
   ]
  },
  {
   "cell_type": "code",
   "execution_count": null,
   "id": "b4ccae12-e475-49d6-b3ec-678e8f9ef6b7",
   "metadata": {
    "colab": {
     "referenced_widgets": [
      "1a2b6f16723b4f168fbbb5f36a3fbc9f",
      "ac95cc5280ca48a1aae208efa991512a",
      "4e54449415b24828b9e55a926e27baf6",
      "b7e33b9c28834a238978e4aae5dc59cb",
      "fb67902f1de84d9d8b75251f513e764d",
      "9ad1b3a4e6da4ac3b0290d6be5fd88f6",
      "b10906879ae64360a565c37f2c8e3474",
      "eb3c7b20b9c645a1bfc88fa3373d60be",
      "f9ece58d64854370993429b1b9b7b34a",
      "4c1b2a0d5a844e388cdabb8683442b1e",
      "1dec7540f89f4c12a68d1c8fbc36cb4d",
      "4888ad7c4c72428b9b3c6ca3b4273b47"
     ]
    },
    "id": "a09fbca6-bee0-4b7b-9de7-b94e6001c4bf",
    "outputId": "461f10eb-67a4-4bed-eff9-436acff6951c"
   },
   "outputs": [],
   "source": [
    "%%time\n",
    "acc_list = []\n",
    "atks = [1, 5, 10, 20, 50, 100]\n",
    "for processor in processors:\n",
    "    result_df = prompt_probe(model, tokenizer, processor, df, mask_token, \\\n",
    "                     'SubjectEntity', 'Relation', 'ObjectEntity', top_k=100)\n",
    "    result_df['predicted'] = result_df.apply(hasPredicted, axis=1)\n",
    "\n",
    "    prompt_template = processor('{SubjectEntity}', '[MASK]')\n",
    "    for at_k in atks:\n",
    "        acc_df = evaluate_acc_n(result_df, 'hasSpaceGroup', prompt_template, at_k=at_k)\n",
    "        acc_list.append(acc_df)"
   ]
  },
  {
   "cell_type": "code",
   "execution_count": null,
   "id": "05072dac-8b46-4114-bb2f-698c005a1977",
   "metadata": {
    "id": "254d9572-a3c7-407a-b3eb-05c927a87925"
   },
   "outputs": [],
   "source": [
    "hasType_df = pd.DataFrame(acc_list)"
   ]
  },
  {
   "cell_type": "code",
   "execution_count": null,
   "id": "3ffc6296-574d-4c63-816f-44ddfd45801e",
   "metadata": {
    "id": "36ae4c04-f582-4ea8-93a5-3224304f8aac",
    "outputId": "7e817919-4010-4a7f-b4a1-04ea0d8d3317"
   },
   "outputs": [],
   "source": [
    "hasType_df.sample(10)"
   ]
  },
  {
   "cell_type": "code",
   "execution_count": null,
   "id": "a8c94268-da1f-4c43-a05b-c6dc58fe6a89",
   "metadata": {
    "id": "cfdceaa9-cb4b-432a-ba5b-4923b5e6a90f"
   },
   "outputs": [],
   "source": [
    "result_df.to_csv(\"../data/predicted_hasSpaceGroup_RoBERTa.csv\", index=None)"
   ]
  },
  {
   "cell_type": "code",
   "execution_count": null,
   "id": "6aa045f4-0e2b-4893-a7bf-2169b5f73c4e",
   "metadata": {
    "id": "d043a711-5415-426c-99b2-478bdfdfe6ce"
   },
   "outputs": [],
   "source": [
    "hasType_df.to_csv(\"../data/predicted_hasSpaceGroup_RoBERTa_eval.csv\", index=None)"
   ]
  },
  {
   "cell_type": "code",
   "execution_count": null,
   "id": "11228bc0-6036-4289-9315-0c50888e1cb1",
   "metadata": {
    "id": "ca3f516c-eb00-488c-b01b-99a773c091a2",
    "outputId": "ce04e65a-4ef1-4475-9cf4-e83b0d64cacd"
   },
   "outputs": [],
   "source": [
    "hasType_df[hasType_df['at_k'] == 1].sort_values('acc', ascending=False)"
   ]
  },
  {
   "cell_type": "code",
   "execution_count": null,
   "id": "49f2dc07-0da8-42ad-b4b2-71c9ab4cf6d3",
   "metadata": {
    "id": "fa31e4ff-ddb6-4052-b32d-7c171c02dd2e",
    "outputId": "fc0dbf84-2059-4cf9-e9ae-e9dfe137689a"
   },
   "outputs": [],
   "source": [
    "hasType_df.sort_values('acc', ascending=False)"
   ]
  },
  {
   "cell_type": "code",
   "execution_count": null,
   "id": "0b728fb8-fe36-41ac-a1c0-d19919107118",
   "metadata": {
    "id": "3f22b669-4c68-4e50-b752-afaa0ab4fa14"
   },
   "outputs": [],
   "source": []
  },
  {
   "cell_type": "code",
   "execution_count": null,
   "id": "4cb12971-e5a7-44ca-9c4f-708f29bb39fd",
   "metadata": {},
   "outputs": [],
   "source": []
  },
  {
   "cell_type": "code",
   "execution_count": null,
   "id": "7baad9a4-0fff-45d5-83d7-64e5ce1adf3e",
   "metadata": {},
   "outputs": [],
   "source": []
  }
 ],
 "metadata": {
  "colab": {
   "collapsed_sections": [],
   "provenance": []
  },
  "kernelspec": {
   "display_name": "digiMOF",
   "language": "python",
   "name": "digimof"
  },
  "language_info": {
   "codemirror_mode": {
    "name": "ipython",
    "version": 3
   },
   "file_extension": ".py",
   "mimetype": "text/x-python",
   "name": "python",
   "nbconvert_exporter": "python",
   "pygments_lexer": "ipython3",
   "version": "3.7.13"
  },
  "widgets": {
   "application/vnd.jupyter.widget-state+json": {
    "011a3c0193ca4d07bf0b2f40be1ea73e": {
     "model_module": "@jupyter-widgets/base",
     "model_module_version": "1.2.0",
     "model_name": "LayoutModel",
     "state": {
      "_model_module": "@jupyter-widgets/base",
      "_model_module_version": "1.2.0",
      "_model_name": "LayoutModel",
      "_view_count": null,
      "_view_module": "@jupyter-widgets/base",
      "_view_module_version": "1.2.0",
      "_view_name": "LayoutView",
      "align_content": null,
      "align_items": null,
      "align_self": null,
      "border": null,
      "bottom": null,
      "display": null,
      "flex": null,
      "flex_flow": null,
      "grid_area": null,
      "grid_auto_columns": null,
      "grid_auto_flow": null,
      "grid_auto_rows": null,
      "grid_column": null,
      "grid_gap": null,
      "grid_row": null,
      "grid_template_areas": null,
      "grid_template_columns": null,
      "grid_template_rows": null,
      "height": null,
      "justify_content": null,
      "justify_items": null,
      "left": null,
      "margin": null,
      "max_height": null,
      "max_width": null,
      "min_height": null,
      "min_width": null,
      "object_fit": null,
      "object_position": null,
      "order": null,
      "overflow": null,
      "overflow_x": null,
      "overflow_y": null,
      "padding": null,
      "right": null,
      "top": null,
      "visibility": null,
      "width": null
     }
    },
    "03cee89315b54d7eb04a5f7cecc39993": {
     "model_module": "@jupyter-widgets/controls",
     "model_module_version": "1.5.0",
     "model_name": "DescriptionStyleModel",
     "state": {
      "_model_module": "@jupyter-widgets/controls",
      "_model_module_version": "1.5.0",
      "_model_name": "DescriptionStyleModel",
      "_view_count": null,
      "_view_module": "@jupyter-widgets/base",
      "_view_module_version": "1.2.0",
      "_view_name": "StyleView",
      "description_width": ""
     }
    },
    "0680fe3809c24764b0a9703f51f3efd3": {
     "model_module": "@jupyter-widgets/base",
     "model_module_version": "1.2.0",
     "model_name": "LayoutModel",
     "state": {
      "_model_module": "@jupyter-widgets/base",
      "_model_module_version": "1.2.0",
      "_model_name": "LayoutModel",
      "_view_count": null,
      "_view_module": "@jupyter-widgets/base",
      "_view_module_version": "1.2.0",
      "_view_name": "LayoutView",
      "align_content": null,
      "align_items": null,
      "align_self": null,
      "border": null,
      "bottom": null,
      "display": null,
      "flex": null,
      "flex_flow": null,
      "grid_area": null,
      "grid_auto_columns": null,
      "grid_auto_flow": null,
      "grid_auto_rows": null,
      "grid_column": null,
      "grid_gap": null,
      "grid_row": null,
      "grid_template_areas": null,
      "grid_template_columns": null,
      "grid_template_rows": null,
      "height": null,
      "justify_content": null,
      "justify_items": null,
      "left": null,
      "margin": null,
      "max_height": null,
      "max_width": null,
      "min_height": null,
      "min_width": null,
      "object_fit": null,
      "object_position": null,
      "order": null,
      "overflow": null,
      "overflow_x": null,
      "overflow_y": null,
      "padding": null,
      "right": null,
      "top": null,
      "visibility": null,
      "width": null
     }
    },
    "073a2eb6c91b4cf39f9bbe90908d6f9b": {
     "model_module": "@jupyter-widgets/base",
     "model_module_version": "1.2.0",
     "model_name": "LayoutModel",
     "state": {
      "_model_module": "@jupyter-widgets/base",
      "_model_module_version": "1.2.0",
      "_model_name": "LayoutModel",
      "_view_count": null,
      "_view_module": "@jupyter-widgets/base",
      "_view_module_version": "1.2.0",
      "_view_name": "LayoutView",
      "align_content": null,
      "align_items": null,
      "align_self": null,
      "border": null,
      "bottom": null,
      "display": null,
      "flex": null,
      "flex_flow": null,
      "grid_area": null,
      "grid_auto_columns": null,
      "grid_auto_flow": null,
      "grid_auto_rows": null,
      "grid_column": null,
      "grid_gap": null,
      "grid_row": null,
      "grid_template_areas": null,
      "grid_template_columns": null,
      "grid_template_rows": null,
      "height": null,
      "justify_content": null,
      "justify_items": null,
      "left": null,
      "margin": null,
      "max_height": null,
      "max_width": null,
      "min_height": null,
      "min_width": null,
      "object_fit": null,
      "object_position": null,
      "order": null,
      "overflow": null,
      "overflow_x": null,
      "overflow_y": null,
      "padding": null,
      "right": null,
      "top": null,
      "visibility": null,
      "width": null
     }
    },
    "07aa1578b2c044898b28852c94ecadfb": {
     "model_module": "@jupyter-widgets/controls",
     "model_module_version": "1.5.0",
     "model_name": "HTMLModel",
     "state": {
      "_dom_classes": [],
      "_model_module": "@jupyter-widgets/controls",
      "_model_module_version": "1.5.0",
      "_model_name": "HTMLModel",
      "_view_count": null,
      "_view_module": "@jupyter-widgets/controls",
      "_view_module_version": "1.5.0",
      "_view_name": "HTMLView",
      "description": "",
      "description_tooltip": null,
      "layout": "IPY_MODEL_6c1efed1664742c4b24ce2229158716a",
      "placeholder": "​",
      "style": "IPY_MODEL_4be83a744e8249c3abccf54e6ebda30a",
      "value": "Downloading: 100%"
     }
    },
    "0c332e682cf1497a9c9d3ce459da76ab": {
     "model_module": "@jupyter-widgets/base",
     "model_module_version": "1.2.0",
     "model_name": "LayoutModel",
     "state": {
      "_model_module": "@jupyter-widgets/base",
      "_model_module_version": "1.2.0",
      "_model_name": "LayoutModel",
      "_view_count": null,
      "_view_module": "@jupyter-widgets/base",
      "_view_module_version": "1.2.0",
      "_view_name": "LayoutView",
      "align_content": null,
      "align_items": null,
      "align_self": null,
      "border": null,
      "bottom": null,
      "display": null,
      "flex": null,
      "flex_flow": null,
      "grid_area": null,
      "grid_auto_columns": null,
      "grid_auto_flow": null,
      "grid_auto_rows": null,
      "grid_column": null,
      "grid_gap": null,
      "grid_row": null,
      "grid_template_areas": null,
      "grid_template_columns": null,
      "grid_template_rows": null,
      "height": null,
      "justify_content": null,
      "justify_items": null,
      "left": null,
      "margin": null,
      "max_height": null,
      "max_width": null,
      "min_height": null,
      "min_width": null,
      "object_fit": null,
      "object_position": null,
      "order": null,
      "overflow": null,
      "overflow_x": null,
      "overflow_y": null,
      "padding": null,
      "right": null,
      "top": null,
      "visibility": null,
      "width": null
     }
    },
    "12b4f7a401fe4467ab20c5898fb2a8b7": {
     "model_module": "@jupyter-widgets/controls",
     "model_module_version": "1.5.0",
     "model_name": "HBoxModel",
     "state": {
      "_dom_classes": [],
      "_model_module": "@jupyter-widgets/controls",
      "_model_module_version": "1.5.0",
      "_model_name": "HBoxModel",
      "_view_count": null,
      "_view_module": "@jupyter-widgets/controls",
      "_view_module_version": "1.5.0",
      "_view_name": "HBoxView",
      "box_style": "",
      "children": [
       "IPY_MODEL_4497399c3daa4e77af0b5f19ee9f04ce",
       "IPY_MODEL_d37a8e212602406f80f6e95070ce782d",
       "IPY_MODEL_231be8066c064fcdac7e38d54c68ac6b"
      ],
      "layout": "IPY_MODEL_d890850a37d84eafb78e21f24692f69b"
     }
    },
    "15c8cbc7b93d4cc8a8dad13afebf0768": {
     "model_module": "@jupyter-widgets/controls",
     "model_module_version": "1.5.0",
     "model_name": "DescriptionStyleModel",
     "state": {
      "_model_module": "@jupyter-widgets/controls",
      "_model_module_version": "1.5.0",
      "_model_name": "DescriptionStyleModel",
      "_view_count": null,
      "_view_module": "@jupyter-widgets/base",
      "_view_module_version": "1.2.0",
      "_view_name": "StyleView",
      "description_width": ""
     }
    },
    "1a3cdcbc0ae745ecab09ff309ba63fdd": {
     "model_module": "@jupyter-widgets/controls",
     "model_module_version": "1.5.0",
     "model_name": "DescriptionStyleModel",
     "state": {
      "_model_module": "@jupyter-widgets/controls",
      "_model_module_version": "1.5.0",
      "_model_name": "DescriptionStyleModel",
      "_view_count": null,
      "_view_module": "@jupyter-widgets/base",
      "_view_module_version": "1.2.0",
      "_view_name": "StyleView",
      "description_width": ""
     }
    },
    "231be8066c064fcdac7e38d54c68ac6b": {
     "model_module": "@jupyter-widgets/controls",
     "model_module_version": "1.5.0",
     "model_name": "HTMLModel",
     "state": {
      "_dom_classes": [],
      "_model_module": "@jupyter-widgets/controls",
      "_model_module_version": "1.5.0",
      "_model_name": "HTMLModel",
      "_view_count": null,
      "_view_module": "@jupyter-widgets/controls",
      "_view_module_version": "1.5.0",
      "_view_name": "HTMLView",
      "description": "",
      "description_tooltip": null,
      "layout": "IPY_MODEL_600162a8775d4b1c94edcdb58e60d37d",
      "placeholder": "​",
      "style": "IPY_MODEL_cc61ce233e7942f9bdaa871e1692555b",
      "value": " 762/762 [00:00&lt;00:00, 5.77kB/s]"
     }
    },
    "2495ccb30e2d4fcd9b783e5a98adcade": {
     "model_module": "@jupyter-widgets/controls",
     "model_module_version": "1.5.0",
     "model_name": "DescriptionStyleModel",
     "state": {
      "_model_module": "@jupyter-widgets/controls",
      "_model_module_version": "1.5.0",
      "_model_name": "DescriptionStyleModel",
      "_view_count": null,
      "_view_module": "@jupyter-widgets/base",
      "_view_module_version": "1.2.0",
      "_view_name": "StyleView",
      "description_width": ""
     }
    },
    "26c1b472040f4b7eb6e47816bf6b1a11": {
     "model_module": "@jupyter-widgets/controls",
     "model_module_version": "1.5.0",
     "model_name": "HTMLModel",
     "state": {
      "_dom_classes": [],
      "_model_module": "@jupyter-widgets/controls",
      "_model_module_version": "1.5.0",
      "_model_name": "HTMLModel",
      "_view_count": null,
      "_view_module": "@jupyter-widgets/controls",
      "_view_module_version": "1.5.0",
      "_view_name": "HTMLView",
      "description": "",
      "description_tooltip": null,
      "layout": "IPY_MODEL_0c332e682cf1497a9c9d3ce459da76ab",
      "placeholder": "​",
      "style": "IPY_MODEL_bd3ad1443d9841f7bfff54616e5fd65f",
      "value": "Downloading: 100%"
     }
    },
    "2baa8030444e47e8bea45be2d69527ef": {
     "model_module": "@jupyter-widgets/base",
     "model_module_version": "1.2.0",
     "model_name": "LayoutModel",
     "state": {
      "_model_module": "@jupyter-widgets/base",
      "_model_module_version": "1.2.0",
      "_model_name": "LayoutModel",
      "_view_count": null,
      "_view_module": "@jupyter-widgets/base",
      "_view_module_version": "1.2.0",
      "_view_name": "LayoutView",
      "align_content": null,
      "align_items": null,
      "align_self": null,
      "border": null,
      "bottom": null,
      "display": null,
      "flex": null,
      "flex_flow": null,
      "grid_area": null,
      "grid_auto_columns": null,
      "grid_auto_flow": null,
      "grid_auto_rows": null,
      "grid_column": null,
      "grid_gap": null,
      "grid_row": null,
      "grid_template_areas": null,
      "grid_template_columns": null,
      "grid_template_rows": null,
      "height": null,
      "justify_content": null,
      "justify_items": null,
      "left": null,
      "margin": null,
      "max_height": null,
      "max_width": null,
      "min_height": null,
      "min_width": null,
      "object_fit": null,
      "object_position": null,
      "order": null,
      "overflow": null,
      "overflow_x": null,
      "overflow_y": null,
      "padding": null,
      "right": null,
      "top": null,
      "visibility": null,
      "width": null
     }
    },
    "2ee792fdcb2748819e3d914fbfca7462": {
     "model_module": "@jupyter-widgets/controls",
     "model_module_version": "1.5.0",
     "model_name": "HTMLModel",
     "state": {
      "_dom_classes": [],
      "_model_module": "@jupyter-widgets/controls",
      "_model_module_version": "1.5.0",
      "_model_name": "HTMLModel",
      "_view_count": null,
      "_view_module": "@jupyter-widgets/controls",
      "_view_module_version": "1.5.0",
      "_view_name": "HTMLView",
      "description": "",
      "description_tooltip": null,
      "layout": "IPY_MODEL_85db2055d1b148c3b7415da1ce956020",
      "placeholder": "​",
      "style": "IPY_MODEL_39f2763abc36459b92f5a0884c3d84ac",
      "value": " 10/10 [00:11&lt;00:00,  1.00s/it]"
     }
    },
    "34c8437daef041148b8193d17865e01d": {
     "model_module": "@jupyter-widgets/base",
     "model_module_version": "1.2.0",
     "model_name": "LayoutModel",
     "state": {
      "_model_module": "@jupyter-widgets/base",
      "_model_module_version": "1.2.0",
      "_model_name": "LayoutModel",
      "_view_count": null,
      "_view_module": "@jupyter-widgets/base",
      "_view_module_version": "1.2.0",
      "_view_name": "LayoutView",
      "align_content": null,
      "align_items": null,
      "align_self": null,
      "border": null,
      "bottom": null,
      "display": null,
      "flex": null,
      "flex_flow": null,
      "grid_area": null,
      "grid_auto_columns": null,
      "grid_auto_flow": null,
      "grid_auto_rows": null,
      "grid_column": null,
      "grid_gap": null,
      "grid_row": null,
      "grid_template_areas": null,
      "grid_template_columns": null,
      "grid_template_rows": null,
      "height": null,
      "justify_content": null,
      "justify_items": null,
      "left": null,
      "margin": null,
      "max_height": null,
      "max_width": null,
      "min_height": null,
      "min_width": null,
      "object_fit": null,
      "object_position": null,
      "order": null,
      "overflow": null,
      "overflow_x": null,
      "overflow_y": null,
      "padding": null,
      "right": null,
      "top": null,
      "visibility": null,
      "width": null
     }
    },
    "35cd15eac4ff4266acd3c12a49c11f96": {
     "model_module": "@jupyter-widgets/base",
     "model_module_version": "1.2.0",
     "model_name": "LayoutModel",
     "state": {
      "_model_module": "@jupyter-widgets/base",
      "_model_module_version": "1.2.0",
      "_model_name": "LayoutModel",
      "_view_count": null,
      "_view_module": "@jupyter-widgets/base",
      "_view_module_version": "1.2.0",
      "_view_name": "LayoutView",
      "align_content": null,
      "align_items": null,
      "align_self": null,
      "border": null,
      "bottom": null,
      "display": null,
      "flex": null,
      "flex_flow": null,
      "grid_area": null,
      "grid_auto_columns": null,
      "grid_auto_flow": null,
      "grid_auto_rows": null,
      "grid_column": null,
      "grid_gap": null,
      "grid_row": null,
      "grid_template_areas": null,
      "grid_template_columns": null,
      "grid_template_rows": null,
      "height": null,
      "justify_content": null,
      "justify_items": null,
      "left": null,
      "margin": null,
      "max_height": null,
      "max_width": null,
      "min_height": null,
      "min_width": null,
      "object_fit": null,
      "object_position": null,
      "order": null,
      "overflow": null,
      "overflow_x": null,
      "overflow_y": null,
      "padding": null,
      "right": null,
      "top": null,
      "visibility": null,
      "width": null
     }
    },
    "39f2763abc36459b92f5a0884c3d84ac": {
     "model_module": "@jupyter-widgets/controls",
     "model_module_version": "1.5.0",
     "model_name": "DescriptionStyleModel",
     "state": {
      "_model_module": "@jupyter-widgets/controls",
      "_model_module_version": "1.5.0",
      "_model_name": "DescriptionStyleModel",
      "_view_count": null,
      "_view_module": "@jupyter-widgets/base",
      "_view_module_version": "1.2.0",
      "_view_name": "StyleView",
      "description_width": ""
     }
    },
    "42b4cc27530d4b3daefaf81530c8db56": {
     "model_module": "@jupyter-widgets/controls",
     "model_module_version": "1.5.0",
     "model_name": "HBoxModel",
     "state": {
      "_dom_classes": [],
      "_model_module": "@jupyter-widgets/controls",
      "_model_module_version": "1.5.0",
      "_model_name": "HBoxModel",
      "_view_count": null,
      "_view_module": "@jupyter-widgets/controls",
      "_view_module_version": "1.5.0",
      "_view_name": "HBoxView",
      "box_style": "",
      "children": [
       "IPY_MODEL_07aa1578b2c044898b28852c94ecadfb",
       "IPY_MODEL_aae65b145a2944b5b1709af7ab6bba4f",
       "IPY_MODEL_5441526da7b24b1d83be04a471d848e7"
      ],
      "layout": "IPY_MODEL_35cd15eac4ff4266acd3c12a49c11f96"
     }
    },
    "4497399c3daa4e77af0b5f19ee9f04ce": {
     "model_module": "@jupyter-widgets/controls",
     "model_module_version": "1.5.0",
     "model_name": "HTMLModel",
     "state": {
      "_dom_classes": [],
      "_model_module": "@jupyter-widgets/controls",
      "_model_module_version": "1.5.0",
      "_model_name": "HTMLModel",
      "_view_count": null,
      "_view_module": "@jupyter-widgets/controls",
      "_view_module_version": "1.5.0",
      "_view_name": "HTMLView",
      "description": "",
      "description_tooltip": null,
      "layout": "IPY_MODEL_ab22d6a321194fbb8c7e53b695520d3d",
      "placeholder": "​",
      "style": "IPY_MODEL_15c8cbc7b93d4cc8a8dad13afebf0768",
      "value": "Downloading: 100%"
     }
    },
    "4be83a744e8249c3abccf54e6ebda30a": {
     "model_module": "@jupyter-widgets/controls",
     "model_module_version": "1.5.0",
     "model_name": "DescriptionStyleModel",
     "state": {
      "_model_module": "@jupyter-widgets/controls",
      "_model_module_version": "1.5.0",
      "_model_name": "DescriptionStyleModel",
      "_view_count": null,
      "_view_module": "@jupyter-widgets/base",
      "_view_module_version": "1.2.0",
      "_view_name": "StyleView",
      "description_width": ""
     }
    },
    "4c05c5e0520b492ab2b57c25e58d83ff": {
     "model_module": "@jupyter-widgets/controls",
     "model_module_version": "1.5.0",
     "model_name": "HBoxModel",
     "state": {
      "_dom_classes": [],
      "_model_module": "@jupyter-widgets/controls",
      "_model_module_version": "1.5.0",
      "_model_name": "HBoxModel",
      "_view_count": null,
      "_view_module": "@jupyter-widgets/controls",
      "_view_module_version": "1.5.0",
      "_view_name": "HBoxView",
      "box_style": "",
      "children": [
       "IPY_MODEL_53817797a71640c682018c4d5018945f",
       "IPY_MODEL_7cfe1f882eda494392c83e1dc28de347",
       "IPY_MODEL_a65586c8de47418e93ca395a7a54ce4a"
      ],
      "layout": "IPY_MODEL_34c8437daef041148b8193d17865e01d"
     }
    },
    "53817797a71640c682018c4d5018945f": {
     "model_module": "@jupyter-widgets/controls",
     "model_module_version": "1.5.0",
     "model_name": "HTMLModel",
     "state": {
      "_dom_classes": [],
      "_model_module": "@jupyter-widgets/controls",
      "_model_module_version": "1.5.0",
      "_model_name": "HTMLModel",
      "_view_count": null,
      "_view_module": "@jupyter-widgets/controls",
      "_view_module_version": "1.5.0",
      "_view_name": "HTMLView",
      "description": "",
      "description_tooltip": null,
      "layout": "IPY_MODEL_e26247189e40407fb2a3eb0c92cf824d",
      "placeholder": "​",
      "style": "IPY_MODEL_2495ccb30e2d4fcd9b783e5a98adcade",
      "value": "Downloading: 100%"
     }
    },
    "5441526da7b24b1d83be04a471d848e7": {
     "model_module": "@jupyter-widgets/controls",
     "model_module_version": "1.5.0",
     "model_name": "HTMLModel",
     "state": {
      "_dom_classes": [],
      "_model_module": "@jupyter-widgets/controls",
      "_model_module_version": "1.5.0",
      "_model_name": "HTMLModel",
      "_view_count": null,
      "_view_module": "@jupyter-widgets/controls",
      "_view_module_version": "1.5.0",
      "_view_name": "HTMLView",
      "description": "",
      "description_tooltip": null,
      "layout": "IPY_MODEL_717c883b4b394388861ac31cdf8d0459",
      "placeholder": "​",
      "style": "IPY_MODEL_71a9c0de46f745269de1ff81e3070acd",
      "value": " 213k/213k [00:00&lt;00:00, 661kB/s]"
     }
    },
    "56997834017343e69fca9776c32b78d4": {
     "model_module": "@jupyter-widgets/controls",
     "model_module_version": "1.5.0",
     "model_name": "FloatProgressModel",
     "state": {
      "_dom_classes": [],
      "_model_module": "@jupyter-widgets/controls",
      "_model_module_version": "1.5.0",
      "_model_name": "FloatProgressModel",
      "_view_count": null,
      "_view_module": "@jupyter-widgets/controls",
      "_view_module_version": "1.5.0",
      "_view_name": "ProgressView",
      "bar_style": "success",
      "description": "",
      "description_tooltip": null,
      "layout": "IPY_MODEL_a9c22200ab18400d8e2f29e2d16226b3",
      "max": 10,
      "min": 0,
      "orientation": "horizontal",
      "style": "IPY_MODEL_a09d8ce79f234a02b0c8525055818951",
      "value": 10
     }
    },
    "600162a8775d4b1c94edcdb58e60d37d": {
     "model_module": "@jupyter-widgets/base",
     "model_module_version": "1.2.0",
     "model_name": "LayoutModel",
     "state": {
      "_model_module": "@jupyter-widgets/base",
      "_model_module_version": "1.2.0",
      "_model_name": "LayoutModel",
      "_view_count": null,
      "_view_module": "@jupyter-widgets/base",
      "_view_module_version": "1.2.0",
      "_view_name": "LayoutView",
      "align_content": null,
      "align_items": null,
      "align_self": null,
      "border": null,
      "bottom": null,
      "display": null,
      "flex": null,
      "flex_flow": null,
      "grid_area": null,
      "grid_auto_columns": null,
      "grid_auto_flow": null,
      "grid_auto_rows": null,
      "grid_column": null,
      "grid_gap": null,
      "grid_row": null,
      "grid_template_areas": null,
      "grid_template_columns": null,
      "grid_template_rows": null,
      "height": null,
      "justify_content": null,
      "justify_items": null,
      "left": null,
      "margin": null,
      "max_height": null,
      "max_width": null,
      "min_height": null,
      "min_width": null,
      "object_fit": null,
      "object_position": null,
      "order": null,
      "overflow": null,
      "overflow_x": null,
      "overflow_y": null,
      "padding": null,
      "right": null,
      "top": null,
      "visibility": null,
      "width": null
     }
    },
    "61436275e45c4b178100ff64fc144041": {
     "model_module": "@jupyter-widgets/base",
     "model_module_version": "1.2.0",
     "model_name": "LayoutModel",
     "state": {
      "_model_module": "@jupyter-widgets/base",
      "_model_module_version": "1.2.0",
      "_model_name": "LayoutModel",
      "_view_count": null,
      "_view_module": "@jupyter-widgets/base",
      "_view_module_version": "1.2.0",
      "_view_name": "LayoutView",
      "align_content": null,
      "align_items": null,
      "align_self": null,
      "border": null,
      "bottom": null,
      "display": null,
      "flex": null,
      "flex_flow": null,
      "grid_area": null,
      "grid_auto_columns": null,
      "grid_auto_flow": null,
      "grid_auto_rows": null,
      "grid_column": null,
      "grid_gap": null,
      "grid_row": null,
      "grid_template_areas": null,
      "grid_template_columns": null,
      "grid_template_rows": null,
      "height": null,
      "justify_content": null,
      "justify_items": null,
      "left": null,
      "margin": null,
      "max_height": null,
      "max_width": null,
      "min_height": null,
      "min_width": null,
      "object_fit": null,
      "object_position": null,
      "order": null,
      "overflow": null,
      "overflow_x": null,
      "overflow_y": null,
      "padding": null,
      "right": null,
      "top": null,
      "visibility": null,
      "width": null
     }
    },
    "6583930f838d4001ae17b7465b14c76c": {
     "model_module": "@jupyter-widgets/controls",
     "model_module_version": "1.5.0",
     "model_name": "HTMLModel",
     "state": {
      "_dom_classes": [],
      "_model_module": "@jupyter-widgets/controls",
      "_model_module_version": "1.5.0",
      "_model_name": "HTMLModel",
      "_view_count": null,
      "_view_module": "@jupyter-widgets/controls",
      "_view_module_version": "1.5.0",
      "_view_name": "HTMLView",
      "description": "",
      "description_tooltip": null,
      "layout": "IPY_MODEL_dce9ba77cb534f9da2b2b6e5c66a5703",
      "placeholder": "​",
      "style": "IPY_MODEL_1a3cdcbc0ae745ecab09ff309ba63fdd",
      "value": " 1.34G/1.34G [01:00&lt;00:00, 15.7MB/s]"
     }
    },
    "670131b7daaa449b86e2396b64376383": {
     "model_module": "@jupyter-widgets/controls",
     "model_module_version": "1.5.0",
     "model_name": "HBoxModel",
     "state": {
      "_dom_classes": [],
      "_model_module": "@jupyter-widgets/controls",
      "_model_module_version": "1.5.0",
      "_model_name": "HBoxModel",
      "_view_count": null,
      "_view_module": "@jupyter-widgets/controls",
      "_view_module_version": "1.5.0",
      "_view_name": "HBoxView",
      "box_style": "",
      "children": [
       "IPY_MODEL_6db4bae0ab4f49aaa4e3e7aa22366dec",
       "IPY_MODEL_56997834017343e69fca9776c32b78d4",
       "IPY_MODEL_2ee792fdcb2748819e3d914fbfca7462"
      ],
      "layout": "IPY_MODEL_0680fe3809c24764b0a9703f51f3efd3"
     }
    },
    "6c1efed1664742c4b24ce2229158716a": {
     "model_module": "@jupyter-widgets/base",
     "model_module_version": "1.2.0",
     "model_name": "LayoutModel",
     "state": {
      "_model_module": "@jupyter-widgets/base",
      "_model_module_version": "1.2.0",
      "_model_name": "LayoutModel",
      "_view_count": null,
      "_view_module": "@jupyter-widgets/base",
      "_view_module_version": "1.2.0",
      "_view_name": "LayoutView",
      "align_content": null,
      "align_items": null,
      "align_self": null,
      "border": null,
      "bottom": null,
      "display": null,
      "flex": null,
      "flex_flow": null,
      "grid_area": null,
      "grid_auto_columns": null,
      "grid_auto_flow": null,
      "grid_auto_rows": null,
      "grid_column": null,
      "grid_gap": null,
      "grid_row": null,
      "grid_template_areas": null,
      "grid_template_columns": null,
      "grid_template_rows": null,
      "height": null,
      "justify_content": null,
      "justify_items": null,
      "left": null,
      "margin": null,
      "max_height": null,
      "max_width": null,
      "min_height": null,
      "min_width": null,
      "object_fit": null,
      "object_position": null,
      "order": null,
      "overflow": null,
      "overflow_x": null,
      "overflow_y": null,
      "padding": null,
      "right": null,
      "top": null,
      "visibility": null,
      "width": null
     }
    },
    "6db4bae0ab4f49aaa4e3e7aa22366dec": {
     "model_module": "@jupyter-widgets/controls",
     "model_module_version": "1.5.0",
     "model_name": "HTMLModel",
     "state": {
      "_dom_classes": [],
      "_model_module": "@jupyter-widgets/controls",
      "_model_module_version": "1.5.0",
      "_model_name": "HTMLModel",
      "_view_count": null,
      "_view_module": "@jupyter-widgets/controls",
      "_view_module_version": "1.5.0",
      "_view_name": "HTMLView",
      "description": "",
      "description_tooltip": null,
      "layout": "IPY_MODEL_073a2eb6c91b4cf39f9bbe90908d6f9b",
      "placeholder": "​",
      "style": "IPY_MODEL_03cee89315b54d7eb04a5f7cecc39993",
      "value": "100%"
     }
    },
    "717c883b4b394388861ac31cdf8d0459": {
     "model_module": "@jupyter-widgets/base",
     "model_module_version": "1.2.0",
     "model_name": "LayoutModel",
     "state": {
      "_model_module": "@jupyter-widgets/base",
      "_model_module_version": "1.2.0",
      "_model_name": "LayoutModel",
      "_view_count": null,
      "_view_module": "@jupyter-widgets/base",
      "_view_module_version": "1.2.0",
      "_view_name": "LayoutView",
      "align_content": null,
      "align_items": null,
      "align_self": null,
      "border": null,
      "bottom": null,
      "display": null,
      "flex": null,
      "flex_flow": null,
      "grid_area": null,
      "grid_auto_columns": null,
      "grid_auto_flow": null,
      "grid_auto_rows": null,
      "grid_column": null,
      "grid_gap": null,
      "grid_row": null,
      "grid_template_areas": null,
      "grid_template_columns": null,
      "grid_template_rows": null,
      "height": null,
      "justify_content": null,
      "justify_items": null,
      "left": null,
      "margin": null,
      "max_height": null,
      "max_width": null,
      "min_height": null,
      "min_width": null,
      "object_fit": null,
      "object_position": null,
      "order": null,
      "overflow": null,
      "overflow_x": null,
      "overflow_y": null,
      "padding": null,
      "right": null,
      "top": null,
      "visibility": null,
      "width": null
     }
    },
    "71a9c0de46f745269de1ff81e3070acd": {
     "model_module": "@jupyter-widgets/controls",
     "model_module_version": "1.5.0",
     "model_name": "DescriptionStyleModel",
     "state": {
      "_model_module": "@jupyter-widgets/controls",
      "_model_module_version": "1.5.0",
      "_model_name": "DescriptionStyleModel",
      "_view_count": null,
      "_view_module": "@jupyter-widgets/base",
      "_view_module_version": "1.2.0",
      "_view_name": "StyleView",
      "description_width": ""
     }
    },
    "76da6237d53a4e4fbfd0a3dc282fa300": {
     "model_module": "@jupyter-widgets/controls",
     "model_module_version": "1.5.0",
     "model_name": "HBoxModel",
     "state": {
      "_dom_classes": [],
      "_model_module": "@jupyter-widgets/controls",
      "_model_module_version": "1.5.0",
      "_model_name": "HBoxModel",
      "_view_count": null,
      "_view_module": "@jupyter-widgets/controls",
      "_view_module_version": "1.5.0",
      "_view_name": "HBoxView",
      "box_style": "",
      "children": [
       "IPY_MODEL_26c1b472040f4b7eb6e47816bf6b1a11",
       "IPY_MODEL_d868903eae9a4796be081f2fc9732b9d",
       "IPY_MODEL_d1b2947d81164eb39f2713b72637d0a2"
      ],
      "layout": "IPY_MODEL_011a3c0193ca4d07bf0b2f40be1ea73e"
     }
    },
    "76e7b8fe85c64848b364d54a8083fdbb": {
     "model_module": "@jupyter-widgets/base",
     "model_module_version": "1.2.0",
     "model_name": "LayoutModel",
     "state": {
      "_model_module": "@jupyter-widgets/base",
      "_model_module_version": "1.2.0",
      "_model_name": "LayoutModel",
      "_view_count": null,
      "_view_module": "@jupyter-widgets/base",
      "_view_module_version": "1.2.0",
      "_view_name": "LayoutView",
      "align_content": null,
      "align_items": null,
      "align_self": null,
      "border": null,
      "bottom": null,
      "display": null,
      "flex": null,
      "flex_flow": null,
      "grid_area": null,
      "grid_auto_columns": null,
      "grid_auto_flow": null,
      "grid_auto_rows": null,
      "grid_column": null,
      "grid_gap": null,
      "grid_row": null,
      "grid_template_areas": null,
      "grid_template_columns": null,
      "grid_template_rows": null,
      "height": null,
      "justify_content": null,
      "justify_items": null,
      "left": null,
      "margin": null,
      "max_height": null,
      "max_width": null,
      "min_height": null,
      "min_width": null,
      "object_fit": null,
      "object_position": null,
      "order": null,
      "overflow": null,
      "overflow_x": null,
      "overflow_y": null,
      "padding": null,
      "right": null,
      "top": null,
      "visibility": null,
      "width": null
     }
    },
    "7cfe1f882eda494392c83e1dc28de347": {
     "model_module": "@jupyter-widgets/controls",
     "model_module_version": "1.5.0",
     "model_name": "FloatProgressModel",
     "state": {
      "_dom_classes": [],
      "_model_module": "@jupyter-widgets/controls",
      "_model_module_version": "1.5.0",
      "_model_name": "FloatProgressModel",
      "_view_count": null,
      "_view_module": "@jupyter-widgets/controls",
      "_view_module_version": "1.5.0",
      "_view_name": "ProgressView",
      "bar_style": "success",
      "description": "",
      "description_tooltip": null,
      "layout": "IPY_MODEL_9189e45261c14b3a924aeaa039040088",
      "max": 29,
      "min": 0,
      "orientation": "horizontal",
      "style": "IPY_MODEL_b8a5765d573b48d3843ff5256285860e",
      "value": 29
     }
    },
    "85db2055d1b148c3b7415da1ce956020": {
     "model_module": "@jupyter-widgets/base",
     "model_module_version": "1.2.0",
     "model_name": "LayoutModel",
     "state": {
      "_model_module": "@jupyter-widgets/base",
      "_model_module_version": "1.2.0",
      "_model_name": "LayoutModel",
      "_view_count": null,
      "_view_module": "@jupyter-widgets/base",
      "_view_module_version": "1.2.0",
      "_view_name": "LayoutView",
      "align_content": null,
      "align_items": null,
      "align_self": null,
      "border": null,
      "bottom": null,
      "display": null,
      "flex": null,
      "flex_flow": null,
      "grid_area": null,
      "grid_auto_columns": null,
      "grid_auto_flow": null,
      "grid_auto_rows": null,
      "grid_column": null,
      "grid_gap": null,
      "grid_row": null,
      "grid_template_areas": null,
      "grid_template_columns": null,
      "grid_template_rows": null,
      "height": null,
      "justify_content": null,
      "justify_items": null,
      "left": null,
      "margin": null,
      "max_height": null,
      "max_width": null,
      "min_height": null,
      "min_width": null,
      "object_fit": null,
      "object_position": null,
      "order": null,
      "overflow": null,
      "overflow_x": null,
      "overflow_y": null,
      "padding": null,
      "right": null,
      "top": null,
      "visibility": null,
      "width": null
     }
    },
    "8989a756543f49ffaa98b3c16d6fc20f": {
     "model_module": "@jupyter-widgets/base",
     "model_module_version": "1.2.0",
     "model_name": "LayoutModel",
     "state": {
      "_model_module": "@jupyter-widgets/base",
      "_model_module_version": "1.2.0",
      "_model_name": "LayoutModel",
      "_view_count": null,
      "_view_module": "@jupyter-widgets/base",
      "_view_module_version": "1.2.0",
      "_view_name": "LayoutView",
      "align_content": null,
      "align_items": null,
      "align_self": null,
      "border": null,
      "bottom": null,
      "display": null,
      "flex": null,
      "flex_flow": null,
      "grid_area": null,
      "grid_auto_columns": null,
      "grid_auto_flow": null,
      "grid_auto_rows": null,
      "grid_column": null,
      "grid_gap": null,
      "grid_row": null,
      "grid_template_areas": null,
      "grid_template_columns": null,
      "grid_template_rows": null,
      "height": null,
      "justify_content": null,
      "justify_items": null,
      "left": null,
      "margin": null,
      "max_height": null,
      "max_width": null,
      "min_height": null,
      "min_width": null,
      "object_fit": null,
      "object_position": null,
      "order": null,
      "overflow": null,
      "overflow_x": null,
      "overflow_y": null,
      "padding": null,
      "right": null,
      "top": null,
      "visibility": null,
      "width": null
     }
    },
    "8adcd3f948aa475389d7bd68b7da8c71": {
     "model_module": "@jupyter-widgets/controls",
     "model_module_version": "1.5.0",
     "model_name": "FloatProgressModel",
     "state": {
      "_dom_classes": [],
      "_model_module": "@jupyter-widgets/controls",
      "_model_module_version": "1.5.0",
      "_model_name": "FloatProgressModel",
      "_view_count": null,
      "_view_module": "@jupyter-widgets/controls",
      "_view_module_version": "1.5.0",
      "_view_name": "ProgressView",
      "bar_style": "success",
      "description": "",
      "description_tooltip": null,
      "layout": "IPY_MODEL_61436275e45c4b178100ff64fc144041",
      "max": 1338740706,
      "min": 0,
      "orientation": "horizontal",
      "style": "IPY_MODEL_eaab3f227f994acfa29bf56c1fe2833f",
      "value": 1338740706
     }
    },
    "8b1ed0669f744412afcc8dcc5de70219": {
     "model_module": "@jupyter-widgets/controls",
     "model_module_version": "1.5.0",
     "model_name": "DescriptionStyleModel",
     "state": {
      "_model_module": "@jupyter-widgets/controls",
      "_model_module_version": "1.5.0",
      "_model_name": "DescriptionStyleModel",
      "_view_count": null,
      "_view_module": "@jupyter-widgets/base",
      "_view_module_version": "1.2.0",
      "_view_name": "StyleView",
      "description_width": ""
     }
    },
    "9189e45261c14b3a924aeaa039040088": {
     "model_module": "@jupyter-widgets/base",
     "model_module_version": "1.2.0",
     "model_name": "LayoutModel",
     "state": {
      "_model_module": "@jupyter-widgets/base",
      "_model_module_version": "1.2.0",
      "_model_name": "LayoutModel",
      "_view_count": null,
      "_view_module": "@jupyter-widgets/base",
      "_view_module_version": "1.2.0",
      "_view_name": "LayoutView",
      "align_content": null,
      "align_items": null,
      "align_self": null,
      "border": null,
      "bottom": null,
      "display": null,
      "flex": null,
      "flex_flow": null,
      "grid_area": null,
      "grid_auto_columns": null,
      "grid_auto_flow": null,
      "grid_auto_rows": null,
      "grid_column": null,
      "grid_gap": null,
      "grid_row": null,
      "grid_template_areas": null,
      "grid_template_columns": null,
      "grid_template_rows": null,
      "height": null,
      "justify_content": null,
      "justify_items": null,
      "left": null,
      "margin": null,
      "max_height": null,
      "max_width": null,
      "min_height": null,
      "min_width": null,
      "object_fit": null,
      "object_position": null,
      "order": null,
      "overflow": null,
      "overflow_x": null,
      "overflow_y": null,
      "padding": null,
      "right": null,
      "top": null,
      "visibility": null,
      "width": null
     }
    },
    "97bbd2d073974c1e80deb5c1eede1808": {
     "model_module": "@jupyter-widgets/controls",
     "model_module_version": "1.5.0",
     "model_name": "ProgressStyleModel",
     "state": {
      "_model_module": "@jupyter-widgets/controls",
      "_model_module_version": "1.5.0",
      "_model_name": "ProgressStyleModel",
      "_view_count": null,
      "_view_module": "@jupyter-widgets/base",
      "_view_module_version": "1.2.0",
      "_view_name": "StyleView",
      "bar_color": null,
      "description_width": ""
     }
    },
    "a09d8ce79f234a02b0c8525055818951": {
     "model_module": "@jupyter-widgets/controls",
     "model_module_version": "1.5.0",
     "model_name": "ProgressStyleModel",
     "state": {
      "_model_module": "@jupyter-widgets/controls",
      "_model_module_version": "1.5.0",
      "_model_name": "ProgressStyleModel",
      "_view_count": null,
      "_view_module": "@jupyter-widgets/base",
      "_view_module_version": "1.2.0",
      "_view_name": "StyleView",
      "bar_color": null,
      "description_width": ""
     }
    },
    "a65586c8de47418e93ca395a7a54ce4a": {
     "model_module": "@jupyter-widgets/controls",
     "model_module_version": "1.5.0",
     "model_name": "HTMLModel",
     "state": {
      "_dom_classes": [],
      "_model_module": "@jupyter-widgets/controls",
      "_model_module_version": "1.5.0",
      "_model_name": "HTMLModel",
      "_view_count": null,
      "_view_module": "@jupyter-widgets/controls",
      "_view_module_version": "1.5.0",
      "_view_name": "HTMLView",
      "description": "",
      "description_tooltip": null,
      "layout": "IPY_MODEL_bc1eb92763134550ab661339cbfbf2d7",
      "placeholder": "​",
      "style": "IPY_MODEL_e084af51f7dd4e9bafddff12653e158d",
      "value": " 29.0/29.0 [00:00&lt;00:00, 183B/s]"
     }
    },
    "a9c22200ab18400d8e2f29e2d16226b3": {
     "model_module": "@jupyter-widgets/base",
     "model_module_version": "1.2.0",
     "model_name": "LayoutModel",
     "state": {
      "_model_module": "@jupyter-widgets/base",
      "_model_module_version": "1.2.0",
      "_model_name": "LayoutModel",
      "_view_count": null,
      "_view_module": "@jupyter-widgets/base",
      "_view_module_version": "1.2.0",
      "_view_name": "LayoutView",
      "align_content": null,
      "align_items": null,
      "align_self": null,
      "border": null,
      "bottom": null,
      "display": null,
      "flex": null,
      "flex_flow": null,
      "grid_area": null,
      "grid_auto_columns": null,
      "grid_auto_flow": null,
      "grid_auto_rows": null,
      "grid_column": null,
      "grid_gap": null,
      "grid_row": null,
      "grid_template_areas": null,
      "grid_template_columns": null,
      "grid_template_rows": null,
      "height": null,
      "justify_content": null,
      "justify_items": null,
      "left": null,
      "margin": null,
      "max_height": null,
      "max_width": null,
      "min_height": null,
      "min_width": null,
      "object_fit": null,
      "object_position": null,
      "order": null,
      "overflow": null,
      "overflow_x": null,
      "overflow_y": null,
      "padding": null,
      "right": null,
      "top": null,
      "visibility": null,
      "width": null
     }
    },
    "aae65b145a2944b5b1709af7ab6bba4f": {
     "model_module": "@jupyter-widgets/controls",
     "model_module_version": "1.5.0",
     "model_name": "FloatProgressModel",
     "state": {
      "_dom_classes": [],
      "_model_module": "@jupyter-widgets/controls",
      "_model_module_version": "1.5.0",
      "_model_name": "FloatProgressModel",
      "_view_count": null,
      "_view_module": "@jupyter-widgets/controls",
      "_view_module_version": "1.5.0",
      "_view_name": "ProgressView",
      "bar_style": "success",
      "description": "",
      "description_tooltip": null,
      "layout": "IPY_MODEL_ba9bbcf7380c425083a3716e3de81a5b",
      "max": 213450,
      "min": 0,
      "orientation": "horizontal",
      "style": "IPY_MODEL_ffd3058b0bcc472091715e095585530e",
      "value": 213450
     }
    },
    "ab22d6a321194fbb8c7e53b695520d3d": {
     "model_module": "@jupyter-widgets/base",
     "model_module_version": "1.2.0",
     "model_name": "LayoutModel",
     "state": {
      "_model_module": "@jupyter-widgets/base",
      "_model_module_version": "1.2.0",
      "_model_name": "LayoutModel",
      "_view_count": null,
      "_view_module": "@jupyter-widgets/base",
      "_view_module_version": "1.2.0",
      "_view_name": "LayoutView",
      "align_content": null,
      "align_items": null,
      "align_self": null,
      "border": null,
      "bottom": null,
      "display": null,
      "flex": null,
      "flex_flow": null,
      "grid_area": null,
      "grid_auto_columns": null,
      "grid_auto_flow": null,
      "grid_auto_rows": null,
      "grid_column": null,
      "grid_gap": null,
      "grid_row": null,
      "grid_template_areas": null,
      "grid_template_columns": null,
      "grid_template_rows": null,
      "height": null,
      "justify_content": null,
      "justify_items": null,
      "left": null,
      "margin": null,
      "max_height": null,
      "max_width": null,
      "min_height": null,
      "min_width": null,
      "object_fit": null,
      "object_position": null,
      "order": null,
      "overflow": null,
      "overflow_x": null,
      "overflow_y": null,
      "padding": null,
      "right": null,
      "top": null,
      "visibility": null,
      "width": null
     }
    },
    "abc54b1132c94a35967f7a4d053415fc": {
     "model_module": "@jupyter-widgets/controls",
     "model_module_version": "1.5.0",
     "model_name": "HBoxModel",
     "state": {
      "_dom_classes": [],
      "_model_module": "@jupyter-widgets/controls",
      "_model_module_version": "1.5.0",
      "_model_name": "HBoxModel",
      "_view_count": null,
      "_view_module": "@jupyter-widgets/controls",
      "_view_module_version": "1.5.0",
      "_view_name": "HBoxView",
      "box_style": "",
      "children": [
       "IPY_MODEL_f333e03d2a0d4420a42d2da036c8db0a",
       "IPY_MODEL_8adcd3f948aa475389d7bd68b7da8c71",
       "IPY_MODEL_6583930f838d4001ae17b7465b14c76c"
      ],
      "layout": "IPY_MODEL_ad7b5fba3e4c45d7aa3e5ab9c69f41ac"
     }
    },
    "ad7b5fba3e4c45d7aa3e5ab9c69f41ac": {
     "model_module": "@jupyter-widgets/base",
     "model_module_version": "1.2.0",
     "model_name": "LayoutModel",
     "state": {
      "_model_module": "@jupyter-widgets/base",
      "_model_module_version": "1.2.0",
      "_model_name": "LayoutModel",
      "_view_count": null,
      "_view_module": "@jupyter-widgets/base",
      "_view_module_version": "1.2.0",
      "_view_name": "LayoutView",
      "align_content": null,
      "align_items": null,
      "align_self": null,
      "border": null,
      "bottom": null,
      "display": null,
      "flex": null,
      "flex_flow": null,
      "grid_area": null,
      "grid_auto_columns": null,
      "grid_auto_flow": null,
      "grid_auto_rows": null,
      "grid_column": null,
      "grid_gap": null,
      "grid_row": null,
      "grid_template_areas": null,
      "grid_template_columns": null,
      "grid_template_rows": null,
      "height": null,
      "justify_content": null,
      "justify_items": null,
      "left": null,
      "margin": null,
      "max_height": null,
      "max_width": null,
      "min_height": null,
      "min_width": null,
      "object_fit": null,
      "object_position": null,
      "order": null,
      "overflow": null,
      "overflow_x": null,
      "overflow_y": null,
      "padding": null,
      "right": null,
      "top": null,
      "visibility": null,
      "width": null
     }
    },
    "b8a5765d573b48d3843ff5256285860e": {
     "model_module": "@jupyter-widgets/controls",
     "model_module_version": "1.5.0",
     "model_name": "ProgressStyleModel",
     "state": {
      "_model_module": "@jupyter-widgets/controls",
      "_model_module_version": "1.5.0",
      "_model_name": "ProgressStyleModel",
      "_view_count": null,
      "_view_module": "@jupyter-widgets/base",
      "_view_module_version": "1.2.0",
      "_view_name": "StyleView",
      "bar_color": null,
      "description_width": ""
     }
    },
    "ba9bbcf7380c425083a3716e3de81a5b": {
     "model_module": "@jupyter-widgets/base",
     "model_module_version": "1.2.0",
     "model_name": "LayoutModel",
     "state": {
      "_model_module": "@jupyter-widgets/base",
      "_model_module_version": "1.2.0",
      "_model_name": "LayoutModel",
      "_view_count": null,
      "_view_module": "@jupyter-widgets/base",
      "_view_module_version": "1.2.0",
      "_view_name": "LayoutView",
      "align_content": null,
      "align_items": null,
      "align_self": null,
      "border": null,
      "bottom": null,
      "display": null,
      "flex": null,
      "flex_flow": null,
      "grid_area": null,
      "grid_auto_columns": null,
      "grid_auto_flow": null,
      "grid_auto_rows": null,
      "grid_column": null,
      "grid_gap": null,
      "grid_row": null,
      "grid_template_areas": null,
      "grid_template_columns": null,
      "grid_template_rows": null,
      "height": null,
      "justify_content": null,
      "justify_items": null,
      "left": null,
      "margin": null,
      "max_height": null,
      "max_width": null,
      "min_height": null,
      "min_width": null,
      "object_fit": null,
      "object_position": null,
      "order": null,
      "overflow": null,
      "overflow_x": null,
      "overflow_y": null,
      "padding": null,
      "right": null,
      "top": null,
      "visibility": null,
      "width": null
     }
    },
    "bc1eb92763134550ab661339cbfbf2d7": {
     "model_module": "@jupyter-widgets/base",
     "model_module_version": "1.2.0",
     "model_name": "LayoutModel",
     "state": {
      "_model_module": "@jupyter-widgets/base",
      "_model_module_version": "1.2.0",
      "_model_name": "LayoutModel",
      "_view_count": null,
      "_view_module": "@jupyter-widgets/base",
      "_view_module_version": "1.2.0",
      "_view_name": "LayoutView",
      "align_content": null,
      "align_items": null,
      "align_self": null,
      "border": null,
      "bottom": null,
      "display": null,
      "flex": null,
      "flex_flow": null,
      "grid_area": null,
      "grid_auto_columns": null,
      "grid_auto_flow": null,
      "grid_auto_rows": null,
      "grid_column": null,
      "grid_gap": null,
      "grid_row": null,
      "grid_template_areas": null,
      "grid_template_columns": null,
      "grid_template_rows": null,
      "height": null,
      "justify_content": null,
      "justify_items": null,
      "left": null,
      "margin": null,
      "max_height": null,
      "max_width": null,
      "min_height": null,
      "min_width": null,
      "object_fit": null,
      "object_position": null,
      "order": null,
      "overflow": null,
      "overflow_x": null,
      "overflow_y": null,
      "padding": null,
      "right": null,
      "top": null,
      "visibility": null,
      "width": null
     }
    },
    "bd3ad1443d9841f7bfff54616e5fd65f": {
     "model_module": "@jupyter-widgets/controls",
     "model_module_version": "1.5.0",
     "model_name": "DescriptionStyleModel",
     "state": {
      "_model_module": "@jupyter-widgets/controls",
      "_model_module_version": "1.5.0",
      "_model_name": "DescriptionStyleModel",
      "_view_count": null,
      "_view_module": "@jupyter-widgets/base",
      "_view_module_version": "1.2.0",
      "_view_name": "StyleView",
      "description_width": ""
     }
    },
    "cc61ce233e7942f9bdaa871e1692555b": {
     "model_module": "@jupyter-widgets/controls",
     "model_module_version": "1.5.0",
     "model_name": "DescriptionStyleModel",
     "state": {
      "_model_module": "@jupyter-widgets/controls",
      "_model_module_version": "1.5.0",
      "_model_name": "DescriptionStyleModel",
      "_view_count": null,
      "_view_module": "@jupyter-widgets/base",
      "_view_module_version": "1.2.0",
      "_view_name": "StyleView",
      "description_width": ""
     }
    },
    "d1b2947d81164eb39f2713b72637d0a2": {
     "model_module": "@jupyter-widgets/controls",
     "model_module_version": "1.5.0",
     "model_name": "HTMLModel",
     "state": {
      "_dom_classes": [],
      "_model_module": "@jupyter-widgets/controls",
      "_model_module_version": "1.5.0",
      "_model_name": "HTMLModel",
      "_view_count": null,
      "_view_module": "@jupyter-widgets/controls",
      "_view_module_version": "1.5.0",
      "_view_name": "HTMLView",
      "description": "",
      "description_tooltip": null,
      "layout": "IPY_MODEL_8989a756543f49ffaa98b3c16d6fc20f",
      "placeholder": "​",
      "style": "IPY_MODEL_ed071261bdc346ef86ee861931c59a59",
      "value": " 436k/436k [00:00&lt;00:00, 887kB/s]"
     }
    },
    "d2eb216188a543bfbb41c42e7c1de9ff": {
     "model_module": "@jupyter-widgets/controls",
     "model_module_version": "1.5.0",
     "model_name": "ProgressStyleModel",
     "state": {
      "_model_module": "@jupyter-widgets/controls",
      "_model_module_version": "1.5.0",
      "_model_name": "ProgressStyleModel",
      "_view_count": null,
      "_view_module": "@jupyter-widgets/base",
      "_view_module_version": "1.2.0",
      "_view_name": "StyleView",
      "bar_color": null,
      "description_width": ""
     }
    },
    "d37a8e212602406f80f6e95070ce782d": {
     "model_module": "@jupyter-widgets/controls",
     "model_module_version": "1.5.0",
     "model_name": "FloatProgressModel",
     "state": {
      "_dom_classes": [],
      "_model_module": "@jupyter-widgets/controls",
      "_model_module_version": "1.5.0",
      "_model_name": "FloatProgressModel",
      "_view_count": null,
      "_view_module": "@jupyter-widgets/controls",
      "_view_module_version": "1.5.0",
      "_view_name": "ProgressView",
      "bar_style": "success",
      "description": "",
      "description_tooltip": null,
      "layout": "IPY_MODEL_2baa8030444e47e8bea45be2d69527ef",
      "max": 762,
      "min": 0,
      "orientation": "horizontal",
      "style": "IPY_MODEL_d2eb216188a543bfbb41c42e7c1de9ff",
      "value": 762
     }
    },
    "d4bc6c23903b41ebaf502ba88353c2d1": {
     "model_module": "@jupyter-widgets/base",
     "model_module_version": "1.2.0",
     "model_name": "LayoutModel",
     "state": {
      "_model_module": "@jupyter-widgets/base",
      "_model_module_version": "1.2.0",
      "_model_name": "LayoutModel",
      "_view_count": null,
      "_view_module": "@jupyter-widgets/base",
      "_view_module_version": "1.2.0",
      "_view_name": "LayoutView",
      "align_content": null,
      "align_items": null,
      "align_self": null,
      "border": null,
      "bottom": null,
      "display": null,
      "flex": null,
      "flex_flow": null,
      "grid_area": null,
      "grid_auto_columns": null,
      "grid_auto_flow": null,
      "grid_auto_rows": null,
      "grid_column": null,
      "grid_gap": null,
      "grid_row": null,
      "grid_template_areas": null,
      "grid_template_columns": null,
      "grid_template_rows": null,
      "height": null,
      "justify_content": null,
      "justify_items": null,
      "left": null,
      "margin": null,
      "max_height": null,
      "max_width": null,
      "min_height": null,
      "min_width": null,
      "object_fit": null,
      "object_position": null,
      "order": null,
      "overflow": null,
      "overflow_x": null,
      "overflow_y": null,
      "padding": null,
      "right": null,
      "top": null,
      "visibility": null,
      "width": null
     }
    },
    "d868903eae9a4796be081f2fc9732b9d": {
     "model_module": "@jupyter-widgets/controls",
     "model_module_version": "1.5.0",
     "model_name": "FloatProgressModel",
     "state": {
      "_dom_classes": [],
      "_model_module": "@jupyter-widgets/controls",
      "_model_module_version": "1.5.0",
      "_model_name": "FloatProgressModel",
      "_view_count": null,
      "_view_module": "@jupyter-widgets/controls",
      "_view_module_version": "1.5.0",
      "_view_name": "ProgressView",
      "bar_style": "success",
      "description": "",
      "description_tooltip": null,
      "layout": "IPY_MODEL_76e7b8fe85c64848b364d54a8083fdbb",
      "max": 435797,
      "min": 0,
      "orientation": "horizontal",
      "style": "IPY_MODEL_97bbd2d073974c1e80deb5c1eede1808",
      "value": 435797
     }
    },
    "d890850a37d84eafb78e21f24692f69b": {
     "model_module": "@jupyter-widgets/base",
     "model_module_version": "1.2.0",
     "model_name": "LayoutModel",
     "state": {
      "_model_module": "@jupyter-widgets/base",
      "_model_module_version": "1.2.0",
      "_model_name": "LayoutModel",
      "_view_count": null,
      "_view_module": "@jupyter-widgets/base",
      "_view_module_version": "1.2.0",
      "_view_name": "LayoutView",
      "align_content": null,
      "align_items": null,
      "align_self": null,
      "border": null,
      "bottom": null,
      "display": null,
      "flex": null,
      "flex_flow": null,
      "grid_area": null,
      "grid_auto_columns": null,
      "grid_auto_flow": null,
      "grid_auto_rows": null,
      "grid_column": null,
      "grid_gap": null,
      "grid_row": null,
      "grid_template_areas": null,
      "grid_template_columns": null,
      "grid_template_rows": null,
      "height": null,
      "justify_content": null,
      "justify_items": null,
      "left": null,
      "margin": null,
      "max_height": null,
      "max_width": null,
      "min_height": null,
      "min_width": null,
      "object_fit": null,
      "object_position": null,
      "order": null,
      "overflow": null,
      "overflow_x": null,
      "overflow_y": null,
      "padding": null,
      "right": null,
      "top": null,
      "visibility": null,
      "width": null
     }
    },
    "dce9ba77cb534f9da2b2b6e5c66a5703": {
     "model_module": "@jupyter-widgets/base",
     "model_module_version": "1.2.0",
     "model_name": "LayoutModel",
     "state": {
      "_model_module": "@jupyter-widgets/base",
      "_model_module_version": "1.2.0",
      "_model_name": "LayoutModel",
      "_view_count": null,
      "_view_module": "@jupyter-widgets/base",
      "_view_module_version": "1.2.0",
      "_view_name": "LayoutView",
      "align_content": null,
      "align_items": null,
      "align_self": null,
      "border": null,
      "bottom": null,
      "display": null,
      "flex": null,
      "flex_flow": null,
      "grid_area": null,
      "grid_auto_columns": null,
      "grid_auto_flow": null,
      "grid_auto_rows": null,
      "grid_column": null,
      "grid_gap": null,
      "grid_row": null,
      "grid_template_areas": null,
      "grid_template_columns": null,
      "grid_template_rows": null,
      "height": null,
      "justify_content": null,
      "justify_items": null,
      "left": null,
      "margin": null,
      "max_height": null,
      "max_width": null,
      "min_height": null,
      "min_width": null,
      "object_fit": null,
      "object_position": null,
      "order": null,
      "overflow": null,
      "overflow_x": null,
      "overflow_y": null,
      "padding": null,
      "right": null,
      "top": null,
      "visibility": null,
      "width": null
     }
    },
    "e084af51f7dd4e9bafddff12653e158d": {
     "model_module": "@jupyter-widgets/controls",
     "model_module_version": "1.5.0",
     "model_name": "DescriptionStyleModel",
     "state": {
      "_model_module": "@jupyter-widgets/controls",
      "_model_module_version": "1.5.0",
      "_model_name": "DescriptionStyleModel",
      "_view_count": null,
      "_view_module": "@jupyter-widgets/base",
      "_view_module_version": "1.2.0",
      "_view_name": "StyleView",
      "description_width": ""
     }
    },
    "e26247189e40407fb2a3eb0c92cf824d": {
     "model_module": "@jupyter-widgets/base",
     "model_module_version": "1.2.0",
     "model_name": "LayoutModel",
     "state": {
      "_model_module": "@jupyter-widgets/base",
      "_model_module_version": "1.2.0",
      "_model_name": "LayoutModel",
      "_view_count": null,
      "_view_module": "@jupyter-widgets/base",
      "_view_module_version": "1.2.0",
      "_view_name": "LayoutView",
      "align_content": null,
      "align_items": null,
      "align_self": null,
      "border": null,
      "bottom": null,
      "display": null,
      "flex": null,
      "flex_flow": null,
      "grid_area": null,
      "grid_auto_columns": null,
      "grid_auto_flow": null,
      "grid_auto_rows": null,
      "grid_column": null,
      "grid_gap": null,
      "grid_row": null,
      "grid_template_areas": null,
      "grid_template_columns": null,
      "grid_template_rows": null,
      "height": null,
      "justify_content": null,
      "justify_items": null,
      "left": null,
      "margin": null,
      "max_height": null,
      "max_width": null,
      "min_height": null,
      "min_width": null,
      "object_fit": null,
      "object_position": null,
      "order": null,
      "overflow": null,
      "overflow_x": null,
      "overflow_y": null,
      "padding": null,
      "right": null,
      "top": null,
      "visibility": null,
      "width": null
     }
    },
    "eaab3f227f994acfa29bf56c1fe2833f": {
     "model_module": "@jupyter-widgets/controls",
     "model_module_version": "1.5.0",
     "model_name": "ProgressStyleModel",
     "state": {
      "_model_module": "@jupyter-widgets/controls",
      "_model_module_version": "1.5.0",
      "_model_name": "ProgressStyleModel",
      "_view_count": null,
      "_view_module": "@jupyter-widgets/base",
      "_view_module_version": "1.2.0",
      "_view_name": "StyleView",
      "bar_color": null,
      "description_width": ""
     }
    },
    "ed071261bdc346ef86ee861931c59a59": {
     "model_module": "@jupyter-widgets/controls",
     "model_module_version": "1.5.0",
     "model_name": "DescriptionStyleModel",
     "state": {
      "_model_module": "@jupyter-widgets/controls",
      "_model_module_version": "1.5.0",
      "_model_name": "DescriptionStyleModel",
      "_view_count": null,
      "_view_module": "@jupyter-widgets/base",
      "_view_module_version": "1.2.0",
      "_view_name": "StyleView",
      "description_width": ""
     }
    },
    "f333e03d2a0d4420a42d2da036c8db0a": {
     "model_module": "@jupyter-widgets/controls",
     "model_module_version": "1.5.0",
     "model_name": "HTMLModel",
     "state": {
      "_dom_classes": [],
      "_model_module": "@jupyter-widgets/controls",
      "_model_module_version": "1.5.0",
      "_model_name": "HTMLModel",
      "_view_count": null,
      "_view_module": "@jupyter-widgets/controls",
      "_view_module_version": "1.5.0",
      "_view_name": "HTMLView",
      "description": "",
      "description_tooltip": null,
      "layout": "IPY_MODEL_d4bc6c23903b41ebaf502ba88353c2d1",
      "placeholder": "​",
      "style": "IPY_MODEL_8b1ed0669f744412afcc8dcc5de70219",
      "value": "Downloading: 100%"
     }
    },
    "ffd3058b0bcc472091715e095585530e": {
     "model_module": "@jupyter-widgets/controls",
     "model_module_version": "1.5.0",
     "model_name": "ProgressStyleModel",
     "state": {
      "_model_module": "@jupyter-widgets/controls",
      "_model_module_version": "1.5.0",
      "_model_name": "ProgressStyleModel",
      "_view_count": null,
      "_view_module": "@jupyter-widgets/base",
      "_view_module_version": "1.2.0",
      "_view_name": "StyleView",
      "bar_color": null,
      "description_width": ""
     }
    }
   }
  }
 },
 "nbformat": 4,
 "nbformat_minor": 5
}
