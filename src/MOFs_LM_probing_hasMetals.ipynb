{
 "cells": [
  {
   "cell_type": "markdown",
   "id": "55e44848-77fb-4130-b77d-abc302536a6e",
   "metadata": {
    "id": "55e44848-77fb-4130-b77d-abc302536a6e"
   },
   "source": [
    "# MOFs LM Probing for hasMetals"
   ]
  },
  {
   "cell_type": "code",
   "execution_count": 1,
   "id": "e93a1557-c1ce-4aeb-b3c3-13a75b6cb8fa",
   "metadata": {
    "executionInfo": {
     "elapsed": 19093,
     "status": "ok",
     "timestamp": 1666143085394,
     "user": {
      "displayName": "Yuan An",
      "userId": "12279868416530647161"
     },
     "user_tz": 240
    },
    "id": "e93a1557-c1ce-4aeb-b3c3-13a75b6cb8fa"
   },
   "outputs": [],
   "source": [
    "from baseline import PromptSet, logger as baseline_logger\n",
    "from evaluate import evaluate_per_sr_pair, combine_scores_per_relation\n",
    "\n",
    "from tqdm.auto import tqdm\n",
    "from nltk.corpus import stopwords\n",
    "\n",
    "import pandas as pd\n",
    "\n",
    "from transformers import AutoTokenizer, AutoModelForMaskedLM, pipeline, logging\n",
    "\n",
    "logging.set_verbosity_error()  # avoid irritating transformers warnings"
   ]
  },
  {
   "cell_type": "markdown",
   "id": "5a4cbdfc-8b9d-42fa-aea5-8646ac19b6a3",
   "metadata": {
    "id": "RQq4vl2b2Rfo"
   },
   "source": [
    "## Read in the Triples"
   ]
  },
  {
   "cell_type": "code",
   "execution_count": 2,
   "id": "MLkxHoS6eiLd",
   "metadata": {
    "executionInfo": {
     "elapsed": 254,
     "status": "ok",
     "timestamp": 1666145234667,
     "user": {
      "displayName": "Yuan An",
      "userId": "12279868416530647161"
     },
     "user_tz": 240
    },
    "id": "MLkxHoS6eiLd",
    "tags": []
   },
   "outputs": [],
   "source": [
    "file = \"../data/mof_metals.csv\""
   ]
  },
  {
   "cell_type": "code",
   "execution_count": 3,
   "id": "ax2E8N1rgva0",
   "metadata": {
    "colab": {
     "base_uri": "https://localhost:8080/",
     "height": 206
    },
    "executionInfo": {
     "elapsed": 218,
     "status": "ok",
     "timestamp": 1666145237368,
     "user": {
      "displayName": "Yuan An",
      "userId": "12279868416530647161"
     },
     "user_tz": 240
    },
    "id": "ax2E8N1rgva0",
    "outputId": "fe0e0d7c-704f-4c14-a150-262142a81688"
   },
   "outputs": [
    {
     "data": {
      "text/html": [
       "<div>\n",
       "<style scoped>\n",
       "    .dataframe tbody tr th:only-of-type {\n",
       "        vertical-align: middle;\n",
       "    }\n",
       "\n",
       "    .dataframe tbody tr th {\n",
       "        vertical-align: top;\n",
       "    }\n",
       "\n",
       "    .dataframe thead th {\n",
       "        text-align: right;\n",
       "    }\n",
       "</style>\n",
       "<table border=\"1\" class=\"dataframe\">\n",
       "  <thead>\n",
       "    <tr style=\"text-align: right;\">\n",
       "      <th></th>\n",
       "      <th>SubjectEntity</th>\n",
       "      <th>Relation</th>\n",
       "      <th>ObjectEntity</th>\n",
       "      <th>ObjectEntityName</th>\n",
       "    </tr>\n",
       "  </thead>\n",
       "  <tbody>\n",
       "    <tr>\n",
       "      <th>0</th>\n",
       "      <td>MROF-1</td>\n",
       "      <td>hasMetals</td>\n",
       "      <td>[In]</td>\n",
       "      <td>In,Indium</td>\n",
       "    </tr>\n",
       "    <tr>\n",
       "      <th>1</th>\n",
       "      <td>MOF-CJ3</td>\n",
       "      <td>hasMetals</td>\n",
       "      <td>[O][Zn][O]([Zn][O])[Zn]</td>\n",
       "      <td>O,Zn,O,Zn,O,Zn,Zinc,Zinc,Zinc</td>\n",
       "    </tr>\n",
       "    <tr>\n",
       "      <th>2</th>\n",
       "      <td>catena-(octakis(μ6-4,4',4''-s-Triazine-2,4,6-t...</td>\n",
       "      <td>hasMetals</td>\n",
       "      <td>[O][Cu][Cu][O]</td>\n",
       "      <td>O,Cu,Cu,O,Copper,Copper</td>\n",
       "    </tr>\n",
       "    <tr>\n",
       "      <th>3</th>\n",
       "      <td>Spirof-MOF</td>\n",
       "      <td>hasMetals</td>\n",
       "      <td>*</td>\n",
       "      <td>NaN</td>\n",
       "    </tr>\n",
       "    <tr>\n",
       "      <th>4</th>\n",
       "      <td>NJU-Bai9</td>\n",
       "      <td>hasMetals</td>\n",
       "      <td>[O][Zn]</td>\n",
       "      <td>O,Zn,Zinc</td>\n",
       "    </tr>\n",
       "  </tbody>\n",
       "</table>\n",
       "</div>"
      ],
      "text/plain": [
       "                                       SubjectEntity   Relation  \\\n",
       "0                                             MROF-1  hasMetals   \n",
       "1                                            MOF-CJ3  hasMetals   \n",
       "2  catena-(octakis(μ6-4,4',4''-s-Triazine-2,4,6-t...  hasMetals   \n",
       "3                                         Spirof-MOF  hasMetals   \n",
       "4                                           NJU-Bai9  hasMetals   \n",
       "\n",
       "              ObjectEntity               ObjectEntityName  \n",
       "0                     [In]                      In,Indium  \n",
       "1  [O][Zn][O]([Zn][O])[Zn]  O,Zn,O,Zn,O,Zn,Zinc,Zinc,Zinc  \n",
       "2           [O][Cu][Cu][O]        O,Cu,Cu,O,Copper,Copper  \n",
       "3                        *                            NaN  \n",
       "4                  [O][Zn]                      O,Zn,Zinc  "
      ]
     },
     "execution_count": 3,
     "metadata": {},
     "output_type": "execute_result"
    }
   ],
   "source": [
    "df = pd.read_csv(file)\n",
    "df.head()"
   ]
  },
  {
   "cell_type": "code",
   "execution_count": 4,
   "id": "0dlsYbQbJR_Y",
   "metadata": {
    "colab": {
     "base_uri": "https://localhost:8080/"
    },
    "executionInfo": {
     "elapsed": 268,
     "status": "ok",
     "timestamp": 1666143184741,
     "user": {
      "displayName": "Yuan An",
      "userId": "12279868416530647161"
     },
     "user_tz": 240
    },
    "id": "0dlsYbQbJR_Y",
    "outputId": "b4d98260-799e-4cad-c383-059c810c116b"
   },
   "outputs": [
    {
     "data": {
      "text/plain": [
       "(1795, 4)"
      ]
     },
     "execution_count": 4,
     "metadata": {},
     "output_type": "execute_result"
    }
   ],
   "source": [
    "df.shape"
   ]
  },
  {
   "cell_type": "markdown",
   "id": "DAhYPWvq1zc-",
   "metadata": {
    "id": "DAhYPWvq1zc-"
   },
   "source": [
    "## Probing BERT"
   ]
  },
  {
   "cell_type": "code",
   "execution_count": 5,
   "id": "f12c0fd2-6951-4098-9769-48ab3c98e90b",
   "metadata": {
    "colab": {
     "base_uri": "https://localhost:8080/",
     "height": 177,
     "referenced_widgets": [
      "4c05c5e0520b492ab2b57c25e58d83ff",
      "53817797a71640c682018c4d5018945f",
      "7cfe1f882eda494392c83e1dc28de347",
      "a65586c8de47418e93ca395a7a54ce4a",
      "34c8437daef041148b8193d17865e01d",
      "e26247189e40407fb2a3eb0c92cf824d",
      "2495ccb30e2d4fcd9b783e5a98adcade",
      "9189e45261c14b3a924aeaa039040088",
      "b8a5765d573b48d3843ff5256285860e",
      "bc1eb92763134550ab661339cbfbf2d7",
      "e084af51f7dd4e9bafddff12653e158d",
      "12b4f7a401fe4467ab20c5898fb2a8b7",
      "4497399c3daa4e77af0b5f19ee9f04ce",
      "d37a8e212602406f80f6e95070ce782d",
      "231be8066c064fcdac7e38d54c68ac6b",
      "d890850a37d84eafb78e21f24692f69b",
      "ab22d6a321194fbb8c7e53b695520d3d",
      "15c8cbc7b93d4cc8a8dad13afebf0768",
      "2baa8030444e47e8bea45be2d69527ef",
      "d2eb216188a543bfbb41c42e7c1de9ff",
      "600162a8775d4b1c94edcdb58e60d37d",
      "cc61ce233e7942f9bdaa871e1692555b",
      "42b4cc27530d4b3daefaf81530c8db56",
      "07aa1578b2c044898b28852c94ecadfb",
      "aae65b145a2944b5b1709af7ab6bba4f",
      "5441526da7b24b1d83be04a471d848e7",
      "35cd15eac4ff4266acd3c12a49c11f96",
      "6c1efed1664742c4b24ce2229158716a",
      "4be83a744e8249c3abccf54e6ebda30a",
      "ba9bbcf7380c425083a3716e3de81a5b",
      "ffd3058b0bcc472091715e095585530e",
      "717c883b4b394388861ac31cdf8d0459",
      "71a9c0de46f745269de1ff81e3070acd",
      "76da6237d53a4e4fbfd0a3dc282fa300",
      "26c1b472040f4b7eb6e47816bf6b1a11",
      "d868903eae9a4796be081f2fc9732b9d",
      "d1b2947d81164eb39f2713b72637d0a2",
      "011a3c0193ca4d07bf0b2f40be1ea73e",
      "0c332e682cf1497a9c9d3ce459da76ab",
      "bd3ad1443d9841f7bfff54616e5fd65f",
      "76e7b8fe85c64848b364d54a8083fdbb",
      "97bbd2d073974c1e80deb5c1eede1808",
      "8989a756543f49ffaa98b3c16d6fc20f",
      "ed071261bdc346ef86ee861931c59a59",
      "abc54b1132c94a35967f7a4d053415fc",
      "f333e03d2a0d4420a42d2da036c8db0a",
      "8adcd3f948aa475389d7bd68b7da8c71",
      "6583930f838d4001ae17b7465b14c76c",
      "ad7b5fba3e4c45d7aa3e5ab9c69f41ac",
      "d4bc6c23903b41ebaf502ba88353c2d1",
      "8b1ed0669f744412afcc8dcc5de70219",
      "61436275e45c4b178100ff64fc144041",
      "eaab3f227f994acfa29bf56c1fe2833f",
      "dce9ba77cb534f9da2b2b6e5c66a5703",
      "1a3cdcbc0ae745ecab09ff309ba63fdd"
     ]
    },
    "executionInfo": {
     "elapsed": 71566,
     "status": "ok",
     "timestamp": 1666143159539,
     "user": {
      "displayName": "Yuan An",
      "userId": "12279868416530647161"
     },
     "user_tz": 240
    },
    "id": "f12c0fd2-6951-4098-9769-48ab3c98e90b",
    "outputId": "3b235ac1-6dca-4f28-8d8e-5902a743230c"
   },
   "outputs": [],
   "source": [
    "tokenizer = AutoTokenizer.from_pretrained(\"bert-large-cased\")\n",
    "model = AutoModelForMaskedLM.from_pretrained(\"bert-large-cased\")"
   ]
  },
  {
   "cell_type": "code",
   "execution_count": 6,
   "id": "e46f8370-80b4-4f4d-88e0-94b3020a88ab",
   "metadata": {
    "colab": {
     "base_uri": "https://localhost:8080/",
     "height": 35
    },
    "executionInfo": {
     "elapsed": 519,
     "status": "ok",
     "timestamp": 1666143162640,
     "user": {
      "displayName": "Yuan An",
      "userId": "12279868416530647161"
     },
     "user_tz": 240
    },
    "id": "e46f8370-80b4-4f4d-88e0-94b3020a88ab",
    "outputId": "72cea969-0fc5-44ac-c92b-d5e8da4c6e40"
   },
   "outputs": [
    {
     "data": {
      "text/plain": [
       "'[MASK]'"
      ]
     },
     "execution_count": 6,
     "metadata": {},
     "output_type": "execute_result"
    }
   ],
   "source": [
    "mask_token = tokenizer.mask_token\n",
    "mask_token"
   ]
  },
  {
   "cell_type": "markdown",
   "id": "yccd3rTy16Yr",
   "metadata": {
    "id": "yccd3rTy16Yr"
   },
   "source": [
    "## Creat the Prompt Pipeline"
   ]
  },
  {
   "cell_type": "code",
   "execution_count": 7,
   "id": "OoWE2iMqoXHJ",
   "metadata": {
    "executionInfo": {
     "elapsed": 257,
     "status": "ok",
     "timestamp": 1666143168997,
     "user": {
      "displayName": "Yuan An",
      "userId": "12279868416530647161"
     },
     "user_tz": 240
    },
    "id": "OoWE2iMqoXHJ"
   },
   "outputs": [],
   "source": [
    "pipe = pipeline(\n",
    "    task=\"fill-mask\",\n",
    "    model=model,\n",
    "    tokenizer=tokenizer,\n",
    "    top_k=100,\n",
    ")"
   ]
  },
  {
   "cell_type": "markdown",
   "id": "aWXu0sgCf4jA",
   "metadata": {
    "id": "aWXu0sgCf4jA"
   },
   "source": [
    "## Create Prompts"
   ]
  },
  {
   "cell_type": "code",
   "execution_count": 8,
   "id": "Z5vtJepsgl4c",
   "metadata": {
    "id": "Z5vtJepsgl4c"
   },
   "outputs": [],
   "source": [
    "def create_metal_prompt1(sub, rel, mask):\n",
    "    if rel == 'hasMetals':\n",
    "        return f\"{sub} contains {mask} which is an metal.\"\n",
    "def create_metal_prompt2(sub, rel, mask):\n",
    "    if rel == 'hasMetals':\n",
    "        return f\"{sub} contains an metal which is {mask}.\"\n",
    "def create_metal_prompt3(sub, rel, mask):\n",
    "    if rel == 'hasMetals':\n",
    "        return f\"{sub} is a metal organic framework. {sub} contains {mask} which is an metal.\"\n",
    "def create_metal_prompt4(sub, rel, mask):\n",
    "    if rel == 'hasMetals':\n",
    "        return f\"As a metal organic framework, {sub} contains an metal which is {mask}.\"\n",
    "def create_metal_prompt5(sub, rel, mask):\n",
    "    if rel == 'hasMetals':\n",
    "        return f\"{sub} is a MOF. {sub} has SBU metal {mask}.\"\n",
    "def create_metal_prompt6(sub, rel, mask):\n",
    "    if rel == 'hasMetals':\n",
    "        return f\"{sub} is MOF. {sub} contains {mask}.\" \n",
    "def create_metal_prompt7(sub, rel, mask):\n",
    "    if rel == 'hasMetals':\n",
    "        return f\"{sub} contains {mask}.\"\n",
    "def create_metal_prompt8(sub, rel, mask):\n",
    "    if rel == 'hasMetals':\n",
    "        return f\"{sub} is a metal organic framework. {sub} contains {mask}.\"\n",
    "def create_metal_prompt9(sub, rel, mask):\n",
    "    if rel == 'hasMetals':\n",
    "        return f\"The SBU of {sub} is {mask}.\"\n",
    "def create_metal_prompt10(sub, rel, mask):\n",
    "    if rel == 'hasMetals':\n",
    "        return f\"{sub} is a metal organic framework structure composed of metal cluster {mask}.\"\n",
    "def create_metal_prompt11(sub, rel, mask):\n",
    "    if rel == 'hasMetals':\n",
    "        return f\"{sub} is a metal organic framework. {sub} has SBU metal {mask}.\"\n",
    "def create_metal_prompt12(sub, rel, mask):\n",
    "    if rel == 'hasMetals':\n",
    "        return f\"{mask} was used as metal center in the synthesized {sub} material.\""
   ]
  },
  {
   "cell_type": "code",
   "execution_count": 9,
   "id": "oQEIANBrgl4c",
   "metadata": {
    "id": "oQEIANBrgl4c"
   },
   "outputs": [],
   "source": [
    "processors = [create_metal_prompt1, create_metal_prompt2,\n",
    "              create_metal_prompt3, create_metal_prompt4,\n",
    "              create_metal_prompt5, create_metal_prompt6,\n",
    "              create_metal_prompt7, create_metal_prompt8,\n",
    "              create_metal_prompt9, create_metal_prompt10,\n",
    "              create_metal_prompt11, create_metal_prompt12\n",
    "             ]"
   ]
  },
  {
   "cell_type": "code",
   "execution_count": 10,
   "id": "MVAuqvu8f8fl",
   "metadata": {
    "id": "MVAuqvu8f8fl"
   },
   "outputs": [],
   "source": [
    "def prompt_probe(model, tokenizer, prompt_processor, df_sub, mask_token, \\\n",
    "                 subjectCol, relationCol, objectCol, top_k=100):\n",
    "\n",
    "    pipe = pipeline(\n",
    "        task=\"fill-mask\",\n",
    "        model=model,\n",
    "        tokenizer=tokenizer,\n",
    "        top_k=top_k,\n",
    "    )\n",
    "\n",
    "    prompts = PromptSet([prompt_processor(row.SubjectEntity, row.Relation, mask_token) for _, row in df_sub.iterrows()])\n",
    "\n",
    "    outputs = []\n",
    "    for out in tqdm(pipe(prompts, batch_size=8), total=len(prompts)):\n",
    "        outputs.append(out)\n",
    "\n",
    "    results = []\n",
    "    for idx, row in df_sub.iterrows():\n",
    "        for output in outputs[idx]:\n",
    "            record = {}\n",
    "            record['SubjectEntity'] = row[subjectCol]\n",
    "            record['Relation'] = row[relationCol]\n",
    "            record['ObjectEntity'] = row[objectCol]\n",
    "            record['prompt']= prompts[idx]\n",
    "            record['predictedScore'] = output['score']\n",
    "            record['predictedToken'] = output['token_str']\n",
    "            results.append(record)\n",
    "\n",
    "    return pd.DataFrame(results)"
   ]
  },
  {
   "cell_type": "code",
   "execution_count": 11,
   "id": "6fa5eaa4-4551-420f-bde9-d5be3f5fb399",
   "metadata": {},
   "outputs": [],
   "source": [
    "# Compute a column indicating whether the predictedToken in the ObjectEntity list\n",
    "def hasPredicted(row):\n",
    "    token = row['predictedToken']\n",
    "    objectEntities = row['ObjectEntity']\n",
    "    #print(objectEntities)\n",
    "    if pd.notna(objectEntities):\n",
    "        objectList = objectEntities.split(\",\")\n",
    "        if token in objectList:\n",
    "            return 1\n",
    "        else:\n",
    "            return 0\n",
    "    else:\n",
    "        return 0"
   ]
  },
  {
   "cell_type": "code",
   "execution_count": 12,
   "id": "KsUSnkZ7l-5U",
   "metadata": {
    "id": "KsUSnkZ7l-5U"
   },
   "outputs": [],
   "source": [
    "# return the top-k rows based on predictedScore\n",
    "def top(df, col, n=10):\n",
    "    return df.sort_values(by=col, ascending=False)[:n]"
   ]
  },
  {
   "cell_type": "code",
   "execution_count": 13,
   "id": "FsnJPxPBl-5V",
   "metadata": {
    "id": "FsnJPxPBl-5V"
   },
   "outputs": [],
   "source": [
    "# check whether the predicted is 1 for each group\n",
    "def predictedOne(df, col):\n",
    "    total = df[col].sum()\n",
    "    if total > 0:\n",
    "        return 1\n",
    "    else:\n",
    "        return 0"
   ]
  },
  {
   "cell_type": "code",
   "execution_count": 14,
   "id": "YTMrQugZl-5V",
   "metadata": {
    "executionInfo": {
     "elapsed": 89,
     "status": "ok",
     "timestamp": 1666189113144,
     "user": {
      "displayName": "Yuan An",
      "userId": "12279868416530647161"
     },
     "user_tz": 240
    },
    "id": "YTMrQugZl-5V"
   },
   "outputs": [],
   "source": [
    "# Assume the predicted_df has a binary column 'predicted' indicating whether ObjectEntity has been predicted\n",
    "# 1 for yes, 0 for no\n",
    "def evaluate_acc_n(predicted_df, relation, prompt_template, at_k=5):\n",
    "    topk_df = predicted_df.groupby('SubjectEntity', as_index=False).apply(top, col='predictedScore', n=at_k)\n",
    "    topk_agg_df = topk_df.groupby('SubjectEntity', as_index=False).apply(predictedOne, col='predicted')\n",
    "    topk_agg_df.columns = ['SubjectEntity', 'predicted']\n",
    "    result = {}\n",
    "    result['Relation'] = relation\n",
    "    result['prompt_template'] = prompt_template\n",
    "    result['acc'] = topk_agg_df.predicted.mean()\n",
    "    result['at_k'] = at_k\n",
    "\n",
    "    return result"
   ]
  },
  {
   "cell_type": "code",
   "execution_count": 15,
   "id": "55688b85-e2dd-4172-b199-cd3ca4cd3353",
   "metadata": {},
   "outputs": [],
   "source": [
    "pd.set_option('display.max_colwidth', None)"
   ]
  },
  {
   "cell_type": "code",
   "execution_count": 16,
   "id": "b0190f3f-b9a6-4d57-83fa-e3bb3acf828a",
   "metadata": {},
   "outputs": [
    {
     "data": {
      "application/vnd.jupyter.widget-view+json": {
       "model_id": "ca93b6b0977f4894b3673bf0fdd2ebc4",
       "version_major": 2,
       "version_minor": 0
      },
      "text/plain": [
       "  0%|          | 0/1795 [00:00<?, ?it/s]"
      ]
     },
     "metadata": {},
     "output_type": "display_data"
    },
    {
     "data": {
      "application/vnd.jupyter.widget-view+json": {
       "model_id": "36233158e0af480d805b2bcee092590c",
       "version_major": 2,
       "version_minor": 0
      },
      "text/plain": [
       "  0%|          | 0/1795 [00:00<?, ?it/s]"
      ]
     },
     "metadata": {},
     "output_type": "display_data"
    },
    {
     "data": {
      "application/vnd.jupyter.widget-view+json": {
       "model_id": "126c8170a0e74b93b626a6cbfcd065d5",
       "version_major": 2,
       "version_minor": 0
      },
      "text/plain": [
       "  0%|          | 0/1795 [00:00<?, ?it/s]"
      ]
     },
     "metadata": {},
     "output_type": "display_data"
    },
    {
     "data": {
      "application/vnd.jupyter.widget-view+json": {
       "model_id": "cadb9d0318624ecfa1cfd1a61d31703e",
       "version_major": 2,
       "version_minor": 0
      },
      "text/plain": [
       "  0%|          | 0/1795 [00:00<?, ?it/s]"
      ]
     },
     "metadata": {},
     "output_type": "display_data"
    },
    {
     "data": {
      "application/vnd.jupyter.widget-view+json": {
       "model_id": "2cca3c8a042b4c47a4b7f4b518f8ec71",
       "version_major": 2,
       "version_minor": 0
      },
      "text/plain": [
       "  0%|          | 0/1795 [00:00<?, ?it/s]"
      ]
     },
     "metadata": {},
     "output_type": "display_data"
    },
    {
     "data": {
      "application/vnd.jupyter.widget-view+json": {
       "model_id": "c68a3094e58c4b7ca387e6ee1311774d",
       "version_major": 2,
       "version_minor": 0
      },
      "text/plain": [
       "  0%|          | 0/1795 [00:00<?, ?it/s]"
      ]
     },
     "metadata": {},
     "output_type": "display_data"
    },
    {
     "data": {
      "application/vnd.jupyter.widget-view+json": {
       "model_id": "de5f5daa572e422dbc181e8dc7ab2844",
       "version_major": 2,
       "version_minor": 0
      },
      "text/plain": [
       "  0%|          | 0/1795 [00:00<?, ?it/s]"
      ]
     },
     "metadata": {},
     "output_type": "display_data"
    },
    {
     "data": {
      "application/vnd.jupyter.widget-view+json": {
       "model_id": "62ea7072db2a45d6a581b9a9fe8e78d6",
       "version_major": 2,
       "version_minor": 0
      },
      "text/plain": [
       "  0%|          | 0/1795 [00:00<?, ?it/s]"
      ]
     },
     "metadata": {},
     "output_type": "display_data"
    },
    {
     "data": {
      "application/vnd.jupyter.widget-view+json": {
       "model_id": "df236d6691b64d389494b427372c4da2",
       "version_major": 2,
       "version_minor": 0
      },
      "text/plain": [
       "  0%|          | 0/1795 [00:00<?, ?it/s]"
      ]
     },
     "metadata": {},
     "output_type": "display_data"
    },
    {
     "data": {
      "application/vnd.jupyter.widget-view+json": {
       "model_id": "fd23494504204ed2aff853bb8c512005",
       "version_major": 2,
       "version_minor": 0
      },
      "text/plain": [
       "  0%|          | 0/1795 [00:00<?, ?it/s]"
      ]
     },
     "metadata": {},
     "output_type": "display_data"
    },
    {
     "data": {
      "application/vnd.jupyter.widget-view+json": {
       "model_id": "a5057fca082f4b6eb8067ab68c164d9d",
       "version_major": 2,
       "version_minor": 0
      },
      "text/plain": [
       "  0%|          | 0/1795 [00:00<?, ?it/s]"
      ]
     },
     "metadata": {},
     "output_type": "display_data"
    },
    {
     "data": {
      "application/vnd.jupyter.widget-view+json": {
       "model_id": "ef32fe8c7b494709b542cc31da80f468",
       "version_major": 2,
       "version_minor": 0
      },
      "text/plain": [
       "  0%|          | 0/1795 [00:00<?, ?it/s]"
      ]
     },
     "metadata": {},
     "output_type": "display_data"
    },
    {
     "name": "stdout",
     "output_type": "stream",
     "text": [
      "CPU times: user 4h 11min 33s, sys: 4min 40s, total: 4h 16min 13s\n",
      "Wall time: 20min\n"
     ]
    }
   ],
   "source": [
    "%%time\n",
    "acc_list = []\n",
    "atks = [1, 5, 10, 20, 50, 100]\n",
    "for processor in processors:\n",
    "    result_df = prompt_probe(model, tokenizer, processor, df, mask_token, \\\n",
    "                     'SubjectEntity', 'Relation', 'ObjectEntityName', top_k=100)\n",
    "    result_df['predicted'] = result_df.apply(hasPredicted, axis=1)\n",
    "\n",
    "    prompt_template = processor('{SubjectEntity}', 'hasMetals', '[MASK]')\n",
    "    for at_k in atks:\n",
    "        acc_df = evaluate_acc_n(result_df, 'hasMetals', prompt_template, at_k=at_k)\n",
    "        acc_list.append(acc_df)"
   ]
  },
  {
   "cell_type": "code",
   "execution_count": 17,
   "id": "c806ff12-0e03-4520-9e25-510cf419de5e",
   "metadata": {},
   "outputs": [
    {
     "data": {
      "text/html": [
       "<div>\n",
       "<style scoped>\n",
       "    .dataframe tbody tr th:only-of-type {\n",
       "        vertical-align: middle;\n",
       "    }\n",
       "\n",
       "    .dataframe tbody tr th {\n",
       "        vertical-align: top;\n",
       "    }\n",
       "\n",
       "    .dataframe thead th {\n",
       "        text-align: right;\n",
       "    }\n",
       "</style>\n",
       "<table border=\"1\" class=\"dataframe\">\n",
       "  <thead>\n",
       "    <tr style=\"text-align: right;\">\n",
       "      <th></th>\n",
       "      <th>SubjectEntity</th>\n",
       "      <th>Relation</th>\n",
       "      <th>ObjectEntity</th>\n",
       "      <th>prompt</th>\n",
       "      <th>predictedScore</th>\n",
       "      <th>predictedToken</th>\n",
       "      <th>predicted</th>\n",
       "    </tr>\n",
       "  </thead>\n",
       "  <tbody>\n",
       "    <tr>\n",
       "      <th>0</th>\n",
       "      <td>MROF-1</td>\n",
       "      <td>hasMetals</td>\n",
       "      <td>In,Indium</td>\n",
       "      <td>[MASK] was used as metal center in the synthesized MROF-1 material.</td>\n",
       "      <td>0.810544</td>\n",
       "      <td>It</td>\n",
       "      <td>0</td>\n",
       "    </tr>\n",
       "    <tr>\n",
       "      <th>1</th>\n",
       "      <td>MROF-1</td>\n",
       "      <td>hasMetals</td>\n",
       "      <td>In,Indium</td>\n",
       "      <td>[MASK] was used as metal center in the synthesized MROF-1 material.</td>\n",
       "      <td>0.032774</td>\n",
       "      <td>This</td>\n",
       "      <td>0</td>\n",
       "    </tr>\n",
       "    <tr>\n",
       "      <th>2</th>\n",
       "      <td>MROF-1</td>\n",
       "      <td>hasMetals</td>\n",
       "      <td>In,Indium</td>\n",
       "      <td>[MASK] was used as metal center in the synthesized MROF-1 material.</td>\n",
       "      <td>0.010165</td>\n",
       "      <td>it</td>\n",
       "      <td>0</td>\n",
       "    </tr>\n",
       "    <tr>\n",
       "      <th>3</th>\n",
       "      <td>MROF-1</td>\n",
       "      <td>hasMetals</td>\n",
       "      <td>In,Indium</td>\n",
       "      <td>[MASK] was used as metal center in the synthesized MROF-1 material.</td>\n",
       "      <td>0.007480</td>\n",
       "      <td>Silicon</td>\n",
       "      <td>0</td>\n",
       "    </tr>\n",
       "    <tr>\n",
       "      <th>4</th>\n",
       "      <td>MROF-1</td>\n",
       "      <td>hasMetals</td>\n",
       "      <td>In,Indium</td>\n",
       "      <td>[MASK] was used as metal center in the synthesized MROF-1 material.</td>\n",
       "      <td>0.005661</td>\n",
       "      <td>.</td>\n",
       "      <td>0</td>\n",
       "    </tr>\n",
       "  </tbody>\n",
       "</table>\n",
       "</div>"
      ],
      "text/plain": [
       "  SubjectEntity   Relation ObjectEntity  \\\n",
       "0        MROF-1  hasMetals    In,Indium   \n",
       "1        MROF-1  hasMetals    In,Indium   \n",
       "2        MROF-1  hasMetals    In,Indium   \n",
       "3        MROF-1  hasMetals    In,Indium   \n",
       "4        MROF-1  hasMetals    In,Indium   \n",
       "\n",
       "                                                                prompt  \\\n",
       "0  [MASK] was used as metal center in the synthesized MROF-1 material.   \n",
       "1  [MASK] was used as metal center in the synthesized MROF-1 material.   \n",
       "2  [MASK] was used as metal center in the synthesized MROF-1 material.   \n",
       "3  [MASK] was used as metal center in the synthesized MROF-1 material.   \n",
       "4  [MASK] was used as metal center in the synthesized MROF-1 material.   \n",
       "\n",
       "   predictedScore predictedToken  predicted  \n",
       "0        0.810544             It          0  \n",
       "1        0.032774           This          0  \n",
       "2        0.010165             it          0  \n",
       "3        0.007480        Silicon          0  \n",
       "4        0.005661              .          0  "
      ]
     },
     "execution_count": 17,
     "metadata": {},
     "output_type": "execute_result"
    }
   ],
   "source": [
    "result_df.head()"
   ]
  },
  {
   "cell_type": "code",
   "execution_count": 18,
   "id": "b5b0471a-0bd5-4597-a760-334a267fdc4b",
   "metadata": {},
   "outputs": [
    {
     "data": {
      "text/plain": [
       "(179500, 7)"
      ]
     },
     "execution_count": 18,
     "metadata": {},
     "output_type": "execute_result"
    }
   ],
   "source": [
    "result_df.shape"
   ]
  },
  {
   "cell_type": "code",
   "execution_count": 19,
   "id": "5e201d63-f216-4634-bcc2-e3852000624d",
   "metadata": {},
   "outputs": [],
   "source": [
    "result_df.to_csv(\"../data/predicted_hasMetals_BERT.csv\", index=None)"
   ]
  },
  {
   "cell_type": "code",
   "execution_count": 20,
   "id": "f822f7ba-11eb-476a-aa60-074b00894d9f",
   "metadata": {},
   "outputs": [],
   "source": [
    "hasMetals_df = pd.DataFrame(acc_list)"
   ]
  },
  {
   "cell_type": "code",
   "execution_count": 21,
   "id": "EtAuhaBohBxO",
   "metadata": {
    "id": "EtAuhaBohBxO"
   },
   "outputs": [
    {
     "data": {
      "text/html": [
       "<div>\n",
       "<style scoped>\n",
       "    .dataframe tbody tr th:only-of-type {\n",
       "        vertical-align: middle;\n",
       "    }\n",
       "\n",
       "    .dataframe tbody tr th {\n",
       "        vertical-align: top;\n",
       "    }\n",
       "\n",
       "    .dataframe thead th {\n",
       "        text-align: right;\n",
       "    }\n",
       "</style>\n",
       "<table border=\"1\" class=\"dataframe\">\n",
       "  <thead>\n",
       "    <tr style=\"text-align: right;\">\n",
       "      <th></th>\n",
       "      <th>Relation</th>\n",
       "      <th>prompt_template</th>\n",
       "      <th>acc</th>\n",
       "      <th>at_k</th>\n",
       "    </tr>\n",
       "  </thead>\n",
       "  <tbody>\n",
       "    <tr>\n",
       "      <th>4</th>\n",
       "      <td>hasMetals</td>\n",
       "      <td>{SubjectEntity} contains [MASK] which is an metal.</td>\n",
       "      <td>0.409823</td>\n",
       "      <td>50</td>\n",
       "    </tr>\n",
       "    <tr>\n",
       "      <th>12</th>\n",
       "      <td>hasMetals</td>\n",
       "      <td>{SubjectEntity} is a metal organic framework. {SubjectEntity} contains [MASK] which is an metal.</td>\n",
       "      <td>0.016908</td>\n",
       "      <td>1</td>\n",
       "    </tr>\n",
       "    <tr>\n",
       "      <th>21</th>\n",
       "      <td>hasMetals</td>\n",
       "      <td>As a metal organic framework, {SubjectEntity} contains an metal which is [MASK].</td>\n",
       "      <td>0.008857</td>\n",
       "      <td>20</td>\n",
       "    </tr>\n",
       "    <tr>\n",
       "      <th>8</th>\n",
       "      <td>hasMetals</td>\n",
       "      <td>{SubjectEntity} contains an metal which is [MASK].</td>\n",
       "      <td>0.001610</td>\n",
       "      <td>10</td>\n",
       "    </tr>\n",
       "    <tr>\n",
       "      <th>26</th>\n",
       "      <td>hasMetals</td>\n",
       "      <td>{SubjectEntity} is a MOF. {SubjectEntity} has SBU metal [MASK].</td>\n",
       "      <td>0.000000</td>\n",
       "      <td>10</td>\n",
       "    </tr>\n",
       "    <tr>\n",
       "      <th>55</th>\n",
       "      <td>hasMetals</td>\n",
       "      <td>{SubjectEntity} is a metal organic framework structure composed of metal cluster [MASK].</td>\n",
       "      <td>0.000000</td>\n",
       "      <td>5</td>\n",
       "    </tr>\n",
       "    <tr>\n",
       "      <th>37</th>\n",
       "      <td>hasMetals</td>\n",
       "      <td>{SubjectEntity} contains [MASK].</td>\n",
       "      <td>0.000000</td>\n",
       "      <td>5</td>\n",
       "    </tr>\n",
       "    <tr>\n",
       "      <th>59</th>\n",
       "      <td>hasMetals</td>\n",
       "      <td>{SubjectEntity} is a metal organic framework structure composed of metal cluster [MASK].</td>\n",
       "      <td>0.000000</td>\n",
       "      <td>100</td>\n",
       "    </tr>\n",
       "    <tr>\n",
       "      <th>29</th>\n",
       "      <td>hasMetals</td>\n",
       "      <td>{SubjectEntity} is a MOF. {SubjectEntity} has SBU metal [MASK].</td>\n",
       "      <td>0.000000</td>\n",
       "      <td>100</td>\n",
       "    </tr>\n",
       "    <tr>\n",
       "      <th>69</th>\n",
       "      <td>hasMetals</td>\n",
       "      <td>[MASK] was used as metal center in the synthesized {SubjectEntity} material.</td>\n",
       "      <td>0.255233</td>\n",
       "      <td>20</td>\n",
       "    </tr>\n",
       "  </tbody>\n",
       "</table>\n",
       "</div>"
      ],
      "text/plain": [
       "     Relation  \\\n",
       "4   hasMetals   \n",
       "12  hasMetals   \n",
       "21  hasMetals   \n",
       "8   hasMetals   \n",
       "26  hasMetals   \n",
       "55  hasMetals   \n",
       "37  hasMetals   \n",
       "59  hasMetals   \n",
       "29  hasMetals   \n",
       "69  hasMetals   \n",
       "\n",
       "                                                                                     prompt_template  \\\n",
       "4                                                 {SubjectEntity} contains [MASK] which is an metal.   \n",
       "12  {SubjectEntity} is a metal organic framework. {SubjectEntity} contains [MASK] which is an metal.   \n",
       "21                  As a metal organic framework, {SubjectEntity} contains an metal which is [MASK].   \n",
       "8                                                 {SubjectEntity} contains an metal which is [MASK].   \n",
       "26                                   {SubjectEntity} is a MOF. {SubjectEntity} has SBU metal [MASK].   \n",
       "55          {SubjectEntity} is a metal organic framework structure composed of metal cluster [MASK].   \n",
       "37                                                                  {SubjectEntity} contains [MASK].   \n",
       "59          {SubjectEntity} is a metal organic framework structure composed of metal cluster [MASK].   \n",
       "29                                   {SubjectEntity} is a MOF. {SubjectEntity} has SBU metal [MASK].   \n",
       "69                      [MASK] was used as metal center in the synthesized {SubjectEntity} material.   \n",
       "\n",
       "         acc  at_k  \n",
       "4   0.409823    50  \n",
       "12  0.016908     1  \n",
       "21  0.008857    20  \n",
       "8   0.001610    10  \n",
       "26  0.000000    10  \n",
       "55  0.000000     5  \n",
       "37  0.000000     5  \n",
       "59  0.000000   100  \n",
       "29  0.000000   100  \n",
       "69  0.255233    20  "
      ]
     },
     "execution_count": 21,
     "metadata": {},
     "output_type": "execute_result"
    }
   ],
   "source": [
    "hasMetals_df.sample(10)"
   ]
  },
  {
   "cell_type": "code",
   "execution_count": 22,
   "id": "7fe702fb-17f6-4cc3-9149-14bc7ca14a03",
   "metadata": {},
   "outputs": [],
   "source": [
    "hasMetals_df.to_csv(\"../data/predicted_hasMetals_BERT_eval.csv\", index=None)"
   ]
  },
  {
   "cell_type": "code",
   "execution_count": 23,
   "id": "d3299e52-ecf9-4ef6-b4e4-b8f6e21f6d6f",
   "metadata": {},
   "outputs": [
    {
     "data": {
      "text/html": [
       "<div>\n",
       "<style scoped>\n",
       "    .dataframe tbody tr th:only-of-type {\n",
       "        vertical-align: middle;\n",
       "    }\n",
       "\n",
       "    .dataframe tbody tr th {\n",
       "        vertical-align: top;\n",
       "    }\n",
       "\n",
       "    .dataframe thead th {\n",
       "        text-align: right;\n",
       "    }\n",
       "</style>\n",
       "<table border=\"1\" class=\"dataframe\">\n",
       "  <thead>\n",
       "    <tr style=\"text-align: right;\">\n",
       "      <th></th>\n",
       "      <th>Relation</th>\n",
       "      <th>prompt_template</th>\n",
       "      <th>acc</th>\n",
       "      <th>at_k</th>\n",
       "    </tr>\n",
       "  </thead>\n",
       "  <tbody>\n",
       "    <tr>\n",
       "      <th>12</th>\n",
       "      <td>hasMetals</td>\n",
       "      <td>{SubjectEntity} is a metal organic framework. {SubjectEntity} contains [MASK] which is an metal.</td>\n",
       "      <td>0.016908</td>\n",
       "      <td>1</td>\n",
       "    </tr>\n",
       "    <tr>\n",
       "      <th>0</th>\n",
       "      <td>hasMetals</td>\n",
       "      <td>{SubjectEntity} contains [MASK] which is an metal.</td>\n",
       "      <td>0.013688</td>\n",
       "      <td>1</td>\n",
       "    </tr>\n",
       "    <tr>\n",
       "      <th>66</th>\n",
       "      <td>hasMetals</td>\n",
       "      <td>[MASK] was used as metal center in the synthesized {SubjectEntity} material.</td>\n",
       "      <td>0.009662</td>\n",
       "      <td>1</td>\n",
       "    </tr>\n",
       "    <tr>\n",
       "      <th>30</th>\n",
       "      <td>hasMetals</td>\n",
       "      <td>{SubjectEntity} is MOF. {SubjectEntity} contains [MASK].</td>\n",
       "      <td>0.000805</td>\n",
       "      <td>1</td>\n",
       "    </tr>\n",
       "    <tr>\n",
       "      <th>42</th>\n",
       "      <td>hasMetals</td>\n",
       "      <td>{SubjectEntity} is a metal organic framework. {SubjectEntity} contains [MASK].</td>\n",
       "      <td>0.000805</td>\n",
       "      <td>1</td>\n",
       "    </tr>\n",
       "    <tr>\n",
       "      <th>6</th>\n",
       "      <td>hasMetals</td>\n",
       "      <td>{SubjectEntity} contains an metal which is [MASK].</td>\n",
       "      <td>0.000000</td>\n",
       "      <td>1</td>\n",
       "    </tr>\n",
       "    <tr>\n",
       "      <th>18</th>\n",
       "      <td>hasMetals</td>\n",
       "      <td>As a metal organic framework, {SubjectEntity} contains an metal which is [MASK].</td>\n",
       "      <td>0.000000</td>\n",
       "      <td>1</td>\n",
       "    </tr>\n",
       "    <tr>\n",
       "      <th>24</th>\n",
       "      <td>hasMetals</td>\n",
       "      <td>{SubjectEntity} is a MOF. {SubjectEntity} has SBU metal [MASK].</td>\n",
       "      <td>0.000000</td>\n",
       "      <td>1</td>\n",
       "    </tr>\n",
       "    <tr>\n",
       "      <th>36</th>\n",
       "      <td>hasMetals</td>\n",
       "      <td>{SubjectEntity} contains [MASK].</td>\n",
       "      <td>0.000000</td>\n",
       "      <td>1</td>\n",
       "    </tr>\n",
       "    <tr>\n",
       "      <th>48</th>\n",
       "      <td>hasMetals</td>\n",
       "      <td>The SBU of {SubjectEntity} is [MASK].</td>\n",
       "      <td>0.000000</td>\n",
       "      <td>1</td>\n",
       "    </tr>\n",
       "    <tr>\n",
       "      <th>54</th>\n",
       "      <td>hasMetals</td>\n",
       "      <td>{SubjectEntity} is a metal organic framework structure composed of metal cluster [MASK].</td>\n",
       "      <td>0.000000</td>\n",
       "      <td>1</td>\n",
       "    </tr>\n",
       "    <tr>\n",
       "      <th>60</th>\n",
       "      <td>hasMetals</td>\n",
       "      <td>{SubjectEntity} is a metal organic framework. {SubjectEntity} has SBU metal [MASK].</td>\n",
       "      <td>0.000000</td>\n",
       "      <td>1</td>\n",
       "    </tr>\n",
       "  </tbody>\n",
       "</table>\n",
       "</div>"
      ],
      "text/plain": [
       "     Relation  \\\n",
       "12  hasMetals   \n",
       "0   hasMetals   \n",
       "66  hasMetals   \n",
       "30  hasMetals   \n",
       "42  hasMetals   \n",
       "6   hasMetals   \n",
       "18  hasMetals   \n",
       "24  hasMetals   \n",
       "36  hasMetals   \n",
       "48  hasMetals   \n",
       "54  hasMetals   \n",
       "60  hasMetals   \n",
       "\n",
       "                                                                                     prompt_template  \\\n",
       "12  {SubjectEntity} is a metal organic framework. {SubjectEntity} contains [MASK] which is an metal.   \n",
       "0                                                 {SubjectEntity} contains [MASK] which is an metal.   \n",
       "66                      [MASK] was used as metal center in the synthesized {SubjectEntity} material.   \n",
       "30                                          {SubjectEntity} is MOF. {SubjectEntity} contains [MASK].   \n",
       "42                    {SubjectEntity} is a metal organic framework. {SubjectEntity} contains [MASK].   \n",
       "6                                                 {SubjectEntity} contains an metal which is [MASK].   \n",
       "18                  As a metal organic framework, {SubjectEntity} contains an metal which is [MASK].   \n",
       "24                                   {SubjectEntity} is a MOF. {SubjectEntity} has SBU metal [MASK].   \n",
       "36                                                                  {SubjectEntity} contains [MASK].   \n",
       "48                                                             The SBU of {SubjectEntity} is [MASK].   \n",
       "54          {SubjectEntity} is a metal organic framework structure composed of metal cluster [MASK].   \n",
       "60               {SubjectEntity} is a metal organic framework. {SubjectEntity} has SBU metal [MASK].   \n",
       "\n",
       "         acc  at_k  \n",
       "12  0.016908     1  \n",
       "0   0.013688     1  \n",
       "66  0.009662     1  \n",
       "30  0.000805     1  \n",
       "42  0.000805     1  \n",
       "6   0.000000     1  \n",
       "18  0.000000     1  \n",
       "24  0.000000     1  \n",
       "36  0.000000     1  \n",
       "48  0.000000     1  \n",
       "54  0.000000     1  \n",
       "60  0.000000     1  "
      ]
     },
     "execution_count": 23,
     "metadata": {},
     "output_type": "execute_result"
    }
   ],
   "source": [
    "hasMetals_df[hasMetals_df['at_k'] == 1].sort_values('acc', ascending=False)"
   ]
  },
  {
   "cell_type": "code",
   "execution_count": 24,
   "id": "987f0e87-b729-4352-8135-41e69df5631d",
   "metadata": {},
   "outputs": [
    {
     "data": {
      "text/html": [
       "<div>\n",
       "<style scoped>\n",
       "    .dataframe tbody tr th:only-of-type {\n",
       "        vertical-align: middle;\n",
       "    }\n",
       "\n",
       "    .dataframe tbody tr th {\n",
       "        vertical-align: top;\n",
       "    }\n",
       "\n",
       "    .dataframe thead th {\n",
       "        text-align: right;\n",
       "    }\n",
       "</style>\n",
       "<table border=\"1\" class=\"dataframe\">\n",
       "  <thead>\n",
       "    <tr style=\"text-align: right;\">\n",
       "      <th></th>\n",
       "      <th>Relation</th>\n",
       "      <th>prompt_template</th>\n",
       "      <th>acc</th>\n",
       "      <th>at_k</th>\n",
       "    </tr>\n",
       "  </thead>\n",
       "  <tbody>\n",
       "    <tr>\n",
       "      <th>5</th>\n",
       "      <td>hasMetals</td>\n",
       "      <td>{SubjectEntity} contains [MASK] which is an metal.</td>\n",
       "      <td>0.530596</td>\n",
       "      <td>100</td>\n",
       "    </tr>\n",
       "    <tr>\n",
       "      <th>17</th>\n",
       "      <td>hasMetals</td>\n",
       "      <td>{SubjectEntity} is a metal organic framework. {SubjectEntity} contains [MASK] which is an metal.</td>\n",
       "      <td>0.480676</td>\n",
       "      <td>100</td>\n",
       "    </tr>\n",
       "    <tr>\n",
       "      <th>4</th>\n",
       "      <td>hasMetals</td>\n",
       "      <td>{SubjectEntity} contains [MASK] which is an metal.</td>\n",
       "      <td>0.409823</td>\n",
       "      <td>50</td>\n",
       "    </tr>\n",
       "    <tr>\n",
       "      <th>47</th>\n",
       "      <td>hasMetals</td>\n",
       "      <td>{SubjectEntity} is a metal organic framework. {SubjectEntity} contains [MASK].</td>\n",
       "      <td>0.408213</td>\n",
       "      <td>100</td>\n",
       "    </tr>\n",
       "    <tr>\n",
       "      <th>71</th>\n",
       "      <td>hasMetals</td>\n",
       "      <td>[MASK] was used as metal center in the synthesized {SubjectEntity} material.</td>\n",
       "      <td>0.361514</td>\n",
       "      <td>100</td>\n",
       "    </tr>\n",
       "    <tr>\n",
       "      <th>...</th>\n",
       "      <td>...</td>\n",
       "      <td>...</td>\n",
       "      <td>...</td>\n",
       "      <td>...</td>\n",
       "    </tr>\n",
       "    <tr>\n",
       "      <th>25</th>\n",
       "      <td>hasMetals</td>\n",
       "      <td>{SubjectEntity} is a MOF. {SubjectEntity} has SBU metal [MASK].</td>\n",
       "      <td>0.000000</td>\n",
       "      <td>5</td>\n",
       "    </tr>\n",
       "    <tr>\n",
       "      <th>26</th>\n",
       "      <td>hasMetals</td>\n",
       "      <td>{SubjectEntity} is a MOF. {SubjectEntity} has SBU metal [MASK].</td>\n",
       "      <td>0.000000</td>\n",
       "      <td>10</td>\n",
       "    </tr>\n",
       "    <tr>\n",
       "      <th>27</th>\n",
       "      <td>hasMetals</td>\n",
       "      <td>{SubjectEntity} is a MOF. {SubjectEntity} has SBU metal [MASK].</td>\n",
       "      <td>0.000000</td>\n",
       "      <td>20</td>\n",
       "    </tr>\n",
       "    <tr>\n",
       "      <th>28</th>\n",
       "      <td>hasMetals</td>\n",
       "      <td>{SubjectEntity} is a MOF. {SubjectEntity} has SBU metal [MASK].</td>\n",
       "      <td>0.000000</td>\n",
       "      <td>50</td>\n",
       "    </tr>\n",
       "    <tr>\n",
       "      <th>36</th>\n",
       "      <td>hasMetals</td>\n",
       "      <td>{SubjectEntity} contains [MASK].</td>\n",
       "      <td>0.000000</td>\n",
       "      <td>1</td>\n",
       "    </tr>\n",
       "  </tbody>\n",
       "</table>\n",
       "<p>72 rows × 4 columns</p>\n",
       "</div>"
      ],
      "text/plain": [
       "     Relation  \\\n",
       "5   hasMetals   \n",
       "17  hasMetals   \n",
       "4   hasMetals   \n",
       "47  hasMetals   \n",
       "71  hasMetals   \n",
       "..        ...   \n",
       "25  hasMetals   \n",
       "26  hasMetals   \n",
       "27  hasMetals   \n",
       "28  hasMetals   \n",
       "36  hasMetals   \n",
       "\n",
       "                                                                                     prompt_template  \\\n",
       "5                                                 {SubjectEntity} contains [MASK] which is an metal.   \n",
       "17  {SubjectEntity} is a metal organic framework. {SubjectEntity} contains [MASK] which is an metal.   \n",
       "4                                                 {SubjectEntity} contains [MASK] which is an metal.   \n",
       "47                    {SubjectEntity} is a metal organic framework. {SubjectEntity} contains [MASK].   \n",
       "71                      [MASK] was used as metal center in the synthesized {SubjectEntity} material.   \n",
       "..                                                                                               ...   \n",
       "25                                   {SubjectEntity} is a MOF. {SubjectEntity} has SBU metal [MASK].   \n",
       "26                                   {SubjectEntity} is a MOF. {SubjectEntity} has SBU metal [MASK].   \n",
       "27                                   {SubjectEntity} is a MOF. {SubjectEntity} has SBU metal [MASK].   \n",
       "28                                   {SubjectEntity} is a MOF. {SubjectEntity} has SBU metal [MASK].   \n",
       "36                                                                  {SubjectEntity} contains [MASK].   \n",
       "\n",
       "         acc  at_k  \n",
       "5   0.530596   100  \n",
       "17  0.480676   100  \n",
       "4   0.409823    50  \n",
       "47  0.408213   100  \n",
       "71  0.361514   100  \n",
       "..       ...   ...  \n",
       "25  0.000000     5  \n",
       "26  0.000000    10  \n",
       "27  0.000000    20  \n",
       "28  0.000000    50  \n",
       "36  0.000000     1  \n",
       "\n",
       "[72 rows x 4 columns]"
      ]
     },
     "execution_count": 24,
     "metadata": {},
     "output_type": "execute_result"
    }
   ],
   "source": [
    "hasMetals_df.sort_values('acc', ascending=False)"
   ]
  },
  {
   "cell_type": "markdown",
   "id": "c07c6a8e-6cc6-49c8-9097-c9a0060e45f2",
   "metadata": {},
   "source": [
    "## Probing MatBERT"
   ]
  },
  {
   "cell_type": "code",
   "execution_count": 25,
   "id": "46c36d72-a33c-4bff-9ab9-7006d9c1279e",
   "metadata": {},
   "outputs": [],
   "source": [
    "# MatBERT\n",
    "tokenizer = AutoTokenizer.from_pretrained(\"../model/matbert-base-cased\")\n",
    "model = AutoModelForMaskedLM.from_pretrained(\"../model/matbert-base-cased\")"
   ]
  },
  {
   "cell_type": "code",
   "execution_count": 26,
   "id": "2f8ecf23-8eb8-4a87-8e1d-641177a59ca4",
   "metadata": {
    "colab": {
     "base_uri": "https://localhost:8080/",
     "height": 35
    },
    "executionInfo": {
     "elapsed": 519,
     "status": "ok",
     "timestamp": 1666143162640,
     "user": {
      "displayName": "Yuan An",
      "userId": "12279868416530647161"
     },
     "user_tz": 240
    },
    "id": "e46f8370-80b4-4f4d-88e0-94b3020a88ab",
    "outputId": "72cea969-0fc5-44ac-c92b-d5e8da4c6e40"
   },
   "outputs": [
    {
     "data": {
      "text/plain": [
       "'[MASK]'"
      ]
     },
     "execution_count": 26,
     "metadata": {},
     "output_type": "execute_result"
    }
   ],
   "source": [
    "mask_token = tokenizer.mask_token\n",
    "mask_token"
   ]
  },
  {
   "cell_type": "markdown",
   "id": "28bb7577-a57c-432c-8f21-2ce188aab3f4",
   "metadata": {
    "id": "yccd3rTy16Yr"
   },
   "source": [
    "## Creat the Prompt Pipeline"
   ]
  },
  {
   "cell_type": "code",
   "execution_count": 27,
   "id": "63037587-acd8-4edb-8ccd-d9b4a4bc14a6",
   "metadata": {
    "executionInfo": {
     "elapsed": 257,
     "status": "ok",
     "timestamp": 1666143168997,
     "user": {
      "displayName": "Yuan An",
      "userId": "12279868416530647161"
     },
     "user_tz": 240
    },
    "id": "OoWE2iMqoXHJ"
   },
   "outputs": [],
   "source": [
    "pipe = pipeline(\n",
    "    task=\"fill-mask\",\n",
    "    model=model,\n",
    "    tokenizer=tokenizer,\n",
    "    top_k=100,\n",
    ")"
   ]
  },
  {
   "cell_type": "markdown",
   "id": "6758f62b-b059-4ccd-b3df-b772cc5c420d",
   "metadata": {},
   "source": [
    "## Run"
   ]
  },
  {
   "cell_type": "code",
   "execution_count": 28,
   "id": "40c25cc9-4e71-480d-83df-fbc299ccd454",
   "metadata": {},
   "outputs": [
    {
     "data": {
      "application/vnd.jupyter.widget-view+json": {
       "model_id": "102a34d417234370ab14c16e28b9e535",
       "version_major": 2,
       "version_minor": 0
      },
      "text/plain": [
       "  0%|          | 0/1795 [00:00<?, ?it/s]"
      ]
     },
     "metadata": {},
     "output_type": "display_data"
    },
    {
     "data": {
      "application/vnd.jupyter.widget-view+json": {
       "model_id": "f0eb4fbe864c4c34925b4535e24fdaa6",
       "version_major": 2,
       "version_minor": 0
      },
      "text/plain": [
       "  0%|          | 0/1795 [00:00<?, ?it/s]"
      ]
     },
     "metadata": {},
     "output_type": "display_data"
    },
    {
     "data": {
      "application/vnd.jupyter.widget-view+json": {
       "model_id": "86d7dbb7b73c43b890fc75ca5f8f5fd6",
       "version_major": 2,
       "version_minor": 0
      },
      "text/plain": [
       "  0%|          | 0/1795 [00:00<?, ?it/s]"
      ]
     },
     "metadata": {},
     "output_type": "display_data"
    },
    {
     "data": {
      "application/vnd.jupyter.widget-view+json": {
       "model_id": "55e8bc643a87485bad858baabc67a98f",
       "version_major": 2,
       "version_minor": 0
      },
      "text/plain": [
       "  0%|          | 0/1795 [00:00<?, ?it/s]"
      ]
     },
     "metadata": {},
     "output_type": "display_data"
    },
    {
     "data": {
      "application/vnd.jupyter.widget-view+json": {
       "model_id": "b5a5fe6288d4449cb12b15487277d556",
       "version_major": 2,
       "version_minor": 0
      },
      "text/plain": [
       "  0%|          | 0/1795 [00:00<?, ?it/s]"
      ]
     },
     "metadata": {},
     "output_type": "display_data"
    },
    {
     "data": {
      "application/vnd.jupyter.widget-view+json": {
       "model_id": "f342f388aa494eb3bc8f7c6dd6adb79f",
       "version_major": 2,
       "version_minor": 0
      },
      "text/plain": [
       "  0%|          | 0/1795 [00:00<?, ?it/s]"
      ]
     },
     "metadata": {},
     "output_type": "display_data"
    },
    {
     "data": {
      "application/vnd.jupyter.widget-view+json": {
       "model_id": "24a44daa2f3243ea8465ea5e8ee96b53",
       "version_major": 2,
       "version_minor": 0
      },
      "text/plain": [
       "  0%|          | 0/1795 [00:00<?, ?it/s]"
      ]
     },
     "metadata": {},
     "output_type": "display_data"
    },
    {
     "data": {
      "application/vnd.jupyter.widget-view+json": {
       "model_id": "39c542420f3b4a7d9318dae8c5b1d7bb",
       "version_major": 2,
       "version_minor": 0
      },
      "text/plain": [
       "  0%|          | 0/1795 [00:00<?, ?it/s]"
      ]
     },
     "metadata": {},
     "output_type": "display_data"
    },
    {
     "data": {
      "application/vnd.jupyter.widget-view+json": {
       "model_id": "52dfc5971ca64503b66898bfb912bf50",
       "version_major": 2,
       "version_minor": 0
      },
      "text/plain": [
       "  0%|          | 0/1795 [00:00<?, ?it/s]"
      ]
     },
     "metadata": {},
     "output_type": "display_data"
    },
    {
     "data": {
      "application/vnd.jupyter.widget-view+json": {
       "model_id": "d962d9b462014ab9bfc1245deaaacdc5",
       "version_major": 2,
       "version_minor": 0
      },
      "text/plain": [
       "  0%|          | 0/1795 [00:00<?, ?it/s]"
      ]
     },
     "metadata": {},
     "output_type": "display_data"
    },
    {
     "data": {
      "application/vnd.jupyter.widget-view+json": {
       "model_id": "a36b210e0e5540788811032bd344b5ae",
       "version_major": 2,
       "version_minor": 0
      },
      "text/plain": [
       "  0%|          | 0/1795 [00:00<?, ?it/s]"
      ]
     },
     "metadata": {},
     "output_type": "display_data"
    },
    {
     "data": {
      "application/vnd.jupyter.widget-view+json": {
       "model_id": "3ec532090262469cb999e1267f4c0a70",
       "version_major": 2,
       "version_minor": 0
      },
      "text/plain": [
       "  0%|          | 0/1795 [00:00<?, ?it/s]"
      ]
     },
     "metadata": {},
     "output_type": "display_data"
    },
    {
     "name": "stdout",
     "output_type": "stream",
     "text": [
      "CPU times: user 1h 29min 13s, sys: 1min 1s, total: 1h 30min 15s\n",
      "Wall time: 8min 7s\n"
     ]
    }
   ],
   "source": [
    "%%time\n",
    "acc_list = []\n",
    "atks = [1, 5, 10, 20, 50, 100]\n",
    "for processor in processors:\n",
    "    result_df = prompt_probe(model, tokenizer, processor, df, mask_token, \\\n",
    "                     'SubjectEntity', 'Relation', 'ObjectEntityName', top_k=100)\n",
    "    result_df['predicted'] = result_df.apply(hasPredicted, axis=1)\n",
    "\n",
    "    prompt_template = processor('{SubjectEntity}', 'hasMetals', '[MASK]')\n",
    "    for at_k in atks:\n",
    "        acc_df = evaluate_acc_n(result_df, 'hasMetals', prompt_template, at_k=at_k)\n",
    "        acc_list.append(acc_df)"
   ]
  },
  {
   "cell_type": "code",
   "execution_count": 29,
   "id": "cc2f1965-dfbb-4067-94b5-5857f5ff0e09",
   "metadata": {},
   "outputs": [],
   "source": [
    "hasMetals_df = pd.DataFrame(acc_list)"
   ]
  },
  {
   "cell_type": "code",
   "execution_count": 30,
   "id": "fb36b4f3-2dc5-4975-9aef-a47f951420f6",
   "metadata": {
    "id": "EtAuhaBohBxO"
   },
   "outputs": [
    {
     "data": {
      "text/html": [
       "<div>\n",
       "<style scoped>\n",
       "    .dataframe tbody tr th:only-of-type {\n",
       "        vertical-align: middle;\n",
       "    }\n",
       "\n",
       "    .dataframe tbody tr th {\n",
       "        vertical-align: top;\n",
       "    }\n",
       "\n",
       "    .dataframe thead th {\n",
       "        text-align: right;\n",
       "    }\n",
       "</style>\n",
       "<table border=\"1\" class=\"dataframe\">\n",
       "  <thead>\n",
       "    <tr style=\"text-align: right;\">\n",
       "      <th></th>\n",
       "      <th>Relation</th>\n",
       "      <th>prompt_template</th>\n",
       "      <th>acc</th>\n",
       "      <th>at_k</th>\n",
       "    </tr>\n",
       "  </thead>\n",
       "  <tbody>\n",
       "    <tr>\n",
       "      <th>49</th>\n",
       "      <td>hasMetals</td>\n",
       "      <td>The SBU of {SubjectEntity} is [MASK].</td>\n",
       "      <td>0.000000</td>\n",
       "      <td>5</td>\n",
       "    </tr>\n",
       "    <tr>\n",
       "      <th>53</th>\n",
       "      <td>hasMetals</td>\n",
       "      <td>The SBU of {SubjectEntity} is [MASK].</td>\n",
       "      <td>0.000000</td>\n",
       "      <td>100</td>\n",
       "    </tr>\n",
       "    <tr>\n",
       "      <th>63</th>\n",
       "      <td>hasMetals</td>\n",
       "      <td>{SubjectEntity} is a metal organic framework. {SubjectEntity} has SBU metal [MASK].</td>\n",
       "      <td>0.000000</td>\n",
       "      <td>20</td>\n",
       "    </tr>\n",
       "    <tr>\n",
       "      <th>19</th>\n",
       "      <td>hasMetals</td>\n",
       "      <td>As a metal organic framework, {SubjectEntity} contains an metal which is [MASK].</td>\n",
       "      <td>0.000000</td>\n",
       "      <td>5</td>\n",
       "    </tr>\n",
       "    <tr>\n",
       "      <th>13</th>\n",
       "      <td>hasMetals</td>\n",
       "      <td>{SubjectEntity} is a metal organic framework. {SubjectEntity} contains [MASK] which is an metal.</td>\n",
       "      <td>0.204509</td>\n",
       "      <td>5</td>\n",
       "    </tr>\n",
       "    <tr>\n",
       "      <th>40</th>\n",
       "      <td>hasMetals</td>\n",
       "      <td>{SubjectEntity} contains [MASK].</td>\n",
       "      <td>0.223027</td>\n",
       "      <td>50</td>\n",
       "    </tr>\n",
       "    <tr>\n",
       "      <th>37</th>\n",
       "      <td>hasMetals</td>\n",
       "      <td>{SubjectEntity} contains [MASK].</td>\n",
       "      <td>0.039452</td>\n",
       "      <td>5</td>\n",
       "    </tr>\n",
       "    <tr>\n",
       "      <th>9</th>\n",
       "      <td>hasMetals</td>\n",
       "      <td>{SubjectEntity} contains an metal which is [MASK].</td>\n",
       "      <td>0.087762</td>\n",
       "      <td>20</td>\n",
       "    </tr>\n",
       "    <tr>\n",
       "      <th>21</th>\n",
       "      <td>hasMetals</td>\n",
       "      <td>As a metal organic framework, {SubjectEntity} contains an metal which is [MASK].</td>\n",
       "      <td>0.008052</td>\n",
       "      <td>20</td>\n",
       "    </tr>\n",
       "    <tr>\n",
       "      <th>68</th>\n",
       "      <td>hasMetals</td>\n",
       "      <td>[MASK] was used as metal center in the synthesized {SubjectEntity} material.</td>\n",
       "      <td>0.547504</td>\n",
       "      <td>10</td>\n",
       "    </tr>\n",
       "  </tbody>\n",
       "</table>\n",
       "</div>"
      ],
      "text/plain": [
       "     Relation  \\\n",
       "49  hasMetals   \n",
       "53  hasMetals   \n",
       "63  hasMetals   \n",
       "19  hasMetals   \n",
       "13  hasMetals   \n",
       "40  hasMetals   \n",
       "37  hasMetals   \n",
       "9   hasMetals   \n",
       "21  hasMetals   \n",
       "68  hasMetals   \n",
       "\n",
       "                                                                                     prompt_template  \\\n",
       "49                                                             The SBU of {SubjectEntity} is [MASK].   \n",
       "53                                                             The SBU of {SubjectEntity} is [MASK].   \n",
       "63               {SubjectEntity} is a metal organic framework. {SubjectEntity} has SBU metal [MASK].   \n",
       "19                  As a metal organic framework, {SubjectEntity} contains an metal which is [MASK].   \n",
       "13  {SubjectEntity} is a metal organic framework. {SubjectEntity} contains [MASK] which is an metal.   \n",
       "40                                                                  {SubjectEntity} contains [MASK].   \n",
       "37                                                                  {SubjectEntity} contains [MASK].   \n",
       "9                                                 {SubjectEntity} contains an metal which is [MASK].   \n",
       "21                  As a metal organic framework, {SubjectEntity} contains an metal which is [MASK].   \n",
       "68                      [MASK] was used as metal center in the synthesized {SubjectEntity} material.   \n",
       "\n",
       "         acc  at_k  \n",
       "49  0.000000     5  \n",
       "53  0.000000   100  \n",
       "63  0.000000    20  \n",
       "19  0.000000     5  \n",
       "13  0.204509     5  \n",
       "40  0.223027    50  \n",
       "37  0.039452     5  \n",
       "9   0.087762    20  \n",
       "21  0.008052    20  \n",
       "68  0.547504    10  "
      ]
     },
     "execution_count": 30,
     "metadata": {},
     "output_type": "execute_result"
    }
   ],
   "source": [
    "hasMetals_df.sample(10)"
   ]
  },
  {
   "cell_type": "code",
   "execution_count": 31,
   "id": "3921451e-0ddf-4927-a81e-bd1624705509",
   "metadata": {},
   "outputs": [],
   "source": [
    "result_df.to_csv(\"../data/predicted_hasMetals_MatBERT.csv\", index=None)"
   ]
  },
  {
   "cell_type": "code",
   "execution_count": 32,
   "id": "19f24594-0486-4ec1-a795-d1ef696780dd",
   "metadata": {},
   "outputs": [],
   "source": [
    "hasMetals_df.to_csv(\"../data/predicted_hasMetals_MatBERT_eval.csv\", index=None)"
   ]
  },
  {
   "cell_type": "code",
   "execution_count": 33,
   "id": "4bcb9b71-a655-45c0-bdda-503046b7884c",
   "metadata": {},
   "outputs": [
    {
     "data": {
      "text/html": [
       "<div>\n",
       "<style scoped>\n",
       "    .dataframe tbody tr th:only-of-type {\n",
       "        vertical-align: middle;\n",
       "    }\n",
       "\n",
       "    .dataframe tbody tr th {\n",
       "        vertical-align: top;\n",
       "    }\n",
       "\n",
       "    .dataframe thead th {\n",
       "        text-align: right;\n",
       "    }\n",
       "</style>\n",
       "<table border=\"1\" class=\"dataframe\">\n",
       "  <thead>\n",
       "    <tr style=\"text-align: right;\">\n",
       "      <th></th>\n",
       "      <th>Relation</th>\n",
       "      <th>prompt_template</th>\n",
       "      <th>acc</th>\n",
       "      <th>at_k</th>\n",
       "    </tr>\n",
       "  </thead>\n",
       "  <tbody>\n",
       "    <tr>\n",
       "      <th>66</th>\n",
       "      <td>hasMetals</td>\n",
       "      <td>[MASK] was used as metal center in the synthesized {SubjectEntity} material.</td>\n",
       "      <td>0.191626</td>\n",
       "      <td>1</td>\n",
       "    </tr>\n",
       "    <tr>\n",
       "      <th>0</th>\n",
       "      <td>hasMetals</td>\n",
       "      <td>{SubjectEntity} contains [MASK] which is an metal.</td>\n",
       "      <td>0.049919</td>\n",
       "      <td>1</td>\n",
       "    </tr>\n",
       "    <tr>\n",
       "      <th>12</th>\n",
       "      <td>hasMetals</td>\n",
       "      <td>{SubjectEntity} is a metal organic framework. {SubjectEntity} contains [MASK] which is an metal.</td>\n",
       "      <td>0.019324</td>\n",
       "      <td>1</td>\n",
       "    </tr>\n",
       "    <tr>\n",
       "      <th>6</th>\n",
       "      <td>hasMetals</td>\n",
       "      <td>{SubjectEntity} contains an metal which is [MASK].</td>\n",
       "      <td>0.001610</td>\n",
       "      <td>1</td>\n",
       "    </tr>\n",
       "    <tr>\n",
       "      <th>18</th>\n",
       "      <td>hasMetals</td>\n",
       "      <td>As a metal organic framework, {SubjectEntity} contains an metal which is [MASK].</td>\n",
       "      <td>0.000000</td>\n",
       "      <td>1</td>\n",
       "    </tr>\n",
       "    <tr>\n",
       "      <th>24</th>\n",
       "      <td>hasMetals</td>\n",
       "      <td>{SubjectEntity} is a MOF. {SubjectEntity} has SBU metal [MASK].</td>\n",
       "      <td>0.000000</td>\n",
       "      <td>1</td>\n",
       "    </tr>\n",
       "    <tr>\n",
       "      <th>30</th>\n",
       "      <td>hasMetals</td>\n",
       "      <td>{SubjectEntity} is MOF. {SubjectEntity} contains [MASK].</td>\n",
       "      <td>0.000000</td>\n",
       "      <td>1</td>\n",
       "    </tr>\n",
       "    <tr>\n",
       "      <th>36</th>\n",
       "      <td>hasMetals</td>\n",
       "      <td>{SubjectEntity} contains [MASK].</td>\n",
       "      <td>0.000000</td>\n",
       "      <td>1</td>\n",
       "    </tr>\n",
       "    <tr>\n",
       "      <th>42</th>\n",
       "      <td>hasMetals</td>\n",
       "      <td>{SubjectEntity} is a metal organic framework. {SubjectEntity} contains [MASK].</td>\n",
       "      <td>0.000000</td>\n",
       "      <td>1</td>\n",
       "    </tr>\n",
       "    <tr>\n",
       "      <th>48</th>\n",
       "      <td>hasMetals</td>\n",
       "      <td>The SBU of {SubjectEntity} is [MASK].</td>\n",
       "      <td>0.000000</td>\n",
       "      <td>1</td>\n",
       "    </tr>\n",
       "    <tr>\n",
       "      <th>54</th>\n",
       "      <td>hasMetals</td>\n",
       "      <td>{SubjectEntity} is a metal organic framework structure composed of metal cluster [MASK].</td>\n",
       "      <td>0.000000</td>\n",
       "      <td>1</td>\n",
       "    </tr>\n",
       "    <tr>\n",
       "      <th>60</th>\n",
       "      <td>hasMetals</td>\n",
       "      <td>{SubjectEntity} is a metal organic framework. {SubjectEntity} has SBU metal [MASK].</td>\n",
       "      <td>0.000000</td>\n",
       "      <td>1</td>\n",
       "    </tr>\n",
       "  </tbody>\n",
       "</table>\n",
       "</div>"
      ],
      "text/plain": [
       "     Relation  \\\n",
       "66  hasMetals   \n",
       "0   hasMetals   \n",
       "12  hasMetals   \n",
       "6   hasMetals   \n",
       "18  hasMetals   \n",
       "24  hasMetals   \n",
       "30  hasMetals   \n",
       "36  hasMetals   \n",
       "42  hasMetals   \n",
       "48  hasMetals   \n",
       "54  hasMetals   \n",
       "60  hasMetals   \n",
       "\n",
       "                                                                                     prompt_template  \\\n",
       "66                      [MASK] was used as metal center in the synthesized {SubjectEntity} material.   \n",
       "0                                                 {SubjectEntity} contains [MASK] which is an metal.   \n",
       "12  {SubjectEntity} is a metal organic framework. {SubjectEntity} contains [MASK] which is an metal.   \n",
       "6                                                 {SubjectEntity} contains an metal which is [MASK].   \n",
       "18                  As a metal organic framework, {SubjectEntity} contains an metal which is [MASK].   \n",
       "24                                   {SubjectEntity} is a MOF. {SubjectEntity} has SBU metal [MASK].   \n",
       "30                                          {SubjectEntity} is MOF. {SubjectEntity} contains [MASK].   \n",
       "36                                                                  {SubjectEntity} contains [MASK].   \n",
       "42                    {SubjectEntity} is a metal organic framework. {SubjectEntity} contains [MASK].   \n",
       "48                                                             The SBU of {SubjectEntity} is [MASK].   \n",
       "54          {SubjectEntity} is a metal organic framework structure composed of metal cluster [MASK].   \n",
       "60               {SubjectEntity} is a metal organic framework. {SubjectEntity} has SBU metal [MASK].   \n",
       "\n",
       "         acc  at_k  \n",
       "66  0.191626     1  \n",
       "0   0.049919     1  \n",
       "12  0.019324     1  \n",
       "6   0.001610     1  \n",
       "18  0.000000     1  \n",
       "24  0.000000     1  \n",
       "30  0.000000     1  \n",
       "36  0.000000     1  \n",
       "42  0.000000     1  \n",
       "48  0.000000     1  \n",
       "54  0.000000     1  \n",
       "60  0.000000     1  "
      ]
     },
     "execution_count": 33,
     "metadata": {},
     "output_type": "execute_result"
    }
   ],
   "source": [
    "hasMetals_df[hasMetals_df['at_k'] == 1].sort_values('acc', ascending=False)"
   ]
  },
  {
   "cell_type": "code",
   "execution_count": 34,
   "id": "dfb9dded-0056-41e0-9e6a-676bc99cb70b",
   "metadata": {},
   "outputs": [
    {
     "data": {
      "text/html": [
       "<div>\n",
       "<style scoped>\n",
       "    .dataframe tbody tr th:only-of-type {\n",
       "        vertical-align: middle;\n",
       "    }\n",
       "\n",
       "    .dataframe tbody tr th {\n",
       "        vertical-align: top;\n",
       "    }\n",
       "\n",
       "    .dataframe thead th {\n",
       "        text-align: right;\n",
       "    }\n",
       "</style>\n",
       "<table border=\"1\" class=\"dataframe\">\n",
       "  <thead>\n",
       "    <tr style=\"text-align: right;\">\n",
       "      <th></th>\n",
       "      <th>Relation</th>\n",
       "      <th>prompt_template</th>\n",
       "      <th>acc</th>\n",
       "      <th>at_k</th>\n",
       "    </tr>\n",
       "  </thead>\n",
       "  <tbody>\n",
       "    <tr>\n",
       "      <th>71</th>\n",
       "      <td>hasMetals</td>\n",
       "      <td>[MASK] was used as metal center in the synthesized {SubjectEntity} material.</td>\n",
       "      <td>0.901771</td>\n",
       "      <td>100</td>\n",
       "    </tr>\n",
       "    <tr>\n",
       "      <th>5</th>\n",
       "      <td>hasMetals</td>\n",
       "      <td>{SubjectEntity} contains [MASK] which is an metal.</td>\n",
       "      <td>0.842190</td>\n",
       "      <td>100</td>\n",
       "    </tr>\n",
       "    <tr>\n",
       "      <th>17</th>\n",
       "      <td>hasMetals</td>\n",
       "      <td>{SubjectEntity} is a metal organic framework. {SubjectEntity} contains [MASK] which is an metal.</td>\n",
       "      <td>0.830918</td>\n",
       "      <td>100</td>\n",
       "    </tr>\n",
       "    <tr>\n",
       "      <th>70</th>\n",
       "      <td>hasMetals</td>\n",
       "      <td>[MASK] was used as metal center in the synthesized {SubjectEntity} material.</td>\n",
       "      <td>0.781804</td>\n",
       "      <td>50</td>\n",
       "    </tr>\n",
       "    <tr>\n",
       "      <th>4</th>\n",
       "      <td>hasMetals</td>\n",
       "      <td>{SubjectEntity} contains [MASK] which is an metal.</td>\n",
       "      <td>0.719002</td>\n",
       "      <td>50</td>\n",
       "    </tr>\n",
       "    <tr>\n",
       "      <th>...</th>\n",
       "      <td>...</td>\n",
       "      <td>...</td>\n",
       "      <td>...</td>\n",
       "      <td>...</td>\n",
       "    </tr>\n",
       "    <tr>\n",
       "      <th>27</th>\n",
       "      <td>hasMetals</td>\n",
       "      <td>{SubjectEntity} is a MOF. {SubjectEntity} has SBU metal [MASK].</td>\n",
       "      <td>0.000000</td>\n",
       "      <td>20</td>\n",
       "    </tr>\n",
       "    <tr>\n",
       "      <th>28</th>\n",
       "      <td>hasMetals</td>\n",
       "      <td>{SubjectEntity} is a MOF. {SubjectEntity} has SBU metal [MASK].</td>\n",
       "      <td>0.000000</td>\n",
       "      <td>50</td>\n",
       "    </tr>\n",
       "    <tr>\n",
       "      <th>29</th>\n",
       "      <td>hasMetals</td>\n",
       "      <td>{SubjectEntity} is a MOF. {SubjectEntity} has SBU metal [MASK].</td>\n",
       "      <td>0.000000</td>\n",
       "      <td>100</td>\n",
       "    </tr>\n",
       "    <tr>\n",
       "      <th>30</th>\n",
       "      <td>hasMetals</td>\n",
       "      <td>{SubjectEntity} is MOF. {SubjectEntity} contains [MASK].</td>\n",
       "      <td>0.000000</td>\n",
       "      <td>1</td>\n",
       "    </tr>\n",
       "    <tr>\n",
       "      <th>36</th>\n",
       "      <td>hasMetals</td>\n",
       "      <td>{SubjectEntity} contains [MASK].</td>\n",
       "      <td>0.000000</td>\n",
       "      <td>1</td>\n",
       "    </tr>\n",
       "  </tbody>\n",
       "</table>\n",
       "<p>72 rows × 4 columns</p>\n",
       "</div>"
      ],
      "text/plain": [
       "     Relation  \\\n",
       "71  hasMetals   \n",
       "5   hasMetals   \n",
       "17  hasMetals   \n",
       "70  hasMetals   \n",
       "4   hasMetals   \n",
       "..        ...   \n",
       "27  hasMetals   \n",
       "28  hasMetals   \n",
       "29  hasMetals   \n",
       "30  hasMetals   \n",
       "36  hasMetals   \n",
       "\n",
       "                                                                                     prompt_template  \\\n",
       "71                      [MASK] was used as metal center in the synthesized {SubjectEntity} material.   \n",
       "5                                                 {SubjectEntity} contains [MASK] which is an metal.   \n",
       "17  {SubjectEntity} is a metal organic framework. {SubjectEntity} contains [MASK] which is an metal.   \n",
       "70                      [MASK] was used as metal center in the synthesized {SubjectEntity} material.   \n",
       "4                                                 {SubjectEntity} contains [MASK] which is an metal.   \n",
       "..                                                                                               ...   \n",
       "27                                   {SubjectEntity} is a MOF. {SubjectEntity} has SBU metal [MASK].   \n",
       "28                                   {SubjectEntity} is a MOF. {SubjectEntity} has SBU metal [MASK].   \n",
       "29                                   {SubjectEntity} is a MOF. {SubjectEntity} has SBU metal [MASK].   \n",
       "30                                          {SubjectEntity} is MOF. {SubjectEntity} contains [MASK].   \n",
       "36                                                                  {SubjectEntity} contains [MASK].   \n",
       "\n",
       "         acc  at_k  \n",
       "71  0.901771   100  \n",
       "5   0.842190   100  \n",
       "17  0.830918   100  \n",
       "70  0.781804    50  \n",
       "4   0.719002    50  \n",
       "..       ...   ...  \n",
       "27  0.000000    20  \n",
       "28  0.000000    50  \n",
       "29  0.000000   100  \n",
       "30  0.000000     1  \n",
       "36  0.000000     1  \n",
       "\n",
       "[72 rows x 4 columns]"
      ]
     },
     "execution_count": 34,
     "metadata": {},
     "output_type": "execute_result"
    }
   ],
   "source": [
    "hasMetals_df.sort_values('acc', ascending=False)"
   ]
  },
  {
   "cell_type": "markdown",
   "id": "81e0a83a-3ee8-44b5-9228-05163abeb558",
   "metadata": {},
   "source": [
    "## Probing MatSciBERT"
   ]
  },
  {
   "cell_type": "code",
   "execution_count": 35,
   "id": "70621025-c440-4ebe-b081-38390ea30aa8",
   "metadata": {},
   "outputs": [],
   "source": [
    "# MatSciBERT\n",
    "tokenizer = AutoTokenizer.from_pretrained('m3rg-iitd/matscibert')\n",
    "model = AutoModelForMaskedLM.from_pretrained('m3rg-iitd/matscibert')"
   ]
  },
  {
   "cell_type": "code",
   "execution_count": 36,
   "id": "b863582b-8525-4dcd-a7ff-6877f1d9e655",
   "metadata": {
    "colab": {
     "base_uri": "https://localhost:8080/",
     "height": 35
    },
    "executionInfo": {
     "elapsed": 519,
     "status": "ok",
     "timestamp": 1666143162640,
     "user": {
      "displayName": "Yuan An",
      "userId": "12279868416530647161"
     },
     "user_tz": 240
    },
    "id": "e46f8370-80b4-4f4d-88e0-94b3020a88ab",
    "outputId": "72cea969-0fc5-44ac-c92b-d5e8da4c6e40"
   },
   "outputs": [
    {
     "data": {
      "text/plain": [
       "'[MASK]'"
      ]
     },
     "execution_count": 36,
     "metadata": {},
     "output_type": "execute_result"
    }
   ],
   "source": [
    "mask_token = tokenizer.mask_token\n",
    "mask_token"
   ]
  },
  {
   "cell_type": "markdown",
   "id": "81908035-52e3-409f-9b8c-4b7cdec16ff0",
   "metadata": {
    "id": "yccd3rTy16Yr"
   },
   "source": [
    "## Creat the Prompt Pipeline"
   ]
  },
  {
   "cell_type": "code",
   "execution_count": 37,
   "id": "f8f09ba9-cb78-4fb3-8e54-c087f0776d71",
   "metadata": {
    "executionInfo": {
     "elapsed": 257,
     "status": "ok",
     "timestamp": 1666143168997,
     "user": {
      "displayName": "Yuan An",
      "userId": "12279868416530647161"
     },
     "user_tz": 240
    },
    "id": "OoWE2iMqoXHJ"
   },
   "outputs": [],
   "source": [
    "pipe = pipeline(\n",
    "    task=\"fill-mask\",\n",
    "    model=model,\n",
    "    tokenizer=tokenizer,\n",
    "    top_k=100,\n",
    ")"
   ]
  },
  {
   "cell_type": "markdown",
   "id": "ef55395d-3189-4f46-83d7-7e2b13ce8585",
   "metadata": {
    "id": "aWXu0sgCf4jA"
   },
   "source": [
    "## Run"
   ]
  },
  {
   "cell_type": "code",
   "execution_count": 38,
   "id": "034e6ad5-3548-45af-9a22-638f2ac220a1",
   "metadata": {},
   "outputs": [
    {
     "data": {
      "application/vnd.jupyter.widget-view+json": {
       "model_id": "53cc2b2e1bf14604b035cc2c55ace8c6",
       "version_major": 2,
       "version_minor": 0
      },
      "text/plain": [
       "  0%|          | 0/1795 [00:00<?, ?it/s]"
      ]
     },
     "metadata": {},
     "output_type": "display_data"
    },
    {
     "data": {
      "application/vnd.jupyter.widget-view+json": {
       "model_id": "2e952ced356240f0a42c5fb6b943c194",
       "version_major": 2,
       "version_minor": 0
      },
      "text/plain": [
       "  0%|          | 0/1795 [00:00<?, ?it/s]"
      ]
     },
     "metadata": {},
     "output_type": "display_data"
    },
    {
     "data": {
      "application/vnd.jupyter.widget-view+json": {
       "model_id": "b1e36eaa1c594643acd855b275f3fcd3",
       "version_major": 2,
       "version_minor": 0
      },
      "text/plain": [
       "  0%|          | 0/1795 [00:00<?, ?it/s]"
      ]
     },
     "metadata": {},
     "output_type": "display_data"
    },
    {
     "data": {
      "application/vnd.jupyter.widget-view+json": {
       "model_id": "b2dbc4d5baca4a3ba6f9bd03742954b8",
       "version_major": 2,
       "version_minor": 0
      },
      "text/plain": [
       "  0%|          | 0/1795 [00:00<?, ?it/s]"
      ]
     },
     "metadata": {},
     "output_type": "display_data"
    },
    {
     "data": {
      "application/vnd.jupyter.widget-view+json": {
       "model_id": "ddc6d5a9dcdf4d20ac8b7d67a20f3515",
       "version_major": 2,
       "version_minor": 0
      },
      "text/plain": [
       "  0%|          | 0/1795 [00:00<?, ?it/s]"
      ]
     },
     "metadata": {},
     "output_type": "display_data"
    },
    {
     "data": {
      "application/vnd.jupyter.widget-view+json": {
       "model_id": "9db6a5314e38442d8a5dff2cd1e1e6fc",
       "version_major": 2,
       "version_minor": 0
      },
      "text/plain": [
       "  0%|          | 0/1795 [00:00<?, ?it/s]"
      ]
     },
     "metadata": {},
     "output_type": "display_data"
    },
    {
     "data": {
      "application/vnd.jupyter.widget-view+json": {
       "model_id": "9c1a1c7085604a9f82f23e1e8d5d438c",
       "version_major": 2,
       "version_minor": 0
      },
      "text/plain": [
       "  0%|          | 0/1795 [00:00<?, ?it/s]"
      ]
     },
     "metadata": {},
     "output_type": "display_data"
    },
    {
     "data": {
      "application/vnd.jupyter.widget-view+json": {
       "model_id": "c1c5595931074db682c811891b83863b",
       "version_major": 2,
       "version_minor": 0
      },
      "text/plain": [
       "  0%|          | 0/1795 [00:00<?, ?it/s]"
      ]
     },
     "metadata": {},
     "output_type": "display_data"
    },
    {
     "data": {
      "application/vnd.jupyter.widget-view+json": {
       "model_id": "d8c4636161eb42a48788eb833e1b3387",
       "version_major": 2,
       "version_minor": 0
      },
      "text/plain": [
       "  0%|          | 0/1795 [00:00<?, ?it/s]"
      ]
     },
     "metadata": {},
     "output_type": "display_data"
    },
    {
     "data": {
      "application/vnd.jupyter.widget-view+json": {
       "model_id": "86130d6f330142c79d3cda9c49f71d28",
       "version_major": 2,
       "version_minor": 0
      },
      "text/plain": [
       "  0%|          | 0/1795 [00:00<?, ?it/s]"
      ]
     },
     "metadata": {},
     "output_type": "display_data"
    },
    {
     "data": {
      "application/vnd.jupyter.widget-view+json": {
       "model_id": "4b06ab5e73584917a77ea775f380b04a",
       "version_major": 2,
       "version_minor": 0
      },
      "text/plain": [
       "  0%|          | 0/1795 [00:00<?, ?it/s]"
      ]
     },
     "metadata": {},
     "output_type": "display_data"
    },
    {
     "data": {
      "application/vnd.jupyter.widget-view+json": {
       "model_id": "5fb311cd75cc408a90fe4e50fb876efd",
       "version_major": 2,
       "version_minor": 0
      },
      "text/plain": [
       "  0%|          | 0/1795 [00:00<?, ?it/s]"
      ]
     },
     "metadata": {},
     "output_type": "display_data"
    },
    {
     "name": "stdout",
     "output_type": "stream",
     "text": [
      "CPU times: user 1h 31min 55s, sys: 41.9 s, total: 1h 32min 37s\n",
      "Wall time: 8min 18s\n"
     ]
    }
   ],
   "source": [
    "%%time\n",
    "acc_list = []\n",
    "atks = [1, 5, 10, 20, 50, 100]\n",
    "for processor in processors:\n",
    "    result_df = prompt_probe(model, tokenizer, processor, df, mask_token, \\\n",
    "                     'SubjectEntity', 'Relation', 'ObjectEntityName', top_k=100)\n",
    "    result_df['predicted'] = result_df.apply(hasPredicted, axis=1)\n",
    "\n",
    "    prompt_template = processor('{SubjectEntity}', 'hasMetals', '[MASK]')\n",
    "    for at_k in atks:\n",
    "        acc_df = evaluate_acc_n(result_df, 'hasMetals', prompt_template, at_k=at_k)\n",
    "        acc_list.append(acc_df)"
   ]
  },
  {
   "cell_type": "code",
   "execution_count": 39,
   "id": "309a817b-f98b-47ff-9e90-8cb1ea35ef89",
   "metadata": {},
   "outputs": [],
   "source": [
    "hasMetals_df = pd.DataFrame(acc_list)"
   ]
  },
  {
   "cell_type": "code",
   "execution_count": 40,
   "id": "bc7000a9-95f2-4493-8dfd-c5c8950ef065",
   "metadata": {
    "id": "EtAuhaBohBxO"
   },
   "outputs": [
    {
     "data": {
      "text/html": [
       "<div>\n",
       "<style scoped>\n",
       "    .dataframe tbody tr th:only-of-type {\n",
       "        vertical-align: middle;\n",
       "    }\n",
       "\n",
       "    .dataframe tbody tr th {\n",
       "        vertical-align: top;\n",
       "    }\n",
       "\n",
       "    .dataframe thead th {\n",
       "        text-align: right;\n",
       "    }\n",
       "</style>\n",
       "<table border=\"1\" class=\"dataframe\">\n",
       "  <thead>\n",
       "    <tr style=\"text-align: right;\">\n",
       "      <th></th>\n",
       "      <th>Relation</th>\n",
       "      <th>prompt_template</th>\n",
       "      <th>acc</th>\n",
       "      <th>at_k</th>\n",
       "    </tr>\n",
       "  </thead>\n",
       "  <tbody>\n",
       "    <tr>\n",
       "      <th>34</th>\n",
       "      <td>hasMetals</td>\n",
       "      <td>{SubjectEntity} is MOF. {SubjectEntity} contains [MASK].</td>\n",
       "      <td>0.0</td>\n",
       "      <td>50</td>\n",
       "    </tr>\n",
       "    <tr>\n",
       "      <th>61</th>\n",
       "      <td>hasMetals</td>\n",
       "      <td>{SubjectEntity} is a metal organic framework. {SubjectEntity} has SBU metal [MASK].</td>\n",
       "      <td>0.0</td>\n",
       "      <td>5</td>\n",
       "    </tr>\n",
       "    <tr>\n",
       "      <th>28</th>\n",
       "      <td>hasMetals</td>\n",
       "      <td>{SubjectEntity} is a MOF. {SubjectEntity} has SBU metal [MASK].</td>\n",
       "      <td>0.0</td>\n",
       "      <td>50</td>\n",
       "    </tr>\n",
       "    <tr>\n",
       "      <th>63</th>\n",
       "      <td>hasMetals</td>\n",
       "      <td>{SubjectEntity} is a metal organic framework. {SubjectEntity} has SBU metal [MASK].</td>\n",
       "      <td>0.0</td>\n",
       "      <td>20</td>\n",
       "    </tr>\n",
       "    <tr>\n",
       "      <th>4</th>\n",
       "      <td>hasMetals</td>\n",
       "      <td>{SubjectEntity} contains [MASK] which is an metal.</td>\n",
       "      <td>0.0</td>\n",
       "      <td>50</td>\n",
       "    </tr>\n",
       "    <tr>\n",
       "      <th>26</th>\n",
       "      <td>hasMetals</td>\n",
       "      <td>{SubjectEntity} is a MOF. {SubjectEntity} has SBU metal [MASK].</td>\n",
       "      <td>0.0</td>\n",
       "      <td>10</td>\n",
       "    </tr>\n",
       "    <tr>\n",
       "      <th>55</th>\n",
       "      <td>hasMetals</td>\n",
       "      <td>{SubjectEntity} is a metal organic framework structure composed of metal cluster [MASK].</td>\n",
       "      <td>0.0</td>\n",
       "      <td>5</td>\n",
       "    </tr>\n",
       "    <tr>\n",
       "      <th>64</th>\n",
       "      <td>hasMetals</td>\n",
       "      <td>{SubjectEntity} is a metal organic framework. {SubjectEntity} has SBU metal [MASK].</td>\n",
       "      <td>0.0</td>\n",
       "      <td>50</td>\n",
       "    </tr>\n",
       "    <tr>\n",
       "      <th>58</th>\n",
       "      <td>hasMetals</td>\n",
       "      <td>{SubjectEntity} is a metal organic framework structure composed of metal cluster [MASK].</td>\n",
       "      <td>0.0</td>\n",
       "      <td>50</td>\n",
       "    </tr>\n",
       "    <tr>\n",
       "      <th>70</th>\n",
       "      <td>hasMetals</td>\n",
       "      <td>[MASK] was used as metal center in the synthesized {SubjectEntity} material.</td>\n",
       "      <td>0.0</td>\n",
       "      <td>50</td>\n",
       "    </tr>\n",
       "  </tbody>\n",
       "</table>\n",
       "</div>"
      ],
      "text/plain": [
       "     Relation  \\\n",
       "34  hasMetals   \n",
       "61  hasMetals   \n",
       "28  hasMetals   \n",
       "63  hasMetals   \n",
       "4   hasMetals   \n",
       "26  hasMetals   \n",
       "55  hasMetals   \n",
       "64  hasMetals   \n",
       "58  hasMetals   \n",
       "70  hasMetals   \n",
       "\n",
       "                                                                             prompt_template  \\\n",
       "34                                  {SubjectEntity} is MOF. {SubjectEntity} contains [MASK].   \n",
       "61       {SubjectEntity} is a metal organic framework. {SubjectEntity} has SBU metal [MASK].   \n",
       "28                           {SubjectEntity} is a MOF. {SubjectEntity} has SBU metal [MASK].   \n",
       "63       {SubjectEntity} is a metal organic framework. {SubjectEntity} has SBU metal [MASK].   \n",
       "4                                         {SubjectEntity} contains [MASK] which is an metal.   \n",
       "26                           {SubjectEntity} is a MOF. {SubjectEntity} has SBU metal [MASK].   \n",
       "55  {SubjectEntity} is a metal organic framework structure composed of metal cluster [MASK].   \n",
       "64       {SubjectEntity} is a metal organic framework. {SubjectEntity} has SBU metal [MASK].   \n",
       "58  {SubjectEntity} is a metal organic framework structure composed of metal cluster [MASK].   \n",
       "70              [MASK] was used as metal center in the synthesized {SubjectEntity} material.   \n",
       "\n",
       "    acc  at_k  \n",
       "34  0.0    50  \n",
       "61  0.0     5  \n",
       "28  0.0    50  \n",
       "63  0.0    20  \n",
       "4   0.0    50  \n",
       "26  0.0    10  \n",
       "55  0.0     5  \n",
       "64  0.0    50  \n",
       "58  0.0    50  \n",
       "70  0.0    50  "
      ]
     },
     "execution_count": 40,
     "metadata": {},
     "output_type": "execute_result"
    }
   ],
   "source": [
    "hasMetals_df.sample(10)"
   ]
  },
  {
   "cell_type": "code",
   "execution_count": 41,
   "id": "76b52c40-1297-4bb4-9666-15477befb088",
   "metadata": {},
   "outputs": [],
   "source": [
    "result_df.to_csv(\"../data/predicted_hasMetals_MatSciBERT.csv\", index=None)"
   ]
  },
  {
   "cell_type": "code",
   "execution_count": 42,
   "id": "f5e7a42a-42e6-4ba6-912c-b4ebad2b8b5d",
   "metadata": {},
   "outputs": [],
   "source": [
    "hasMetals_df.to_csv(\"../data/predicted_hasMetals_MatSciBERT_eval.csv\", index=None)"
   ]
  },
  {
   "cell_type": "code",
   "execution_count": 43,
   "id": "3a4a1dbe-3cf6-4e1e-b591-a6f9bae4c5b3",
   "metadata": {},
   "outputs": [
    {
     "data": {
      "text/html": [
       "<div>\n",
       "<style scoped>\n",
       "    .dataframe tbody tr th:only-of-type {\n",
       "        vertical-align: middle;\n",
       "    }\n",
       "\n",
       "    .dataframe tbody tr th {\n",
       "        vertical-align: top;\n",
       "    }\n",
       "\n",
       "    .dataframe thead th {\n",
       "        text-align: right;\n",
       "    }\n",
       "</style>\n",
       "<table border=\"1\" class=\"dataframe\">\n",
       "  <thead>\n",
       "    <tr style=\"text-align: right;\">\n",
       "      <th></th>\n",
       "      <th>Relation</th>\n",
       "      <th>prompt_template</th>\n",
       "      <th>acc</th>\n",
       "      <th>at_k</th>\n",
       "    </tr>\n",
       "  </thead>\n",
       "  <tbody>\n",
       "    <tr>\n",
       "      <th>0</th>\n",
       "      <td>hasMetals</td>\n",
       "      <td>{SubjectEntity} contains [MASK] which is an metal.</td>\n",
       "      <td>0.0</td>\n",
       "      <td>1</td>\n",
       "    </tr>\n",
       "    <tr>\n",
       "      <th>6</th>\n",
       "      <td>hasMetals</td>\n",
       "      <td>{SubjectEntity} contains an metal which is [MASK].</td>\n",
       "      <td>0.0</td>\n",
       "      <td>1</td>\n",
       "    </tr>\n",
       "    <tr>\n",
       "      <th>12</th>\n",
       "      <td>hasMetals</td>\n",
       "      <td>{SubjectEntity} is a metal organic framework. {SubjectEntity} contains [MASK] which is an metal.</td>\n",
       "      <td>0.0</td>\n",
       "      <td>1</td>\n",
       "    </tr>\n",
       "    <tr>\n",
       "      <th>18</th>\n",
       "      <td>hasMetals</td>\n",
       "      <td>As a metal organic framework, {SubjectEntity} contains an metal which is [MASK].</td>\n",
       "      <td>0.0</td>\n",
       "      <td>1</td>\n",
       "    </tr>\n",
       "    <tr>\n",
       "      <th>24</th>\n",
       "      <td>hasMetals</td>\n",
       "      <td>{SubjectEntity} is a MOF. {SubjectEntity} has SBU metal [MASK].</td>\n",
       "      <td>0.0</td>\n",
       "      <td>1</td>\n",
       "    </tr>\n",
       "    <tr>\n",
       "      <th>30</th>\n",
       "      <td>hasMetals</td>\n",
       "      <td>{SubjectEntity} is MOF. {SubjectEntity} contains [MASK].</td>\n",
       "      <td>0.0</td>\n",
       "      <td>1</td>\n",
       "    </tr>\n",
       "    <tr>\n",
       "      <th>36</th>\n",
       "      <td>hasMetals</td>\n",
       "      <td>{SubjectEntity} contains [MASK].</td>\n",
       "      <td>0.0</td>\n",
       "      <td>1</td>\n",
       "    </tr>\n",
       "    <tr>\n",
       "      <th>42</th>\n",
       "      <td>hasMetals</td>\n",
       "      <td>{SubjectEntity} is a metal organic framework. {SubjectEntity} contains [MASK].</td>\n",
       "      <td>0.0</td>\n",
       "      <td>1</td>\n",
       "    </tr>\n",
       "    <tr>\n",
       "      <th>48</th>\n",
       "      <td>hasMetals</td>\n",
       "      <td>The SBU of {SubjectEntity} is [MASK].</td>\n",
       "      <td>0.0</td>\n",
       "      <td>1</td>\n",
       "    </tr>\n",
       "    <tr>\n",
       "      <th>54</th>\n",
       "      <td>hasMetals</td>\n",
       "      <td>{SubjectEntity} is a metal organic framework structure composed of metal cluster [MASK].</td>\n",
       "      <td>0.0</td>\n",
       "      <td>1</td>\n",
       "    </tr>\n",
       "    <tr>\n",
       "      <th>60</th>\n",
       "      <td>hasMetals</td>\n",
       "      <td>{SubjectEntity} is a metal organic framework. {SubjectEntity} has SBU metal [MASK].</td>\n",
       "      <td>0.0</td>\n",
       "      <td>1</td>\n",
       "    </tr>\n",
       "    <tr>\n",
       "      <th>66</th>\n",
       "      <td>hasMetals</td>\n",
       "      <td>[MASK] was used as metal center in the synthesized {SubjectEntity} material.</td>\n",
       "      <td>0.0</td>\n",
       "      <td>1</td>\n",
       "    </tr>\n",
       "  </tbody>\n",
       "</table>\n",
       "</div>"
      ],
      "text/plain": [
       "     Relation  \\\n",
       "0   hasMetals   \n",
       "6   hasMetals   \n",
       "12  hasMetals   \n",
       "18  hasMetals   \n",
       "24  hasMetals   \n",
       "30  hasMetals   \n",
       "36  hasMetals   \n",
       "42  hasMetals   \n",
       "48  hasMetals   \n",
       "54  hasMetals   \n",
       "60  hasMetals   \n",
       "66  hasMetals   \n",
       "\n",
       "                                                                                     prompt_template  \\\n",
       "0                                                 {SubjectEntity} contains [MASK] which is an metal.   \n",
       "6                                                 {SubjectEntity} contains an metal which is [MASK].   \n",
       "12  {SubjectEntity} is a metal organic framework. {SubjectEntity} contains [MASK] which is an metal.   \n",
       "18                  As a metal organic framework, {SubjectEntity} contains an metal which is [MASK].   \n",
       "24                                   {SubjectEntity} is a MOF. {SubjectEntity} has SBU metal [MASK].   \n",
       "30                                          {SubjectEntity} is MOF. {SubjectEntity} contains [MASK].   \n",
       "36                                                                  {SubjectEntity} contains [MASK].   \n",
       "42                    {SubjectEntity} is a metal organic framework. {SubjectEntity} contains [MASK].   \n",
       "48                                                             The SBU of {SubjectEntity} is [MASK].   \n",
       "54          {SubjectEntity} is a metal organic framework structure composed of metal cluster [MASK].   \n",
       "60               {SubjectEntity} is a metal organic framework. {SubjectEntity} has SBU metal [MASK].   \n",
       "66                      [MASK] was used as metal center in the synthesized {SubjectEntity} material.   \n",
       "\n",
       "    acc  at_k  \n",
       "0   0.0     1  \n",
       "6   0.0     1  \n",
       "12  0.0     1  \n",
       "18  0.0     1  \n",
       "24  0.0     1  \n",
       "30  0.0     1  \n",
       "36  0.0     1  \n",
       "42  0.0     1  \n",
       "48  0.0     1  \n",
       "54  0.0     1  \n",
       "60  0.0     1  \n",
       "66  0.0     1  "
      ]
     },
     "execution_count": 43,
     "metadata": {},
     "output_type": "execute_result"
    }
   ],
   "source": [
    "hasMetals_df[hasMetals_df['at_k'] == 1].sort_values('acc', ascending=False)"
   ]
  },
  {
   "cell_type": "code",
   "execution_count": 44,
   "id": "ba8ce08d-802f-4301-aed8-0ebdd2aadf3e",
   "metadata": {},
   "outputs": [
    {
     "data": {
      "text/html": [
       "<div>\n",
       "<style scoped>\n",
       "    .dataframe tbody tr th:only-of-type {\n",
       "        vertical-align: middle;\n",
       "    }\n",
       "\n",
       "    .dataframe tbody tr th {\n",
       "        vertical-align: top;\n",
       "    }\n",
       "\n",
       "    .dataframe thead th {\n",
       "        text-align: right;\n",
       "    }\n",
       "</style>\n",
       "<table border=\"1\" class=\"dataframe\">\n",
       "  <thead>\n",
       "    <tr style=\"text-align: right;\">\n",
       "      <th></th>\n",
       "      <th>Relation</th>\n",
       "      <th>prompt_template</th>\n",
       "      <th>acc</th>\n",
       "      <th>at_k</th>\n",
       "    </tr>\n",
       "  </thead>\n",
       "  <tbody>\n",
       "    <tr>\n",
       "      <th>0</th>\n",
       "      <td>hasMetals</td>\n",
       "      <td>{SubjectEntity} contains [MASK] which is an metal.</td>\n",
       "      <td>0.0</td>\n",
       "      <td>1</td>\n",
       "    </tr>\n",
       "    <tr>\n",
       "      <th>1</th>\n",
       "      <td>hasMetals</td>\n",
       "      <td>{SubjectEntity} contains [MASK] which is an metal.</td>\n",
       "      <td>0.0</td>\n",
       "      <td>5</td>\n",
       "    </tr>\n",
       "    <tr>\n",
       "      <th>52</th>\n",
       "      <td>hasMetals</td>\n",
       "      <td>The SBU of {SubjectEntity} is [MASK].</td>\n",
       "      <td>0.0</td>\n",
       "      <td>50</td>\n",
       "    </tr>\n",
       "    <tr>\n",
       "      <th>51</th>\n",
       "      <td>hasMetals</td>\n",
       "      <td>The SBU of {SubjectEntity} is [MASK].</td>\n",
       "      <td>0.0</td>\n",
       "      <td>20</td>\n",
       "    </tr>\n",
       "    <tr>\n",
       "      <th>50</th>\n",
       "      <td>hasMetals</td>\n",
       "      <td>The SBU of {SubjectEntity} is [MASK].</td>\n",
       "      <td>0.0</td>\n",
       "      <td>10</td>\n",
       "    </tr>\n",
       "    <tr>\n",
       "      <th>...</th>\n",
       "      <td>...</td>\n",
       "      <td>...</td>\n",
       "      <td>...</td>\n",
       "      <td>...</td>\n",
       "    </tr>\n",
       "    <tr>\n",
       "      <th>23</th>\n",
       "      <td>hasMetals</td>\n",
       "      <td>As a metal organic framework, {SubjectEntity} contains an metal which is [MASK].</td>\n",
       "      <td>0.0</td>\n",
       "      <td>100</td>\n",
       "    </tr>\n",
       "    <tr>\n",
       "      <th>22</th>\n",
       "      <td>hasMetals</td>\n",
       "      <td>As a metal organic framework, {SubjectEntity} contains an metal which is [MASK].</td>\n",
       "      <td>0.0</td>\n",
       "      <td>50</td>\n",
       "    </tr>\n",
       "    <tr>\n",
       "      <th>21</th>\n",
       "      <td>hasMetals</td>\n",
       "      <td>As a metal organic framework, {SubjectEntity} contains an metal which is [MASK].</td>\n",
       "      <td>0.0</td>\n",
       "      <td>20</td>\n",
       "    </tr>\n",
       "    <tr>\n",
       "      <th>20</th>\n",
       "      <td>hasMetals</td>\n",
       "      <td>As a metal organic framework, {SubjectEntity} contains an metal which is [MASK].</td>\n",
       "      <td>0.0</td>\n",
       "      <td>10</td>\n",
       "    </tr>\n",
       "    <tr>\n",
       "      <th>71</th>\n",
       "      <td>hasMetals</td>\n",
       "      <td>[MASK] was used as metal center in the synthesized {SubjectEntity} material.</td>\n",
       "      <td>0.0</td>\n",
       "      <td>100</td>\n",
       "    </tr>\n",
       "  </tbody>\n",
       "</table>\n",
       "<p>72 rows × 4 columns</p>\n",
       "</div>"
      ],
      "text/plain": [
       "     Relation  \\\n",
       "0   hasMetals   \n",
       "1   hasMetals   \n",
       "52  hasMetals   \n",
       "51  hasMetals   \n",
       "50  hasMetals   \n",
       "..        ...   \n",
       "23  hasMetals   \n",
       "22  hasMetals   \n",
       "21  hasMetals   \n",
       "20  hasMetals   \n",
       "71  hasMetals   \n",
       "\n",
       "                                                                     prompt_template  \\\n",
       "0                                 {SubjectEntity} contains [MASK] which is an metal.   \n",
       "1                                 {SubjectEntity} contains [MASK] which is an metal.   \n",
       "52                                             The SBU of {SubjectEntity} is [MASK].   \n",
       "51                                             The SBU of {SubjectEntity} is [MASK].   \n",
       "50                                             The SBU of {SubjectEntity} is [MASK].   \n",
       "..                                                                               ...   \n",
       "23  As a metal organic framework, {SubjectEntity} contains an metal which is [MASK].   \n",
       "22  As a metal organic framework, {SubjectEntity} contains an metal which is [MASK].   \n",
       "21  As a metal organic framework, {SubjectEntity} contains an metal which is [MASK].   \n",
       "20  As a metal organic framework, {SubjectEntity} contains an metal which is [MASK].   \n",
       "71      [MASK] was used as metal center in the synthesized {SubjectEntity} material.   \n",
       "\n",
       "    acc  at_k  \n",
       "0   0.0     1  \n",
       "1   0.0     5  \n",
       "52  0.0    50  \n",
       "51  0.0    20  \n",
       "50  0.0    10  \n",
       "..  ...   ...  \n",
       "23  0.0   100  \n",
       "22  0.0    50  \n",
       "21  0.0    20  \n",
       "20  0.0    10  \n",
       "71  0.0   100  \n",
       "\n",
       "[72 rows x 4 columns]"
      ]
     },
     "execution_count": 44,
     "metadata": {},
     "output_type": "execute_result"
    }
   ],
   "source": [
    "hasMetals_df.sort_values('acc', ascending=False)"
   ]
  },
  {
   "cell_type": "markdown",
   "id": "7ea82684-73f7-4a08-a2d4-9529b1328672",
   "metadata": {},
   "source": [
    "## Probing SciBERT"
   ]
  },
  {
   "cell_type": "code",
   "execution_count": 45,
   "id": "0937d1db-d5c2-47e1-a920-e7c8a667f003",
   "metadata": {},
   "outputs": [],
   "source": [
    "# SciBERT\n",
    "tokenizer = AutoTokenizer.from_pretrained('allenai/scibert_scivocab_cased')\n",
    "model = AutoModelForMaskedLM.from_pretrained('allenai/scibert_scivocab_cased')"
   ]
  },
  {
   "cell_type": "code",
   "execution_count": 46,
   "id": "a2fc4405-4e30-4d3e-a989-004e4d45762f",
   "metadata": {
    "colab": {
     "base_uri": "https://localhost:8080/",
     "height": 35
    },
    "executionInfo": {
     "elapsed": 519,
     "status": "ok",
     "timestamp": 1666143162640,
     "user": {
      "displayName": "Yuan An",
      "userId": "12279868416530647161"
     },
     "user_tz": 240
    },
    "id": "e46f8370-80b4-4f4d-88e0-94b3020a88ab",
    "outputId": "72cea969-0fc5-44ac-c92b-d5e8da4c6e40"
   },
   "outputs": [
    {
     "data": {
      "text/plain": [
       "'[MASK]'"
      ]
     },
     "execution_count": 46,
     "metadata": {},
     "output_type": "execute_result"
    }
   ],
   "source": [
    "mask_token = tokenizer.mask_token\n",
    "mask_token"
   ]
  },
  {
   "cell_type": "markdown",
   "id": "96d62e1c-8831-466d-a4ad-b75a5fb1d243",
   "metadata": {
    "id": "yccd3rTy16Yr"
   },
   "source": [
    "## Creat the Prompt Pipeline"
   ]
  },
  {
   "cell_type": "code",
   "execution_count": 47,
   "id": "52858ece-f1f0-46ed-887f-5e9f4d84650e",
   "metadata": {
    "executionInfo": {
     "elapsed": 257,
     "status": "ok",
     "timestamp": 1666143168997,
     "user": {
      "displayName": "Yuan An",
      "userId": "12279868416530647161"
     },
     "user_tz": 240
    },
    "id": "OoWE2iMqoXHJ"
   },
   "outputs": [],
   "source": [
    "pipe = pipeline(\n",
    "    task=\"fill-mask\",\n",
    "    model=model,\n",
    "    tokenizer=tokenizer,\n",
    "    top_k=100,\n",
    ")"
   ]
  },
  {
   "cell_type": "markdown",
   "id": "59175dfd-eba6-4658-851d-3103be68d58d",
   "metadata": {
    "id": "aWXu0sgCf4jA"
   },
   "source": [
    "## Run"
   ]
  },
  {
   "cell_type": "code",
   "execution_count": 48,
   "id": "32f25f68-08b2-4731-a359-4723b2d70d7b",
   "metadata": {},
   "outputs": [
    {
     "data": {
      "application/vnd.jupyter.widget-view+json": {
       "model_id": "fd07135be4ea4c8b9f13289a090b92eb",
       "version_major": 2,
       "version_minor": 0
      },
      "text/plain": [
       "  0%|          | 0/1795 [00:00<?, ?it/s]"
      ]
     },
     "metadata": {},
     "output_type": "display_data"
    },
    {
     "data": {
      "application/vnd.jupyter.widget-view+json": {
       "model_id": "7d7d172a845e4f749b2753fb28d7476b",
       "version_major": 2,
       "version_minor": 0
      },
      "text/plain": [
       "  0%|          | 0/1795 [00:00<?, ?it/s]"
      ]
     },
     "metadata": {},
     "output_type": "display_data"
    },
    {
     "data": {
      "application/vnd.jupyter.widget-view+json": {
       "model_id": "d3b8b2e14bf34419805c8503a028a579",
       "version_major": 2,
       "version_minor": 0
      },
      "text/plain": [
       "  0%|          | 0/1795 [00:00<?, ?it/s]"
      ]
     },
     "metadata": {},
     "output_type": "display_data"
    },
    {
     "data": {
      "application/vnd.jupyter.widget-view+json": {
       "model_id": "918127a057c74f5db6f29fef2f4c0367",
       "version_major": 2,
       "version_minor": 0
      },
      "text/plain": [
       "  0%|          | 0/1795 [00:00<?, ?it/s]"
      ]
     },
     "metadata": {},
     "output_type": "display_data"
    },
    {
     "data": {
      "application/vnd.jupyter.widget-view+json": {
       "model_id": "321fb3d8fe1f49c2a7980674a4810a13",
       "version_major": 2,
       "version_minor": 0
      },
      "text/plain": [
       "  0%|          | 0/1795 [00:00<?, ?it/s]"
      ]
     },
     "metadata": {},
     "output_type": "display_data"
    },
    {
     "data": {
      "application/vnd.jupyter.widget-view+json": {
       "model_id": "a3cb0893c9f24e2b850102cf084dd6b5",
       "version_major": 2,
       "version_minor": 0
      },
      "text/plain": [
       "  0%|          | 0/1795 [00:00<?, ?it/s]"
      ]
     },
     "metadata": {},
     "output_type": "display_data"
    },
    {
     "data": {
      "application/vnd.jupyter.widget-view+json": {
       "model_id": "3ddc344963d54c5e812e2f1fa2f2bf3a",
       "version_major": 2,
       "version_minor": 0
      },
      "text/plain": [
       "  0%|          | 0/1795 [00:00<?, ?it/s]"
      ]
     },
     "metadata": {},
     "output_type": "display_data"
    },
    {
     "data": {
      "application/vnd.jupyter.widget-view+json": {
       "model_id": "7983e3c2cb604503a5af0201dd084d70",
       "version_major": 2,
       "version_minor": 0
      },
      "text/plain": [
       "  0%|          | 0/1795 [00:00<?, ?it/s]"
      ]
     },
     "metadata": {},
     "output_type": "display_data"
    },
    {
     "data": {
      "application/vnd.jupyter.widget-view+json": {
       "model_id": "6080ffc09d684b7fb2f58f271c82ceed",
       "version_major": 2,
       "version_minor": 0
      },
      "text/plain": [
       "  0%|          | 0/1795 [00:00<?, ?it/s]"
      ]
     },
     "metadata": {},
     "output_type": "display_data"
    },
    {
     "data": {
      "application/vnd.jupyter.widget-view+json": {
       "model_id": "024e915a90e54119b52ed4e56eb5e515",
       "version_major": 2,
       "version_minor": 0
      },
      "text/plain": [
       "  0%|          | 0/1795 [00:00<?, ?it/s]"
      ]
     },
     "metadata": {},
     "output_type": "display_data"
    },
    {
     "data": {
      "application/vnd.jupyter.widget-view+json": {
       "model_id": "671f5922ebf441888280943aca18c6df",
       "version_major": 2,
       "version_minor": 0
      },
      "text/plain": [
       "  0%|          | 0/1795 [00:00<?, ?it/s]"
      ]
     },
     "metadata": {},
     "output_type": "display_data"
    },
    {
     "data": {
      "application/vnd.jupyter.widget-view+json": {
       "model_id": "24740dffe0834dfe9ebc8ac3a5d4e895",
       "version_major": 2,
       "version_minor": 0
      },
      "text/plain": [
       "  0%|          | 0/1795 [00:00<?, ?it/s]"
      ]
     },
     "metadata": {},
     "output_type": "display_data"
    },
    {
     "name": "stdout",
     "output_type": "stream",
     "text": [
      "CPU times: user 1h 32min 49s, sys: 21.1 s, total: 1h 33min 10s\n",
      "Wall time: 8min 21s\n"
     ]
    }
   ],
   "source": [
    "%%time\n",
    "acc_list = []\n",
    "atks = [1, 5, 10, 20, 50, 100]\n",
    "for processor in processors:\n",
    "    result_df = prompt_probe(model, tokenizer, processor, df, mask_token, \\\n",
    "                     'SubjectEntity', 'Relation', 'ObjectEntityName', top_k=100)\n",
    "    result_df['predicted'] = result_df.apply(hasPredicted, axis=1)\n",
    "\n",
    "    prompt_template = processor('{SubjectEntity}', 'hasMetals', '[MASK]')\n",
    "    for at_k in atks:\n",
    "        acc_df = evaluate_acc_n(result_df, 'hasMetals', prompt_template, at_k=at_k)\n",
    "        acc_list.append(acc_df)"
   ]
  },
  {
   "cell_type": "code",
   "execution_count": 49,
   "id": "f568b7bf-81b8-4f08-af4f-531b761c5c66",
   "metadata": {},
   "outputs": [],
   "source": [
    "hasMetals_df = pd.DataFrame(acc_list)"
   ]
  },
  {
   "cell_type": "code",
   "execution_count": 50,
   "id": "d3f0a06f-8f42-455a-9ecb-f319fb2450cf",
   "metadata": {
    "id": "EtAuhaBohBxO"
   },
   "outputs": [
    {
     "data": {
      "text/html": [
       "<div>\n",
       "<style scoped>\n",
       "    .dataframe tbody tr th:only-of-type {\n",
       "        vertical-align: middle;\n",
       "    }\n",
       "\n",
       "    .dataframe tbody tr th {\n",
       "        vertical-align: top;\n",
       "    }\n",
       "\n",
       "    .dataframe thead th {\n",
       "        text-align: right;\n",
       "    }\n",
       "</style>\n",
       "<table border=\"1\" class=\"dataframe\">\n",
       "  <thead>\n",
       "    <tr style=\"text-align: right;\">\n",
       "      <th></th>\n",
       "      <th>Relation</th>\n",
       "      <th>prompt_template</th>\n",
       "      <th>acc</th>\n",
       "      <th>at_k</th>\n",
       "    </tr>\n",
       "  </thead>\n",
       "  <tbody>\n",
       "    <tr>\n",
       "      <th>24</th>\n",
       "      <td>hasMetals</td>\n",
       "      <td>{SubjectEntity} is a MOF. {SubjectEntity} has SBU metal [MASK].</td>\n",
       "      <td>0.000000</td>\n",
       "      <td>1</td>\n",
       "    </tr>\n",
       "    <tr>\n",
       "      <th>34</th>\n",
       "      <td>hasMetals</td>\n",
       "      <td>{SubjectEntity} is MOF. {SubjectEntity} contains [MASK].</td>\n",
       "      <td>0.019324</td>\n",
       "      <td>50</td>\n",
       "    </tr>\n",
       "    <tr>\n",
       "      <th>31</th>\n",
       "      <td>hasMetals</td>\n",
       "      <td>{SubjectEntity} is MOF. {SubjectEntity} contains [MASK].</td>\n",
       "      <td>0.001610</td>\n",
       "      <td>5</td>\n",
       "    </tr>\n",
       "    <tr>\n",
       "      <th>41</th>\n",
       "      <td>hasMetals</td>\n",
       "      <td>{SubjectEntity} contains [MASK].</td>\n",
       "      <td>0.168277</td>\n",
       "      <td>100</td>\n",
       "    </tr>\n",
       "    <tr>\n",
       "      <th>64</th>\n",
       "      <td>hasMetals</td>\n",
       "      <td>{SubjectEntity} is a metal organic framework. {SubjectEntity} has SBU metal [MASK].</td>\n",
       "      <td>0.000000</td>\n",
       "      <td>50</td>\n",
       "    </tr>\n",
       "    <tr>\n",
       "      <th>52</th>\n",
       "      <td>hasMetals</td>\n",
       "      <td>The SBU of {SubjectEntity} is [MASK].</td>\n",
       "      <td>0.000000</td>\n",
       "      <td>50</td>\n",
       "    </tr>\n",
       "    <tr>\n",
       "      <th>39</th>\n",
       "      <td>hasMetals</td>\n",
       "      <td>{SubjectEntity} contains [MASK].</td>\n",
       "      <td>0.033816</td>\n",
       "      <td>20</td>\n",
       "    </tr>\n",
       "    <tr>\n",
       "      <th>19</th>\n",
       "      <td>hasMetals</td>\n",
       "      <td>As a metal organic framework, {SubjectEntity} contains an metal which is [MASK].</td>\n",
       "      <td>0.000805</td>\n",
       "      <td>5</td>\n",
       "    </tr>\n",
       "    <tr>\n",
       "      <th>20</th>\n",
       "      <td>hasMetals</td>\n",
       "      <td>As a metal organic framework, {SubjectEntity} contains an metal which is [MASK].</td>\n",
       "      <td>0.044283</td>\n",
       "      <td>10</td>\n",
       "    </tr>\n",
       "    <tr>\n",
       "      <th>15</th>\n",
       "      <td>hasMetals</td>\n",
       "      <td>{SubjectEntity} is a metal organic framework. {SubjectEntity} contains [MASK] which is an metal.</td>\n",
       "      <td>0.301127</td>\n",
       "      <td>20</td>\n",
       "    </tr>\n",
       "  </tbody>\n",
       "</table>\n",
       "</div>"
      ],
      "text/plain": [
       "     Relation  \\\n",
       "24  hasMetals   \n",
       "34  hasMetals   \n",
       "31  hasMetals   \n",
       "41  hasMetals   \n",
       "64  hasMetals   \n",
       "52  hasMetals   \n",
       "39  hasMetals   \n",
       "19  hasMetals   \n",
       "20  hasMetals   \n",
       "15  hasMetals   \n",
       "\n",
       "                                                                                     prompt_template  \\\n",
       "24                                   {SubjectEntity} is a MOF. {SubjectEntity} has SBU metal [MASK].   \n",
       "34                                          {SubjectEntity} is MOF. {SubjectEntity} contains [MASK].   \n",
       "31                                          {SubjectEntity} is MOF. {SubjectEntity} contains [MASK].   \n",
       "41                                                                  {SubjectEntity} contains [MASK].   \n",
       "64               {SubjectEntity} is a metal organic framework. {SubjectEntity} has SBU metal [MASK].   \n",
       "52                                                             The SBU of {SubjectEntity} is [MASK].   \n",
       "39                                                                  {SubjectEntity} contains [MASK].   \n",
       "19                  As a metal organic framework, {SubjectEntity} contains an metal which is [MASK].   \n",
       "20                  As a metal organic framework, {SubjectEntity} contains an metal which is [MASK].   \n",
       "15  {SubjectEntity} is a metal organic framework. {SubjectEntity} contains [MASK] which is an metal.   \n",
       "\n",
       "         acc  at_k  \n",
       "24  0.000000     1  \n",
       "34  0.019324    50  \n",
       "31  0.001610     5  \n",
       "41  0.168277   100  \n",
       "64  0.000000    50  \n",
       "52  0.000000    50  \n",
       "39  0.033816    20  \n",
       "19  0.000805     5  \n",
       "20  0.044283    10  \n",
       "15  0.301127    20  "
      ]
     },
     "execution_count": 50,
     "metadata": {},
     "output_type": "execute_result"
    }
   ],
   "source": [
    "hasMetals_df.sample(10)"
   ]
  },
  {
   "cell_type": "code",
   "execution_count": 51,
   "id": "4bc374ef-42db-48b4-851d-665c64f87191",
   "metadata": {},
   "outputs": [],
   "source": [
    "result_df.to_csv(\"../data/predicted_hasMetals_SciBERT.csv\", index=None)"
   ]
  },
  {
   "cell_type": "code",
   "execution_count": 52,
   "id": "6c263083-be61-4adf-bf5a-71974d0c6b85",
   "metadata": {},
   "outputs": [],
   "source": [
    "hasMetals_df.to_csv(\"../data/predicted_hasMetals_SciBERT_eval.csv\", index=None)"
   ]
  },
  {
   "cell_type": "code",
   "execution_count": 53,
   "id": "b7a56953-9561-446f-aec4-ed057de5632c",
   "metadata": {},
   "outputs": [
    {
     "data": {
      "text/html": [
       "<div>\n",
       "<style scoped>\n",
       "    .dataframe tbody tr th:only-of-type {\n",
       "        vertical-align: middle;\n",
       "    }\n",
       "\n",
       "    .dataframe tbody tr th {\n",
       "        vertical-align: top;\n",
       "    }\n",
       "\n",
       "    .dataframe thead th {\n",
       "        text-align: right;\n",
       "    }\n",
       "</style>\n",
       "<table border=\"1\" class=\"dataframe\">\n",
       "  <thead>\n",
       "    <tr style=\"text-align: right;\">\n",
       "      <th></th>\n",
       "      <th>Relation</th>\n",
       "      <th>prompt_template</th>\n",
       "      <th>acc</th>\n",
       "      <th>at_k</th>\n",
       "    </tr>\n",
       "  </thead>\n",
       "  <tbody>\n",
       "    <tr>\n",
       "      <th>66</th>\n",
       "      <td>hasMetals</td>\n",
       "      <td>[MASK] was used as metal center in the synthesized {SubjectEntity} material.</td>\n",
       "      <td>0.098229</td>\n",
       "      <td>1</td>\n",
       "    </tr>\n",
       "    <tr>\n",
       "      <th>0</th>\n",
       "      <td>hasMetals</td>\n",
       "      <td>{SubjectEntity} contains [MASK] which is an metal.</td>\n",
       "      <td>0.008052</td>\n",
       "      <td>1</td>\n",
       "    </tr>\n",
       "    <tr>\n",
       "      <th>12</th>\n",
       "      <td>hasMetals</td>\n",
       "      <td>{SubjectEntity} is a metal organic framework. {SubjectEntity} contains [MASK] which is an metal.</td>\n",
       "      <td>0.002415</td>\n",
       "      <td>1</td>\n",
       "    </tr>\n",
       "    <tr>\n",
       "      <th>36</th>\n",
       "      <td>hasMetals</td>\n",
       "      <td>{SubjectEntity} contains [MASK].</td>\n",
       "      <td>0.000805</td>\n",
       "      <td>1</td>\n",
       "    </tr>\n",
       "    <tr>\n",
       "      <th>6</th>\n",
       "      <td>hasMetals</td>\n",
       "      <td>{SubjectEntity} contains an metal which is [MASK].</td>\n",
       "      <td>0.000000</td>\n",
       "      <td>1</td>\n",
       "    </tr>\n",
       "    <tr>\n",
       "      <th>18</th>\n",
       "      <td>hasMetals</td>\n",
       "      <td>As a metal organic framework, {SubjectEntity} contains an metal which is [MASK].</td>\n",
       "      <td>0.000000</td>\n",
       "      <td>1</td>\n",
       "    </tr>\n",
       "    <tr>\n",
       "      <th>24</th>\n",
       "      <td>hasMetals</td>\n",
       "      <td>{SubjectEntity} is a MOF. {SubjectEntity} has SBU metal [MASK].</td>\n",
       "      <td>0.000000</td>\n",
       "      <td>1</td>\n",
       "    </tr>\n",
       "    <tr>\n",
       "      <th>30</th>\n",
       "      <td>hasMetals</td>\n",
       "      <td>{SubjectEntity} is MOF. {SubjectEntity} contains [MASK].</td>\n",
       "      <td>0.000000</td>\n",
       "      <td>1</td>\n",
       "    </tr>\n",
       "    <tr>\n",
       "      <th>42</th>\n",
       "      <td>hasMetals</td>\n",
       "      <td>{SubjectEntity} is a metal organic framework. {SubjectEntity} contains [MASK].</td>\n",
       "      <td>0.000000</td>\n",
       "      <td>1</td>\n",
       "    </tr>\n",
       "    <tr>\n",
       "      <th>48</th>\n",
       "      <td>hasMetals</td>\n",
       "      <td>The SBU of {SubjectEntity} is [MASK].</td>\n",
       "      <td>0.000000</td>\n",
       "      <td>1</td>\n",
       "    </tr>\n",
       "    <tr>\n",
       "      <th>54</th>\n",
       "      <td>hasMetals</td>\n",
       "      <td>{SubjectEntity} is a metal organic framework structure composed of metal cluster [MASK].</td>\n",
       "      <td>0.000000</td>\n",
       "      <td>1</td>\n",
       "    </tr>\n",
       "    <tr>\n",
       "      <th>60</th>\n",
       "      <td>hasMetals</td>\n",
       "      <td>{SubjectEntity} is a metal organic framework. {SubjectEntity} has SBU metal [MASK].</td>\n",
       "      <td>0.000000</td>\n",
       "      <td>1</td>\n",
       "    </tr>\n",
       "  </tbody>\n",
       "</table>\n",
       "</div>"
      ],
      "text/plain": [
       "     Relation  \\\n",
       "66  hasMetals   \n",
       "0   hasMetals   \n",
       "12  hasMetals   \n",
       "36  hasMetals   \n",
       "6   hasMetals   \n",
       "18  hasMetals   \n",
       "24  hasMetals   \n",
       "30  hasMetals   \n",
       "42  hasMetals   \n",
       "48  hasMetals   \n",
       "54  hasMetals   \n",
       "60  hasMetals   \n",
       "\n",
       "                                                                                     prompt_template  \\\n",
       "66                      [MASK] was used as metal center in the synthesized {SubjectEntity} material.   \n",
       "0                                                 {SubjectEntity} contains [MASK] which is an metal.   \n",
       "12  {SubjectEntity} is a metal organic framework. {SubjectEntity} contains [MASK] which is an metal.   \n",
       "36                                                                  {SubjectEntity} contains [MASK].   \n",
       "6                                                 {SubjectEntity} contains an metal which is [MASK].   \n",
       "18                  As a metal organic framework, {SubjectEntity} contains an metal which is [MASK].   \n",
       "24                                   {SubjectEntity} is a MOF. {SubjectEntity} has SBU metal [MASK].   \n",
       "30                                          {SubjectEntity} is MOF. {SubjectEntity} contains [MASK].   \n",
       "42                    {SubjectEntity} is a metal organic framework. {SubjectEntity} contains [MASK].   \n",
       "48                                                             The SBU of {SubjectEntity} is [MASK].   \n",
       "54          {SubjectEntity} is a metal organic framework structure composed of metal cluster [MASK].   \n",
       "60               {SubjectEntity} is a metal organic framework. {SubjectEntity} has SBU metal [MASK].   \n",
       "\n",
       "         acc  at_k  \n",
       "66  0.098229     1  \n",
       "0   0.008052     1  \n",
       "12  0.002415     1  \n",
       "36  0.000805     1  \n",
       "6   0.000000     1  \n",
       "18  0.000000     1  \n",
       "24  0.000000     1  \n",
       "30  0.000000     1  \n",
       "42  0.000000     1  \n",
       "48  0.000000     1  \n",
       "54  0.000000     1  \n",
       "60  0.000000     1  "
      ]
     },
     "execution_count": 53,
     "metadata": {},
     "output_type": "execute_result"
    }
   ],
   "source": [
    "hasMetals_df[hasMetals_df['at_k'] == 1].sort_values('acc', ascending=False)"
   ]
  },
  {
   "cell_type": "code",
   "execution_count": 54,
   "id": "39f6a3a5-8b36-480c-8780-b3ac3cebbc46",
   "metadata": {},
   "outputs": [
    {
     "data": {
      "text/html": [
       "<div>\n",
       "<style scoped>\n",
       "    .dataframe tbody tr th:only-of-type {\n",
       "        vertical-align: middle;\n",
       "    }\n",
       "\n",
       "    .dataframe tbody tr th {\n",
       "        vertical-align: top;\n",
       "    }\n",
       "\n",
       "    .dataframe thead th {\n",
       "        text-align: right;\n",
       "    }\n",
       "</style>\n",
       "<table border=\"1\" class=\"dataframe\">\n",
       "  <thead>\n",
       "    <tr style=\"text-align: right;\">\n",
       "      <th></th>\n",
       "      <th>Relation</th>\n",
       "      <th>prompt_template</th>\n",
       "      <th>acc</th>\n",
       "      <th>at_k</th>\n",
       "    </tr>\n",
       "  </thead>\n",
       "  <tbody>\n",
       "    <tr>\n",
       "      <th>71</th>\n",
       "      <td>hasMetals</td>\n",
       "      <td>[MASK] was used as metal center in the synthesized {SubjectEntity} material.</td>\n",
       "      <td>0.858293</td>\n",
       "      <td>100</td>\n",
       "    </tr>\n",
       "    <tr>\n",
       "      <th>17</th>\n",
       "      <td>hasMetals</td>\n",
       "      <td>{SubjectEntity} is a metal organic framework. {SubjectEntity} contains [MASK] which is an metal.</td>\n",
       "      <td>0.733494</td>\n",
       "      <td>100</td>\n",
       "    </tr>\n",
       "    <tr>\n",
       "      <th>70</th>\n",
       "      <td>hasMetals</td>\n",
       "      <td>[MASK] was used as metal center in the synthesized {SubjectEntity} material.</td>\n",
       "      <td>0.716586</td>\n",
       "      <td>50</td>\n",
       "    </tr>\n",
       "    <tr>\n",
       "      <th>5</th>\n",
       "      <td>hasMetals</td>\n",
       "      <td>{SubjectEntity} contains [MASK] which is an metal.</td>\n",
       "      <td>0.702899</td>\n",
       "      <td>100</td>\n",
       "    </tr>\n",
       "    <tr>\n",
       "      <th>23</th>\n",
       "      <td>hasMetals</td>\n",
       "      <td>As a metal organic framework, {SubjectEntity} contains an metal which is [MASK].</td>\n",
       "      <td>0.621578</td>\n",
       "      <td>100</td>\n",
       "    </tr>\n",
       "    <tr>\n",
       "      <th>...</th>\n",
       "      <td>...</td>\n",
       "      <td>...</td>\n",
       "      <td>...</td>\n",
       "      <td>...</td>\n",
       "    </tr>\n",
       "    <tr>\n",
       "      <th>52</th>\n",
       "      <td>hasMetals</td>\n",
       "      <td>The SBU of {SubjectEntity} is [MASK].</td>\n",
       "      <td>0.000000</td>\n",
       "      <td>50</td>\n",
       "    </tr>\n",
       "    <tr>\n",
       "      <th>51</th>\n",
       "      <td>hasMetals</td>\n",
       "      <td>The SBU of {SubjectEntity} is [MASK].</td>\n",
       "      <td>0.000000</td>\n",
       "      <td>20</td>\n",
       "    </tr>\n",
       "    <tr>\n",
       "      <th>50</th>\n",
       "      <td>hasMetals</td>\n",
       "      <td>The SBU of {SubjectEntity} is [MASK].</td>\n",
       "      <td>0.000000</td>\n",
       "      <td>10</td>\n",
       "    </tr>\n",
       "    <tr>\n",
       "      <th>49</th>\n",
       "      <td>hasMetals</td>\n",
       "      <td>The SBU of {SubjectEntity} is [MASK].</td>\n",
       "      <td>0.000000</td>\n",
       "      <td>5</td>\n",
       "    </tr>\n",
       "    <tr>\n",
       "      <th>55</th>\n",
       "      <td>hasMetals</td>\n",
       "      <td>{SubjectEntity} is a metal organic framework structure composed of metal cluster [MASK].</td>\n",
       "      <td>0.000000</td>\n",
       "      <td>5</td>\n",
       "    </tr>\n",
       "  </tbody>\n",
       "</table>\n",
       "<p>72 rows × 4 columns</p>\n",
       "</div>"
      ],
      "text/plain": [
       "     Relation  \\\n",
       "71  hasMetals   \n",
       "17  hasMetals   \n",
       "70  hasMetals   \n",
       "5   hasMetals   \n",
       "23  hasMetals   \n",
       "..        ...   \n",
       "52  hasMetals   \n",
       "51  hasMetals   \n",
       "50  hasMetals   \n",
       "49  hasMetals   \n",
       "55  hasMetals   \n",
       "\n",
       "                                                                                     prompt_template  \\\n",
       "71                      [MASK] was used as metal center in the synthesized {SubjectEntity} material.   \n",
       "17  {SubjectEntity} is a metal organic framework. {SubjectEntity} contains [MASK] which is an metal.   \n",
       "70                      [MASK] was used as metal center in the synthesized {SubjectEntity} material.   \n",
       "5                                                 {SubjectEntity} contains [MASK] which is an metal.   \n",
       "23                  As a metal organic framework, {SubjectEntity} contains an metal which is [MASK].   \n",
       "..                                                                                               ...   \n",
       "52                                                             The SBU of {SubjectEntity} is [MASK].   \n",
       "51                                                             The SBU of {SubjectEntity} is [MASK].   \n",
       "50                                                             The SBU of {SubjectEntity} is [MASK].   \n",
       "49                                                             The SBU of {SubjectEntity} is [MASK].   \n",
       "55          {SubjectEntity} is a metal organic framework structure composed of metal cluster [MASK].   \n",
       "\n",
       "         acc  at_k  \n",
       "71  0.858293   100  \n",
       "17  0.733494   100  \n",
       "70  0.716586    50  \n",
       "5   0.702899   100  \n",
       "23  0.621578   100  \n",
       "..       ...   ...  \n",
       "52  0.000000    50  \n",
       "51  0.000000    20  \n",
       "50  0.000000    10  \n",
       "49  0.000000     5  \n",
       "55  0.000000     5  \n",
       "\n",
       "[72 rows x 4 columns]"
      ]
     },
     "execution_count": 54,
     "metadata": {},
     "output_type": "execute_result"
    }
   ],
   "source": [
    "hasMetals_df.sort_values('acc', ascending=False)"
   ]
  },
  {
   "cell_type": "markdown",
   "id": "5d7b49c1-f5d7-49b0-ac15-ea4fa03b36c6",
   "metadata": {},
   "source": [
    "## Probing RoBERTa"
   ]
  },
  {
   "cell_type": "code",
   "execution_count": 55,
   "id": "9a1c9f77-493e-49ee-974a-3bbf6bdecd9f",
   "metadata": {},
   "outputs": [],
   "source": [
    "# RoBERTa\n",
    "tokenizer = AutoTokenizer.from_pretrained(\"roberta-large\")\n",
    "model = AutoModelForMaskedLM.from_pretrained(\"roberta-large\")"
   ]
  },
  {
   "cell_type": "code",
   "execution_count": 56,
   "id": "d98083f6-f285-4338-839c-d28d37b2471e",
   "metadata": {
    "colab": {
     "base_uri": "https://localhost:8080/",
     "height": 35
    },
    "executionInfo": {
     "elapsed": 519,
     "status": "ok",
     "timestamp": 1666143162640,
     "user": {
      "displayName": "Yuan An",
      "userId": "12279868416530647161"
     },
     "user_tz": 240
    },
    "id": "e46f8370-80b4-4f4d-88e0-94b3020a88ab",
    "outputId": "72cea969-0fc5-44ac-c92b-d5e8da4c6e40"
   },
   "outputs": [
    {
     "data": {
      "text/plain": [
       "'<mask>'"
      ]
     },
     "execution_count": 56,
     "metadata": {},
     "output_type": "execute_result"
    }
   ],
   "source": [
    "mask_token = tokenizer.mask_token\n",
    "mask_token"
   ]
  },
  {
   "cell_type": "markdown",
   "id": "e20f666a-7b98-43ad-b6a4-920c3deef28a",
   "metadata": {
    "id": "yccd3rTy16Yr"
   },
   "source": [
    "## Creat the Prompt Pipeline"
   ]
  },
  {
   "cell_type": "code",
   "execution_count": 57,
   "id": "65b918b6-96ee-4304-8f1b-dc85b6faa7d2",
   "metadata": {
    "executionInfo": {
     "elapsed": 257,
     "status": "ok",
     "timestamp": 1666143168997,
     "user": {
      "displayName": "Yuan An",
      "userId": "12279868416530647161"
     },
     "user_tz": 240
    },
    "id": "OoWE2iMqoXHJ"
   },
   "outputs": [],
   "source": [
    "pipe = pipeline(\n",
    "    task=\"fill-mask\",\n",
    "    model=model,\n",
    "    tokenizer=tokenizer,\n",
    "    top_k=100,\n",
    ")"
   ]
  },
  {
   "cell_type": "markdown",
   "id": "7eef9e5d-906e-4103-91c2-b95c25163642",
   "metadata": {
    "id": "aWXu0sgCf4jA"
   },
   "source": [
    "## Run"
   ]
  },
  {
   "cell_type": "code",
   "execution_count": 58,
   "id": "a09fbca6-bee0-4b7b-9de7-b94e6001c4bf",
   "metadata": {},
   "outputs": [
    {
     "data": {
      "application/vnd.jupyter.widget-view+json": {
       "model_id": "a4485a83b195467eb243d129ea24b615",
       "version_major": 2,
       "version_minor": 0
      },
      "text/plain": [
       "  0%|          | 0/1795 [00:00<?, ?it/s]"
      ]
     },
     "metadata": {},
     "output_type": "display_data"
    },
    {
     "data": {
      "application/vnd.jupyter.widget-view+json": {
       "model_id": "c94f7746236a4759b3914b6c74903378",
       "version_major": 2,
       "version_minor": 0
      },
      "text/plain": [
       "  0%|          | 0/1795 [00:00<?, ?it/s]"
      ]
     },
     "metadata": {},
     "output_type": "display_data"
    },
    {
     "data": {
      "application/vnd.jupyter.widget-view+json": {
       "model_id": "a203175ff3a848f99ff5371881257eca",
       "version_major": 2,
       "version_minor": 0
      },
      "text/plain": [
       "  0%|          | 0/1795 [00:00<?, ?it/s]"
      ]
     },
     "metadata": {},
     "output_type": "display_data"
    },
    {
     "data": {
      "application/vnd.jupyter.widget-view+json": {
       "model_id": "e3d80e80e6fc4f41bdac0d44f438e7e4",
       "version_major": 2,
       "version_minor": 0
      },
      "text/plain": [
       "  0%|          | 0/1795 [00:00<?, ?it/s]"
      ]
     },
     "metadata": {},
     "output_type": "display_data"
    },
    {
     "data": {
      "application/vnd.jupyter.widget-view+json": {
       "model_id": "ba487a905d2e4d07a97a61c3e41b3ec5",
       "version_major": 2,
       "version_minor": 0
      },
      "text/plain": [
       "  0%|          | 0/1795 [00:00<?, ?it/s]"
      ]
     },
     "metadata": {},
     "output_type": "display_data"
    },
    {
     "data": {
      "application/vnd.jupyter.widget-view+json": {
       "model_id": "67855fd4e62945578f56ae6a735ed0bf",
       "version_major": 2,
       "version_minor": 0
      },
      "text/plain": [
       "  0%|          | 0/1795 [00:00<?, ?it/s]"
      ]
     },
     "metadata": {},
     "output_type": "display_data"
    },
    {
     "data": {
      "application/vnd.jupyter.widget-view+json": {
       "model_id": "6a145c8bcf654c7d940a9325e21368fc",
       "version_major": 2,
       "version_minor": 0
      },
      "text/plain": [
       "  0%|          | 0/1795 [00:00<?, ?it/s]"
      ]
     },
     "metadata": {},
     "output_type": "display_data"
    },
    {
     "data": {
      "application/vnd.jupyter.widget-view+json": {
       "model_id": "b464c70bd3ed447aa4334a810350c50f",
       "version_major": 2,
       "version_minor": 0
      },
      "text/plain": [
       "  0%|          | 0/1795 [00:00<?, ?it/s]"
      ]
     },
     "metadata": {},
     "output_type": "display_data"
    },
    {
     "data": {
      "application/vnd.jupyter.widget-view+json": {
       "model_id": "57f38ae930b742d99063a39f26a707a5",
       "version_major": 2,
       "version_minor": 0
      },
      "text/plain": [
       "  0%|          | 0/1795 [00:00<?, ?it/s]"
      ]
     },
     "metadata": {},
     "output_type": "display_data"
    },
    {
     "data": {
      "application/vnd.jupyter.widget-view+json": {
       "model_id": "e79b708f566b4ea0b0e00c65c7381ff5",
       "version_major": 2,
       "version_minor": 0
      },
      "text/plain": [
       "  0%|          | 0/1795 [00:00<?, ?it/s]"
      ]
     },
     "metadata": {},
     "output_type": "display_data"
    },
    {
     "data": {
      "application/vnd.jupyter.widget-view+json": {
       "model_id": "a3ff6eddd7ba4eb69957c89e130b071c",
       "version_major": 2,
       "version_minor": 0
      },
      "text/plain": [
       "  0%|          | 0/1795 [00:00<?, ?it/s]"
      ]
     },
     "metadata": {},
     "output_type": "display_data"
    },
    {
     "data": {
      "application/vnd.jupyter.widget-view+json": {
       "model_id": "86e8110ffe5e46b4bd9e2f1ae69f186e",
       "version_major": 2,
       "version_minor": 0
      },
      "text/plain": [
       "  0%|          | 0/1795 [00:00<?, ?it/s]"
      ]
     },
     "metadata": {},
     "output_type": "display_data"
    },
    {
     "name": "stdout",
     "output_type": "stream",
     "text": [
      "CPU times: user 4h 7min 59s, sys: 9.64 s, total: 4h 8min 9s\n",
      "Wall time: 19min 21s\n"
     ]
    }
   ],
   "source": [
    "%%time\n",
    "acc_list = []\n",
    "atks = [1, 5, 10, 20, 50, 100]\n",
    "for processor in processors:\n",
    "    result_df = prompt_probe(model, tokenizer, processor, df, mask_token, \\\n",
    "                     'SubjectEntity', 'Relation', 'ObjectEntityName', top_k=100)\n",
    "    result_df['predicted'] = result_df.apply(hasPredicted, axis=1)\n",
    "\n",
    "    prompt_template = processor('{SubjectEntity}', 'hasMetals', '[MASK]')\n",
    "    for at_k in atks:\n",
    "        acc_df = evaluate_acc_n(result_df, 'hasMetals', prompt_template, at_k=at_k)\n",
    "        acc_list.append(acc_df)"
   ]
  },
  {
   "cell_type": "code",
   "execution_count": 59,
   "id": "e6898465-206c-40ed-973a-9b7578a57339",
   "metadata": {},
   "outputs": [],
   "source": [
    "hasMetals_df = pd.DataFrame(acc_list)"
   ]
  },
  {
   "cell_type": "code",
   "execution_count": 60,
   "id": "76d57739-4274-46ca-987f-dba1899ed347",
   "metadata": {
    "id": "EtAuhaBohBxO"
   },
   "outputs": [
    {
     "data": {
      "text/html": [
       "<div>\n",
       "<style scoped>\n",
       "    .dataframe tbody tr th:only-of-type {\n",
       "        vertical-align: middle;\n",
       "    }\n",
       "\n",
       "    .dataframe tbody tr th {\n",
       "        vertical-align: top;\n",
       "    }\n",
       "\n",
       "    .dataframe thead th {\n",
       "        text-align: right;\n",
       "    }\n",
       "</style>\n",
       "<table border=\"1\" class=\"dataframe\">\n",
       "  <thead>\n",
       "    <tr style=\"text-align: right;\">\n",
       "      <th></th>\n",
       "      <th>Relation</th>\n",
       "      <th>prompt_template</th>\n",
       "      <th>acc</th>\n",
       "      <th>at_k</th>\n",
       "    </tr>\n",
       "  </thead>\n",
       "  <tbody>\n",
       "    <tr>\n",
       "      <th>4</th>\n",
       "      <td>hasMetals</td>\n",
       "      <td>{SubjectEntity} contains [MASK] which is an metal.</td>\n",
       "      <td>0.000000</td>\n",
       "      <td>50</td>\n",
       "    </tr>\n",
       "    <tr>\n",
       "      <th>24</th>\n",
       "      <td>hasMetals</td>\n",
       "      <td>{SubjectEntity} is a MOF. {SubjectEntity} has SBU metal [MASK].</td>\n",
       "      <td>0.000000</td>\n",
       "      <td>1</td>\n",
       "    </tr>\n",
       "    <tr>\n",
       "      <th>22</th>\n",
       "      <td>hasMetals</td>\n",
       "      <td>As a metal organic framework, {SubjectEntity} contains an metal which is [MASK].</td>\n",
       "      <td>0.000000</td>\n",
       "      <td>50</td>\n",
       "    </tr>\n",
       "    <tr>\n",
       "      <th>46</th>\n",
       "      <td>hasMetals</td>\n",
       "      <td>{SubjectEntity} is a metal organic framework. {SubjectEntity} contains [MASK].</td>\n",
       "      <td>0.000000</td>\n",
       "      <td>50</td>\n",
       "    </tr>\n",
       "    <tr>\n",
       "      <th>60</th>\n",
       "      <td>hasMetals</td>\n",
       "      <td>{SubjectEntity} is a metal organic framework. {SubjectEntity} has SBU metal [MASK].</td>\n",
       "      <td>0.000000</td>\n",
       "      <td>1</td>\n",
       "    </tr>\n",
       "    <tr>\n",
       "      <th>5</th>\n",
       "      <td>hasMetals</td>\n",
       "      <td>{SubjectEntity} contains [MASK] which is an metal.</td>\n",
       "      <td>0.004831</td>\n",
       "      <td>100</td>\n",
       "    </tr>\n",
       "    <tr>\n",
       "      <th>63</th>\n",
       "      <td>hasMetals</td>\n",
       "      <td>{SubjectEntity} is a metal organic framework. {SubjectEntity} has SBU metal [MASK].</td>\n",
       "      <td>0.000000</td>\n",
       "      <td>20</td>\n",
       "    </tr>\n",
       "    <tr>\n",
       "      <th>44</th>\n",
       "      <td>hasMetals</td>\n",
       "      <td>{SubjectEntity} is a metal organic framework. {SubjectEntity} contains [MASK].</td>\n",
       "      <td>0.000000</td>\n",
       "      <td>10</td>\n",
       "    </tr>\n",
       "    <tr>\n",
       "      <th>25</th>\n",
       "      <td>hasMetals</td>\n",
       "      <td>{SubjectEntity} is a MOF. {SubjectEntity} has SBU metal [MASK].</td>\n",
       "      <td>0.000000</td>\n",
       "      <td>5</td>\n",
       "    </tr>\n",
       "    <tr>\n",
       "      <th>70</th>\n",
       "      <td>hasMetals</td>\n",
       "      <td>[MASK] was used as metal center in the synthesized {SubjectEntity} material.</td>\n",
       "      <td>0.211755</td>\n",
       "      <td>50</td>\n",
       "    </tr>\n",
       "  </tbody>\n",
       "</table>\n",
       "</div>"
      ],
      "text/plain": [
       "     Relation  \\\n",
       "4   hasMetals   \n",
       "24  hasMetals   \n",
       "22  hasMetals   \n",
       "46  hasMetals   \n",
       "60  hasMetals   \n",
       "5   hasMetals   \n",
       "63  hasMetals   \n",
       "44  hasMetals   \n",
       "25  hasMetals   \n",
       "70  hasMetals   \n",
       "\n",
       "                                                                        prompt_template  \\\n",
       "4                                    {SubjectEntity} contains [MASK] which is an metal.   \n",
       "24                      {SubjectEntity} is a MOF. {SubjectEntity} has SBU metal [MASK].   \n",
       "22     As a metal organic framework, {SubjectEntity} contains an metal which is [MASK].   \n",
       "46       {SubjectEntity} is a metal organic framework. {SubjectEntity} contains [MASK].   \n",
       "60  {SubjectEntity} is a metal organic framework. {SubjectEntity} has SBU metal [MASK].   \n",
       "5                                    {SubjectEntity} contains [MASK] which is an metal.   \n",
       "63  {SubjectEntity} is a metal organic framework. {SubjectEntity} has SBU metal [MASK].   \n",
       "44       {SubjectEntity} is a metal organic framework. {SubjectEntity} contains [MASK].   \n",
       "25                      {SubjectEntity} is a MOF. {SubjectEntity} has SBU metal [MASK].   \n",
       "70         [MASK] was used as metal center in the synthesized {SubjectEntity} material.   \n",
       "\n",
       "         acc  at_k  \n",
       "4   0.000000    50  \n",
       "24  0.000000     1  \n",
       "22  0.000000    50  \n",
       "46  0.000000    50  \n",
       "60  0.000000     1  \n",
       "5   0.004831   100  \n",
       "63  0.000000    20  \n",
       "44  0.000000    10  \n",
       "25  0.000000     5  \n",
       "70  0.211755    50  "
      ]
     },
     "execution_count": 60,
     "metadata": {},
     "output_type": "execute_result"
    }
   ],
   "source": [
    "hasMetals_df.sample(10)"
   ]
  },
  {
   "cell_type": "code",
   "execution_count": 61,
   "id": "eb9b9a2b-6f6c-4c95-b02b-36c90b9b8a81",
   "metadata": {},
   "outputs": [],
   "source": [
    "result_df.to_csv(\"../data/predicted_hasMetals_RoBERTa.csv\", index=None)"
   ]
  },
  {
   "cell_type": "code",
   "execution_count": 62,
   "id": "cec2f151-b202-4f8d-82c8-2f4b7a3e3904",
   "metadata": {},
   "outputs": [],
   "source": [
    "hasMetals_df.to_csv(\"../data/predicted_hasMetals_RoBERTa_eval.csv\", index=None)"
   ]
  },
  {
   "cell_type": "code",
   "execution_count": 63,
   "id": "c00bb535-f7a1-4cb6-9185-c0f23e5075aa",
   "metadata": {},
   "outputs": [
    {
     "data": {
      "text/html": [
       "<div>\n",
       "<style scoped>\n",
       "    .dataframe tbody tr th:only-of-type {\n",
       "        vertical-align: middle;\n",
       "    }\n",
       "\n",
       "    .dataframe tbody tr th {\n",
       "        vertical-align: top;\n",
       "    }\n",
       "\n",
       "    .dataframe thead th {\n",
       "        text-align: right;\n",
       "    }\n",
       "</style>\n",
       "<table border=\"1\" class=\"dataframe\">\n",
       "  <thead>\n",
       "    <tr style=\"text-align: right;\">\n",
       "      <th></th>\n",
       "      <th>Relation</th>\n",
       "      <th>prompt_template</th>\n",
       "      <th>acc</th>\n",
       "      <th>at_k</th>\n",
       "    </tr>\n",
       "  </thead>\n",
       "  <tbody>\n",
       "    <tr>\n",
       "      <th>66</th>\n",
       "      <td>hasMetals</td>\n",
       "      <td>[MASK] was used as metal center in the synthesized {SubjectEntity} material.</td>\n",
       "      <td>0.012077</td>\n",
       "      <td>1</td>\n",
       "    </tr>\n",
       "    <tr>\n",
       "      <th>0</th>\n",
       "      <td>hasMetals</td>\n",
       "      <td>{SubjectEntity} contains [MASK] which is an metal.</td>\n",
       "      <td>0.000000</td>\n",
       "      <td>1</td>\n",
       "    </tr>\n",
       "    <tr>\n",
       "      <th>6</th>\n",
       "      <td>hasMetals</td>\n",
       "      <td>{SubjectEntity} contains an metal which is [MASK].</td>\n",
       "      <td>0.000000</td>\n",
       "      <td>1</td>\n",
       "    </tr>\n",
       "    <tr>\n",
       "      <th>12</th>\n",
       "      <td>hasMetals</td>\n",
       "      <td>{SubjectEntity} is a metal organic framework. {SubjectEntity} contains [MASK] which is an metal.</td>\n",
       "      <td>0.000000</td>\n",
       "      <td>1</td>\n",
       "    </tr>\n",
       "    <tr>\n",
       "      <th>18</th>\n",
       "      <td>hasMetals</td>\n",
       "      <td>As a metal organic framework, {SubjectEntity} contains an metal which is [MASK].</td>\n",
       "      <td>0.000000</td>\n",
       "      <td>1</td>\n",
       "    </tr>\n",
       "    <tr>\n",
       "      <th>24</th>\n",
       "      <td>hasMetals</td>\n",
       "      <td>{SubjectEntity} is a MOF. {SubjectEntity} has SBU metal [MASK].</td>\n",
       "      <td>0.000000</td>\n",
       "      <td>1</td>\n",
       "    </tr>\n",
       "    <tr>\n",
       "      <th>30</th>\n",
       "      <td>hasMetals</td>\n",
       "      <td>{SubjectEntity} is MOF. {SubjectEntity} contains [MASK].</td>\n",
       "      <td>0.000000</td>\n",
       "      <td>1</td>\n",
       "    </tr>\n",
       "    <tr>\n",
       "      <th>36</th>\n",
       "      <td>hasMetals</td>\n",
       "      <td>{SubjectEntity} contains [MASK].</td>\n",
       "      <td>0.000000</td>\n",
       "      <td>1</td>\n",
       "    </tr>\n",
       "    <tr>\n",
       "      <th>42</th>\n",
       "      <td>hasMetals</td>\n",
       "      <td>{SubjectEntity} is a metal organic framework. {SubjectEntity} contains [MASK].</td>\n",
       "      <td>0.000000</td>\n",
       "      <td>1</td>\n",
       "    </tr>\n",
       "    <tr>\n",
       "      <th>48</th>\n",
       "      <td>hasMetals</td>\n",
       "      <td>The SBU of {SubjectEntity} is [MASK].</td>\n",
       "      <td>0.000000</td>\n",
       "      <td>1</td>\n",
       "    </tr>\n",
       "    <tr>\n",
       "      <th>54</th>\n",
       "      <td>hasMetals</td>\n",
       "      <td>{SubjectEntity} is a metal organic framework structure composed of metal cluster [MASK].</td>\n",
       "      <td>0.000000</td>\n",
       "      <td>1</td>\n",
       "    </tr>\n",
       "    <tr>\n",
       "      <th>60</th>\n",
       "      <td>hasMetals</td>\n",
       "      <td>{SubjectEntity} is a metal organic framework. {SubjectEntity} has SBU metal [MASK].</td>\n",
       "      <td>0.000000</td>\n",
       "      <td>1</td>\n",
       "    </tr>\n",
       "  </tbody>\n",
       "</table>\n",
       "</div>"
      ],
      "text/plain": [
       "     Relation  \\\n",
       "66  hasMetals   \n",
       "0   hasMetals   \n",
       "6   hasMetals   \n",
       "12  hasMetals   \n",
       "18  hasMetals   \n",
       "24  hasMetals   \n",
       "30  hasMetals   \n",
       "36  hasMetals   \n",
       "42  hasMetals   \n",
       "48  hasMetals   \n",
       "54  hasMetals   \n",
       "60  hasMetals   \n",
       "\n",
       "                                                                                     prompt_template  \\\n",
       "66                      [MASK] was used as metal center in the synthesized {SubjectEntity} material.   \n",
       "0                                                 {SubjectEntity} contains [MASK] which is an metal.   \n",
       "6                                                 {SubjectEntity} contains an metal which is [MASK].   \n",
       "12  {SubjectEntity} is a metal organic framework. {SubjectEntity} contains [MASK] which is an metal.   \n",
       "18                  As a metal organic framework, {SubjectEntity} contains an metal which is [MASK].   \n",
       "24                                   {SubjectEntity} is a MOF. {SubjectEntity} has SBU metal [MASK].   \n",
       "30                                          {SubjectEntity} is MOF. {SubjectEntity} contains [MASK].   \n",
       "36                                                                  {SubjectEntity} contains [MASK].   \n",
       "42                    {SubjectEntity} is a metal organic framework. {SubjectEntity} contains [MASK].   \n",
       "48                                                             The SBU of {SubjectEntity} is [MASK].   \n",
       "54          {SubjectEntity} is a metal organic framework structure composed of metal cluster [MASK].   \n",
       "60               {SubjectEntity} is a metal organic framework. {SubjectEntity} has SBU metal [MASK].   \n",
       "\n",
       "         acc  at_k  \n",
       "66  0.012077     1  \n",
       "0   0.000000     1  \n",
       "6   0.000000     1  \n",
       "12  0.000000     1  \n",
       "18  0.000000     1  \n",
       "24  0.000000     1  \n",
       "30  0.000000     1  \n",
       "36  0.000000     1  \n",
       "42  0.000000     1  \n",
       "48  0.000000     1  \n",
       "54  0.000000     1  \n",
       "60  0.000000     1  "
      ]
     },
     "execution_count": 63,
     "metadata": {},
     "output_type": "execute_result"
    }
   ],
   "source": [
    "hasMetals_df[hasMetals_df['at_k'] == 1].sort_values('acc', ascending=False)"
   ]
  },
  {
   "cell_type": "code",
   "execution_count": 64,
   "id": "abe12c8a-a813-40a5-b03e-ec5d8a3f78d6",
   "metadata": {},
   "outputs": [
    {
     "data": {
      "text/html": [
       "<div>\n",
       "<style scoped>\n",
       "    .dataframe tbody tr th:only-of-type {\n",
       "        vertical-align: middle;\n",
       "    }\n",
       "\n",
       "    .dataframe tbody tr th {\n",
       "        vertical-align: top;\n",
       "    }\n",
       "\n",
       "    .dataframe thead th {\n",
       "        text-align: right;\n",
       "    }\n",
       "</style>\n",
       "<table border=\"1\" class=\"dataframe\">\n",
       "  <thead>\n",
       "    <tr style=\"text-align: right;\">\n",
       "      <th></th>\n",
       "      <th>Relation</th>\n",
       "      <th>prompt_template</th>\n",
       "      <th>acc</th>\n",
       "      <th>at_k</th>\n",
       "    </tr>\n",
       "  </thead>\n",
       "  <tbody>\n",
       "    <tr>\n",
       "      <th>71</th>\n",
       "      <td>hasMetals</td>\n",
       "      <td>[MASK] was used as metal center in the synthesized {SubjectEntity} material.</td>\n",
       "      <td>0.475040</td>\n",
       "      <td>100</td>\n",
       "    </tr>\n",
       "    <tr>\n",
       "      <th>70</th>\n",
       "      <td>hasMetals</td>\n",
       "      <td>[MASK] was used as metal center in the synthesized {SubjectEntity} material.</td>\n",
       "      <td>0.211755</td>\n",
       "      <td>50</td>\n",
       "    </tr>\n",
       "    <tr>\n",
       "      <th>69</th>\n",
       "      <td>hasMetals</td>\n",
       "      <td>[MASK] was used as metal center in the synthesized {SubjectEntity} material.</td>\n",
       "      <td>0.105475</td>\n",
       "      <td>20</td>\n",
       "    </tr>\n",
       "    <tr>\n",
       "      <th>68</th>\n",
       "      <td>hasMetals</td>\n",
       "      <td>[MASK] was used as metal center in the synthesized {SubjectEntity} material.</td>\n",
       "      <td>0.093398</td>\n",
       "      <td>10</td>\n",
       "    </tr>\n",
       "    <tr>\n",
       "      <th>67</th>\n",
       "      <td>hasMetals</td>\n",
       "      <td>[MASK] was used as metal center in the synthesized {SubjectEntity} material.</td>\n",
       "      <td>0.062802</td>\n",
       "      <td>5</td>\n",
       "    </tr>\n",
       "    <tr>\n",
       "      <th>...</th>\n",
       "      <td>...</td>\n",
       "      <td>...</td>\n",
       "      <td>...</td>\n",
       "      <td>...</td>\n",
       "    </tr>\n",
       "    <tr>\n",
       "      <th>32</th>\n",
       "      <td>hasMetals</td>\n",
       "      <td>{SubjectEntity} is MOF. {SubjectEntity} contains [MASK].</td>\n",
       "      <td>0.000000</td>\n",
       "      <td>10</td>\n",
       "    </tr>\n",
       "    <tr>\n",
       "      <th>33</th>\n",
       "      <td>hasMetals</td>\n",
       "      <td>{SubjectEntity} is MOF. {SubjectEntity} contains [MASK].</td>\n",
       "      <td>0.000000</td>\n",
       "      <td>20</td>\n",
       "    </tr>\n",
       "    <tr>\n",
       "      <th>34</th>\n",
       "      <td>hasMetals</td>\n",
       "      <td>{SubjectEntity} is MOF. {SubjectEntity} contains [MASK].</td>\n",
       "      <td>0.000000</td>\n",
       "      <td>50</td>\n",
       "    </tr>\n",
       "    <tr>\n",
       "      <th>35</th>\n",
       "      <td>hasMetals</td>\n",
       "      <td>{SubjectEntity} is MOF. {SubjectEntity} contains [MASK].</td>\n",
       "      <td>0.000000</td>\n",
       "      <td>100</td>\n",
       "    </tr>\n",
       "    <tr>\n",
       "      <th>36</th>\n",
       "      <td>hasMetals</td>\n",
       "      <td>{SubjectEntity} contains [MASK].</td>\n",
       "      <td>0.000000</td>\n",
       "      <td>1</td>\n",
       "    </tr>\n",
       "  </tbody>\n",
       "</table>\n",
       "<p>72 rows × 4 columns</p>\n",
       "</div>"
      ],
      "text/plain": [
       "     Relation  \\\n",
       "71  hasMetals   \n",
       "70  hasMetals   \n",
       "69  hasMetals   \n",
       "68  hasMetals   \n",
       "67  hasMetals   \n",
       "..        ...   \n",
       "32  hasMetals   \n",
       "33  hasMetals   \n",
       "34  hasMetals   \n",
       "35  hasMetals   \n",
       "36  hasMetals   \n",
       "\n",
       "                                                                 prompt_template  \\\n",
       "71  [MASK] was used as metal center in the synthesized {SubjectEntity} material.   \n",
       "70  [MASK] was used as metal center in the synthesized {SubjectEntity} material.   \n",
       "69  [MASK] was used as metal center in the synthesized {SubjectEntity} material.   \n",
       "68  [MASK] was used as metal center in the synthesized {SubjectEntity} material.   \n",
       "67  [MASK] was used as metal center in the synthesized {SubjectEntity} material.   \n",
       "..                                                                           ...   \n",
       "32                      {SubjectEntity} is MOF. {SubjectEntity} contains [MASK].   \n",
       "33                      {SubjectEntity} is MOF. {SubjectEntity} contains [MASK].   \n",
       "34                      {SubjectEntity} is MOF. {SubjectEntity} contains [MASK].   \n",
       "35                      {SubjectEntity} is MOF. {SubjectEntity} contains [MASK].   \n",
       "36                                              {SubjectEntity} contains [MASK].   \n",
       "\n",
       "         acc  at_k  \n",
       "71  0.475040   100  \n",
       "70  0.211755    50  \n",
       "69  0.105475    20  \n",
       "68  0.093398    10  \n",
       "67  0.062802     5  \n",
       "..       ...   ...  \n",
       "32  0.000000    10  \n",
       "33  0.000000    20  \n",
       "34  0.000000    50  \n",
       "35  0.000000   100  \n",
       "36  0.000000     1  \n",
       "\n",
       "[72 rows x 4 columns]"
      ]
     },
     "execution_count": 64,
     "metadata": {},
     "output_type": "execute_result"
    }
   ],
   "source": [
    "hasMetals_df.sort_values('acc', ascending=False)"
   ]
  },
  {
   "cell_type": "code",
   "execution_count": null,
   "id": "3f22b669-4c68-4e50-b752-afaa0ab4fa14",
   "metadata": {},
   "outputs": [],
   "source": []
  }
 ],
 "metadata": {
  "colab": {
   "collapsed_sections": [],
   "provenance": []
  },
  "kernelspec": {
   "display_name": "kglab",
   "language": "python",
   "name": "kglab"
  },
  "language_info": {
   "codemirror_mode": {
    "name": "ipython",
    "version": 3
   },
   "file_extension": ".py",
   "mimetype": "text/x-python",
   "name": "python",
   "nbconvert_exporter": "python",
   "pygments_lexer": "ipython3",
   "version": "3.7.0"
  },
  "widgets": {
   "application/vnd.jupyter.widget-state+json": {
    "011a3c0193ca4d07bf0b2f40be1ea73e": {
     "model_module": "@jupyter-widgets/base",
     "model_module_version": "1.2.0",
     "model_name": "LayoutModel",
     "state": {
      "_model_module": "@jupyter-widgets/base",
      "_model_module_version": "1.2.0",
      "_model_name": "LayoutModel",
      "_view_count": null,
      "_view_module": "@jupyter-widgets/base",
      "_view_module_version": "1.2.0",
      "_view_name": "LayoutView",
      "align_content": null,
      "align_items": null,
      "align_self": null,
      "border": null,
      "bottom": null,
      "display": null,
      "flex": null,
      "flex_flow": null,
      "grid_area": null,
      "grid_auto_columns": null,
      "grid_auto_flow": null,
      "grid_auto_rows": null,
      "grid_column": null,
      "grid_gap": null,
      "grid_row": null,
      "grid_template_areas": null,
      "grid_template_columns": null,
      "grid_template_rows": null,
      "height": null,
      "justify_content": null,
      "justify_items": null,
      "left": null,
      "margin": null,
      "max_height": null,
      "max_width": null,
      "min_height": null,
      "min_width": null,
      "object_fit": null,
      "object_position": null,
      "order": null,
      "overflow": null,
      "overflow_x": null,
      "overflow_y": null,
      "padding": null,
      "right": null,
      "top": null,
      "visibility": null,
      "width": null
     }
    },
    "03cee89315b54d7eb04a5f7cecc39993": {
     "model_module": "@jupyter-widgets/controls",
     "model_module_version": "1.5.0",
     "model_name": "DescriptionStyleModel",
     "state": {
      "_model_module": "@jupyter-widgets/controls",
      "_model_module_version": "1.5.0",
      "_model_name": "DescriptionStyleModel",
      "_view_count": null,
      "_view_module": "@jupyter-widgets/base",
      "_view_module_version": "1.2.0",
      "_view_name": "StyleView",
      "description_width": ""
     }
    },
    "0680fe3809c24764b0a9703f51f3efd3": {
     "model_module": "@jupyter-widgets/base",
     "model_module_version": "1.2.0",
     "model_name": "LayoutModel",
     "state": {
      "_model_module": "@jupyter-widgets/base",
      "_model_module_version": "1.2.0",
      "_model_name": "LayoutModel",
      "_view_count": null,
      "_view_module": "@jupyter-widgets/base",
      "_view_module_version": "1.2.0",
      "_view_name": "LayoutView",
      "align_content": null,
      "align_items": null,
      "align_self": null,
      "border": null,
      "bottom": null,
      "display": null,
      "flex": null,
      "flex_flow": null,
      "grid_area": null,
      "grid_auto_columns": null,
      "grid_auto_flow": null,
      "grid_auto_rows": null,
      "grid_column": null,
      "grid_gap": null,
      "grid_row": null,
      "grid_template_areas": null,
      "grid_template_columns": null,
      "grid_template_rows": null,
      "height": null,
      "justify_content": null,
      "justify_items": null,
      "left": null,
      "margin": null,
      "max_height": null,
      "max_width": null,
      "min_height": null,
      "min_width": null,
      "object_fit": null,
      "object_position": null,
      "order": null,
      "overflow": null,
      "overflow_x": null,
      "overflow_y": null,
      "padding": null,
      "right": null,
      "top": null,
      "visibility": null,
      "width": null
     }
    },
    "073a2eb6c91b4cf39f9bbe90908d6f9b": {
     "model_module": "@jupyter-widgets/base",
     "model_module_version": "1.2.0",
     "model_name": "LayoutModel",
     "state": {
      "_model_module": "@jupyter-widgets/base",
      "_model_module_version": "1.2.0",
      "_model_name": "LayoutModel",
      "_view_count": null,
      "_view_module": "@jupyter-widgets/base",
      "_view_module_version": "1.2.0",
      "_view_name": "LayoutView",
      "align_content": null,
      "align_items": null,
      "align_self": null,
      "border": null,
      "bottom": null,
      "display": null,
      "flex": null,
      "flex_flow": null,
      "grid_area": null,
      "grid_auto_columns": null,
      "grid_auto_flow": null,
      "grid_auto_rows": null,
      "grid_column": null,
      "grid_gap": null,
      "grid_row": null,
      "grid_template_areas": null,
      "grid_template_columns": null,
      "grid_template_rows": null,
      "height": null,
      "justify_content": null,
      "justify_items": null,
      "left": null,
      "margin": null,
      "max_height": null,
      "max_width": null,
      "min_height": null,
      "min_width": null,
      "object_fit": null,
      "object_position": null,
      "order": null,
      "overflow": null,
      "overflow_x": null,
      "overflow_y": null,
      "padding": null,
      "right": null,
      "top": null,
      "visibility": null,
      "width": null
     }
    },
    "07aa1578b2c044898b28852c94ecadfb": {
     "model_module": "@jupyter-widgets/controls",
     "model_module_version": "1.5.0",
     "model_name": "HTMLModel",
     "state": {
      "_dom_classes": [],
      "_model_module": "@jupyter-widgets/controls",
      "_model_module_version": "1.5.0",
      "_model_name": "HTMLModel",
      "_view_count": null,
      "_view_module": "@jupyter-widgets/controls",
      "_view_module_version": "1.5.0",
      "_view_name": "HTMLView",
      "description": "",
      "description_tooltip": null,
      "layout": "IPY_MODEL_6c1efed1664742c4b24ce2229158716a",
      "placeholder": "​",
      "style": "IPY_MODEL_4be83a744e8249c3abccf54e6ebda30a",
      "value": "Downloading: 100%"
     }
    },
    "0c332e682cf1497a9c9d3ce459da76ab": {
     "model_module": "@jupyter-widgets/base",
     "model_module_version": "1.2.0",
     "model_name": "LayoutModel",
     "state": {
      "_model_module": "@jupyter-widgets/base",
      "_model_module_version": "1.2.0",
      "_model_name": "LayoutModel",
      "_view_count": null,
      "_view_module": "@jupyter-widgets/base",
      "_view_module_version": "1.2.0",
      "_view_name": "LayoutView",
      "align_content": null,
      "align_items": null,
      "align_self": null,
      "border": null,
      "bottom": null,
      "display": null,
      "flex": null,
      "flex_flow": null,
      "grid_area": null,
      "grid_auto_columns": null,
      "grid_auto_flow": null,
      "grid_auto_rows": null,
      "grid_column": null,
      "grid_gap": null,
      "grid_row": null,
      "grid_template_areas": null,
      "grid_template_columns": null,
      "grid_template_rows": null,
      "height": null,
      "justify_content": null,
      "justify_items": null,
      "left": null,
      "margin": null,
      "max_height": null,
      "max_width": null,
      "min_height": null,
      "min_width": null,
      "object_fit": null,
      "object_position": null,
      "order": null,
      "overflow": null,
      "overflow_x": null,
      "overflow_y": null,
      "padding": null,
      "right": null,
      "top": null,
      "visibility": null,
      "width": null
     }
    },
    "12b4f7a401fe4467ab20c5898fb2a8b7": {
     "model_module": "@jupyter-widgets/controls",
     "model_module_version": "1.5.0",
     "model_name": "HBoxModel",
     "state": {
      "_dom_classes": [],
      "_model_module": "@jupyter-widgets/controls",
      "_model_module_version": "1.5.0",
      "_model_name": "HBoxModel",
      "_view_count": null,
      "_view_module": "@jupyter-widgets/controls",
      "_view_module_version": "1.5.0",
      "_view_name": "HBoxView",
      "box_style": "",
      "children": [
       "IPY_MODEL_4497399c3daa4e77af0b5f19ee9f04ce",
       "IPY_MODEL_d37a8e212602406f80f6e95070ce782d",
       "IPY_MODEL_231be8066c064fcdac7e38d54c68ac6b"
      ],
      "layout": "IPY_MODEL_d890850a37d84eafb78e21f24692f69b"
     }
    },
    "15c8cbc7b93d4cc8a8dad13afebf0768": {
     "model_module": "@jupyter-widgets/controls",
     "model_module_version": "1.5.0",
     "model_name": "DescriptionStyleModel",
     "state": {
      "_model_module": "@jupyter-widgets/controls",
      "_model_module_version": "1.5.0",
      "_model_name": "DescriptionStyleModel",
      "_view_count": null,
      "_view_module": "@jupyter-widgets/base",
      "_view_module_version": "1.2.0",
      "_view_name": "StyleView",
      "description_width": ""
     }
    },
    "1a3cdcbc0ae745ecab09ff309ba63fdd": {
     "model_module": "@jupyter-widgets/controls",
     "model_module_version": "1.5.0",
     "model_name": "DescriptionStyleModel",
     "state": {
      "_model_module": "@jupyter-widgets/controls",
      "_model_module_version": "1.5.0",
      "_model_name": "DescriptionStyleModel",
      "_view_count": null,
      "_view_module": "@jupyter-widgets/base",
      "_view_module_version": "1.2.0",
      "_view_name": "StyleView",
      "description_width": ""
     }
    },
    "231be8066c064fcdac7e38d54c68ac6b": {
     "model_module": "@jupyter-widgets/controls",
     "model_module_version": "1.5.0",
     "model_name": "HTMLModel",
     "state": {
      "_dom_classes": [],
      "_model_module": "@jupyter-widgets/controls",
      "_model_module_version": "1.5.0",
      "_model_name": "HTMLModel",
      "_view_count": null,
      "_view_module": "@jupyter-widgets/controls",
      "_view_module_version": "1.5.0",
      "_view_name": "HTMLView",
      "description": "",
      "description_tooltip": null,
      "layout": "IPY_MODEL_600162a8775d4b1c94edcdb58e60d37d",
      "placeholder": "​",
      "style": "IPY_MODEL_cc61ce233e7942f9bdaa871e1692555b",
      "value": " 762/762 [00:00&lt;00:00, 5.77kB/s]"
     }
    },
    "2495ccb30e2d4fcd9b783e5a98adcade": {
     "model_module": "@jupyter-widgets/controls",
     "model_module_version": "1.5.0",
     "model_name": "DescriptionStyleModel",
     "state": {
      "_model_module": "@jupyter-widgets/controls",
      "_model_module_version": "1.5.0",
      "_model_name": "DescriptionStyleModel",
      "_view_count": null,
      "_view_module": "@jupyter-widgets/base",
      "_view_module_version": "1.2.0",
      "_view_name": "StyleView",
      "description_width": ""
     }
    },
    "26c1b472040f4b7eb6e47816bf6b1a11": {
     "model_module": "@jupyter-widgets/controls",
     "model_module_version": "1.5.0",
     "model_name": "HTMLModel",
     "state": {
      "_dom_classes": [],
      "_model_module": "@jupyter-widgets/controls",
      "_model_module_version": "1.5.0",
      "_model_name": "HTMLModel",
      "_view_count": null,
      "_view_module": "@jupyter-widgets/controls",
      "_view_module_version": "1.5.0",
      "_view_name": "HTMLView",
      "description": "",
      "description_tooltip": null,
      "layout": "IPY_MODEL_0c332e682cf1497a9c9d3ce459da76ab",
      "placeholder": "​",
      "style": "IPY_MODEL_bd3ad1443d9841f7bfff54616e5fd65f",
      "value": "Downloading: 100%"
     }
    },
    "2baa8030444e47e8bea45be2d69527ef": {
     "model_module": "@jupyter-widgets/base",
     "model_module_version": "1.2.0",
     "model_name": "LayoutModel",
     "state": {
      "_model_module": "@jupyter-widgets/base",
      "_model_module_version": "1.2.0",
      "_model_name": "LayoutModel",
      "_view_count": null,
      "_view_module": "@jupyter-widgets/base",
      "_view_module_version": "1.2.0",
      "_view_name": "LayoutView",
      "align_content": null,
      "align_items": null,
      "align_self": null,
      "border": null,
      "bottom": null,
      "display": null,
      "flex": null,
      "flex_flow": null,
      "grid_area": null,
      "grid_auto_columns": null,
      "grid_auto_flow": null,
      "grid_auto_rows": null,
      "grid_column": null,
      "grid_gap": null,
      "grid_row": null,
      "grid_template_areas": null,
      "grid_template_columns": null,
      "grid_template_rows": null,
      "height": null,
      "justify_content": null,
      "justify_items": null,
      "left": null,
      "margin": null,
      "max_height": null,
      "max_width": null,
      "min_height": null,
      "min_width": null,
      "object_fit": null,
      "object_position": null,
      "order": null,
      "overflow": null,
      "overflow_x": null,
      "overflow_y": null,
      "padding": null,
      "right": null,
      "top": null,
      "visibility": null,
      "width": null
     }
    },
    "2ee792fdcb2748819e3d914fbfca7462": {
     "model_module": "@jupyter-widgets/controls",
     "model_module_version": "1.5.0",
     "model_name": "HTMLModel",
     "state": {
      "_dom_classes": [],
      "_model_module": "@jupyter-widgets/controls",
      "_model_module_version": "1.5.0",
      "_model_name": "HTMLModel",
      "_view_count": null,
      "_view_module": "@jupyter-widgets/controls",
      "_view_module_version": "1.5.0",
      "_view_name": "HTMLView",
      "description": "",
      "description_tooltip": null,
      "layout": "IPY_MODEL_85db2055d1b148c3b7415da1ce956020",
      "placeholder": "​",
      "style": "IPY_MODEL_39f2763abc36459b92f5a0884c3d84ac",
      "value": " 10/10 [00:11&lt;00:00,  1.00s/it]"
     }
    },
    "34c8437daef041148b8193d17865e01d": {
     "model_module": "@jupyter-widgets/base",
     "model_module_version": "1.2.0",
     "model_name": "LayoutModel",
     "state": {
      "_model_module": "@jupyter-widgets/base",
      "_model_module_version": "1.2.0",
      "_model_name": "LayoutModel",
      "_view_count": null,
      "_view_module": "@jupyter-widgets/base",
      "_view_module_version": "1.2.0",
      "_view_name": "LayoutView",
      "align_content": null,
      "align_items": null,
      "align_self": null,
      "border": null,
      "bottom": null,
      "display": null,
      "flex": null,
      "flex_flow": null,
      "grid_area": null,
      "grid_auto_columns": null,
      "grid_auto_flow": null,
      "grid_auto_rows": null,
      "grid_column": null,
      "grid_gap": null,
      "grid_row": null,
      "grid_template_areas": null,
      "grid_template_columns": null,
      "grid_template_rows": null,
      "height": null,
      "justify_content": null,
      "justify_items": null,
      "left": null,
      "margin": null,
      "max_height": null,
      "max_width": null,
      "min_height": null,
      "min_width": null,
      "object_fit": null,
      "object_position": null,
      "order": null,
      "overflow": null,
      "overflow_x": null,
      "overflow_y": null,
      "padding": null,
      "right": null,
      "top": null,
      "visibility": null,
      "width": null
     }
    },
    "35cd15eac4ff4266acd3c12a49c11f96": {
     "model_module": "@jupyter-widgets/base",
     "model_module_version": "1.2.0",
     "model_name": "LayoutModel",
     "state": {
      "_model_module": "@jupyter-widgets/base",
      "_model_module_version": "1.2.0",
      "_model_name": "LayoutModel",
      "_view_count": null,
      "_view_module": "@jupyter-widgets/base",
      "_view_module_version": "1.2.0",
      "_view_name": "LayoutView",
      "align_content": null,
      "align_items": null,
      "align_self": null,
      "border": null,
      "bottom": null,
      "display": null,
      "flex": null,
      "flex_flow": null,
      "grid_area": null,
      "grid_auto_columns": null,
      "grid_auto_flow": null,
      "grid_auto_rows": null,
      "grid_column": null,
      "grid_gap": null,
      "grid_row": null,
      "grid_template_areas": null,
      "grid_template_columns": null,
      "grid_template_rows": null,
      "height": null,
      "justify_content": null,
      "justify_items": null,
      "left": null,
      "margin": null,
      "max_height": null,
      "max_width": null,
      "min_height": null,
      "min_width": null,
      "object_fit": null,
      "object_position": null,
      "order": null,
      "overflow": null,
      "overflow_x": null,
      "overflow_y": null,
      "padding": null,
      "right": null,
      "top": null,
      "visibility": null,
      "width": null
     }
    },
    "39f2763abc36459b92f5a0884c3d84ac": {
     "model_module": "@jupyter-widgets/controls",
     "model_module_version": "1.5.0",
     "model_name": "DescriptionStyleModel",
     "state": {
      "_model_module": "@jupyter-widgets/controls",
      "_model_module_version": "1.5.0",
      "_model_name": "DescriptionStyleModel",
      "_view_count": null,
      "_view_module": "@jupyter-widgets/base",
      "_view_module_version": "1.2.0",
      "_view_name": "StyleView",
      "description_width": ""
     }
    },
    "42b4cc27530d4b3daefaf81530c8db56": {
     "model_module": "@jupyter-widgets/controls",
     "model_module_version": "1.5.0",
     "model_name": "HBoxModel",
     "state": {
      "_dom_classes": [],
      "_model_module": "@jupyter-widgets/controls",
      "_model_module_version": "1.5.0",
      "_model_name": "HBoxModel",
      "_view_count": null,
      "_view_module": "@jupyter-widgets/controls",
      "_view_module_version": "1.5.0",
      "_view_name": "HBoxView",
      "box_style": "",
      "children": [
       "IPY_MODEL_07aa1578b2c044898b28852c94ecadfb",
       "IPY_MODEL_aae65b145a2944b5b1709af7ab6bba4f",
       "IPY_MODEL_5441526da7b24b1d83be04a471d848e7"
      ],
      "layout": "IPY_MODEL_35cd15eac4ff4266acd3c12a49c11f96"
     }
    },
    "4497399c3daa4e77af0b5f19ee9f04ce": {
     "model_module": "@jupyter-widgets/controls",
     "model_module_version": "1.5.0",
     "model_name": "HTMLModel",
     "state": {
      "_dom_classes": [],
      "_model_module": "@jupyter-widgets/controls",
      "_model_module_version": "1.5.0",
      "_model_name": "HTMLModel",
      "_view_count": null,
      "_view_module": "@jupyter-widgets/controls",
      "_view_module_version": "1.5.0",
      "_view_name": "HTMLView",
      "description": "",
      "description_tooltip": null,
      "layout": "IPY_MODEL_ab22d6a321194fbb8c7e53b695520d3d",
      "placeholder": "​",
      "style": "IPY_MODEL_15c8cbc7b93d4cc8a8dad13afebf0768",
      "value": "Downloading: 100%"
     }
    },
    "4be83a744e8249c3abccf54e6ebda30a": {
     "model_module": "@jupyter-widgets/controls",
     "model_module_version": "1.5.0",
     "model_name": "DescriptionStyleModel",
     "state": {
      "_model_module": "@jupyter-widgets/controls",
      "_model_module_version": "1.5.0",
      "_model_name": "DescriptionStyleModel",
      "_view_count": null,
      "_view_module": "@jupyter-widgets/base",
      "_view_module_version": "1.2.0",
      "_view_name": "StyleView",
      "description_width": ""
     }
    },
    "4c05c5e0520b492ab2b57c25e58d83ff": {
     "model_module": "@jupyter-widgets/controls",
     "model_module_version": "1.5.0",
     "model_name": "HBoxModel",
     "state": {
      "_dom_classes": [],
      "_model_module": "@jupyter-widgets/controls",
      "_model_module_version": "1.5.0",
      "_model_name": "HBoxModel",
      "_view_count": null,
      "_view_module": "@jupyter-widgets/controls",
      "_view_module_version": "1.5.0",
      "_view_name": "HBoxView",
      "box_style": "",
      "children": [
       "IPY_MODEL_53817797a71640c682018c4d5018945f",
       "IPY_MODEL_7cfe1f882eda494392c83e1dc28de347",
       "IPY_MODEL_a65586c8de47418e93ca395a7a54ce4a"
      ],
      "layout": "IPY_MODEL_34c8437daef041148b8193d17865e01d"
     }
    },
    "53817797a71640c682018c4d5018945f": {
     "model_module": "@jupyter-widgets/controls",
     "model_module_version": "1.5.0",
     "model_name": "HTMLModel",
     "state": {
      "_dom_classes": [],
      "_model_module": "@jupyter-widgets/controls",
      "_model_module_version": "1.5.0",
      "_model_name": "HTMLModel",
      "_view_count": null,
      "_view_module": "@jupyter-widgets/controls",
      "_view_module_version": "1.5.0",
      "_view_name": "HTMLView",
      "description": "",
      "description_tooltip": null,
      "layout": "IPY_MODEL_e26247189e40407fb2a3eb0c92cf824d",
      "placeholder": "​",
      "style": "IPY_MODEL_2495ccb30e2d4fcd9b783e5a98adcade",
      "value": "Downloading: 100%"
     }
    },
    "5441526da7b24b1d83be04a471d848e7": {
     "model_module": "@jupyter-widgets/controls",
     "model_module_version": "1.5.0",
     "model_name": "HTMLModel",
     "state": {
      "_dom_classes": [],
      "_model_module": "@jupyter-widgets/controls",
      "_model_module_version": "1.5.0",
      "_model_name": "HTMLModel",
      "_view_count": null,
      "_view_module": "@jupyter-widgets/controls",
      "_view_module_version": "1.5.0",
      "_view_name": "HTMLView",
      "description": "",
      "description_tooltip": null,
      "layout": "IPY_MODEL_717c883b4b394388861ac31cdf8d0459",
      "placeholder": "​",
      "style": "IPY_MODEL_71a9c0de46f745269de1ff81e3070acd",
      "value": " 213k/213k [00:00&lt;00:00, 661kB/s]"
     }
    },
    "56997834017343e69fca9776c32b78d4": {
     "model_module": "@jupyter-widgets/controls",
     "model_module_version": "1.5.0",
     "model_name": "FloatProgressModel",
     "state": {
      "_dom_classes": [],
      "_model_module": "@jupyter-widgets/controls",
      "_model_module_version": "1.5.0",
      "_model_name": "FloatProgressModel",
      "_view_count": null,
      "_view_module": "@jupyter-widgets/controls",
      "_view_module_version": "1.5.0",
      "_view_name": "ProgressView",
      "bar_style": "success",
      "description": "",
      "description_tooltip": null,
      "layout": "IPY_MODEL_a9c22200ab18400d8e2f29e2d16226b3",
      "max": 10,
      "min": 0,
      "orientation": "horizontal",
      "style": "IPY_MODEL_a09d8ce79f234a02b0c8525055818951",
      "value": 10
     }
    },
    "600162a8775d4b1c94edcdb58e60d37d": {
     "model_module": "@jupyter-widgets/base",
     "model_module_version": "1.2.0",
     "model_name": "LayoutModel",
     "state": {
      "_model_module": "@jupyter-widgets/base",
      "_model_module_version": "1.2.0",
      "_model_name": "LayoutModel",
      "_view_count": null,
      "_view_module": "@jupyter-widgets/base",
      "_view_module_version": "1.2.0",
      "_view_name": "LayoutView",
      "align_content": null,
      "align_items": null,
      "align_self": null,
      "border": null,
      "bottom": null,
      "display": null,
      "flex": null,
      "flex_flow": null,
      "grid_area": null,
      "grid_auto_columns": null,
      "grid_auto_flow": null,
      "grid_auto_rows": null,
      "grid_column": null,
      "grid_gap": null,
      "grid_row": null,
      "grid_template_areas": null,
      "grid_template_columns": null,
      "grid_template_rows": null,
      "height": null,
      "justify_content": null,
      "justify_items": null,
      "left": null,
      "margin": null,
      "max_height": null,
      "max_width": null,
      "min_height": null,
      "min_width": null,
      "object_fit": null,
      "object_position": null,
      "order": null,
      "overflow": null,
      "overflow_x": null,
      "overflow_y": null,
      "padding": null,
      "right": null,
      "top": null,
      "visibility": null,
      "width": null
     }
    },
    "61436275e45c4b178100ff64fc144041": {
     "model_module": "@jupyter-widgets/base",
     "model_module_version": "1.2.0",
     "model_name": "LayoutModel",
     "state": {
      "_model_module": "@jupyter-widgets/base",
      "_model_module_version": "1.2.0",
      "_model_name": "LayoutModel",
      "_view_count": null,
      "_view_module": "@jupyter-widgets/base",
      "_view_module_version": "1.2.0",
      "_view_name": "LayoutView",
      "align_content": null,
      "align_items": null,
      "align_self": null,
      "border": null,
      "bottom": null,
      "display": null,
      "flex": null,
      "flex_flow": null,
      "grid_area": null,
      "grid_auto_columns": null,
      "grid_auto_flow": null,
      "grid_auto_rows": null,
      "grid_column": null,
      "grid_gap": null,
      "grid_row": null,
      "grid_template_areas": null,
      "grid_template_columns": null,
      "grid_template_rows": null,
      "height": null,
      "justify_content": null,
      "justify_items": null,
      "left": null,
      "margin": null,
      "max_height": null,
      "max_width": null,
      "min_height": null,
      "min_width": null,
      "object_fit": null,
      "object_position": null,
      "order": null,
      "overflow": null,
      "overflow_x": null,
      "overflow_y": null,
      "padding": null,
      "right": null,
      "top": null,
      "visibility": null,
      "width": null
     }
    },
    "6583930f838d4001ae17b7465b14c76c": {
     "model_module": "@jupyter-widgets/controls",
     "model_module_version": "1.5.0",
     "model_name": "HTMLModel",
     "state": {
      "_dom_classes": [],
      "_model_module": "@jupyter-widgets/controls",
      "_model_module_version": "1.5.0",
      "_model_name": "HTMLModel",
      "_view_count": null,
      "_view_module": "@jupyter-widgets/controls",
      "_view_module_version": "1.5.0",
      "_view_name": "HTMLView",
      "description": "",
      "description_tooltip": null,
      "layout": "IPY_MODEL_dce9ba77cb534f9da2b2b6e5c66a5703",
      "placeholder": "​",
      "style": "IPY_MODEL_1a3cdcbc0ae745ecab09ff309ba63fdd",
      "value": " 1.34G/1.34G [01:00&lt;00:00, 15.7MB/s]"
     }
    },
    "670131b7daaa449b86e2396b64376383": {
     "model_module": "@jupyter-widgets/controls",
     "model_module_version": "1.5.0",
     "model_name": "HBoxModel",
     "state": {
      "_dom_classes": [],
      "_model_module": "@jupyter-widgets/controls",
      "_model_module_version": "1.5.0",
      "_model_name": "HBoxModel",
      "_view_count": null,
      "_view_module": "@jupyter-widgets/controls",
      "_view_module_version": "1.5.0",
      "_view_name": "HBoxView",
      "box_style": "",
      "children": [
       "IPY_MODEL_6db4bae0ab4f49aaa4e3e7aa22366dec",
       "IPY_MODEL_56997834017343e69fca9776c32b78d4",
       "IPY_MODEL_2ee792fdcb2748819e3d914fbfca7462"
      ],
      "layout": "IPY_MODEL_0680fe3809c24764b0a9703f51f3efd3"
     }
    },
    "6c1efed1664742c4b24ce2229158716a": {
     "model_module": "@jupyter-widgets/base",
     "model_module_version": "1.2.0",
     "model_name": "LayoutModel",
     "state": {
      "_model_module": "@jupyter-widgets/base",
      "_model_module_version": "1.2.0",
      "_model_name": "LayoutModel",
      "_view_count": null,
      "_view_module": "@jupyter-widgets/base",
      "_view_module_version": "1.2.0",
      "_view_name": "LayoutView",
      "align_content": null,
      "align_items": null,
      "align_self": null,
      "border": null,
      "bottom": null,
      "display": null,
      "flex": null,
      "flex_flow": null,
      "grid_area": null,
      "grid_auto_columns": null,
      "grid_auto_flow": null,
      "grid_auto_rows": null,
      "grid_column": null,
      "grid_gap": null,
      "grid_row": null,
      "grid_template_areas": null,
      "grid_template_columns": null,
      "grid_template_rows": null,
      "height": null,
      "justify_content": null,
      "justify_items": null,
      "left": null,
      "margin": null,
      "max_height": null,
      "max_width": null,
      "min_height": null,
      "min_width": null,
      "object_fit": null,
      "object_position": null,
      "order": null,
      "overflow": null,
      "overflow_x": null,
      "overflow_y": null,
      "padding": null,
      "right": null,
      "top": null,
      "visibility": null,
      "width": null
     }
    },
    "6db4bae0ab4f49aaa4e3e7aa22366dec": {
     "model_module": "@jupyter-widgets/controls",
     "model_module_version": "1.5.0",
     "model_name": "HTMLModel",
     "state": {
      "_dom_classes": [],
      "_model_module": "@jupyter-widgets/controls",
      "_model_module_version": "1.5.0",
      "_model_name": "HTMLModel",
      "_view_count": null,
      "_view_module": "@jupyter-widgets/controls",
      "_view_module_version": "1.5.0",
      "_view_name": "HTMLView",
      "description": "",
      "description_tooltip": null,
      "layout": "IPY_MODEL_073a2eb6c91b4cf39f9bbe90908d6f9b",
      "placeholder": "​",
      "style": "IPY_MODEL_03cee89315b54d7eb04a5f7cecc39993",
      "value": "100%"
     }
    },
    "717c883b4b394388861ac31cdf8d0459": {
     "model_module": "@jupyter-widgets/base",
     "model_module_version": "1.2.0",
     "model_name": "LayoutModel",
     "state": {
      "_model_module": "@jupyter-widgets/base",
      "_model_module_version": "1.2.0",
      "_model_name": "LayoutModel",
      "_view_count": null,
      "_view_module": "@jupyter-widgets/base",
      "_view_module_version": "1.2.0",
      "_view_name": "LayoutView",
      "align_content": null,
      "align_items": null,
      "align_self": null,
      "border": null,
      "bottom": null,
      "display": null,
      "flex": null,
      "flex_flow": null,
      "grid_area": null,
      "grid_auto_columns": null,
      "grid_auto_flow": null,
      "grid_auto_rows": null,
      "grid_column": null,
      "grid_gap": null,
      "grid_row": null,
      "grid_template_areas": null,
      "grid_template_columns": null,
      "grid_template_rows": null,
      "height": null,
      "justify_content": null,
      "justify_items": null,
      "left": null,
      "margin": null,
      "max_height": null,
      "max_width": null,
      "min_height": null,
      "min_width": null,
      "object_fit": null,
      "object_position": null,
      "order": null,
      "overflow": null,
      "overflow_x": null,
      "overflow_y": null,
      "padding": null,
      "right": null,
      "top": null,
      "visibility": null,
      "width": null
     }
    },
    "71a9c0de46f745269de1ff81e3070acd": {
     "model_module": "@jupyter-widgets/controls",
     "model_module_version": "1.5.0",
     "model_name": "DescriptionStyleModel",
     "state": {
      "_model_module": "@jupyter-widgets/controls",
      "_model_module_version": "1.5.0",
      "_model_name": "DescriptionStyleModel",
      "_view_count": null,
      "_view_module": "@jupyter-widgets/base",
      "_view_module_version": "1.2.0",
      "_view_name": "StyleView",
      "description_width": ""
     }
    },
    "76da6237d53a4e4fbfd0a3dc282fa300": {
     "model_module": "@jupyter-widgets/controls",
     "model_module_version": "1.5.0",
     "model_name": "HBoxModel",
     "state": {
      "_dom_classes": [],
      "_model_module": "@jupyter-widgets/controls",
      "_model_module_version": "1.5.0",
      "_model_name": "HBoxModel",
      "_view_count": null,
      "_view_module": "@jupyter-widgets/controls",
      "_view_module_version": "1.5.0",
      "_view_name": "HBoxView",
      "box_style": "",
      "children": [
       "IPY_MODEL_26c1b472040f4b7eb6e47816bf6b1a11",
       "IPY_MODEL_d868903eae9a4796be081f2fc9732b9d",
       "IPY_MODEL_d1b2947d81164eb39f2713b72637d0a2"
      ],
      "layout": "IPY_MODEL_011a3c0193ca4d07bf0b2f40be1ea73e"
     }
    },
    "76e7b8fe85c64848b364d54a8083fdbb": {
     "model_module": "@jupyter-widgets/base",
     "model_module_version": "1.2.0",
     "model_name": "LayoutModel",
     "state": {
      "_model_module": "@jupyter-widgets/base",
      "_model_module_version": "1.2.0",
      "_model_name": "LayoutModel",
      "_view_count": null,
      "_view_module": "@jupyter-widgets/base",
      "_view_module_version": "1.2.0",
      "_view_name": "LayoutView",
      "align_content": null,
      "align_items": null,
      "align_self": null,
      "border": null,
      "bottom": null,
      "display": null,
      "flex": null,
      "flex_flow": null,
      "grid_area": null,
      "grid_auto_columns": null,
      "grid_auto_flow": null,
      "grid_auto_rows": null,
      "grid_column": null,
      "grid_gap": null,
      "grid_row": null,
      "grid_template_areas": null,
      "grid_template_columns": null,
      "grid_template_rows": null,
      "height": null,
      "justify_content": null,
      "justify_items": null,
      "left": null,
      "margin": null,
      "max_height": null,
      "max_width": null,
      "min_height": null,
      "min_width": null,
      "object_fit": null,
      "object_position": null,
      "order": null,
      "overflow": null,
      "overflow_x": null,
      "overflow_y": null,
      "padding": null,
      "right": null,
      "top": null,
      "visibility": null,
      "width": null
     }
    },
    "7cfe1f882eda494392c83e1dc28de347": {
     "model_module": "@jupyter-widgets/controls",
     "model_module_version": "1.5.0",
     "model_name": "FloatProgressModel",
     "state": {
      "_dom_classes": [],
      "_model_module": "@jupyter-widgets/controls",
      "_model_module_version": "1.5.0",
      "_model_name": "FloatProgressModel",
      "_view_count": null,
      "_view_module": "@jupyter-widgets/controls",
      "_view_module_version": "1.5.0",
      "_view_name": "ProgressView",
      "bar_style": "success",
      "description": "",
      "description_tooltip": null,
      "layout": "IPY_MODEL_9189e45261c14b3a924aeaa039040088",
      "max": 29,
      "min": 0,
      "orientation": "horizontal",
      "style": "IPY_MODEL_b8a5765d573b48d3843ff5256285860e",
      "value": 29
     }
    },
    "85db2055d1b148c3b7415da1ce956020": {
     "model_module": "@jupyter-widgets/base",
     "model_module_version": "1.2.0",
     "model_name": "LayoutModel",
     "state": {
      "_model_module": "@jupyter-widgets/base",
      "_model_module_version": "1.2.0",
      "_model_name": "LayoutModel",
      "_view_count": null,
      "_view_module": "@jupyter-widgets/base",
      "_view_module_version": "1.2.0",
      "_view_name": "LayoutView",
      "align_content": null,
      "align_items": null,
      "align_self": null,
      "border": null,
      "bottom": null,
      "display": null,
      "flex": null,
      "flex_flow": null,
      "grid_area": null,
      "grid_auto_columns": null,
      "grid_auto_flow": null,
      "grid_auto_rows": null,
      "grid_column": null,
      "grid_gap": null,
      "grid_row": null,
      "grid_template_areas": null,
      "grid_template_columns": null,
      "grid_template_rows": null,
      "height": null,
      "justify_content": null,
      "justify_items": null,
      "left": null,
      "margin": null,
      "max_height": null,
      "max_width": null,
      "min_height": null,
      "min_width": null,
      "object_fit": null,
      "object_position": null,
      "order": null,
      "overflow": null,
      "overflow_x": null,
      "overflow_y": null,
      "padding": null,
      "right": null,
      "top": null,
      "visibility": null,
      "width": null
     }
    },
    "8989a756543f49ffaa98b3c16d6fc20f": {
     "model_module": "@jupyter-widgets/base",
     "model_module_version": "1.2.0",
     "model_name": "LayoutModel",
     "state": {
      "_model_module": "@jupyter-widgets/base",
      "_model_module_version": "1.2.0",
      "_model_name": "LayoutModel",
      "_view_count": null,
      "_view_module": "@jupyter-widgets/base",
      "_view_module_version": "1.2.0",
      "_view_name": "LayoutView",
      "align_content": null,
      "align_items": null,
      "align_self": null,
      "border": null,
      "bottom": null,
      "display": null,
      "flex": null,
      "flex_flow": null,
      "grid_area": null,
      "grid_auto_columns": null,
      "grid_auto_flow": null,
      "grid_auto_rows": null,
      "grid_column": null,
      "grid_gap": null,
      "grid_row": null,
      "grid_template_areas": null,
      "grid_template_columns": null,
      "grid_template_rows": null,
      "height": null,
      "justify_content": null,
      "justify_items": null,
      "left": null,
      "margin": null,
      "max_height": null,
      "max_width": null,
      "min_height": null,
      "min_width": null,
      "object_fit": null,
      "object_position": null,
      "order": null,
      "overflow": null,
      "overflow_x": null,
      "overflow_y": null,
      "padding": null,
      "right": null,
      "top": null,
      "visibility": null,
      "width": null
     }
    },
    "8adcd3f948aa475389d7bd68b7da8c71": {
     "model_module": "@jupyter-widgets/controls",
     "model_module_version": "1.5.0",
     "model_name": "FloatProgressModel",
     "state": {
      "_dom_classes": [],
      "_model_module": "@jupyter-widgets/controls",
      "_model_module_version": "1.5.0",
      "_model_name": "FloatProgressModel",
      "_view_count": null,
      "_view_module": "@jupyter-widgets/controls",
      "_view_module_version": "1.5.0",
      "_view_name": "ProgressView",
      "bar_style": "success",
      "description": "",
      "description_tooltip": null,
      "layout": "IPY_MODEL_61436275e45c4b178100ff64fc144041",
      "max": 1338740706,
      "min": 0,
      "orientation": "horizontal",
      "style": "IPY_MODEL_eaab3f227f994acfa29bf56c1fe2833f",
      "value": 1338740706
     }
    },
    "8b1ed0669f744412afcc8dcc5de70219": {
     "model_module": "@jupyter-widgets/controls",
     "model_module_version": "1.5.0",
     "model_name": "DescriptionStyleModel",
     "state": {
      "_model_module": "@jupyter-widgets/controls",
      "_model_module_version": "1.5.0",
      "_model_name": "DescriptionStyleModel",
      "_view_count": null,
      "_view_module": "@jupyter-widgets/base",
      "_view_module_version": "1.2.0",
      "_view_name": "StyleView",
      "description_width": ""
     }
    },
    "9189e45261c14b3a924aeaa039040088": {
     "model_module": "@jupyter-widgets/base",
     "model_module_version": "1.2.0",
     "model_name": "LayoutModel",
     "state": {
      "_model_module": "@jupyter-widgets/base",
      "_model_module_version": "1.2.0",
      "_model_name": "LayoutModel",
      "_view_count": null,
      "_view_module": "@jupyter-widgets/base",
      "_view_module_version": "1.2.0",
      "_view_name": "LayoutView",
      "align_content": null,
      "align_items": null,
      "align_self": null,
      "border": null,
      "bottom": null,
      "display": null,
      "flex": null,
      "flex_flow": null,
      "grid_area": null,
      "grid_auto_columns": null,
      "grid_auto_flow": null,
      "grid_auto_rows": null,
      "grid_column": null,
      "grid_gap": null,
      "grid_row": null,
      "grid_template_areas": null,
      "grid_template_columns": null,
      "grid_template_rows": null,
      "height": null,
      "justify_content": null,
      "justify_items": null,
      "left": null,
      "margin": null,
      "max_height": null,
      "max_width": null,
      "min_height": null,
      "min_width": null,
      "object_fit": null,
      "object_position": null,
      "order": null,
      "overflow": null,
      "overflow_x": null,
      "overflow_y": null,
      "padding": null,
      "right": null,
      "top": null,
      "visibility": null,
      "width": null
     }
    },
    "97bbd2d073974c1e80deb5c1eede1808": {
     "model_module": "@jupyter-widgets/controls",
     "model_module_version": "1.5.0",
     "model_name": "ProgressStyleModel",
     "state": {
      "_model_module": "@jupyter-widgets/controls",
      "_model_module_version": "1.5.0",
      "_model_name": "ProgressStyleModel",
      "_view_count": null,
      "_view_module": "@jupyter-widgets/base",
      "_view_module_version": "1.2.0",
      "_view_name": "StyleView",
      "bar_color": null,
      "description_width": ""
     }
    },
    "a09d8ce79f234a02b0c8525055818951": {
     "model_module": "@jupyter-widgets/controls",
     "model_module_version": "1.5.0",
     "model_name": "ProgressStyleModel",
     "state": {
      "_model_module": "@jupyter-widgets/controls",
      "_model_module_version": "1.5.0",
      "_model_name": "ProgressStyleModel",
      "_view_count": null,
      "_view_module": "@jupyter-widgets/base",
      "_view_module_version": "1.2.0",
      "_view_name": "StyleView",
      "bar_color": null,
      "description_width": ""
     }
    },
    "a65586c8de47418e93ca395a7a54ce4a": {
     "model_module": "@jupyter-widgets/controls",
     "model_module_version": "1.5.0",
     "model_name": "HTMLModel",
     "state": {
      "_dom_classes": [],
      "_model_module": "@jupyter-widgets/controls",
      "_model_module_version": "1.5.0",
      "_model_name": "HTMLModel",
      "_view_count": null,
      "_view_module": "@jupyter-widgets/controls",
      "_view_module_version": "1.5.0",
      "_view_name": "HTMLView",
      "description": "",
      "description_tooltip": null,
      "layout": "IPY_MODEL_bc1eb92763134550ab661339cbfbf2d7",
      "placeholder": "​",
      "style": "IPY_MODEL_e084af51f7dd4e9bafddff12653e158d",
      "value": " 29.0/29.0 [00:00&lt;00:00, 183B/s]"
     }
    },
    "a9c22200ab18400d8e2f29e2d16226b3": {
     "model_module": "@jupyter-widgets/base",
     "model_module_version": "1.2.0",
     "model_name": "LayoutModel",
     "state": {
      "_model_module": "@jupyter-widgets/base",
      "_model_module_version": "1.2.0",
      "_model_name": "LayoutModel",
      "_view_count": null,
      "_view_module": "@jupyter-widgets/base",
      "_view_module_version": "1.2.0",
      "_view_name": "LayoutView",
      "align_content": null,
      "align_items": null,
      "align_self": null,
      "border": null,
      "bottom": null,
      "display": null,
      "flex": null,
      "flex_flow": null,
      "grid_area": null,
      "grid_auto_columns": null,
      "grid_auto_flow": null,
      "grid_auto_rows": null,
      "grid_column": null,
      "grid_gap": null,
      "grid_row": null,
      "grid_template_areas": null,
      "grid_template_columns": null,
      "grid_template_rows": null,
      "height": null,
      "justify_content": null,
      "justify_items": null,
      "left": null,
      "margin": null,
      "max_height": null,
      "max_width": null,
      "min_height": null,
      "min_width": null,
      "object_fit": null,
      "object_position": null,
      "order": null,
      "overflow": null,
      "overflow_x": null,
      "overflow_y": null,
      "padding": null,
      "right": null,
      "top": null,
      "visibility": null,
      "width": null
     }
    },
    "aae65b145a2944b5b1709af7ab6bba4f": {
     "model_module": "@jupyter-widgets/controls",
     "model_module_version": "1.5.0",
     "model_name": "FloatProgressModel",
     "state": {
      "_dom_classes": [],
      "_model_module": "@jupyter-widgets/controls",
      "_model_module_version": "1.5.0",
      "_model_name": "FloatProgressModel",
      "_view_count": null,
      "_view_module": "@jupyter-widgets/controls",
      "_view_module_version": "1.5.0",
      "_view_name": "ProgressView",
      "bar_style": "success",
      "description": "",
      "description_tooltip": null,
      "layout": "IPY_MODEL_ba9bbcf7380c425083a3716e3de81a5b",
      "max": 213450,
      "min": 0,
      "orientation": "horizontal",
      "style": "IPY_MODEL_ffd3058b0bcc472091715e095585530e",
      "value": 213450
     }
    },
    "ab22d6a321194fbb8c7e53b695520d3d": {
     "model_module": "@jupyter-widgets/base",
     "model_module_version": "1.2.0",
     "model_name": "LayoutModel",
     "state": {
      "_model_module": "@jupyter-widgets/base",
      "_model_module_version": "1.2.0",
      "_model_name": "LayoutModel",
      "_view_count": null,
      "_view_module": "@jupyter-widgets/base",
      "_view_module_version": "1.2.0",
      "_view_name": "LayoutView",
      "align_content": null,
      "align_items": null,
      "align_self": null,
      "border": null,
      "bottom": null,
      "display": null,
      "flex": null,
      "flex_flow": null,
      "grid_area": null,
      "grid_auto_columns": null,
      "grid_auto_flow": null,
      "grid_auto_rows": null,
      "grid_column": null,
      "grid_gap": null,
      "grid_row": null,
      "grid_template_areas": null,
      "grid_template_columns": null,
      "grid_template_rows": null,
      "height": null,
      "justify_content": null,
      "justify_items": null,
      "left": null,
      "margin": null,
      "max_height": null,
      "max_width": null,
      "min_height": null,
      "min_width": null,
      "object_fit": null,
      "object_position": null,
      "order": null,
      "overflow": null,
      "overflow_x": null,
      "overflow_y": null,
      "padding": null,
      "right": null,
      "top": null,
      "visibility": null,
      "width": null
     }
    },
    "abc54b1132c94a35967f7a4d053415fc": {
     "model_module": "@jupyter-widgets/controls",
     "model_module_version": "1.5.0",
     "model_name": "HBoxModel",
     "state": {
      "_dom_classes": [],
      "_model_module": "@jupyter-widgets/controls",
      "_model_module_version": "1.5.0",
      "_model_name": "HBoxModel",
      "_view_count": null,
      "_view_module": "@jupyter-widgets/controls",
      "_view_module_version": "1.5.0",
      "_view_name": "HBoxView",
      "box_style": "",
      "children": [
       "IPY_MODEL_f333e03d2a0d4420a42d2da036c8db0a",
       "IPY_MODEL_8adcd3f948aa475389d7bd68b7da8c71",
       "IPY_MODEL_6583930f838d4001ae17b7465b14c76c"
      ],
      "layout": "IPY_MODEL_ad7b5fba3e4c45d7aa3e5ab9c69f41ac"
     }
    },
    "ad7b5fba3e4c45d7aa3e5ab9c69f41ac": {
     "model_module": "@jupyter-widgets/base",
     "model_module_version": "1.2.0",
     "model_name": "LayoutModel",
     "state": {
      "_model_module": "@jupyter-widgets/base",
      "_model_module_version": "1.2.0",
      "_model_name": "LayoutModel",
      "_view_count": null,
      "_view_module": "@jupyter-widgets/base",
      "_view_module_version": "1.2.0",
      "_view_name": "LayoutView",
      "align_content": null,
      "align_items": null,
      "align_self": null,
      "border": null,
      "bottom": null,
      "display": null,
      "flex": null,
      "flex_flow": null,
      "grid_area": null,
      "grid_auto_columns": null,
      "grid_auto_flow": null,
      "grid_auto_rows": null,
      "grid_column": null,
      "grid_gap": null,
      "grid_row": null,
      "grid_template_areas": null,
      "grid_template_columns": null,
      "grid_template_rows": null,
      "height": null,
      "justify_content": null,
      "justify_items": null,
      "left": null,
      "margin": null,
      "max_height": null,
      "max_width": null,
      "min_height": null,
      "min_width": null,
      "object_fit": null,
      "object_position": null,
      "order": null,
      "overflow": null,
      "overflow_x": null,
      "overflow_y": null,
      "padding": null,
      "right": null,
      "top": null,
      "visibility": null,
      "width": null
     }
    },
    "b8a5765d573b48d3843ff5256285860e": {
     "model_module": "@jupyter-widgets/controls",
     "model_module_version": "1.5.0",
     "model_name": "ProgressStyleModel",
     "state": {
      "_model_module": "@jupyter-widgets/controls",
      "_model_module_version": "1.5.0",
      "_model_name": "ProgressStyleModel",
      "_view_count": null,
      "_view_module": "@jupyter-widgets/base",
      "_view_module_version": "1.2.0",
      "_view_name": "StyleView",
      "bar_color": null,
      "description_width": ""
     }
    },
    "ba9bbcf7380c425083a3716e3de81a5b": {
     "model_module": "@jupyter-widgets/base",
     "model_module_version": "1.2.0",
     "model_name": "LayoutModel",
     "state": {
      "_model_module": "@jupyter-widgets/base",
      "_model_module_version": "1.2.0",
      "_model_name": "LayoutModel",
      "_view_count": null,
      "_view_module": "@jupyter-widgets/base",
      "_view_module_version": "1.2.0",
      "_view_name": "LayoutView",
      "align_content": null,
      "align_items": null,
      "align_self": null,
      "border": null,
      "bottom": null,
      "display": null,
      "flex": null,
      "flex_flow": null,
      "grid_area": null,
      "grid_auto_columns": null,
      "grid_auto_flow": null,
      "grid_auto_rows": null,
      "grid_column": null,
      "grid_gap": null,
      "grid_row": null,
      "grid_template_areas": null,
      "grid_template_columns": null,
      "grid_template_rows": null,
      "height": null,
      "justify_content": null,
      "justify_items": null,
      "left": null,
      "margin": null,
      "max_height": null,
      "max_width": null,
      "min_height": null,
      "min_width": null,
      "object_fit": null,
      "object_position": null,
      "order": null,
      "overflow": null,
      "overflow_x": null,
      "overflow_y": null,
      "padding": null,
      "right": null,
      "top": null,
      "visibility": null,
      "width": null
     }
    },
    "bc1eb92763134550ab661339cbfbf2d7": {
     "model_module": "@jupyter-widgets/base",
     "model_module_version": "1.2.0",
     "model_name": "LayoutModel",
     "state": {
      "_model_module": "@jupyter-widgets/base",
      "_model_module_version": "1.2.0",
      "_model_name": "LayoutModel",
      "_view_count": null,
      "_view_module": "@jupyter-widgets/base",
      "_view_module_version": "1.2.0",
      "_view_name": "LayoutView",
      "align_content": null,
      "align_items": null,
      "align_self": null,
      "border": null,
      "bottom": null,
      "display": null,
      "flex": null,
      "flex_flow": null,
      "grid_area": null,
      "grid_auto_columns": null,
      "grid_auto_flow": null,
      "grid_auto_rows": null,
      "grid_column": null,
      "grid_gap": null,
      "grid_row": null,
      "grid_template_areas": null,
      "grid_template_columns": null,
      "grid_template_rows": null,
      "height": null,
      "justify_content": null,
      "justify_items": null,
      "left": null,
      "margin": null,
      "max_height": null,
      "max_width": null,
      "min_height": null,
      "min_width": null,
      "object_fit": null,
      "object_position": null,
      "order": null,
      "overflow": null,
      "overflow_x": null,
      "overflow_y": null,
      "padding": null,
      "right": null,
      "top": null,
      "visibility": null,
      "width": null
     }
    },
    "bd3ad1443d9841f7bfff54616e5fd65f": {
     "model_module": "@jupyter-widgets/controls",
     "model_module_version": "1.5.0",
     "model_name": "DescriptionStyleModel",
     "state": {
      "_model_module": "@jupyter-widgets/controls",
      "_model_module_version": "1.5.0",
      "_model_name": "DescriptionStyleModel",
      "_view_count": null,
      "_view_module": "@jupyter-widgets/base",
      "_view_module_version": "1.2.0",
      "_view_name": "StyleView",
      "description_width": ""
     }
    },
    "cc61ce233e7942f9bdaa871e1692555b": {
     "model_module": "@jupyter-widgets/controls",
     "model_module_version": "1.5.0",
     "model_name": "DescriptionStyleModel",
     "state": {
      "_model_module": "@jupyter-widgets/controls",
      "_model_module_version": "1.5.0",
      "_model_name": "DescriptionStyleModel",
      "_view_count": null,
      "_view_module": "@jupyter-widgets/base",
      "_view_module_version": "1.2.0",
      "_view_name": "StyleView",
      "description_width": ""
     }
    },
    "d1b2947d81164eb39f2713b72637d0a2": {
     "model_module": "@jupyter-widgets/controls",
     "model_module_version": "1.5.0",
     "model_name": "HTMLModel",
     "state": {
      "_dom_classes": [],
      "_model_module": "@jupyter-widgets/controls",
      "_model_module_version": "1.5.0",
      "_model_name": "HTMLModel",
      "_view_count": null,
      "_view_module": "@jupyter-widgets/controls",
      "_view_module_version": "1.5.0",
      "_view_name": "HTMLView",
      "description": "",
      "description_tooltip": null,
      "layout": "IPY_MODEL_8989a756543f49ffaa98b3c16d6fc20f",
      "placeholder": "​",
      "style": "IPY_MODEL_ed071261bdc346ef86ee861931c59a59",
      "value": " 436k/436k [00:00&lt;00:00, 887kB/s]"
     }
    },
    "d2eb216188a543bfbb41c42e7c1de9ff": {
     "model_module": "@jupyter-widgets/controls",
     "model_module_version": "1.5.0",
     "model_name": "ProgressStyleModel",
     "state": {
      "_model_module": "@jupyter-widgets/controls",
      "_model_module_version": "1.5.0",
      "_model_name": "ProgressStyleModel",
      "_view_count": null,
      "_view_module": "@jupyter-widgets/base",
      "_view_module_version": "1.2.0",
      "_view_name": "StyleView",
      "bar_color": null,
      "description_width": ""
     }
    },
    "d37a8e212602406f80f6e95070ce782d": {
     "model_module": "@jupyter-widgets/controls",
     "model_module_version": "1.5.0",
     "model_name": "FloatProgressModel",
     "state": {
      "_dom_classes": [],
      "_model_module": "@jupyter-widgets/controls",
      "_model_module_version": "1.5.0",
      "_model_name": "FloatProgressModel",
      "_view_count": null,
      "_view_module": "@jupyter-widgets/controls",
      "_view_module_version": "1.5.0",
      "_view_name": "ProgressView",
      "bar_style": "success",
      "description": "",
      "description_tooltip": null,
      "layout": "IPY_MODEL_2baa8030444e47e8bea45be2d69527ef",
      "max": 762,
      "min": 0,
      "orientation": "horizontal",
      "style": "IPY_MODEL_d2eb216188a543bfbb41c42e7c1de9ff",
      "value": 762
     }
    },
    "d4bc6c23903b41ebaf502ba88353c2d1": {
     "model_module": "@jupyter-widgets/base",
     "model_module_version": "1.2.0",
     "model_name": "LayoutModel",
     "state": {
      "_model_module": "@jupyter-widgets/base",
      "_model_module_version": "1.2.0",
      "_model_name": "LayoutModel",
      "_view_count": null,
      "_view_module": "@jupyter-widgets/base",
      "_view_module_version": "1.2.0",
      "_view_name": "LayoutView",
      "align_content": null,
      "align_items": null,
      "align_self": null,
      "border": null,
      "bottom": null,
      "display": null,
      "flex": null,
      "flex_flow": null,
      "grid_area": null,
      "grid_auto_columns": null,
      "grid_auto_flow": null,
      "grid_auto_rows": null,
      "grid_column": null,
      "grid_gap": null,
      "grid_row": null,
      "grid_template_areas": null,
      "grid_template_columns": null,
      "grid_template_rows": null,
      "height": null,
      "justify_content": null,
      "justify_items": null,
      "left": null,
      "margin": null,
      "max_height": null,
      "max_width": null,
      "min_height": null,
      "min_width": null,
      "object_fit": null,
      "object_position": null,
      "order": null,
      "overflow": null,
      "overflow_x": null,
      "overflow_y": null,
      "padding": null,
      "right": null,
      "top": null,
      "visibility": null,
      "width": null
     }
    },
    "d868903eae9a4796be081f2fc9732b9d": {
     "model_module": "@jupyter-widgets/controls",
     "model_module_version": "1.5.0",
     "model_name": "FloatProgressModel",
     "state": {
      "_dom_classes": [],
      "_model_module": "@jupyter-widgets/controls",
      "_model_module_version": "1.5.0",
      "_model_name": "FloatProgressModel",
      "_view_count": null,
      "_view_module": "@jupyter-widgets/controls",
      "_view_module_version": "1.5.0",
      "_view_name": "ProgressView",
      "bar_style": "success",
      "description": "",
      "description_tooltip": null,
      "layout": "IPY_MODEL_76e7b8fe85c64848b364d54a8083fdbb",
      "max": 435797,
      "min": 0,
      "orientation": "horizontal",
      "style": "IPY_MODEL_97bbd2d073974c1e80deb5c1eede1808",
      "value": 435797
     }
    },
    "d890850a37d84eafb78e21f24692f69b": {
     "model_module": "@jupyter-widgets/base",
     "model_module_version": "1.2.0",
     "model_name": "LayoutModel",
     "state": {
      "_model_module": "@jupyter-widgets/base",
      "_model_module_version": "1.2.0",
      "_model_name": "LayoutModel",
      "_view_count": null,
      "_view_module": "@jupyter-widgets/base",
      "_view_module_version": "1.2.0",
      "_view_name": "LayoutView",
      "align_content": null,
      "align_items": null,
      "align_self": null,
      "border": null,
      "bottom": null,
      "display": null,
      "flex": null,
      "flex_flow": null,
      "grid_area": null,
      "grid_auto_columns": null,
      "grid_auto_flow": null,
      "grid_auto_rows": null,
      "grid_column": null,
      "grid_gap": null,
      "grid_row": null,
      "grid_template_areas": null,
      "grid_template_columns": null,
      "grid_template_rows": null,
      "height": null,
      "justify_content": null,
      "justify_items": null,
      "left": null,
      "margin": null,
      "max_height": null,
      "max_width": null,
      "min_height": null,
      "min_width": null,
      "object_fit": null,
      "object_position": null,
      "order": null,
      "overflow": null,
      "overflow_x": null,
      "overflow_y": null,
      "padding": null,
      "right": null,
      "top": null,
      "visibility": null,
      "width": null
     }
    },
    "dce9ba77cb534f9da2b2b6e5c66a5703": {
     "model_module": "@jupyter-widgets/base",
     "model_module_version": "1.2.0",
     "model_name": "LayoutModel",
     "state": {
      "_model_module": "@jupyter-widgets/base",
      "_model_module_version": "1.2.0",
      "_model_name": "LayoutModel",
      "_view_count": null,
      "_view_module": "@jupyter-widgets/base",
      "_view_module_version": "1.2.0",
      "_view_name": "LayoutView",
      "align_content": null,
      "align_items": null,
      "align_self": null,
      "border": null,
      "bottom": null,
      "display": null,
      "flex": null,
      "flex_flow": null,
      "grid_area": null,
      "grid_auto_columns": null,
      "grid_auto_flow": null,
      "grid_auto_rows": null,
      "grid_column": null,
      "grid_gap": null,
      "grid_row": null,
      "grid_template_areas": null,
      "grid_template_columns": null,
      "grid_template_rows": null,
      "height": null,
      "justify_content": null,
      "justify_items": null,
      "left": null,
      "margin": null,
      "max_height": null,
      "max_width": null,
      "min_height": null,
      "min_width": null,
      "object_fit": null,
      "object_position": null,
      "order": null,
      "overflow": null,
      "overflow_x": null,
      "overflow_y": null,
      "padding": null,
      "right": null,
      "top": null,
      "visibility": null,
      "width": null
     }
    },
    "e084af51f7dd4e9bafddff12653e158d": {
     "model_module": "@jupyter-widgets/controls",
     "model_module_version": "1.5.0",
     "model_name": "DescriptionStyleModel",
     "state": {
      "_model_module": "@jupyter-widgets/controls",
      "_model_module_version": "1.5.0",
      "_model_name": "DescriptionStyleModel",
      "_view_count": null,
      "_view_module": "@jupyter-widgets/base",
      "_view_module_version": "1.2.0",
      "_view_name": "StyleView",
      "description_width": ""
     }
    },
    "e26247189e40407fb2a3eb0c92cf824d": {
     "model_module": "@jupyter-widgets/base",
     "model_module_version": "1.2.0",
     "model_name": "LayoutModel",
     "state": {
      "_model_module": "@jupyter-widgets/base",
      "_model_module_version": "1.2.0",
      "_model_name": "LayoutModel",
      "_view_count": null,
      "_view_module": "@jupyter-widgets/base",
      "_view_module_version": "1.2.0",
      "_view_name": "LayoutView",
      "align_content": null,
      "align_items": null,
      "align_self": null,
      "border": null,
      "bottom": null,
      "display": null,
      "flex": null,
      "flex_flow": null,
      "grid_area": null,
      "grid_auto_columns": null,
      "grid_auto_flow": null,
      "grid_auto_rows": null,
      "grid_column": null,
      "grid_gap": null,
      "grid_row": null,
      "grid_template_areas": null,
      "grid_template_columns": null,
      "grid_template_rows": null,
      "height": null,
      "justify_content": null,
      "justify_items": null,
      "left": null,
      "margin": null,
      "max_height": null,
      "max_width": null,
      "min_height": null,
      "min_width": null,
      "object_fit": null,
      "object_position": null,
      "order": null,
      "overflow": null,
      "overflow_x": null,
      "overflow_y": null,
      "padding": null,
      "right": null,
      "top": null,
      "visibility": null,
      "width": null
     }
    },
    "eaab3f227f994acfa29bf56c1fe2833f": {
     "model_module": "@jupyter-widgets/controls",
     "model_module_version": "1.5.0",
     "model_name": "ProgressStyleModel",
     "state": {
      "_model_module": "@jupyter-widgets/controls",
      "_model_module_version": "1.5.0",
      "_model_name": "ProgressStyleModel",
      "_view_count": null,
      "_view_module": "@jupyter-widgets/base",
      "_view_module_version": "1.2.0",
      "_view_name": "StyleView",
      "bar_color": null,
      "description_width": ""
     }
    },
    "ed071261bdc346ef86ee861931c59a59": {
     "model_module": "@jupyter-widgets/controls",
     "model_module_version": "1.5.0",
     "model_name": "DescriptionStyleModel",
     "state": {
      "_model_module": "@jupyter-widgets/controls",
      "_model_module_version": "1.5.0",
      "_model_name": "DescriptionStyleModel",
      "_view_count": null,
      "_view_module": "@jupyter-widgets/base",
      "_view_module_version": "1.2.0",
      "_view_name": "StyleView",
      "description_width": ""
     }
    },
    "f333e03d2a0d4420a42d2da036c8db0a": {
     "model_module": "@jupyter-widgets/controls",
     "model_module_version": "1.5.0",
     "model_name": "HTMLModel",
     "state": {
      "_dom_classes": [],
      "_model_module": "@jupyter-widgets/controls",
      "_model_module_version": "1.5.0",
      "_model_name": "HTMLModel",
      "_view_count": null,
      "_view_module": "@jupyter-widgets/controls",
      "_view_module_version": "1.5.0",
      "_view_name": "HTMLView",
      "description": "",
      "description_tooltip": null,
      "layout": "IPY_MODEL_d4bc6c23903b41ebaf502ba88353c2d1",
      "placeholder": "​",
      "style": "IPY_MODEL_8b1ed0669f744412afcc8dcc5de70219",
      "value": "Downloading: 100%"
     }
    },
    "ffd3058b0bcc472091715e095585530e": {
     "model_module": "@jupyter-widgets/controls",
     "model_module_version": "1.5.0",
     "model_name": "ProgressStyleModel",
     "state": {
      "_model_module": "@jupyter-widgets/controls",
      "_model_module_version": "1.5.0",
      "_model_name": "ProgressStyleModel",
      "_view_count": null,
      "_view_module": "@jupyter-widgets/base",
      "_view_module_version": "1.2.0",
      "_view_name": "StyleView",
      "bar_color": null,
      "description_width": ""
     }
    }
   }
  }
 },
 "nbformat": 4,
 "nbformat_minor": 5
}
