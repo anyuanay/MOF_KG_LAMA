{
 "cells": [
  {
   "cell_type": "markdown",
   "id": "55e44848-77fb-4130-b77d-abc302536a6e",
   "metadata": {
    "id": "55e44848-77fb-4130-b77d-abc302536a6e"
   },
   "source": [
    "# MOFs LM Probing for Topology"
   ]
  },
  {
   "cell_type": "code",
   "execution_count": null,
   "id": "e93a1557-c1ce-4aeb-b3c3-13a75b6cb8fa",
   "metadata": {
    "id": "e93a1557-c1ce-4aeb-b3c3-13a75b6cb8fa"
   },
   "outputs": [],
   "source": [
    "from baseline import PromptSet\n",
    "\n",
    "from tqdm.auto import tqdm\n",
    "from nltk.corpus import stopwords\n",
    "\n",
    "import pandas as pd\n",
    "\n",
    "from transformers import AutoTokenizer, AutoModelForMaskedLM, pipeline, logging\n",
    "\n",
    "logging.set_verbosity_error()  # avoid irritating transformers warnings"
   ]
  },
  {
   "cell_type": "markdown",
   "id": "5a4cbdfc-8b9d-42fa-aea5-8646ac19b6a3",
   "metadata": {
    "id": "5a4cbdfc-8b9d-42fa-aea5-8646ac19b6a3"
   },
   "source": [
    "## Read in the Triples"
   ]
  },
  {
   "cell_type": "code",
   "execution_count": null,
   "id": "MLkxHoS6eiLd",
   "metadata": {
    "id": "MLkxHoS6eiLd",
    "tags": []
   },
   "outputs": [],
   "source": [
    "file = \"../data/mof_topology.csv\""
   ]
  },
  {
   "cell_type": "code",
   "execution_count": null,
   "id": "ax2E8N1rgva0",
   "metadata": {
    "colab": {
     "base_uri": "https://localhost:8080/",
     "height": 206
    },
    "executionInfo": {
     "elapsed": 218,
     "status": "ok",
     "timestamp": 1666145237368,
     "user": {
      "displayName": "Yuan An",
      "userId": "12279868416530647161"
     },
     "user_tz": 240
    },
    "id": "ax2E8N1rgva0",
    "outputId": "fe0e0d7c-704f-4c14-a150-262142a81688"
   },
   "outputs": [],
   "source": [
    "df = pd.read_csv(file)\n",
    "df.head()"
   ]
  },
  {
   "cell_type": "code",
   "execution_count": null,
   "id": "0dlsYbQbJR_Y",
   "metadata": {
    "colab": {
     "base_uri": "https://localhost:8080/"
    },
    "executionInfo": {
     "elapsed": 268,
     "status": "ok",
     "timestamp": 1666143184741,
     "user": {
      "displayName": "Yuan An",
      "userId": "12279868416530647161"
     },
     "user_tz": 240
    },
    "id": "0dlsYbQbJR_Y",
    "outputId": "b4d98260-799e-4cad-c383-059c810c116b"
   },
   "outputs": [],
   "source": [
    "df.shape"
   ]
  },
  {
   "cell_type": "code",
   "execution_count": null,
   "id": "a809642d-f3cd-4a11-a184-af4edf90db9e",
   "metadata": {
    "id": "a809642d-f3cd-4a11-a184-af4edf90db9e",
    "outputId": "b9f17466-aabe-4c60-bc87-d35f246ea50f"
   },
   "outputs": [],
   "source": [
    "df.ObjectEntity.nunique()"
   ]
  },
  {
   "cell_type": "markdown",
   "id": "DAhYPWvq1zc-",
   "metadata": {
    "id": "DAhYPWvq1zc-"
   },
   "source": [
    "## Probing BERT"
   ]
  },
  {
   "cell_type": "code",
   "execution_count": null,
   "id": "f12c0fd2-6951-4098-9769-48ab3c98e90b",
   "metadata": {
    "id": "f12c0fd2-6951-4098-9769-48ab3c98e90b"
   },
   "outputs": [],
   "source": [
    "tokenizer = AutoTokenizer.from_pretrained(\"bert-large-cased\")\n",
    "model = AutoModelForMaskedLM.from_pretrained(\"bert-large-cased\")"
   ]
  },
  {
   "cell_type": "code",
   "execution_count": null,
   "id": "e46f8370-80b4-4f4d-88e0-94b3020a88ab",
   "metadata": {
    "colab": {
     "base_uri": "https://localhost:8080/",
     "height": 35
    },
    "executionInfo": {
     "elapsed": 519,
     "status": "ok",
     "timestamp": 1666143162640,
     "user": {
      "displayName": "Yuan An",
      "userId": "12279868416530647161"
     },
     "user_tz": 240
    },
    "id": "e46f8370-80b4-4f4d-88e0-94b3020a88ab",
    "outputId": "72cea969-0fc5-44ac-c92b-d5e8da4c6e40"
   },
   "outputs": [],
   "source": [
    "mask_token = tokenizer.mask_token\n",
    "mask_token"
   ]
  },
  {
   "cell_type": "markdown",
   "id": "yccd3rTy16Yr",
   "metadata": {
    "id": "yccd3rTy16Yr"
   },
   "source": [
    "## Creat the Prompt Pipeline"
   ]
  },
  {
   "cell_type": "code",
   "execution_count": null,
   "id": "OoWE2iMqoXHJ",
   "metadata": {
    "id": "OoWE2iMqoXHJ"
   },
   "outputs": [],
   "source": [
    "pipe = pipeline(\n",
    "    task=\"fill-mask\",\n",
    "    model=model,\n",
    "    tokenizer=tokenizer,\n",
    "    top_k=100,\n",
    ")"
   ]
  },
  {
   "cell_type": "markdown",
   "id": "aWXu0sgCf4jA",
   "metadata": {
    "id": "aWXu0sgCf4jA"
   },
   "source": [
    "## Create Prompts"
   ]
  },
  {
   "cell_type": "code",
   "execution_count": null,
   "id": "Z5vtJepsgl4c",
   "metadata": {
    "id": "Z5vtJepsgl4c"
   },
   "outputs": [],
   "source": [
    "def create_topology_prompt1(sub, mask):\n",
    "    return f\"{sub} is an MOF. {sub} has the topology {mask}.\"\n",
    "    \n",
    "def create_topology_prompt2(sub, mask):\n",
    "    return f\"{sub} is an MOF. {sub} has an topology code {mask}.\"\n",
    "\n",
    "def create_topology_prompt3(sub, mask):\n",
    "    return f\"{sub} is an MOF. {sub} has an tolology RCSR code {mask}.\"\n",
    "\n",
    "def create_topology_prompt4(sub, mask):\n",
    "    return f\"{sub} is an MOF. The topology of {sub} is {mask}.\"\n",
    "    \n",
    "def create_topology_prompt5(sub, mask):\n",
    "    return f\"{sub} is an MOF. {sub} has the three letter symbol {mask}.\"\n",
    "    \n",
    "def create_topology_prompt6(sub, mask):\n",
    "    return f\"{sub} is an metal organic framework. {sub}'s topology is {mask}.\" \n",
    "    \n",
    "def create_topology_prompt7(sub, mask):\n",
    "    return f\"{sub} is an MOF. {sub} is an type of {mask} topology.\"\n",
    "    \n",
    "def create_topology_prompt8(sub, mask):\n",
    "    return f\"{sub} is an MOF. {sub} is in the class of {mask} topology.\"\n",
    "    \n",
    "def create_topology_prompt9(sub, mask):\n",
    "    return f\"{sub} has SBUs and organic linkers. The topology of {sub} is {mask}.\"\n",
    "    \n",
    "def create_topology_prompt10(sub, mask):\n",
    "    return f\"{sub} is an MOF. The three letter {mask} describes {sub} topology.\"\n",
    "    \n",
    "def create_topology_prompt11(sub, mask):\n",
    "    return f\"{sub} is a MOF. The RCSR code of {sub} is {mask}.\"\n",
    "    \n",
    "def create_topology_prompt12(sub, mask):\n",
    "    return f\"As a MOF, {sub} has a topological structure {mask}.\""
   ]
  },
  {
   "cell_type": "code",
   "execution_count": null,
   "id": "oQEIANBrgl4c",
   "metadata": {
    "id": "oQEIANBrgl4c"
   },
   "outputs": [],
   "source": [
    "processors = [create_topology_prompt1, create_topology_prompt2,\n",
    "              create_topology_prompt3, create_topology_prompt4,\n",
    "              create_topology_prompt5, create_topology_prompt6,\n",
    "              create_topology_prompt7, create_topology_prompt8,\n",
    "              create_topology_prompt9, create_topology_prompt10,\n",
    "              create_topology_prompt11, create_topology_prompt12\n",
    "             ]"
   ]
  },
  {
   "cell_type": "markdown",
   "id": "00a709b3-596a-4329-8d40-7da1704856bd",
   "metadata": {
    "id": "00a709b3-596a-4329-8d40-7da1704856bd"
   },
   "source": [
    "## Check Whether the Predicted Tokens Match"
   ]
  },
  {
   "cell_type": "code",
   "execution_count": null,
   "id": "7c5d97b3-f93a-4ab2-8499-9af4494b98fb",
   "metadata": {
    "id": "7c5d97b3-f93a-4ab2-8499-9af4494b98fb"
   },
   "outputs": [],
   "source": [
    "# Compute a column indicating whether the predictedToken in the ObjectEntity list\n",
    "def hasPredicted(row):\n",
    "    token = row['predictedToken']\n",
    "    objectEntities = row['ObjectEntity']\n",
    "    #print(objectEntities)\n",
    "    if pd.notna(objectEntities):\n",
    "        types = objectEntities.split(\",\") # get individual types\n",
    "        for tp in types: # for each type\n",
    "            type_words = tp.lower().split() # get the individual words in the type\n",
    "            if token.lower() in type_words: # check if a type word was predicted\n",
    "                return 1\n",
    "       \n",
    "    return 0"
   ]
  },
  {
   "cell_type": "markdown",
   "id": "869312a9-6133-40b7-9acb-ca499874b814",
   "metadata": {
    "id": "869312a9-6133-40b7-9acb-ca499874b814"
   },
   "source": [
    "## Test BERT"
   ]
  },
  {
   "cell_type": "code",
   "execution_count": null,
   "id": "MVAuqvu8f8fl",
   "metadata": {
    "id": "MVAuqvu8f8fl"
   },
   "outputs": [],
   "source": [
    "def prompt_probe(model, tokenizer, prompt_processor, df_sub, mask_token, \\\n",
    "                 subjectCol, relationCol, objectCol, top_k=100):\n",
    "\n",
    "    pipe = pipeline(\n",
    "        task=\"fill-mask\",\n",
    "        model=model,\n",
    "        tokenizer=tokenizer,\n",
    "        top_k=top_k,\n",
    "    )\n",
    "\n",
    "    prompts = PromptSet([prompt_processor(row.SubjectEntity, mask_token) for _, row in df_sub.iterrows()])\n",
    "\n",
    "    outputs = []\n",
    "    for out in tqdm(pipe(prompts, batch_size=8), total=len(prompts)):\n",
    "        outputs.append(out)\n",
    "\n",
    "    results = []\n",
    "    for idx, row in df_sub.iterrows():\n",
    "        for output in outputs[idx]:\n",
    "            record = {}\n",
    "            record['SubjectEntity'] = row[subjectCol]\n",
    "            record['Relation'] = row[relationCol]\n",
    "            record['ObjectEntity'] = row[objectCol]\n",
    "            record['prompt']= prompts[idx]\n",
    "            record['predictedScore'] = output['score']\n",
    "            record['predictedToken'] = output['token_str']\n",
    "            results.append(record)\n",
    "\n",
    "    return pd.DataFrame(results)"
   ]
  },
  {
   "cell_type": "code",
   "execution_count": null,
   "id": "KsUSnkZ7l-5U",
   "metadata": {
    "id": "KsUSnkZ7l-5U"
   },
   "outputs": [],
   "source": [
    "# return the top-k rows based on predictedScore\n",
    "def top(df, col, n=10):\n",
    "    return df.sort_values(by=col, ascending=False)[:n]"
   ]
  },
  {
   "cell_type": "code",
   "execution_count": null,
   "id": "FsnJPxPBl-5V",
   "metadata": {
    "id": "FsnJPxPBl-5V"
   },
   "outputs": [],
   "source": [
    "# check whether the predicted is 1 for each group\n",
    "def predictedOne(df, col):\n",
    "    total = df[col].sum()\n",
    "    if total > 0:\n",
    "        return 1\n",
    "    else:\n",
    "        return 0"
   ]
  },
  {
   "cell_type": "code",
   "execution_count": null,
   "id": "YTMrQugZl-5V",
   "metadata": {
    "id": "YTMrQugZl-5V"
   },
   "outputs": [],
   "source": [
    "# Assume the predicted_df has a binary column 'predicted' indicating whether ObjectEntity has been predicted\n",
    "# 1 for yes, 0 for no\n",
    "def evaluate_acc_n(predicted_df, relation, prompt_template, at_k=5):\n",
    "    topk_df = predicted_df.groupby('SubjectEntity', as_index=False).apply(top, col='predictedScore', n=at_k)\n",
    "    topk_agg_df = topk_df.groupby('SubjectEntity', as_index=False).apply(predictedOne, col='predicted')\n",
    "    topk_agg_df.columns = ['SubjectEntity', 'predicted']\n",
    "    result = {}\n",
    "    result['Relation'] = relation\n",
    "    result['prompt_template'] = prompt_template\n",
    "    result['acc'] = topk_agg_df.predicted.mean()\n",
    "    result['at_k'] = at_k\n",
    "\n",
    "    return result"
   ]
  },
  {
   "cell_type": "code",
   "execution_count": null,
   "id": "55688b85-e2dd-4172-b199-cd3ca4cd3353",
   "metadata": {
    "id": "55688b85-e2dd-4172-b199-cd3ca4cd3353"
   },
   "outputs": [],
   "source": [
    "pd.set_option('display.max_colwidth', None)"
   ]
  },
  {
   "cell_type": "code",
   "execution_count": null,
   "id": "b0190f3f-b9a6-4d57-83fa-e3bb3acf828a",
   "metadata": {
    "colab": {
     "referenced_widgets": [
      "4fb46c5570aa486d8fe4c544c62089d3",
      "16e8e95a113641548974711fc59fa3b9",
      "7e1eb43556d140c7a767df1b03c00e45",
      "f73a354beacd470aa9e18c7c297daf1d",
      "522d60bffd5249d99259a49b8cd22c77",
      "dc661229b19448a1925f449e52b24e19",
      "844dcfb12a554947a09fc9add06f8b08",
      "3c792b363683480099ae6d739e831596",
      "a6c2e1b023db4a7b8dd0a900496820de",
      "683d84747cac4830b5e95309880928cc",
      "bfebcce9fab94056a1bc86694a99b15c",
      "eb07dc08f6584b83a5c7e435be0e294a"
     ]
    },
    "id": "b0190f3f-b9a6-4d57-83fa-e3bb3acf828a",
    "outputId": "992b95f7-b44f-465c-c292-6dbb8dd5da33"
   },
   "outputs": [],
   "source": [
    "%%time\n",
    "acc_list = []\n",
    "atks = [1, 5, 10, 20, 50, 100]\n",
    "for processor in processors:\n",
    "    result_df = prompt_probe(model, tokenizer, processor, df, mask_token, \\\n",
    "                     'SubjectEntity', 'Relation', 'ObjectEntity', top_k=100)\n",
    "    result_df['predicted'] = result_df.apply(hasPredicted, axis=1)\n",
    "\n",
    "    prompt_template = processor('{SubjectEntity}', '[MASK]')\n",
    "    for at_k in atks:\n",
    "        acc_df = evaluate_acc_n(result_df, 'hasTopology', prompt_template, at_k=at_k)\n",
    "        acc_list.append(acc_df)"
   ]
  },
  {
   "cell_type": "code",
   "execution_count": null,
   "id": "f822f7ba-11eb-476a-aa60-074b00894d9f",
   "metadata": {
    "id": "f822f7ba-11eb-476a-aa60-074b00894d9f"
   },
   "outputs": [],
   "source": [
    "hasType_df = pd.DataFrame(acc_list)"
   ]
  },
  {
   "cell_type": "code",
   "execution_count": null,
   "id": "EtAuhaBohBxO",
   "metadata": {
    "id": "EtAuhaBohBxO",
    "outputId": "b07d7002-516a-4259-ced4-fd7dd5683bca"
   },
   "outputs": [],
   "source": [
    "hasType_df.sample(10)"
   ]
  },
  {
   "cell_type": "code",
   "execution_count": null,
   "id": "c880c81b-929e-4eef-a98c-defcfd0369d7",
   "metadata": {
    "id": "c880c81b-929e-4eef-a98c-defcfd0369d7"
   },
   "outputs": [],
   "source": [
    "result_df.to_csv(\"../data/predicted_hasTopology_BERT.csv\", index=None)"
   ]
  },
  {
   "cell_type": "code",
   "execution_count": null,
   "id": "7fe702fb-17f6-4cc3-9149-14bc7ca14a03",
   "metadata": {
    "id": "7fe702fb-17f6-4cc3-9149-14bc7ca14a03"
   },
   "outputs": [],
   "source": [
    "hasType_df.to_csv(\"../data/predicted_hasTopology_BERT_eval.csv\", index=None)"
   ]
  },
  {
   "cell_type": "code",
   "execution_count": null,
   "id": "d3299e52-ecf9-4ef6-b4e4-b8f6e21f6d6f",
   "metadata": {
    "id": "d3299e52-ecf9-4ef6-b4e4-b8f6e21f6d6f",
    "outputId": "022a17dd-7069-4765-d5b5-1416268e5332"
   },
   "outputs": [],
   "source": [
    "hasType_df[hasType_df['at_k'] == 1].sort_values('acc', ascending=False)"
   ]
  },
  {
   "cell_type": "code",
   "execution_count": null,
   "id": "987f0e87-b729-4352-8135-41e69df5631d",
   "metadata": {
    "id": "987f0e87-b729-4352-8135-41e69df5631d",
    "outputId": "3afe8689-4462-424d-80b9-32313f5691fb"
   },
   "outputs": [],
   "source": [
    "hasType_df.sort_values('acc', ascending=False)"
   ]
  },
  {
   "cell_type": "markdown",
   "id": "c07c6a8e-6cc6-49c8-9097-c9a0060e45f2",
   "metadata": {
    "id": "c07c6a8e-6cc6-49c8-9097-c9a0060e45f2"
   },
   "source": [
    "## Probing MatBERT"
   ]
  },
  {
   "cell_type": "code",
   "execution_count": null,
   "id": "46c36d72-a33c-4bff-9ab9-7006d9c1279e",
   "metadata": {
    "id": "46c36d72-a33c-4bff-9ab9-7006d9c1279e"
   },
   "outputs": [],
   "source": [
    "# MatBERT\n",
    "tokenizer = AutoTokenizer.from_pretrained(\"../model/model/matbert-base-cased\")\n",
    "model = AutoModelForMaskedLM.from_pretrained(\"../model/model/matbert-base-cased\")"
   ]
  },
  {
   "cell_type": "code",
   "execution_count": null,
   "id": "2f8ecf23-8eb8-4a87-8e1d-641177a59ca4",
   "metadata": {
    "colab": {
     "base_uri": "https://localhost:8080/",
     "height": 35
    },
    "executionInfo": {
     "elapsed": 519,
     "status": "ok",
     "timestamp": 1666143162640,
     "user": {
      "displayName": "Yuan An",
      "userId": "12279868416530647161"
     },
     "user_tz": 240
    },
    "id": "2f8ecf23-8eb8-4a87-8e1d-641177a59ca4",
    "outputId": "72cea969-0fc5-44ac-c92b-d5e8da4c6e40"
   },
   "outputs": [],
   "source": [
    "mask_token = tokenizer.mask_token\n",
    "mask_token"
   ]
  },
  {
   "cell_type": "markdown",
   "id": "28bb7577-a57c-432c-8f21-2ce188aab3f4",
   "metadata": {
    "id": "28bb7577-a57c-432c-8f21-2ce188aab3f4"
   },
   "source": [
    "## Creat the Prompt Pipeline"
   ]
  },
  {
   "cell_type": "code",
   "execution_count": null,
   "id": "63037587-acd8-4edb-8ccd-d9b4a4bc14a6",
   "metadata": {
    "id": "63037587-acd8-4edb-8ccd-d9b4a4bc14a6"
   },
   "outputs": [],
   "source": [
    "pipe = pipeline(\n",
    "    task=\"fill-mask\",\n",
    "    model=model,\n",
    "    tokenizer=tokenizer,\n",
    "    top_k=100,\n",
    ")"
   ]
  },
  {
   "cell_type": "markdown",
   "id": "3a2cd5b0-ceb3-492a-9e3c-b2ef98e0f75e",
   "metadata": {
    "id": "3a2cd5b0-ceb3-492a-9e3c-b2ef98e0f75e"
   },
   "source": [
    "## Run"
   ]
  },
  {
   "cell_type": "code",
   "execution_count": null,
   "id": "40c25cc9-4e71-480d-83df-fbc299ccd454",
   "metadata": {
    "colab": {
     "referenced_widgets": [
      "49fdc9bf81b74372a39ddb136d32ab80",
      "2ef9ffac4e734b80a80e70c24f891101",
      "3c59942738b145c3be03ebcdccda1e7a",
      "6111af8d101e42edb4afbb7ef712c1a3",
      "74f3383415104fe1a2a4ad94307d294b",
      "80e47ce26a8746898f9457ae2c63bc2d",
      "09d92dff8281493293c661660f695a69",
      "abc816abc6ca4547a88eebf814faecd3",
      "cb46d3b8e1974607adea71d5ef15db0c",
      "07bdb86f7c08492f94969d0b51732dfa",
      "d8997d4cea3241b5b707e37d9a56c258",
      "e7aabc718a094ef29fc49c6ca448d34a"
     ]
    },
    "id": "40c25cc9-4e71-480d-83df-fbc299ccd454",
    "outputId": "8ccc6a29-f8e1-4e05-abd6-5bf0a276e607"
   },
   "outputs": [],
   "source": [
    "%%time\n",
    "acc_list = []\n",
    "atks = [1, 5, 10, 20, 50, 100]\n",
    "for processor in processors:\n",
    "    result_df = prompt_probe(model, tokenizer, processor, df, mask_token, \\\n",
    "                     'SubjectEntity', 'Relation', 'ObjectEntity', top_k=100)\n",
    "    result_df['predicted'] = result_df.apply(hasPredicted, axis=1)\n",
    "\n",
    "    prompt_template = processor('{SubjectEntity}', '[MASK]')\n",
    "    for at_k in atks:\n",
    "        acc_df = evaluate_acc_n(result_df, 'hasTopology', prompt_template, at_k=at_k)\n",
    "        acc_list.append(acc_df)"
   ]
  },
  {
   "cell_type": "code",
   "execution_count": null,
   "id": "02a8ec37-fdeb-4c5b-bb1b-f02ab220cc52",
   "metadata": {
    "id": "02a8ec37-fdeb-4c5b-bb1b-f02ab220cc52"
   },
   "outputs": [],
   "source": [
    "hasType_df = pd.DataFrame(acc_list)"
   ]
  },
  {
   "cell_type": "code",
   "execution_count": null,
   "id": "ec452969-ff1f-4c4e-8835-357d94046631",
   "metadata": {
    "id": "ec452969-ff1f-4c4e-8835-357d94046631",
    "outputId": "3f4af1f1-45bb-4ba9-acb9-a05040c979d9"
   },
   "outputs": [],
   "source": [
    "hasType_df.sample(10)"
   ]
  },
  {
   "cell_type": "code",
   "execution_count": null,
   "id": "91784d92-ce16-4e12-bfcc-3fe029e4454f",
   "metadata": {
    "id": "91784d92-ce16-4e12-bfcc-3fe029e4454f"
   },
   "outputs": [],
   "source": [
    "result_df.to_csv(\"../data/predicted_hasTopology_MatBERT.csv\", index=None)"
   ]
  },
  {
   "cell_type": "code",
   "execution_count": null,
   "id": "d9956d44-419e-4ed7-8575-8c424548f7a6",
   "metadata": {
    "id": "d9956d44-419e-4ed7-8575-8c424548f7a6"
   },
   "outputs": [],
   "source": [
    "hasType_df.to_csv(\"../data/predicted_hasTopology_MatBERT_eval.csv\", index=None)"
   ]
  },
  {
   "cell_type": "code",
   "execution_count": null,
   "id": "2474feab-c4df-452e-af55-273fdbc54d36",
   "metadata": {
    "id": "2474feab-c4df-452e-af55-273fdbc54d36",
    "outputId": "5a59a17a-6a2e-4da8-aef0-bd388ed4c55d"
   },
   "outputs": [],
   "source": [
    "hasType_df[hasType_df['at_k'] == 1].sort_values('acc', ascending=False)"
   ]
  },
  {
   "cell_type": "code",
   "execution_count": null,
   "id": "6279b12a-aa4d-43ef-8a21-1609b54d8ff2",
   "metadata": {
    "id": "6279b12a-aa4d-43ef-8a21-1609b54d8ff2",
    "outputId": "72982ce1-43c2-43d1-ae6a-8ec090916516"
   },
   "outputs": [],
   "source": [
    "hasType_df.sort_values('acc', ascending=False)"
   ]
  },
  {
   "cell_type": "markdown",
   "id": "81e0a83a-3ee8-44b5-9228-05163abeb558",
   "metadata": {
    "id": "81e0a83a-3ee8-44b5-9228-05163abeb558"
   },
   "source": [
    "## Probing MatSciBERT"
   ]
  },
  {
   "cell_type": "code",
   "execution_count": null,
   "id": "70621025-c440-4ebe-b081-38390ea30aa8",
   "metadata": {
    "id": "70621025-c440-4ebe-b081-38390ea30aa8"
   },
   "outputs": [],
   "source": [
    "# MatSciBERT\n",
    "tokenizer = AutoTokenizer.from_pretrained('m3rg-iitd/matscibert')\n",
    "model = AutoModelForMaskedLM.from_pretrained('m3rg-iitd/matscibert')"
   ]
  },
  {
   "cell_type": "code",
   "execution_count": null,
   "id": "b863582b-8525-4dcd-a7ff-6877f1d9e655",
   "metadata": {
    "colab": {
     "base_uri": "https://localhost:8080/",
     "height": 35
    },
    "executionInfo": {
     "elapsed": 519,
     "status": "ok",
     "timestamp": 1666143162640,
     "user": {
      "displayName": "Yuan An",
      "userId": "12279868416530647161"
     },
     "user_tz": 240
    },
    "id": "b863582b-8525-4dcd-a7ff-6877f1d9e655",
    "outputId": "72cea969-0fc5-44ac-c92b-d5e8da4c6e40"
   },
   "outputs": [],
   "source": [
    "mask_token = tokenizer.mask_token\n",
    "mask_token"
   ]
  },
  {
   "cell_type": "markdown",
   "id": "81908035-52e3-409f-9b8c-4b7cdec16ff0",
   "metadata": {
    "id": "81908035-52e3-409f-9b8c-4b7cdec16ff0"
   },
   "source": [
    "## Creat the Prompt Pipeline"
   ]
  },
  {
   "cell_type": "code",
   "execution_count": null,
   "id": "f8f09ba9-cb78-4fb3-8e54-c087f0776d71",
   "metadata": {
    "id": "f8f09ba9-cb78-4fb3-8e54-c087f0776d71"
   },
   "outputs": [],
   "source": [
    "pipe = pipeline(\n",
    "    task=\"fill-mask\",\n",
    "    model=model,\n",
    "    tokenizer=tokenizer,\n",
    "    top_k=100,\n",
    ")"
   ]
  },
  {
   "cell_type": "markdown",
   "id": "ef55395d-3189-4f46-83d7-7e2b13ce8585",
   "metadata": {
    "id": "ef55395d-3189-4f46-83d7-7e2b13ce8585"
   },
   "source": [
    "## Run"
   ]
  },
  {
   "cell_type": "code",
   "execution_count": null,
   "id": "034e6ad5-3548-45af-9a22-638f2ac220a1",
   "metadata": {
    "colab": {
     "referenced_widgets": [
      "196c8375774343de9e67b265cd6c1eed",
      "6e028cec238d4a97bdd6bc81f0021938",
      "576cbe4f39a1428da84d6857d13a705d",
      "0c2b1c563b9c4af0bacb60399281829e",
      "357767870df34eb1849870ea993cc1b5",
      "98f2c37072e4466a92a630e35746c0f6",
      "94ae445ce82d4cd8b3a74bd97a52ef9d",
      "cc9e3c4b91564515889ed60b41f5a449",
      "edc09530fa57463c82587750d561f4da",
      "31e1ab3f2d5642e1b54d43072af71f22",
      "60d2e0b2f3254417b961e829f20b5420",
      "d127afdf829a4c9b886d705c5e28c656"
     ]
    },
    "id": "034e6ad5-3548-45af-9a22-638f2ac220a1",
    "outputId": "bbeea062-58a0-427e-d20d-90197f6ac19b"
   },
   "outputs": [],
   "source": [
    "%%time\n",
    "acc_list = []\n",
    "atks = [1, 5, 10, 20, 50, 100]\n",
    "for processor in processors:\n",
    "    result_df = prompt_probe(model, tokenizer, processor, df, mask_token, \\\n",
    "                     'SubjectEntity', 'Relation', 'ObjectEntity', top_k=100)\n",
    "    result_df['predicted'] = result_df.apply(hasPredicted, axis=1)\n",
    "\n",
    "    prompt_template = processor('{SubjectEntity}', '[MASK]')\n",
    "    for at_k in atks:\n",
    "        acc_df = evaluate_acc_n(result_df, 'hasTopology', prompt_template, at_k=at_k)\n",
    "        acc_list.append(acc_df)"
   ]
  },
  {
   "cell_type": "code",
   "execution_count": null,
   "id": "63fdfef8-bf5e-4f0d-b8c5-83cd72d7f2c7",
   "metadata": {
    "id": "63fdfef8-bf5e-4f0d-b8c5-83cd72d7f2c7"
   },
   "outputs": [],
   "source": [
    "hasType_df = pd.DataFrame(acc_list)"
   ]
  },
  {
   "cell_type": "code",
   "execution_count": null,
   "id": "0ea239dc-94c2-4c04-913e-0fcebd9d902d",
   "metadata": {
    "id": "0ea239dc-94c2-4c04-913e-0fcebd9d902d",
    "outputId": "883411c9-add6-46d9-f558-e0f6663aa7df"
   },
   "outputs": [],
   "source": [
    "hasType_df.sample(10)"
   ]
  },
  {
   "cell_type": "code",
   "execution_count": null,
   "id": "97e36df6-a6d2-46ae-99cd-11152eb9902a",
   "metadata": {
    "id": "97e36df6-a6d2-46ae-99cd-11152eb9902a"
   },
   "outputs": [],
   "source": [
    "result_df.to_csv(\"../data/predicted_hasTopology_MatSciBERT.csv\", index=None)"
   ]
  },
  {
   "cell_type": "code",
   "execution_count": null,
   "id": "48d58a92-daa3-49e0-bc5f-3db3ce29aa3f",
   "metadata": {
    "id": "48d58a92-daa3-49e0-bc5f-3db3ce29aa3f"
   },
   "outputs": [],
   "source": [
    "hasType_df.to_csv(\"../data/predicted_hasTopology_MatSciBERT_eval.csv\", index=None)"
   ]
  },
  {
   "cell_type": "code",
   "execution_count": null,
   "id": "f3281d92-5f42-497b-8e4c-cfdfc4325500",
   "metadata": {
    "id": "f3281d92-5f42-497b-8e4c-cfdfc4325500",
    "outputId": "0182ca99-697a-47ec-81c7-002538d73d25"
   },
   "outputs": [],
   "source": [
    "hasType_df[hasType_df['at_k'] == 1].sort_values('acc', ascending=False)"
   ]
  },
  {
   "cell_type": "code",
   "execution_count": null,
   "id": "93709576-a549-4067-b0dc-722007dc5f14",
   "metadata": {
    "id": "93709576-a549-4067-b0dc-722007dc5f14",
    "outputId": "c9f53a57-1429-4b2c-a3eb-7ae701235d4e"
   },
   "outputs": [],
   "source": [
    "hasType_df.sort_values('acc', ascending=False)"
   ]
  },
  {
   "cell_type": "markdown",
   "id": "7ea82684-73f7-4a08-a2d4-9529b1328672",
   "metadata": {
    "id": "7ea82684-73f7-4a08-a2d4-9529b1328672"
   },
   "source": [
    "## Probing SciBERT"
   ]
  },
  {
   "cell_type": "code",
   "execution_count": null,
   "id": "0937d1db-d5c2-47e1-a920-e7c8a667f003",
   "metadata": {
    "id": "0937d1db-d5c2-47e1-a920-e7c8a667f003"
   },
   "outputs": [],
   "source": [
    "# SciBERT\n",
    "tokenizer = AutoTokenizer.from_pretrained('allenai/scibert_scivocab_cased')\n",
    "model = AutoModelForMaskedLM.from_pretrained('allenai/scibert_scivocab_cased')"
   ]
  },
  {
   "cell_type": "code",
   "execution_count": null,
   "id": "a2fc4405-4e30-4d3e-a989-004e4d45762f",
   "metadata": {
    "colab": {
     "base_uri": "https://localhost:8080/",
     "height": 35
    },
    "executionInfo": {
     "elapsed": 519,
     "status": "ok",
     "timestamp": 1666143162640,
     "user": {
      "displayName": "Yuan An",
      "userId": "12279868416530647161"
     },
     "user_tz": 240
    },
    "id": "a2fc4405-4e30-4d3e-a989-004e4d45762f",
    "outputId": "72cea969-0fc5-44ac-c92b-d5e8da4c6e40"
   },
   "outputs": [],
   "source": [
    "mask_token = tokenizer.mask_token\n",
    "mask_token"
   ]
  },
  {
   "cell_type": "markdown",
   "id": "96d62e1c-8831-466d-a4ad-b75a5fb1d243",
   "metadata": {
    "id": "96d62e1c-8831-466d-a4ad-b75a5fb1d243"
   },
   "source": [
    "## Creat the Prompt Pipeline"
   ]
  },
  {
   "cell_type": "code",
   "execution_count": null,
   "id": "52858ece-f1f0-46ed-887f-5e9f4d84650e",
   "metadata": {
    "id": "52858ece-f1f0-46ed-887f-5e9f4d84650e"
   },
   "outputs": [],
   "source": [
    "pipe = pipeline(\n",
    "    task=\"fill-mask\",\n",
    "    model=model,\n",
    "    tokenizer=tokenizer,\n",
    "    top_k=100,\n",
    ")"
   ]
  },
  {
   "cell_type": "markdown",
   "id": "59175dfd-eba6-4658-851d-3103be68d58d",
   "metadata": {
    "id": "59175dfd-eba6-4658-851d-3103be68d58d"
   },
   "source": [
    "## Run"
   ]
  },
  {
   "cell_type": "code",
   "execution_count": null,
   "id": "32f25f68-08b2-4731-a359-4723b2d70d7b",
   "metadata": {
    "colab": {
     "referenced_widgets": [
      "e482ced03da54319a9666ea55c9a0b0b",
      "e230b00a7d3442788a59c007d5565dd8",
      "35c53bf60f1d425abd248a81febb41ee",
      "72cad59f359d4386bf19dc32b5f59309",
      "e14f4f499a0140be944310bd3b36a424",
      "1696717ff9b749b19e31bb959a2c67a2",
      "414b8a2a761144fe9df031b7acdba169",
      "2f434b41344546b3a40b1efb101255e0",
      "71e463df19594f0bbab79ce63d263827",
      "ca778287b9ff47218bbc1598822eb244",
      "541c8624cf2244309fd8210cfca4d8d0",
      "b217f66e4c764f25ada82e43e722fbf7"
     ]
    },
    "id": "32f25f68-08b2-4731-a359-4723b2d70d7b",
    "outputId": "a419ed02-5c6b-4c7e-9dc7-45684378360f"
   },
   "outputs": [],
   "source": [
    "%%time\n",
    "acc_list = []\n",
    "atks = [1, 5, 10, 20, 50, 100]\n",
    "for processor in processors:\n",
    "    result_df = prompt_probe(model, tokenizer, processor, df, mask_token, \\\n",
    "                     'SubjectEntity', 'Relation', 'ObjectEntity', top_k=100)\n",
    "    result_df['predicted'] = result_df.apply(hasPredicted, axis=1)\n",
    "\n",
    "    prompt_template = processor('{SubjectEntity}', '[MASK]')\n",
    "    for at_k in atks:\n",
    "        acc_df = evaluate_acc_n(result_df, 'hasTopology', prompt_template, at_k=at_k)\n",
    "        acc_list.append(acc_df)"
   ]
  },
  {
   "cell_type": "code",
   "execution_count": null,
   "id": "f86447a6-e78e-43ff-82c7-af20c158296b",
   "metadata": {
    "id": "f86447a6-e78e-43ff-82c7-af20c158296b"
   },
   "outputs": [],
   "source": [
    "hasType_df = pd.DataFrame(acc_list)"
   ]
  },
  {
   "cell_type": "code",
   "execution_count": null,
   "id": "d1f9664b-1aea-4773-8950-47b0d52bb0ee",
   "metadata": {
    "id": "d1f9664b-1aea-4773-8950-47b0d52bb0ee",
    "outputId": "102398e5-e4f6-46ce-8b76-d156b4a25a2c"
   },
   "outputs": [],
   "source": [
    "hasType_df.sample(10)"
   ]
  },
  {
   "cell_type": "code",
   "execution_count": null,
   "id": "e8fa4004-1013-4f74-b4bb-1977f3e0f8da",
   "metadata": {
    "id": "e8fa4004-1013-4f74-b4bb-1977f3e0f8da"
   },
   "outputs": [],
   "source": [
    "result_df.to_csv(\"../data/predicted_hasTopology_SciBERT.csv\", index=None)"
   ]
  },
  {
   "cell_type": "code",
   "execution_count": null,
   "id": "d684ef01-ae1b-4fd3-adf0-f1484d9a2d47",
   "metadata": {
    "id": "d684ef01-ae1b-4fd3-adf0-f1484d9a2d47"
   },
   "outputs": [],
   "source": [
    "hasType_df.to_csv(\"../data/predicted_hasTopology_SciBERT_eval.csv\", index=None)"
   ]
  },
  {
   "cell_type": "code",
   "execution_count": null,
   "id": "e3f9ec04-5e7f-4b76-b517-5bf1f0a161ac",
   "metadata": {
    "id": "e3f9ec04-5e7f-4b76-b517-5bf1f0a161ac",
    "outputId": "d41e9c47-8d76-4edb-e78c-55aefb28e829"
   },
   "outputs": [],
   "source": [
    "hasType_df[hasType_df['at_k'] == 1].sort_values('acc', ascending=False)"
   ]
  },
  {
   "cell_type": "code",
   "execution_count": null,
   "id": "9f19e68f-c514-48bb-9a01-62d0685025bb",
   "metadata": {
    "id": "9f19e68f-c514-48bb-9a01-62d0685025bb",
    "outputId": "aa361116-ad92-4d4c-e1aa-26866aa85a3e"
   },
   "outputs": [],
   "source": [
    "hasType_df.sort_values('acc', ascending=False)"
   ]
  },
  {
   "cell_type": "markdown",
   "id": "5d7b49c1-f5d7-49b0-ac15-ea4fa03b36c6",
   "metadata": {
    "id": "5d7b49c1-f5d7-49b0-ac15-ea4fa03b36c6"
   },
   "source": [
    "## Probing RoBERTa"
   ]
  },
  {
   "cell_type": "code",
   "execution_count": null,
   "id": "9a1c9f77-493e-49ee-974a-3bbf6bdecd9f",
   "metadata": {
    "id": "9a1c9f77-493e-49ee-974a-3bbf6bdecd9f"
   },
   "outputs": [],
   "source": [
    "# RoBERTa\n",
    "tokenizer = AutoTokenizer.from_pretrained(\"roberta-large\")\n",
    "model = AutoModelForMaskedLM.from_pretrained(\"roberta-large\")"
   ]
  },
  {
   "cell_type": "code",
   "execution_count": null,
   "id": "d98083f6-f285-4338-839c-d28d37b2471e",
   "metadata": {
    "colab": {
     "base_uri": "https://localhost:8080/",
     "height": 35
    },
    "executionInfo": {
     "elapsed": 519,
     "status": "ok",
     "timestamp": 1666143162640,
     "user": {
      "displayName": "Yuan An",
      "userId": "12279868416530647161"
     },
     "user_tz": 240
    },
    "id": "d98083f6-f285-4338-839c-d28d37b2471e",
    "outputId": "72cea969-0fc5-44ac-c92b-d5e8da4c6e40"
   },
   "outputs": [],
   "source": [
    "mask_token = tokenizer.mask_token\n",
    "mask_token"
   ]
  },
  {
   "cell_type": "markdown",
   "id": "e20f666a-7b98-43ad-b6a4-920c3deef28a",
   "metadata": {
    "id": "e20f666a-7b98-43ad-b6a4-920c3deef28a"
   },
   "source": [
    "## Creat the Prompt Pipeline"
   ]
  },
  {
   "cell_type": "code",
   "execution_count": null,
   "id": "65b918b6-96ee-4304-8f1b-dc85b6faa7d2",
   "metadata": {
    "id": "65b918b6-96ee-4304-8f1b-dc85b6faa7d2"
   },
   "outputs": [],
   "source": [
    "pipe = pipeline(\n",
    "    task=\"fill-mask\",\n",
    "    model=model,\n",
    "    tokenizer=tokenizer,\n",
    "    top_k=100,\n",
    ")"
   ]
  },
  {
   "cell_type": "markdown",
   "id": "7eef9e5d-906e-4103-91c2-b95c25163642",
   "metadata": {
    "id": "7eef9e5d-906e-4103-91c2-b95c25163642"
   },
   "source": [
    "## Run"
   ]
  },
  {
   "cell_type": "code",
   "execution_count": null,
   "id": "a09fbca6-bee0-4b7b-9de7-b94e6001c4bf",
   "metadata": {
    "colab": {
     "referenced_widgets": [
      "6c66aa8962f9429b8e2b300c5aefd072",
      "358ce19763ca40dca9c36999b936df48",
      "64d8ef5ff00645efb70f93ee41fef210",
      "408a06d9af7d4f5db3ef3904f6a73932",
      "c2fad5a0376c4929b45f6311b1445bcd",
      "2223d017c4634986b2cec83132e69ec6",
      "3f8c4f020d2b43229710742fb2adca7b",
      "a549fb9e26dc4019a12c39dcb4c286d5",
      "36493ca4c0fe4dbc9166502e223cf9bf",
      "5b17468e2ccb49d980044cbba903a2cd",
      "38165722a0bf4ec895d27bdaed3173c9",
      "95951c98e65946a5a4144ef8f8ca91bc"
     ]
    },
    "id": "a09fbca6-bee0-4b7b-9de7-b94e6001c4bf",
    "outputId": "f1f6a121-2e9f-4c70-cb79-27661c540a3a"
   },
   "outputs": [],
   "source": [
    "%%time\n",
    "acc_list = []\n",
    "atks = [1, 5, 10, 20, 50, 100]\n",
    "for processor in processors:\n",
    "    result_df = prompt_probe(model, tokenizer, processor, df, mask_token, \\\n",
    "                     'SubjectEntity', 'Relation', 'ObjectEntity', top_k=100)\n",
    "    result_df['predicted'] = result_df.apply(hasPredicted, axis=1)\n",
    "\n",
    "    prompt_template = processor('{SubjectEntity}', '[MASK]')\n",
    "    for at_k in atks:\n",
    "        acc_df = evaluate_acc_n(result_df, 'hasTopology', prompt_template, at_k=at_k)\n",
    "        acc_list.append(acc_df)"
   ]
  },
  {
   "cell_type": "code",
   "execution_count": null,
   "id": "254d9572-a3c7-407a-b3eb-05c927a87925",
   "metadata": {
    "id": "254d9572-a3c7-407a-b3eb-05c927a87925"
   },
   "outputs": [],
   "source": [
    "hasType_df = pd.DataFrame(acc_list)"
   ]
  },
  {
   "cell_type": "code",
   "execution_count": null,
   "id": "36ae4c04-f582-4ea8-93a5-3224304f8aac",
   "metadata": {
    "id": "36ae4c04-f582-4ea8-93a5-3224304f8aac",
    "outputId": "ae55bcd2-3893-4dae-d1a1-2bbefb4095b3"
   },
   "outputs": [],
   "source": [
    "hasType_df.sample(10)"
   ]
  },
  {
   "cell_type": "code",
   "execution_count": null,
   "id": "cfdceaa9-cb4b-432a-ba5b-4923b5e6a90f",
   "metadata": {
    "id": "cfdceaa9-cb4b-432a-ba5b-4923b5e6a90f"
   },
   "outputs": [],
   "source": [
    "result_df.to_csv(\"../data/predicted_hasTopology_RoBERTa.csv\", index=None)"
   ]
  },
  {
   "cell_type": "code",
   "execution_count": null,
   "id": "d043a711-5415-426c-99b2-478bdfdfe6ce",
   "metadata": {
    "id": "d043a711-5415-426c-99b2-478bdfdfe6ce"
   },
   "outputs": [],
   "source": [
    "hasType_df.to_csv(\"../data/predicted_hasTopology_RoBERTa_eval.csv\", index=None)"
   ]
  },
  {
   "cell_type": "code",
   "execution_count": null,
   "id": "ca3f516c-eb00-488c-b01b-99a773c091a2",
   "metadata": {
    "id": "ca3f516c-eb00-488c-b01b-99a773c091a2",
    "outputId": "15b89c1e-6cfe-435e-a228-9607ac9b6470"
   },
   "outputs": [],
   "source": [
    "hasType_df[hasType_df['at_k'] == 1].sort_values('acc', ascending=False)"
   ]
  },
  {
   "cell_type": "code",
   "execution_count": null,
   "id": "fa31e4ff-ddb6-4052-b32d-7c171c02dd2e",
   "metadata": {
    "id": "fa31e4ff-ddb6-4052-b32d-7c171c02dd2e",
    "outputId": "1f54f6f4-7380-4aaa-e3ae-f979ab23bb7a"
   },
   "outputs": [],
   "source": [
    "hasType_df.sort_values('acc', ascending=False)"
   ]
  },
  {
   "cell_type": "code",
   "execution_count": null,
   "id": "3f22b669-4c68-4e50-b752-afaa0ab4fa14",
   "metadata": {
    "id": "3f22b669-4c68-4e50-b752-afaa0ab4fa14"
   },
   "outputs": [],
   "source": []
  }
 ],
 "metadata": {
  "colab": {
   "collapsed_sections": [],
   "provenance": []
  },
  "kernelspec": {
   "display_name": "digiMOF",
   "language": "python",
   "name": "digimof"
  },
  "language_info": {
   "codemirror_mode": {
    "name": "ipython",
    "version": 3
   },
   "file_extension": ".py",
   "mimetype": "text/x-python",
   "name": "python",
   "nbconvert_exporter": "python",
   "pygments_lexer": "ipython3",
   "version": "3.7.13"
  },
  "widgets": {
   "application/vnd.jupyter.widget-state+json": {
    "03cee89315b54d7eb04a5f7cecc39993": {
     "model_module": "@jupyter-widgets/controls",
     "model_module_version": "1.5.0",
     "model_name": "DescriptionStyleModel",
     "state": {
      "_model_module": "@jupyter-widgets/controls",
      "_model_module_version": "1.5.0",
      "_model_name": "DescriptionStyleModel",
      "_view_count": null,
      "_view_module": "@jupyter-widgets/base",
      "_view_module_version": "1.2.0",
      "_view_name": "StyleView",
      "description_width": ""
     }
    },
    "0680fe3809c24764b0a9703f51f3efd3": {
     "model_module": "@jupyter-widgets/base",
     "model_module_version": "1.2.0",
     "model_name": "LayoutModel",
     "state": {
      "_model_module": "@jupyter-widgets/base",
      "_model_module_version": "1.2.0",
      "_model_name": "LayoutModel",
      "_view_count": null,
      "_view_module": "@jupyter-widgets/base",
      "_view_module_version": "1.2.0",
      "_view_name": "LayoutView",
      "align_content": null,
      "align_items": null,
      "align_self": null,
      "border": null,
      "bottom": null,
      "display": null,
      "flex": null,
      "flex_flow": null,
      "grid_area": null,
      "grid_auto_columns": null,
      "grid_auto_flow": null,
      "grid_auto_rows": null,
      "grid_column": null,
      "grid_gap": null,
      "grid_row": null,
      "grid_template_areas": null,
      "grid_template_columns": null,
      "grid_template_rows": null,
      "height": null,
      "justify_content": null,
      "justify_items": null,
      "left": null,
      "margin": null,
      "max_height": null,
      "max_width": null,
      "min_height": null,
      "min_width": null,
      "object_fit": null,
      "object_position": null,
      "order": null,
      "overflow": null,
      "overflow_x": null,
      "overflow_y": null,
      "padding": null,
      "right": null,
      "top": null,
      "visibility": null,
      "width": null
     }
    },
    "073a2eb6c91b4cf39f9bbe90908d6f9b": {
     "model_module": "@jupyter-widgets/base",
     "model_module_version": "1.2.0",
     "model_name": "LayoutModel",
     "state": {
      "_model_module": "@jupyter-widgets/base",
      "_model_module_version": "1.2.0",
      "_model_name": "LayoutModel",
      "_view_count": null,
      "_view_module": "@jupyter-widgets/base",
      "_view_module_version": "1.2.0",
      "_view_name": "LayoutView",
      "align_content": null,
      "align_items": null,
      "align_self": null,
      "border": null,
      "bottom": null,
      "display": null,
      "flex": null,
      "flex_flow": null,
      "grid_area": null,
      "grid_auto_columns": null,
      "grid_auto_flow": null,
      "grid_auto_rows": null,
      "grid_column": null,
      "grid_gap": null,
      "grid_row": null,
      "grid_template_areas": null,
      "grid_template_columns": null,
      "grid_template_rows": null,
      "height": null,
      "justify_content": null,
      "justify_items": null,
      "left": null,
      "margin": null,
      "max_height": null,
      "max_width": null,
      "min_height": null,
      "min_width": null,
      "object_fit": null,
      "object_position": null,
      "order": null,
      "overflow": null,
      "overflow_x": null,
      "overflow_y": null,
      "padding": null,
      "right": null,
      "top": null,
      "visibility": null,
      "width": null
     }
    },
    "2ee792fdcb2748819e3d914fbfca7462": {
     "model_module": "@jupyter-widgets/controls",
     "model_module_version": "1.5.0",
     "model_name": "HTMLModel",
     "state": {
      "_dom_classes": [],
      "_model_module": "@jupyter-widgets/controls",
      "_model_module_version": "1.5.0",
      "_model_name": "HTMLModel",
      "_view_count": null,
      "_view_module": "@jupyter-widgets/controls",
      "_view_module_version": "1.5.0",
      "_view_name": "HTMLView",
      "description": "",
      "description_tooltip": null,
      "layout": "IPY_MODEL_85db2055d1b148c3b7415da1ce956020",
      "placeholder": "​",
      "style": "IPY_MODEL_39f2763abc36459b92f5a0884c3d84ac",
      "value": " 10/10 [00:11&lt;00:00,  1.00s/it]"
     }
    },
    "39f2763abc36459b92f5a0884c3d84ac": {
     "model_module": "@jupyter-widgets/controls",
     "model_module_version": "1.5.0",
     "model_name": "DescriptionStyleModel",
     "state": {
      "_model_module": "@jupyter-widgets/controls",
      "_model_module_version": "1.5.0",
      "_model_name": "DescriptionStyleModel",
      "_view_count": null,
      "_view_module": "@jupyter-widgets/base",
      "_view_module_version": "1.2.0",
      "_view_name": "StyleView",
      "description_width": ""
     }
    },
    "56997834017343e69fca9776c32b78d4": {
     "model_module": "@jupyter-widgets/controls",
     "model_module_version": "1.5.0",
     "model_name": "FloatProgressModel",
     "state": {
      "_dom_classes": [],
      "_model_module": "@jupyter-widgets/controls",
      "_model_module_version": "1.5.0",
      "_model_name": "FloatProgressModel",
      "_view_count": null,
      "_view_module": "@jupyter-widgets/controls",
      "_view_module_version": "1.5.0",
      "_view_name": "ProgressView",
      "bar_style": "success",
      "description": "",
      "description_tooltip": null,
      "layout": "IPY_MODEL_a9c22200ab18400d8e2f29e2d16226b3",
      "max": 10,
      "min": 0,
      "orientation": "horizontal",
      "style": "IPY_MODEL_a09d8ce79f234a02b0c8525055818951",
      "value": 10
     }
    },
    "670131b7daaa449b86e2396b64376383": {
     "model_module": "@jupyter-widgets/controls",
     "model_module_version": "1.5.0",
     "model_name": "HBoxModel",
     "state": {
      "_dom_classes": [],
      "_model_module": "@jupyter-widgets/controls",
      "_model_module_version": "1.5.0",
      "_model_name": "HBoxModel",
      "_view_count": null,
      "_view_module": "@jupyter-widgets/controls",
      "_view_module_version": "1.5.0",
      "_view_name": "HBoxView",
      "box_style": "",
      "children": [
       "IPY_MODEL_6db4bae0ab4f49aaa4e3e7aa22366dec",
       "IPY_MODEL_56997834017343e69fca9776c32b78d4",
       "IPY_MODEL_2ee792fdcb2748819e3d914fbfca7462"
      ],
      "layout": "IPY_MODEL_0680fe3809c24764b0a9703f51f3efd3"
     }
    },
    "6db4bae0ab4f49aaa4e3e7aa22366dec": {
     "model_module": "@jupyter-widgets/controls",
     "model_module_version": "1.5.0",
     "model_name": "HTMLModel",
     "state": {
      "_dom_classes": [],
      "_model_module": "@jupyter-widgets/controls",
      "_model_module_version": "1.5.0",
      "_model_name": "HTMLModel",
      "_view_count": null,
      "_view_module": "@jupyter-widgets/controls",
      "_view_module_version": "1.5.0",
      "_view_name": "HTMLView",
      "description": "",
      "description_tooltip": null,
      "layout": "IPY_MODEL_073a2eb6c91b4cf39f9bbe90908d6f9b",
      "placeholder": "​",
      "style": "IPY_MODEL_03cee89315b54d7eb04a5f7cecc39993",
      "value": "100%"
     }
    },
    "85db2055d1b148c3b7415da1ce956020": {
     "model_module": "@jupyter-widgets/base",
     "model_module_version": "1.2.0",
     "model_name": "LayoutModel",
     "state": {
      "_model_module": "@jupyter-widgets/base",
      "_model_module_version": "1.2.0",
      "_model_name": "LayoutModel",
      "_view_count": null,
      "_view_module": "@jupyter-widgets/base",
      "_view_module_version": "1.2.0",
      "_view_name": "LayoutView",
      "align_content": null,
      "align_items": null,
      "align_self": null,
      "border": null,
      "bottom": null,
      "display": null,
      "flex": null,
      "flex_flow": null,
      "grid_area": null,
      "grid_auto_columns": null,
      "grid_auto_flow": null,
      "grid_auto_rows": null,
      "grid_column": null,
      "grid_gap": null,
      "grid_row": null,
      "grid_template_areas": null,
      "grid_template_columns": null,
      "grid_template_rows": null,
      "height": null,
      "justify_content": null,
      "justify_items": null,
      "left": null,
      "margin": null,
      "max_height": null,
      "max_width": null,
      "min_height": null,
      "min_width": null,
      "object_fit": null,
      "object_position": null,
      "order": null,
      "overflow": null,
      "overflow_x": null,
      "overflow_y": null,
      "padding": null,
      "right": null,
      "top": null,
      "visibility": null,
      "width": null
     }
    },
    "a09d8ce79f234a02b0c8525055818951": {
     "model_module": "@jupyter-widgets/controls",
     "model_module_version": "1.5.0",
     "model_name": "ProgressStyleModel",
     "state": {
      "_model_module": "@jupyter-widgets/controls",
      "_model_module_version": "1.5.0",
      "_model_name": "ProgressStyleModel",
      "_view_count": null,
      "_view_module": "@jupyter-widgets/base",
      "_view_module_version": "1.2.0",
      "_view_name": "StyleView",
      "bar_color": null,
      "description_width": ""
     }
    },
    "a9c22200ab18400d8e2f29e2d16226b3": {
     "model_module": "@jupyter-widgets/base",
     "model_module_version": "1.2.0",
     "model_name": "LayoutModel",
     "state": {
      "_model_module": "@jupyter-widgets/base",
      "_model_module_version": "1.2.0",
      "_model_name": "LayoutModel",
      "_view_count": null,
      "_view_module": "@jupyter-widgets/base",
      "_view_module_version": "1.2.0",
      "_view_name": "LayoutView",
      "align_content": null,
      "align_items": null,
      "align_self": null,
      "border": null,
      "bottom": null,
      "display": null,
      "flex": null,
      "flex_flow": null,
      "grid_area": null,
      "grid_auto_columns": null,
      "grid_auto_flow": null,
      "grid_auto_rows": null,
      "grid_column": null,
      "grid_gap": null,
      "grid_row": null,
      "grid_template_areas": null,
      "grid_template_columns": null,
      "grid_template_rows": null,
      "height": null,
      "justify_content": null,
      "justify_items": null,
      "left": null,
      "margin": null,
      "max_height": null,
      "max_width": null,
      "min_height": null,
      "min_width": null,
      "object_fit": null,
      "object_position": null,
      "order": null,
      "overflow": null,
      "overflow_x": null,
      "overflow_y": null,
      "padding": null,
      "right": null,
      "top": null,
      "visibility": null,
      "width": null
     }
    }
   }
  }
 },
 "nbformat": 4,
 "nbformat_minor": 5
}
